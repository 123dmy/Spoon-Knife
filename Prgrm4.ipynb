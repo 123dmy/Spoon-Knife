{
  "nbformat": 4,
  "nbformat_minor": 0,
  "metadata": {
    "colab": {
      "name": "Prgrm4.ipynb",
      "provenance": [],
      "authorship_tag": "ABX9TyPje0TJXJpqxLoWJdm59xx9",
      "include_colab_link": true
    },
    "kernelspec": {
      "name": "python3",
      "display_name": "Python 3"
    },
    "language_info": {
      "name": "python"
    }
  },
  "cells": [
    {
      "cell_type": "markdown",
      "metadata": {
        "id": "view-in-github",
        "colab_type": "text"
      },
      "source": [
        "<a href=\"https://colab.research.google.com/github/adhilahmed/Spoon-Knife/blob/master/Prgrm4.ipynb\" target=\"_parent\"><img src=\"https://colab.research.google.com/assets/colab-badge.svg\" alt=\"Open In Colab\"/></a>"
      ]
    },
    {
      "cell_type": "markdown",
      "metadata": {
        "id": "3zk9HDC3Ra_j"
      },
      "source": [
        "Adhil Ahmed\n",
        "\n",
        "*   Roll No: 01\n",
        "*   Mob No: 8606832948\n",
        "\n",
        "\n",
        "\n",
        "\n"
      ]
    },
    {
      "cell_type": "code",
      "metadata": {
        "colab": {
          "base_uri": "https://localhost:8080/"
        },
        "id": "Hrd94RTiRt-r",
        "outputId": "adb37fed-d238-49a6-f1af-2cda4c19e026"
      },
      "source": [
        "a=input(\"enter a string\")\n",
        "f=open(\"name.txt\",\"w\")\n",
        "f.write(a)\n",
        "f.close()\n",
        "f = open (\"name.txt\",\"r\")\n",
        "a=f.read()\n",
        "print(a)\n"
      ],
      "execution_count": 1,
      "outputs": [
        {
          "output_type": "stream",
          "text": [
            "enter a stringadhil\n",
            "adhil\n"
          ],
          "name": "stdout"
        }
      ]
    }
  ]
}