{
 "cells": [
  {
   "cell_type": "markdown",
   "metadata": {},
   "source": [
    "## Assignment 1\n",
    "### Name: Ritesah M\n",
    "### Roll Number: 21CS30042"
   ]
  },
  {
   "cell_type": "code",
   "execution_count": 1,
   "metadata": {},
   "outputs": [],
   "source": [
    "# import all the necessary libraries here\n",
    "import pandas as pd\n",
    "import numpy as np\n",
    "from matplotlib import pyplot as plt"
   ]
  },
  {
   "cell_type": "code",
   "execution_count": 2,
   "metadata": {},
   "outputs": [
    {
     "name": "stdout",
     "output_type": "stream",
     "text": [
      "(1599, 12)\n"
     ]
    }
   ],
   "source": [
    "df = pd.read_csv('../../dataset/linear-regression.csv')\n",
    "print(df.shape) "
   ]
  },
  {
   "cell_type": "code",
   "execution_count": 3,
   "metadata": {},
   "outputs": [
    {
     "data": {
      "text/plain": [
       "fixed acidity           False\n",
       "volatile acidity        False\n",
       "citric acid             False\n",
       "residual sugar          False\n",
       "chlorides               False\n",
       "free sulfur dioxide     False\n",
       "total sulfur dioxide    False\n",
       "density                 False\n",
       "pH                      False\n",
       "sulphates               False\n",
       "alcohol                 False\n",
       "quality                 False\n",
       "dtype: bool"
      ]
     },
     "execution_count": 3,
     "metadata": {},
     "output_type": "execute_result"
    }
   ],
   "source": [
    "df.isna().any()"
   ]
  },
  {
   "cell_type": "code",
   "execution_count": 4,
   "metadata": {},
   "outputs": [],
   "source": [
    "def print_max(dataframe):\n",
    "    for column in dataframe.columns:\n",
    "        print(f\"Max for {column}: {dataframe[column].max()}\")\n",
    "\n",
    "def print_min(dataframe):\n",
    "    for column in dataframe.columns:\n",
    "        print(f\"Min for {column}: {dataframe[column].min()}\")"
   ]
  },
  {
   "cell_type": "code",
   "execution_count": 5,
   "metadata": {},
   "outputs": [
    {
     "name": "stdout",
     "output_type": "stream",
     "text": [
      "(1599, 11)\n",
      "(1599,)\n"
     ]
    }
   ],
   "source": [
    "X=df.drop(\"quality\",axis=1)\n",
    "y=df[\"quality\"]\n",
    "print(X.shape)\n",
    "print(y.shape)"
   ]
  },
  {
   "cell_type": "code",
   "execution_count": 6,
   "metadata": {},
   "outputs": [
    {
     "name": "stdout",
     "output_type": "stream",
     "text": [
      "Max for fixed acidity: 15.9\n",
      "Max for volatile acidity: 1.58\n",
      "Max for citric acid: 1.0\n",
      "Max for residual sugar: 15.5\n",
      "Max for chlorides: 0.611\n",
      "Max for free sulfur dioxide: 72.0\n",
      "Max for total sulfur dioxide: 289.0\n",
      "Max for density: 1.00369\n",
      "Max for pH: 4.01\n",
      "Max for sulphates: 2.0\n",
      "Max for alcohol: 14.9\n",
      "Max for quality: 8\n",
      "None\n",
      "Min for fixed acidity: 4.6\n",
      "Min for volatile acidity: 0.12\n",
      "Min for citric acid: 0.0\n",
      "Min for residual sugar: 0.9\n",
      "Min for chlorides: 0.012\n",
      "Min for free sulfur dioxide: 1.0\n",
      "Min for total sulfur dioxide: 6.0\n",
      "Min for density: 0.99007\n",
      "Min for pH: 2.74\n",
      "Min for sulphates: 0.33\n",
      "Min for alcohol: 8.4\n",
      "Min for quality: 3\n",
      "None\n"
     ]
    }
   ],
   "source": [
    "print(print_max(df))\n",
    "print(print_min(df))"
   ]
  },
  {
   "cell_type": "code",
   "execution_count": 7,
   "metadata": {},
   "outputs": [
    {
     "data": {
      "text/plain": [
       "Index(['fixed acidity', 'volatile acidity', 'citric acid', 'residual sugar',\n",
       "       'chlorides', 'free sulfur dioxide', 'total sulfur dioxide', 'density',\n",
       "       'pH', 'sulphates', 'alcohol', 'quality'],\n",
       "      dtype='object')"
      ]
     },
     "execution_count": 7,
     "metadata": {},
     "output_type": "execute_result"
    }
   ],
   "source": [
    "df.columns"
   ]
  },
  {
   "cell_type": "code",
   "execution_count": 8,
   "metadata": {},
   "outputs": [
    {
     "name": "stdout",
     "output_type": "stream",
     "text": [
      "['fixed acidity', 'volatile acidity', 'citric acid', 'residual sugar', 'chlorides', 'free sulfur dioxide', 'total sulfur dioxide', 'density', 'pH', 'sulphates', 'alcohol']\n"
     ]
    }
   ],
   "source": [
    "cols_to_scale=[]\n",
    "for column in df.columns:\n",
    "    if column != \"quality\":\n",
    "        cols_to_scale.append(column)\n",
    "print(cols_to_scale)"
   ]
  },
  {
   "cell_type": "code",
   "execution_count": 9,
   "metadata": {},
   "outputs": [],
   "source": [
    "from sklearn.model_selection import train_test_split\n",
    "X_train, X_temp, y_train, y_temp = train_test_split(X, y, test_size=0.5, random_state=42)\n",
    "X_val, X_test, y_val, y_test = train_test_split(X_temp, y_temp, test_size=0.4, random_state=42)"
   ]
  },
  {
   "cell_type": "code",
   "execution_count": 10,
   "metadata": {},
   "outputs": [
    {
     "name": "stdout",
     "output_type": "stream",
     "text": [
      "(799, 11)\n",
      "(799,)\n",
      "(480, 11)\n",
      "(480,)\n",
      "(320, 11)\n",
      "(320,)\n"
     ]
    }
   ],
   "source": [
    "print(X_train.shape)\n",
    "print(y_train.shape)\n",
    "print(X_val.shape)\n",
    "print(y_val.shape)\n",
    "print(X_test.shape)\n",
    "print(y_test.shape)"
   ]
  },
  {
   "cell_type": "code",
   "execution_count": 11,
   "metadata": {},
   "outputs": [],
   "source": [
    "X_train=X_train.to_numpy()\n",
    "ones_column_train= np.ones((X_train.shape[0],1))\n",
    "y_train=y_train.to_numpy(dtype=\"float64\")\n",
    "X_train=np.hstack((ones_column_train,X_train))\n",
    "\n",
    "X_val=X_val.to_numpy()\n",
    "ones_column_val= np.ones((X_val.shape[0],1))\n",
    "y_val=y_val.to_numpy(dtype=\"float64\")\n",
    "X_val=np.hstack((ones_column_val,X_val))\n",
    "\n",
    "X_test=X_test.to_numpy()\n",
    "ones_column_test= np.ones((X_test.shape[0],1))\n",
    "y_test=y_test.to_numpy(dtype=\"float64\")\n",
    "X_test=np.hstack((ones_column_test,X_test))"
   ]
  },
  {
   "cell_type": "markdown",
   "metadata": {},
   "source": [
    "# Analytical Solution"
   ]
  },
  {
   "cell_type": "code",
   "execution_count": 12,
   "metadata": {},
   "outputs": [
    {
     "data": {
      "text/plain": [
       "(12,)"
      ]
     },
     "execution_count": 12,
     "metadata": {},
     "output_type": "execute_result"
    }
   ],
   "source": [
    "df.columns.shape"
   ]
  },
  {
   "cell_type": "code",
   "execution_count": 13,
   "metadata": {},
   "outputs": [
    {
     "data": {
      "text/html": [
       "<div>\n",
       "<style scoped>\n",
       "    .dataframe tbody tr th:only-of-type {\n",
       "        vertical-align: middle;\n",
       "    }\n",
       "\n",
       "    .dataframe tbody tr th {\n",
       "        vertical-align: top;\n",
       "    }\n",
       "\n",
       "    .dataframe thead th {\n",
       "        text-align: right;\n",
       "    }\n",
       "</style>\n",
       "<table border=\"1\" class=\"dataframe\">\n",
       "  <thead>\n",
       "    <tr style=\"text-align: right;\">\n",
       "      <th></th>\n",
       "      <th>fixed acidity</th>\n",
       "      <th>volatile acidity</th>\n",
       "      <th>citric acid</th>\n",
       "      <th>residual sugar</th>\n",
       "      <th>chlorides</th>\n",
       "      <th>free sulfur dioxide</th>\n",
       "      <th>total sulfur dioxide</th>\n",
       "      <th>density</th>\n",
       "      <th>pH</th>\n",
       "      <th>sulphates</th>\n",
       "      <th>alcohol</th>\n",
       "      <th>quality</th>\n",
       "    </tr>\n",
       "  </thead>\n",
       "  <tbody>\n",
       "    <tr>\n",
       "      <th>0</th>\n",
       "      <td>7.4</td>\n",
       "      <td>0.700</td>\n",
       "      <td>0.00</td>\n",
       "      <td>1.9</td>\n",
       "      <td>0.076</td>\n",
       "      <td>11.0</td>\n",
       "      <td>34.0</td>\n",
       "      <td>0.99780</td>\n",
       "      <td>3.51</td>\n",
       "      <td>0.56</td>\n",
       "      <td>9.4</td>\n",
       "      <td>5</td>\n",
       "    </tr>\n",
       "    <tr>\n",
       "      <th>1</th>\n",
       "      <td>7.8</td>\n",
       "      <td>0.880</td>\n",
       "      <td>0.00</td>\n",
       "      <td>2.6</td>\n",
       "      <td>0.098</td>\n",
       "      <td>25.0</td>\n",
       "      <td>67.0</td>\n",
       "      <td>0.99680</td>\n",
       "      <td>3.20</td>\n",
       "      <td>0.68</td>\n",
       "      <td>9.8</td>\n",
       "      <td>5</td>\n",
       "    </tr>\n",
       "    <tr>\n",
       "      <th>2</th>\n",
       "      <td>7.8</td>\n",
       "      <td>0.760</td>\n",
       "      <td>0.04</td>\n",
       "      <td>2.3</td>\n",
       "      <td>0.092</td>\n",
       "      <td>15.0</td>\n",
       "      <td>54.0</td>\n",
       "      <td>0.99700</td>\n",
       "      <td>3.26</td>\n",
       "      <td>0.65</td>\n",
       "      <td>9.8</td>\n",
       "      <td>5</td>\n",
       "    </tr>\n",
       "    <tr>\n",
       "      <th>3</th>\n",
       "      <td>11.2</td>\n",
       "      <td>0.280</td>\n",
       "      <td>0.56</td>\n",
       "      <td>1.9</td>\n",
       "      <td>0.075</td>\n",
       "      <td>17.0</td>\n",
       "      <td>60.0</td>\n",
       "      <td>0.99800</td>\n",
       "      <td>3.16</td>\n",
       "      <td>0.58</td>\n",
       "      <td>9.8</td>\n",
       "      <td>6</td>\n",
       "    </tr>\n",
       "    <tr>\n",
       "      <th>4</th>\n",
       "      <td>7.4</td>\n",
       "      <td>0.700</td>\n",
       "      <td>0.00</td>\n",
       "      <td>1.9</td>\n",
       "      <td>0.076</td>\n",
       "      <td>11.0</td>\n",
       "      <td>34.0</td>\n",
       "      <td>0.99780</td>\n",
       "      <td>3.51</td>\n",
       "      <td>0.56</td>\n",
       "      <td>9.4</td>\n",
       "      <td>5</td>\n",
       "    </tr>\n",
       "    <tr>\n",
       "      <th>...</th>\n",
       "      <td>...</td>\n",
       "      <td>...</td>\n",
       "      <td>...</td>\n",
       "      <td>...</td>\n",
       "      <td>...</td>\n",
       "      <td>...</td>\n",
       "      <td>...</td>\n",
       "      <td>...</td>\n",
       "      <td>...</td>\n",
       "      <td>...</td>\n",
       "      <td>...</td>\n",
       "      <td>...</td>\n",
       "    </tr>\n",
       "    <tr>\n",
       "      <th>1594</th>\n",
       "      <td>6.2</td>\n",
       "      <td>0.600</td>\n",
       "      <td>0.08</td>\n",
       "      <td>2.0</td>\n",
       "      <td>0.090</td>\n",
       "      <td>32.0</td>\n",
       "      <td>44.0</td>\n",
       "      <td>0.99490</td>\n",
       "      <td>3.45</td>\n",
       "      <td>0.58</td>\n",
       "      <td>10.5</td>\n",
       "      <td>5</td>\n",
       "    </tr>\n",
       "    <tr>\n",
       "      <th>1595</th>\n",
       "      <td>5.9</td>\n",
       "      <td>0.550</td>\n",
       "      <td>0.10</td>\n",
       "      <td>2.2</td>\n",
       "      <td>0.062</td>\n",
       "      <td>39.0</td>\n",
       "      <td>51.0</td>\n",
       "      <td>0.99512</td>\n",
       "      <td>3.52</td>\n",
       "      <td>0.76</td>\n",
       "      <td>11.2</td>\n",
       "      <td>6</td>\n",
       "    </tr>\n",
       "    <tr>\n",
       "      <th>1596</th>\n",
       "      <td>6.3</td>\n",
       "      <td>0.510</td>\n",
       "      <td>0.13</td>\n",
       "      <td>2.3</td>\n",
       "      <td>0.076</td>\n",
       "      <td>29.0</td>\n",
       "      <td>40.0</td>\n",
       "      <td>0.99574</td>\n",
       "      <td>3.42</td>\n",
       "      <td>0.75</td>\n",
       "      <td>11.0</td>\n",
       "      <td>6</td>\n",
       "    </tr>\n",
       "    <tr>\n",
       "      <th>1597</th>\n",
       "      <td>5.9</td>\n",
       "      <td>0.645</td>\n",
       "      <td>0.12</td>\n",
       "      <td>2.0</td>\n",
       "      <td>0.075</td>\n",
       "      <td>32.0</td>\n",
       "      <td>44.0</td>\n",
       "      <td>0.99547</td>\n",
       "      <td>3.57</td>\n",
       "      <td>0.71</td>\n",
       "      <td>10.2</td>\n",
       "      <td>5</td>\n",
       "    </tr>\n",
       "    <tr>\n",
       "      <th>1598</th>\n",
       "      <td>6.0</td>\n",
       "      <td>0.310</td>\n",
       "      <td>0.47</td>\n",
       "      <td>3.6</td>\n",
       "      <td>0.067</td>\n",
       "      <td>18.0</td>\n",
       "      <td>42.0</td>\n",
       "      <td>0.99549</td>\n",
       "      <td>3.39</td>\n",
       "      <td>0.66</td>\n",
       "      <td>11.0</td>\n",
       "      <td>6</td>\n",
       "    </tr>\n",
       "  </tbody>\n",
       "</table>\n",
       "<p>1599 rows × 12 columns</p>\n",
       "</div>"
      ],
      "text/plain": [
       "      fixed acidity  volatile acidity  citric acid  residual sugar  chlorides  \\\n",
       "0               7.4             0.700         0.00             1.9      0.076   \n",
       "1               7.8             0.880         0.00             2.6      0.098   \n",
       "2               7.8             0.760         0.04             2.3      0.092   \n",
       "3              11.2             0.280         0.56             1.9      0.075   \n",
       "4               7.4             0.700         0.00             1.9      0.076   \n",
       "...             ...               ...          ...             ...        ...   \n",
       "1594            6.2             0.600         0.08             2.0      0.090   \n",
       "1595            5.9             0.550         0.10             2.2      0.062   \n",
       "1596            6.3             0.510         0.13             2.3      0.076   \n",
       "1597            5.9             0.645         0.12             2.0      0.075   \n",
       "1598            6.0             0.310         0.47             3.6      0.067   \n",
       "\n",
       "      free sulfur dioxide  total sulfur dioxide  density    pH  sulphates  \\\n",
       "0                    11.0                  34.0  0.99780  3.51       0.56   \n",
       "1                    25.0                  67.0  0.99680  3.20       0.68   \n",
       "2                    15.0                  54.0  0.99700  3.26       0.65   \n",
       "3                    17.0                  60.0  0.99800  3.16       0.58   \n",
       "4                    11.0                  34.0  0.99780  3.51       0.56   \n",
       "...                   ...                   ...      ...   ...        ...   \n",
       "1594                 32.0                  44.0  0.99490  3.45       0.58   \n",
       "1595                 39.0                  51.0  0.99512  3.52       0.76   \n",
       "1596                 29.0                  40.0  0.99574  3.42       0.75   \n",
       "1597                 32.0                  44.0  0.99547  3.57       0.71   \n",
       "1598                 18.0                  42.0  0.99549  3.39       0.66   \n",
       "\n",
       "      alcohol  quality  \n",
       "0         9.4        5  \n",
       "1         9.8        5  \n",
       "2         9.8        5  \n",
       "3         9.8        6  \n",
       "4         9.4        5  \n",
       "...       ...      ...  \n",
       "1594     10.5        5  \n",
       "1595     11.2        6  \n",
       "1596     11.0        6  \n",
       "1597     10.2        5  \n",
       "1598     11.0        6  \n",
       "\n",
       "[1599 rows x 12 columns]"
      ]
     },
     "execution_count": 13,
     "metadata": {},
     "output_type": "execute_result"
    }
   ],
   "source": [
    "df"
   ]
  },
  {
   "cell_type": "code",
   "execution_count": 14,
   "metadata": {},
   "outputs": [
    {
     "data": {
      "text/plain": [
       "(799, 12)"
      ]
     },
     "execution_count": 14,
     "metadata": {},
     "output_type": "execute_result"
    }
   ],
   "source": [
    "X_train.shape"
   ]
  },
  {
   "cell_type": "code",
   "execution_count": 15,
   "metadata": {},
   "outputs": [
    {
     "name": "stdout",
     "output_type": "stream",
     "text": [
      "(799, 12)\n",
      "[5. 5. 7. 6. 6. 5. 6. 5. 6. 5. 5. 5. 6. 5. 7. 7. 5. 5. 5. 5. 5. 5. 5. 6.\n",
      " 6. 3. 5. 5. 6. 6. 5. 6. 7. 5. 5. 7. 6. 6. 6. 6. 7. 6. 6. 5. 7. 7. 7. 5.\n",
      " 5. 6. 5. 5. 6. 5. 6. 6. 6. 8. 6. 5. 6. 5. 5. 6. 6. 6. 5. 4. 6. 6. 6. 6.\n",
      " 6. 6. 5. 5. 8. 4. 5. 5. 6. 6. 6. 7. 5. 5. 6. 6. 6. 6. 6. 6. 6. 5. 5. 6.\n",
      " 7. 6. 4. 5. 5. 5. 5. 5. 6. 6. 5. 4. 7. 6. 5. 7. 7. 5. 5. 5. 6. 6. 5. 6.\n",
      " 5. 5. 6. 6. 6. 6. 5. 5. 7. 5. 6. 6. 5. 6. 5. 6. 5. 7. 5. 6. 5. 6. 5. 5.\n",
      " 6. 6. 5. 5. 6. 6. 7. 6. 5. 5. 7. 6. 5. 5. 6. 7. 6. 6. 6. 7. 5. 6. 7. 6.\n",
      " 6. 4. 7. 5. 5. 5. 5. 6. 6. 7. 6. 6. 5. 7. 6. 6. 6. 5. 6. 5. 7. 6. 5. 6.\n",
      " 8. 5. 6. 6. 6. 6. 5. 6. 6. 5. 4. 6. 6. 5. 6. 5. 7. 5. 5. 6. 7. 5. 6. 5.\n",
      " 6. 5. 6. 5. 7. 5. 6. 6. 6. 7. 6. 8. 6. 5. 6. 5. 6. 4. 5. 5. 6. 7. 5. 5.\n",
      " 5. 6. 6. 5. 5. 7. 7. 5. 6. 7. 7. 5. 5. 5. 7. 6. 5. 6. 5. 5. 6. 6. 5. 7.\n",
      " 6. 7. 6. 6. 5. 5. 5. 5. 5. 5. 7. 7. 5. 6. 5. 6. 5. 5. 5. 4. 6. 6. 8. 6.\n",
      " 6. 5. 5. 5. 5. 6. 6. 5. 5. 5. 5. 5. 5. 7. 5. 5. 5. 5. 4. 5. 6. 6. 5. 5.\n",
      " 6. 6. 5. 8. 5. 5. 5. 7. 3. 5. 7. 5. 5. 6. 6. 6. 5. 7. 6. 6. 5. 6. 6. 6.\n",
      " 5. 6. 7. 5. 5. 5. 5. 6. 5. 5. 5. 6. 6. 6. 7. 5. 7. 7. 6. 6. 6. 7. 5. 5.\n",
      " 6. 6. 5. 5. 4. 6. 6. 6. 6. 5. 5. 6. 4. 6. 5. 7. 6. 6. 6. 7. 4. 6. 5. 5.\n",
      " 5. 7. 6. 5. 6. 5. 6. 5. 5. 5. 4. 6. 6. 5. 7. 5. 5. 6. 6. 7. 7. 5. 7. 5.\n",
      " 5. 5. 5. 6. 6. 6. 6. 5. 5. 6. 4. 6. 5. 5. 6. 6. 5. 6. 7. 6. 5. 6. 7. 5.\n",
      " 6. 7. 5. 6. 5. 6. 6. 6. 6. 5. 6. 5. 5. 6. 5. 5. 6. 5. 5. 5. 6. 4. 6. 5.\n",
      " 5. 6. 6. 5. 6. 7. 5. 6. 6. 3. 6. 6. 3. 5. 5. 5. 5. 6. 7. 6. 6. 6. 6. 5.\n",
      " 5. 5. 5. 6. 7. 7. 6. 5. 6. 6. 5. 7. 6. 6. 5. 5. 6. 5. 3. 6. 6. 6. 6. 6.\n",
      " 6. 6. 5. 5. 6. 5. 7. 5. 6. 7. 5. 5. 7. 6. 6. 6. 5. 7. 6. 6. 5. 4. 6. 5.\n",
      " 5. 5. 6. 5. 7. 6. 7. 6. 6. 5. 6. 7. 5. 5. 6. 6. 5. 6. 5. 6. 6. 6. 5. 5.\n",
      " 5. 6. 5. 7. 5. 6. 5. 6. 6. 5. 4. 5. 5. 5. 7. 6. 6. 5. 5. 5. 6. 5. 7. 6.\n",
      " 6. 5. 5. 5. 5. 5. 5. 6. 5. 6. 5. 6. 6. 5. 5. 5. 5. 5. 6. 7. 5. 6. 6. 6.\n",
      " 6. 5. 5. 6. 6. 6. 5. 6. 7. 6. 5. 6. 7. 5. 6. 5. 5. 7. 6. 5. 5. 6. 5. 7.\n",
      " 5. 5. 7. 5. 6. 6. 5. 6. 6. 5. 5. 7. 5. 6. 6. 7. 5. 6. 6. 6. 6. 6. 5. 5.\n",
      " 5. 7. 7. 5. 6. 6. 6. 5. 4. 5. 6. 5. 6. 6. 5. 5. 5. 6. 6. 7. 5. 7. 7. 5.\n",
      " 7. 6. 5. 5. 6. 7. 6. 7. 6. 6. 5. 7. 7. 4. 5. 6. 6. 5. 5. 6. 6. 7. 6. 5.\n",
      " 5. 5. 5. 6. 6. 5. 5. 5. 7. 6. 5. 8. 6. 5. 6. 6. 5. 4. 6. 6. 6. 5. 6. 5.\n",
      " 5. 6. 6. 6. 6. 7. 5. 5. 6. 7. 3. 6. 6. 6. 4. 6. 6. 4. 6. 6. 5. 6. 4. 6.\n",
      " 6. 5. 7. 6. 5. 6. 6. 6. 6. 6. 5. 6. 5. 6. 5. 5. 6. 6. 5. 6. 6. 6. 5. 5.\n",
      " 5. 5. 3. 5. 6. 5. 6. 6. 7. 5. 6. 6. 5. 6. 5. 5. 6. 5. 5. 4. 6. 4. 6. 6.\n",
      " 6. 5. 6. 6. 5. 7. 6.]\n"
     ]
    }
   ],
   "source": [
    "print(X_train.shape)\n",
    "print(y_train)"
   ]
  },
  {
   "cell_type": "code",
   "execution_count": 16,
   "metadata": {},
   "outputs": [
    {
     "name": "stdout",
     "output_type": "stream",
     "text": [
      "[[ 1.    1.    1.   ...  1.    1.    1.  ]\n",
      " [ 8.6   7.8   9.8  ...  7.2   7.9   5.8 ]\n",
      " [ 0.52  0.56  0.5  ...  0.62  0.2   0.29]\n",
      " ...\n",
      " [ 3.2   3.19  3.24 ...  3.51  3.32  3.39]\n",
      " [ 0.52  0.93  0.6  ...  0.54  0.8   0.54]\n",
      " [ 9.4   9.5   9.7  ...  9.5  11.9  13.5 ]]\n"
     ]
    }
   ],
   "source": [
    "Xt_train=np.transpose(X_train)\n",
    "print(Xt_train)"
   ]
  },
  {
   "cell_type": "code",
   "execution_count": 17,
   "metadata": {},
   "outputs": [
    {
     "name": "stdout",
     "output_type": "stream",
     "text": [
      "[[ 1.    8.6   0.52 ...  3.2   0.52  9.4 ]\n",
      " [ 1.    7.8   0.56 ...  3.19  0.93  9.5 ]\n",
      " [ 1.    9.8   0.5  ...  3.24  0.6   9.7 ]\n",
      " ...\n",
      " [ 1.    7.2   0.62 ...  3.51  0.54  9.5 ]\n",
      " [ 1.    7.9   0.2  ...  3.32  0.8  11.9 ]\n",
      " [ 1.    5.8   0.29 ...  3.39  0.54 13.5 ]]\n"
     ]
    }
   ],
   "source": [
    "print(X_train)"
   ]
  },
  {
   "cell_type": "code",
   "execution_count": 18,
   "metadata": {},
   "outputs": [
    {
     "name": "stdout",
     "output_type": "stream",
     "text": [
      "Max for fixed acidity: 15.9\n",
      "Max for volatile acidity: 1.58\n",
      "Max for citric acid: 1.0\n",
      "Max for residual sugar: 15.5\n",
      "Max for chlorides: 0.611\n",
      "Max for free sulfur dioxide: 72.0\n",
      "Max for total sulfur dioxide: 289.0\n",
      "Max for density: 1.00369\n",
      "Max for pH: 4.01\n",
      "Max for sulphates: 2.0\n",
      "Max for alcohol: 14.9\n",
      "Max for quality: 8\n",
      "None\n",
      "Min for fixed acidity: 4.6\n",
      "Min for volatile acidity: 0.12\n",
      "Min for citric acid: 0.0\n",
      "Min for residual sugar: 0.9\n",
      "Min for chlorides: 0.012\n",
      "Min for free sulfur dioxide: 1.0\n",
      "Min for total sulfur dioxide: 6.0\n",
      "Min for density: 0.99007\n",
      "Min for pH: 2.74\n",
      "Min for sulphates: 0.33\n",
      "Min for alcohol: 8.4\n",
      "Min for quality: 3\n",
      "None\n"
     ]
    }
   ],
   "source": [
    "print(print_max(df))\n",
    "print(print_min(df))"
   ]
  },
  {
   "cell_type": "code",
   "execution_count": 19,
   "metadata": {},
   "outputs": [
    {
     "name": "stdout",
     "output_type": "stream",
     "text": [
      "[[ 2.11574955e+03  2.01312462e+00  1.45140448e+00  1.57813370e-01\n",
      "   9.20446869e-01  3.03217932e+00 -2.62021425e-02  6.21449171e-03\n",
      "  -2.15934226e+03  1.07472422e+01  2.94881790e+00 -2.00578588e+00]\n",
      " [ 2.01312462e+00  3.22026683e-03 -7.49833859e-04 -5.68095055e-03\n",
      "   8.45858728e-04  1.07236325e-02 -3.95347933e-05  2.13106856e-05\n",
      "  -2.08656321e+00  1.70945780e-02  2.42460001e-03 -1.89179795e-03]\n",
      " [ 1.45140448e+00 -7.49833859e-04  7.61723554e-02  4.86762273e-02\n",
      "  -1.63186639e-04 -6.86330524e-02  2.10830772e-04 -7.89870899e-05\n",
      "  -1.50006530e+00 -1.58534290e-04  1.42887160e-02 -5.58737921e-04]\n",
      " [ 1.57813370e-01 -5.68095055e-03  4.86762273e-02  9.98141904e-02\n",
      "  -1.07083492e-03 -7.65867936e-02  2.86912962e-04 -1.31695283e-04\n",
      "  -1.53067400e-01  5.94837175e-03 -1.30489321e-03 -1.81272642e-03]\n",
      " [ 9.20446869e-01  8.45858728e-04 -1.63186639e-04 -1.07083492e-03\n",
      "   1.06785746e-03 -7.27346859e-05 -2.16787295e-05 -2.26233802e-07\n",
      "  -9.38606202e-01  4.61728012e-03  1.73878253e-03 -9.90361198e-04]\n",
      " [ 3.03217932e+00  1.07236325e-02 -6.86330524e-02 -7.65867936e-02\n",
      "  -7.27346859e-05  8.64533559e-01 -3.46200057e-04  2.06937659e-04\n",
      "  -3.41055689e+00  8.24564280e-02 -8.30325562e-02  3.62945602e-03]\n",
      " [-2.62021425e-02 -3.95347933e-05  2.10830772e-04  2.86912962e-04\n",
      "  -2.16787295e-05 -3.46200057e-04  2.25100860e-05 -5.09878419e-06\n",
      "   2.72403456e-02 -2.85639154e-04 -8.04907241e-05  1.43318450e-05]\n",
      " [ 6.21449171e-03  2.13106856e-05 -7.89870899e-05 -1.31695283e-04\n",
      "  -2.26233802e-07  2.06937659e-04 -5.09878419e-06  2.53519681e-06\n",
      "  -6.88504971e-03  1.30776574e-04 -5.64659174e-06  6.33502343e-06]\n",
      " [-2.15934226e+03 -2.08656321e+00 -1.50006530e+00 -1.53067400e-01\n",
      "  -9.38606202e-01 -3.41055689e+00  2.72403456e-02 -6.88504971e-03\n",
      "   2.20568454e+03 -1.14066435e+01 -3.03282330e+00  2.04116816e+00]\n",
      " [ 1.07472422e+01  1.70945780e-02 -1.58534290e-04  5.94837175e-03\n",
      "   4.61728012e-03  8.24564280e-02 -2.85639154e-04  1.30776574e-04\n",
      "  -1.14066435e+01  1.75223697e-01  1.62852054e-02 -1.27050469e-02]\n",
      " [ 2.94881790e+00  2.42460001e-03  1.42887160e-02 -1.30489321e-03\n",
      "   1.73878253e-03 -8.30325562e-02 -8.04907241e-05 -5.64659174e-06\n",
      "  -3.03282330e+00  1.62852054e-02  6.02353157e-02 -4.08166660e-03]\n",
      " [-2.00578588e+00 -1.89179795e-03 -5.58737921e-04 -1.81272642e-03\n",
      "  -9.90361198e-04  3.62945602e-03  1.43318450e-05  6.33502343e-06\n",
      "   2.04116816e+00 -1.27050469e-02 -4.08166660e-03  3.27380605e-03]]\n",
      "(12, 12)\n"
     ]
    }
   ],
   "source": [
    "XtX_train=np.matmul(Xt_train,X_train)\n",
    "XtX_inv_train=np.linalg.inv(XtX_train)\n",
    "print(XtX_inv_train)\n",
    "print(XtX_inv_train.shape)"
   ]
  },
  {
   "cell_type": "code",
   "execution_count": 20,
   "metadata": {},
   "outputs": [
    {
     "name": "stdout",
     "output_type": "stream",
     "text": [
      "(12, 12)\n",
      "(12, 799)\n",
      "(799,)\n"
     ]
    }
   ],
   "source": [
    "print(XtX_inv_train.shape)\n",
    "print(Xt_train.shape)\n",
    "print(y_train.shape)"
   ]
  },
  {
   "cell_type": "code",
   "execution_count": 21,
   "metadata": {},
   "outputs": [
    {
     "name": "stdout",
     "output_type": "stream",
     "text": [
      "(12,)\n"
     ]
    }
   ],
   "source": [
    "temp=np.matmul(XtX_inv_train,Xt_train)\n",
    "theta=np.matmul(temp,y_train)\n",
    "print(theta.shape)"
   ]
  },
  {
   "cell_type": "code",
   "execution_count": 22,
   "metadata": {},
   "outputs": [
    {
     "name": "stdout",
     "output_type": "stream",
     "text": [
      "[ 1.03434328e+01  4.21803857e-03 -1.28736172e+00 -2.81156682e-01\n",
      "  1.59731779e-02 -1.78832680e+00  3.08338676e-03 -3.04438457e-03\n",
      " -6.74416241e+00 -1.82876873e-01  6.77925417e-01  2.98166487e-01]\n"
     ]
    }
   ],
   "source": [
    "print(theta)"
   ]
  },
  {
   "cell_type": "code",
   "execution_count": 23,
   "metadata": {},
   "outputs": [
    {
     "name": "stdout",
     "output_type": "stream",
     "text": [
      "[5. 6. 6. 6. 6. 4. 6. 6. 6. 7. 5. 5. 5. 5. 6. 6. 6. 5. 5. 5. 6. 6. 5. 6.\n",
      " 4. 5. 6. 5. 6. 6. 7. 6. 5. 6. 6. 6. 6. 5. 5. 6. 6. 5. 7. 5. 5. 7. 5. 6.\n",
      " 5. 6. 7. 5. 5. 5. 6. 5. 6. 6. 5. 5. 5. 6. 7. 6. 5. 5. 6. 7. 6. 5. 5. 6.\n",
      " 5. 5. 5. 7. 6. 7. 4. 5. 7. 5. 6. 5. 5. 6. 5. 5. 5. 5. 5. 7. 5. 6. 4. 6.\n",
      " 6. 5. 6. 5. 5. 4. 6. 6. 8. 7. 5. 5. 6. 5. 5. 8. 6. 7. 6. 8. 5. 3. 7. 7.\n",
      " 5. 5. 5. 5. 7. 4. 6. 6. 6. 4. 5. 5. 6. 7. 7. 6. 5. 5. 4. 5. 5. 5. 6. 6.\n",
      " 5. 6. 5. 6. 6. 5. 6. 6. 7. 5. 5. 5. 5. 5. 3. 5. 7. 5. 6. 5. 7. 6. 6. 5.\n",
      " 6. 6. 7. 5. 5. 5. 6. 6. 6. 5. 5. 5. 8. 5. 5. 7. 6. 5. 5. 5. 6. 6. 6. 5.\n",
      " 6. 6. 6. 7. 7. 6. 5. 5. 6. 6. 5. 6. 5. 5. 6. 7. 6. 6. 5. 5. 5. 5. 5. 5.\n",
      " 6. 7. 6. 6. 5. 5. 5. 6. 7. 6. 5. 5. 5. 6. 7. 6. 5. 6. 5. 6. 7. 5. 5. 6.\n",
      " 6. 7. 5. 5. 5. 5. 6. 6. 6. 6. 4. 7. 7. 5. 5. 6. 6. 6. 6. 5. 5. 7. 5. 5.\n",
      " 6. 6. 7. 8. 5. 6. 6. 7. 5. 8. 5. 5. 6. 5. 7. 6. 5. 4. 6. 5. 5. 6. 7. 6.\n",
      " 5. 6. 7. 6. 6. 5. 7. 6. 6. 5. 5. 6. 4. 6. 6. 6. 5. 5. 6. 3. 5. 5. 7. 6.\n",
      " 6. 7. 7. 5. 5. 6. 5. 5.] [5.05866571 6.16780205 5.40540303 5.5587164  6.34309566 5.47243099\n",
      " 6.23112219 6.22778397 5.22632697 6.56664723 5.47137815 5.04981167\n",
      " 5.08841755 5.34502665 5.66507287 5.85336438 5.13460974 6.03788258\n",
      " 6.01231499 4.73760647 5.20884616 6.12424315 4.54138508 5.3465968\n",
      " 5.93024333 5.29598383 6.18249022 5.2839856  6.27806872 6.48103965\n",
      " 5.85689079 6.18981921 5.24467345 5.15203381 6.25440699 6.47163912\n",
      " 5.43028685 5.29535933 5.4096561  6.32866565 5.74302167 5.67304882\n",
      " 5.87650739 5.06381911 6.33594275 6.62716078 5.19866548 6.0074666\n",
      " 5.57699809 5.51470946 6.27992503 5.08161229 5.38434709 4.9997587\n",
      " 6.07196624 5.21895798 5.27166371 5.0852831  5.53186062 4.98280495\n",
      " 5.85287489 4.88812305 6.13947496 5.94926338 5.08696223 5.4113101\n",
      " 5.60106369 6.52870559 5.25935226 5.32264856 5.66278397 5.61009236\n",
      " 5.9195928  5.3073922  5.66715885 6.1438282  6.04920607 6.08201398\n",
      " 5.10517716 5.26094303 5.84138975 5.38582386 5.7976847  5.9195928\n",
      " 5.32273604 5.60790839 5.36451711 5.65408242 5.41395585 5.18241661\n",
      " 5.08568262 6.23167082 4.98431127 5.63861754 5.15721123 5.96315626\n",
      " 6.45006723 5.56211563 5.0379615  4.67909326 6.16433077 5.11701904\n",
      " 5.68213639 6.34083887 6.90697326 6.66878237 5.39383094 4.1880468\n",
      " 5.69332989 5.41699169 5.52291283 6.50088403 5.77369332 6.04579926\n",
      " 5.64288512 6.89487312 5.22974473 5.18753644 5.99815584 6.1438282\n",
      " 5.22200601 5.2837158  5.05262825 5.75308989 6.06925539 5.169148\n",
      " 4.95427843 6.16481292 5.11321693 5.1993043  4.91940753 5.14273371\n",
      " 6.43544309 5.57679563 6.32284723 5.28030362 5.51660094 5.3073922\n",
      " 5.36682984 4.84813203 5.05351499 5.23015223 5.73420014 5.91892274\n",
      " 5.14896726 6.06574572 5.18369058 6.19403055 5.16439175 4.94457414\n",
      " 5.9721172  5.534383   5.41418453 5.78939946 4.96553111 4.76184054\n",
      " 5.02498997 5.39205961 4.29031156 5.31762547 5.85616509 5.74071087\n",
      " 6.16481292 5.98294499 6.22206269 6.56580077 6.03805248 5.37558593\n",
      " 6.44054065 5.4910414  6.68734423 5.38015597 6.33379937 6.06708788\n",
      " 6.55385922 5.7886859  4.95537603 5.2279443  5.2572634  5.2217564\n",
      " 6.16343599 5.10186101 4.94754686 6.67385062 5.32206745 5.67735891\n",
      " 5.09802509 5.58827992 5.14779658 5.79139739 6.41373976 5.3094656\n",
      " 5.38159965 5.849234   6.50770047 6.0410544  6.54397238 6.40373348\n",
      " 5.59363992 5.48523671 5.85668851 5.56849689 5.33220126 5.20976546\n",
      " 5.1964433  5.71679951 6.54524835 6.69908776 5.71090726 5.32267735\n",
      " 5.26881523 5.12683181 5.44940684 5.66805004 5.34886877 5.20740738\n",
      " 5.78559111 6.58518276 5.05658731 5.25924647 5.34318731 5.07197065\n",
      " 5.20738301 5.56165485 5.878091   6.05324232 5.07861559 5.1247638\n",
      " 5.49410713 5.94854628 6.47195298 6.59120605 5.19923269 5.4316484\n",
      " 5.81061245 5.12564497 5.9857701  5.02345741 5.11722292 6.25440699\n",
      " 5.39387465 6.18451178 5.33970195 5.33296715 5.28761188 4.76263204\n",
      " 6.29456807 5.70239947 6.02626143 7.03348091 5.49650457 5.77047795\n",
      " 6.51579649 5.73465739 5.67945232 5.20069553 5.39124599 5.2473494\n",
      " 6.67192742 5.39504536 4.93592009 6.68734423 5.14749707 5.25538739\n",
      " 5.48817315 5.60184627 5.85678724 6.52412433 5.16168764 5.31946323\n",
      " 5.73330713 5.96282129 5.25183403 6.57923107 5.70356959 5.54830594\n",
      " 5.12437265 5.08140482 6.00343281 5.68791321 5.4377205  5.16747436\n",
      " 4.95537603 5.21196137 5.10314296 6.02348341 6.29944255 5.70489069\n",
      " 4.95271918 6.57720474 5.61318076 5.61699339 6.23112219 5.40454309\n",
      " 5.89682178 5.42788502 5.77689781 5.43630053 5.98294499 6.34760929\n",
      " 5.28134244 5.87951821 5.11040479 6.1264466  5.79057013 5.10487856\n",
      " 6.32944717 5.28635644 5.25880501 5.16053471 6.13387606 5.2936595\n",
      " 6.05569245 6.13042551 6.0237445  5.40720179 5.22200601 6.33441606\n",
      " 5.40834416 5.14910353]\n"
     ]
    }
   ],
   "source": [
    "y_testpred= np.matmul(X_test,theta)\n",
    "print(y_test,y_testpred)"
   ]
  },
  {
   "cell_type": "code",
   "execution_count": 24,
   "metadata": {},
   "outputs": [],
   "source": [
    "def print_comparision(y_test,y_testpred):\n",
    "    for i in range(y_test.shape[0]):\n",
    "        print(f\"Actual value:{y_test[i]}, Prediction: {y_testpred[i]}\")\n",
    "        print(\"\\n\")"
   ]
  },
  {
   "cell_type": "code",
   "execution_count": 25,
   "metadata": {},
   "outputs": [],
   "source": [
    "def calculate_rmse(y_actual, y_pred):\n",
    "    squared_errors = (y_actual - y_pred) ** 2\n",
    "    mean_squared_error = np.mean(squared_errors)\n",
    "    rmse = np.sqrt(mean_squared_error)\n",
    "    return rmse\n",
    "\n",
    "def calculate_r_squared(y_actual, y_pred):\n",
    "    total_variance = np.sum((y_actual - np.mean(y_actual)) ** 2)\n",
    "    explained_variance = np.sum((y_pred - y_actual) ** 2)\n",
    "    r_squared = 1 - (explained_variance / total_variance)\n",
    "    return r_squared"
   ]
  },
  {
   "cell_type": "code",
   "execution_count": 26,
   "metadata": {},
   "outputs": [
    {
     "name": "stdout",
     "output_type": "stream",
     "text": [
      "mean squared error:0.4431719294227915\n",
      "rmse:0.6657115962808455\n",
      "r_squared:0.3967805083955571\n"
     ]
    }
   ],
   "source": [
    "# from sklearn.metrics import mean_squared_error, r2_score\n",
    "rmse= calculate_rmse(y_test,y_testpred)\n",
    "r_squared=calculate_r_squared(y_test,y_testpred)\n",
    "print(f\"mean squared error:{rmse**2}\")\n",
    "print(f\"rmse:{rmse}\")\n",
    "print(f\"r_squared:{r_squared}\")"
   ]
  },
  {
   "cell_type": "markdown",
   "metadata": {},
   "source": [
    "# Gradient Descent Solution"
   ]
  },
  {
   "cell_type": "markdown",
   "metadata": {},
   "source": [
    "<h5> Here I am considering theta as w just for the sake of conveneince<h5>"
   ]
  },
  {
   "cell_type": "code",
   "execution_count": 27,
   "metadata": {},
   "outputs": [
    {
     "data": {
      "text/plain": [
       "array([[ 1.  ,  8.6 ,  0.52, ...,  3.2 ,  0.52,  9.4 ],\n",
       "       [ 1.  ,  7.8 ,  0.56, ...,  3.19,  0.93,  9.5 ],\n",
       "       [ 1.  ,  9.8 ,  0.5 , ...,  3.24,  0.6 ,  9.7 ],\n",
       "       ...,\n",
       "       [ 1.  ,  7.2 ,  0.62, ...,  3.51,  0.54,  9.5 ],\n",
       "       [ 1.  ,  7.9 ,  0.2 , ...,  3.32,  0.8 , 11.9 ],\n",
       "       [ 1.  ,  5.8 ,  0.29, ...,  3.39,  0.54, 13.5 ]])"
      ]
     },
     "execution_count": 27,
     "metadata": {},
     "output_type": "execute_result"
    }
   ],
   "source": [
    "X_train"
   ]
  },
  {
   "cell_type": "code",
   "execution_count": 28,
   "metadata": {},
   "outputs": [
    {
     "data": {
      "text/plain": [
       "(799, 12)"
      ]
     },
     "execution_count": 28,
     "metadata": {},
     "output_type": "execute_result"
    }
   ],
   "source": [
    "X_train.shape"
   ]
  },
  {
   "cell_type": "code",
   "execution_count": 29,
   "metadata": {},
   "outputs": [
    {
     "data": {
      "text/plain": [
       "(799,)"
      ]
     },
     "execution_count": 29,
     "metadata": {},
     "output_type": "execute_result"
    }
   ],
   "source": [
    "y_train.shape"
   ]
  },
  {
   "cell_type": "code",
   "execution_count": 30,
   "metadata": {},
   "outputs": [],
   "source": [
    "def mean_squared(y_train,y_pred):\n",
    "    cost=0\n",
    "    m= y_train.shape[0]\n",
    "    for i in range(m):\n",
    "        cost += (y_train[i]-y_pred[i])**2\n",
    "    error = cost/(2*m)\n",
    "    return error\n"
   ]
  },
  {
   "cell_type": "code",
   "execution_count": 31,
   "metadata": {},
   "outputs": [],
   "source": [
    "\n",
    "def gradient_descent(X,y,X_val,y_val,w,alpha,train_losses,val_losses):\n",
    "        m=X.shape[0]\n",
    "        n=X.shape[1]\n",
    "        pred=np.dot(X,w)\n",
    "        error=pred-y\n",
    "        gradient= np.dot(X.T,error)/m\n",
    "        w-=alpha*gradient\n",
    "\n",
    "        val_pred=np.dot(X_val,w)\n",
    "        # print(\"the feature constants are\",w)\n",
    "        # print(\"\\n\")\n",
    "        # y_pred= np.matmul(X,w)\n",
    "        loss=mean_squared(y,pred)\n",
    "        # y_valpred= np.matmul(X_val,w)\n",
    "        loss_val= mean_squared(y_val,val_pred)\n",
    "        train_losses.append(loss)\n",
    "        val_losses.append(loss_val)\n",
    "        return w\n",
    "        \n"
   ]
  },
  {
   "cell_type": "code",
   "execution_count": 32,
   "metadata": {},
   "outputs": [
    {
     "name": "stdout",
     "output_type": "stream",
     "text": [
      "(2, 8)\n",
      "(8,)\n",
      "(2,)\n",
      "[[0 2]\n",
      " [1 4]\n",
      " [2 4]\n",
      " [3 5]\n",
      " [4 6]\n",
      " [5 6]\n",
      " [5 7]\n",
      " [6 4]]\n"
     ]
    }
   ],
   "source": [
    "x=np.array([[0,1,2,3,4,5,5,6],\n",
    "            [2,4,4,5,6,6,7,4]])\n",
    "mult=np.array([0,1,2,3,4,5,6,7])\n",
    "print(x.shape)\n",
    "print(mult.shape)\n",
    "print(np.dot(x,mult).shape)\n",
    "print(x.T)"
   ]
  },
  {
   "cell_type": "code",
   "execution_count": 33,
   "metadata": {},
   "outputs": [],
   "source": [
    "def linear_regression(X,y,X_val,y_val,w,alpha,steps):\n",
    "    train_losses=[]\n",
    "    val_losses=[]\n",
    "    for iter in range(steps):\n",
    "        w=gradient_descent(X,y,X_val,y_val,w,alpha,train_losses,val_losses)\n",
    "        y_valpred=np.dot(X_val,w)\n",
    "    return train_losses,val_losses"
   ]
  },
  {
   "cell_type": "code",
   "execution_count": 34,
   "metadata": {},
   "outputs": [
    {
     "data": {
      "text/plain": [
       "(480,)"
      ]
     },
     "execution_count": 34,
     "metadata": {},
     "output_type": "execute_result"
    }
   ],
   "source": [
    "y_val.shape"
   ]
  },
  {
   "cell_type": "code",
   "execution_count": 35,
   "metadata": {},
   "outputs": [
    {
     "name": "stdout",
     "output_type": "stream",
     "text": [
      "Original Matrix:\n",
      "[[ 1.    8.6   0.52 ...  3.2   0.52  9.4 ]\n",
      " [ 1.    7.8   0.56 ...  3.19  0.93  9.5 ]\n",
      " [ 1.    9.8   0.5  ...  3.24  0.6   9.7 ]\n",
      " ...\n",
      " [ 1.    7.2   0.62 ...  3.51  0.54  9.5 ]\n",
      " [ 1.    7.9   0.2  ...  3.32  0.8  11.9 ]\n",
      " [ 1.    5.8   0.29 ...  3.39  0.54 13.5 ]]\n",
      "\n",
      "Normalized Matrix:\n",
      "[[ 1.          0.21467856 -0.07076412 ... -0.77358368 -0.81095735\n",
      "  -0.97734658]\n",
      " [ 1.         -0.26952234  0.15919229 ... -0.84003104  1.54211189\n",
      "  -0.88353352]\n",
      " [ 1.          0.94097992 -0.18574232 ... -0.50779423 -0.35182189\n",
      "  -0.6959074 ]\n",
      " ...\n",
      " [ 1.         -0.63267302  0.5041269  ...  1.28628454 -0.69617348\n",
      "  -0.88353352]\n",
      " [ 1.         -0.20899723 -1.91041539 ...  0.02378466  0.79601677\n",
      "   1.36797994]\n",
      " [ 1.         -1.48002461 -1.39301347 ...  0.4889162  -0.69617348\n",
      "   2.8689889 ]]\n"
     ]
    }
   ],
   "source": [
    "def normalize_matrix(X):\n",
    "    columns_to_normalize = range(1, X.shape[1])\n",
    "    first_column = X[:, 0]\n",
    "    normalized_columns = (X[:, columns_to_normalize] - X[:, columns_to_normalize].mean(axis=0)) / X[:, columns_to_normalize].std(axis=0)\n",
    "    X_scaled = np.column_stack((first_column, normalized_columns))\n",
    "\n",
    "    print(\"Original Matrix:\")\n",
    "    print(X)\n",
    "\n",
    "    print(\"\\nNormalized Matrix:\")\n",
    "    print(X_scaled)\n",
    "    return X_scaled\n",
    "X_train_scaled=normalize_matrix(X_train)"
   ]
  },
  {
   "cell_type": "markdown",
   "metadata": {},
   "source": [
    "# alpha =  0.1"
   ]
  },
  {
   "cell_type": "code",
   "execution_count": 36,
   "metadata": {},
   "outputs": [
    {
     "name": "stdout",
     "output_type": "stream",
     "text": [
      "[0. 0. 0. 0. 0. 0. 0. 0. 0. 0. 0. 0.]\n"
     ]
    }
   ],
   "source": [
    "w=np.zeros((12,))\n",
    "print(w)"
   ]
  },
  {
   "cell_type": "code",
   "execution_count": 37,
   "metadata": {},
   "outputs": [],
   "source": [
    "train_losses,val_losses=linear_regression(X_train_scaled,y_train,X_val,y_val,w,0.1,1000)"
   ]
  },
  {
   "cell_type": "code",
   "execution_count": 38,
   "metadata": {},
   "outputs": [
    {
     "data": {
      "text/plain": [
       "[<matplotlib.lines.Line2D at 0x203dc3c7f10>]"
      ]
     },
     "execution_count": 38,
     "metadata": {},
     "output_type": "execute_result"
    },
    {
     "data": {
      "image/png": "[encoded data removed]",
      "text/plain": [
       "<Figure size 640x480 with 1 Axes>"
      ]
     },
     "metadata": {},
     "output_type": "display_data"
    }
   ],
   "source": [
    "plt.plot(train_losses)"
   ]
  },
  {
   "cell_type": "code",
   "execution_count": 39,
   "metadata": {},
   "outputs": [
    {
     "data": {
      "text/plain": [
       "[<matplotlib.lines.Line2D at 0x203de624640>]"
      ]
     },
     "execution_count": 39,
     "metadata": {},
     "output_type": "execute_result"
    },
    {
     "data": {
      "image/png": "[encoded data removed]",
      "text/plain": [
       "<Figure size 640x480 with 1 Axes>"
      ]
     },
     "metadata": {},
     "output_type": "display_data"
    }
   ],
   "source": [
    "plt.plot(val_losses)"
   ]
  },
  {
   "cell_type": "markdown",
   "metadata": {},
   "source": [
    "# alpha = 0.01"
   ]
  },
  {
   "cell_type": "code",
   "execution_count": 40,
   "metadata": {},
   "outputs": [
    {
     "name": "stdout",
     "output_type": "stream",
     "text": [
      "[0. 0. 0. 0. 0. 0. 0. 0. 0. 0. 0. 0.]\n"
     ]
    }
   ],
   "source": [
    "w=np.zeros((12,))\n",
    "print(w)"
   ]
  },
  {
   "cell_type": "code",
   "execution_count": 41,
   "metadata": {},
   "outputs": [],
   "source": [
    "train_losses_2,val_losses_2=linear_regression(X_train_scaled,y_train,X_val,y_val,w,0.01,3000)"
   ]
  },
  {
   "cell_type": "code",
   "execution_count": 42,
   "metadata": {},
   "outputs": [
    {
     "data": {
      "text/plain": [
       "[<matplotlib.lines.Line2D at 0x203de47cfa0>]"
      ]
     },
     "execution_count": 42,
     "metadata": {},
     "output_type": "execute_result"
    },
    {
     "data": {
      "image/png": "[encoded data removed]",
      "text/plain": [
       "<Figure size 640x480 with 1 Axes>"
      ]
     },
     "metadata": {},
     "output_type": "display_data"
    }
   ],
   "source": [
    "plt.plot(train_losses_2)"
   ]
  },
  {
   "cell_type": "code",
   "execution_count": 43,
   "metadata": {},
   "outputs": [
    {
     "data": {
      "text/plain": [
       "[<matplotlib.lines.Line2D at 0x203dc402d70>]"
      ]
     },
     "execution_count": 43,
     "metadata": {},
     "output_type": "execute_result"
    },
    {
     "data": {
      "image/png": "[encoded data removed]",
      "text/plain": [
       "<Figure size 640x480 with 1 Axes>"
      ]
     },
     "metadata": {},
     "output_type": "display_data"
    }
   ],
   "source": [
    "plt.plot(val_losses_2)"
   ]
  },
  {
   "cell_type": "markdown",
   "metadata": {},
   "source": [
    "# alpha = 0.001"
   ]
  },
  {
   "cell_type": "code",
   "execution_count": 44,
   "metadata": {},
   "outputs": [
    {
     "name": "stdout",
     "output_type": "stream",
     "text": [
      "[0. 0. 0. 0. 0. 0. 0. 0. 0. 0. 0. 0.]\n"
     ]
    }
   ],
   "source": [
    "w=np.zeros((12,))\n",
    "print(w)"
   ]
  },
  {
   "cell_type": "code",
   "execution_count": 45,
   "metadata": {},
   "outputs": [],
   "source": [
    "train_losses_3,val_losses_3=linear_regression(X_train_scaled,y_train,X_val,y_val,w,0.001,8000)"
   ]
  },
  {
   "cell_type": "code",
   "execution_count": 46,
   "metadata": {},
   "outputs": [
    {
     "data": {
      "text/plain": [
       "[<matplotlib.lines.Line2D at 0x203de52beb0>]"
      ]
     },
     "execution_count": 46,
     "metadata": {},
     "output_type": "execute_result"
    },
    {
     "data": {
      "image/png": "[encoded data removed]",
      "text/plain": [
       "<Figure size 640x480 with 1 Axes>"
      ]
     },
     "metadata": {},
     "output_type": "display_data"
    }
   ],
   "source": [
    "plt.plot(train_losses_3)"
   ]
  },
  {
   "cell_type": "code",
   "execution_count": 47,
   "metadata": {},
   "outputs": [
    {
     "data": {
      "text/plain": [
       "[<matplotlib.lines.Line2D at 0x203df7c7070>]"
      ]
     },
     "execution_count": 47,
     "metadata": {},
     "output_type": "execute_result"
    },
    {
     "data": {
      "image/png": "[encoded data removed]",
      "text/plain": [
       "<Figure size 640x480 with 1 Axes>"
      ]
     },
     "metadata": {},
     "output_type": "display_data"
    }
   ],
   "source": [
    "plt.plot(val_losses_3)"
   ]
  },
  {
   "cell_type": "code",
   "execution_count": 48,
   "metadata": {},
   "outputs": [
    {
     "data": {
      "text/plain": [
       "(320, 12)"
      ]
     },
     "execution_count": 48,
     "metadata": {},
     "output_type": "execute_result"
    }
   ],
   "source": [
    "X_test.shape"
   ]
  },
  {
   "cell_type": "code",
   "execution_count": 49,
   "metadata": {},
   "outputs": [
    {
     "name": "stdout",
     "output_type": "stream",
     "text": [
      "Original Matrix:\n",
      "[[ 1.    7.9   0.72 ...  3.4   0.53  9.5 ]\n",
      " [ 1.   10.6   0.31 ...  3.26  0.86 10.7 ]\n",
      " [ 1.    7.3   0.39 ...  3.41  0.54  9.4 ]\n",
      " ...\n",
      " [ 1.   10.    0.35 ...  3.23  0.52 12.  ]\n",
      " [ 1.    9.9   0.35 ...  3.21  0.5   9.5 ]\n",
      " [ 1.    7.4   0.66 ...  3.51  0.56  9.4 ]]\n",
      "\n",
      "Normalized Matrix:\n",
      "[[ 1.         -0.25560867  1.02373839 ...  0.5778992  -0.82038121\n",
      "  -0.80689022]\n",
      " [ 1.          1.19636957 -1.08398192 ... -0.30752775  1.42863893\n",
      "   0.28546248]\n",
      " [ 1.         -0.5782705  -0.67271942 ...  0.64114398 -0.75222908\n",
      "  -0.89791961]\n",
      " ...\n",
      " [ 1.          0.87370774 -0.87835067 ... -0.4972621  -0.88853333\n",
      "   1.46884458]\n",
      " [ 1.          0.81993077 -0.87835067 ... -0.62375167 -1.02483758\n",
      "  -0.80689022]\n",
      " [ 1.         -0.52449353  0.71529151 ...  1.27359181 -0.61592483\n",
      "  -0.89791961]]\n",
      "(320, 12)\n",
      "(12,)\n"
     ]
    },
    {
     "data": {
      "text/plain": [
       "(320,)"
      ]
     },
     "execution_count": 49,
     "metadata": {},
     "output_type": "execute_result"
    }
   ],
   "source": [
    "X_test_scaled=normalize_matrix(X_test)\n",
    "\n",
    "y_testpred=np.dot(X_test_scaled,w)\n",
    "print(X_test_scaled.shape)\n",
    "print(w.shape)\n",
    "y_testpred.shape"
   ]
  },
  {
   "cell_type": "code",
   "execution_count": 50,
   "metadata": {},
   "outputs": [
    {
     "data": {
      "text/plain": [
       "array([[ 1.  ,  7.9 ,  0.72, ...,  3.4 ,  0.53,  9.5 ],\n",
       "       [ 1.  , 10.6 ,  0.31, ...,  3.26,  0.86, 10.7 ],\n",
       "       [ 1.  ,  7.3 ,  0.39, ...,  3.41,  0.54,  9.4 ],\n",
       "       ...,\n",
       "       [ 1.  , 10.  ,  0.35, ...,  3.23,  0.52, 12.  ],\n",
       "       [ 1.  ,  9.9 ,  0.35, ...,  3.21,  0.5 ,  9.5 ],\n",
       "       [ 1.  ,  7.4 ,  0.66, ...,  3.51,  0.56,  9.4 ]])"
      ]
     },
     "execution_count": 50,
     "metadata": {},
     "output_type": "execute_result"
    }
   ],
   "source": [
    "X_test"
   ]
  },
  {
   "cell_type": "code",
   "execution_count": 51,
   "metadata": {},
   "outputs": [
    {
     "name": "stdout",
     "output_type": "stream",
     "text": [
      "r_squared: 0.3991593477424942\n"
     ]
    }
   ],
   "source": [
    "print(f\"r_squared: {calculate_r_squared(y_test,y_testpred)}\")"
   ]
  },
  {
   "cell_type": "code",
   "execution_count": 52,
   "metadata": {},
   "outputs": [
    {
     "name": "stdout",
     "output_type": "stream",
     "text": [
      "rmse: 0.6643976588767766\n"
     ]
    }
   ],
   "source": [
    "print(f\"rmse: {calculate_rmse(y_test,y_testpred)}\")"
   ]
  },
  {
   "cell_type": "code",
   "execution_count": 53,
   "metadata": {},
   "outputs": [
    {
     "name": "stdout",
     "output_type": "stream",
     "text": [
      "mse:0.4414242491209416\n"
     ]
    }
   ],
   "source": [
    "print(f\"mse:{calculate_rmse(y_test,y_testpred)**2}\")"
   ]
  }
 ],
 "metadata": {
  "kernelspec": {
   "display_name": "Python 3 (ipykernel)",
   "language": "python",
   "name": "python3"
  },
  "language_info": {
   "codemirror_mode": {
    "name": "ipython",
    "version": 3
   },
   "file_extension": ".py",
   "mimetype": "text/x-python",
   "name": "python",
   "nbconvert_exporter": "python",
   "pygments_lexer": "ipython3",
   "version": "3.10.12"
  },
  "vscode": {
   "interpreter": {
    "hash": "3067ead486e059ec00ffe7555bdb889e6e264a24dc711bf108106cc7baee8d5d"
   }
  }
 },
 "nbformat": 4,
 "nbformat_minor": 2
}
