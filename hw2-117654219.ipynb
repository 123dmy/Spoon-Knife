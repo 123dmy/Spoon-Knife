{
 "cells": [
  {
   "cell_type": "code",
   "execution_count": 12,
   "metadata": {},
   "outputs": [],
   "source": [
    "# token edit for github assignment\n",
    "import csv\n",
    "from math import sqrt"
   ]
  },
  {
   "cell_type": "code",
   "execution_count": 13,
   "metadata": {},
   "outputs": [],
   "source": [
    "## Create a dictionary called critics from critics.csv file.\n",
    "## The keys are the names of the critics, and the values are dictionaries containing\n",
    "## containing the movie names as the keys and the ratings as the values\n",
    "\n",
    "critics={}\n",
    "\n",
    "#Read in csv file, taking single quotes into account\n",
    "\n",
    "csvReader = csv.reader(open(\"critics.csv\", \"r\"), quotechar=\"'\", delimiter=',')\n",
    "\n",
    "#Create a temp dictionary by iterating over csv data, and merging film names with respective scores\n",
    "#Dictionary format: {name : {film: score}}.  This format chosen over a potentially more \"tidy\" format (such as {film: {critic: score} ...}) given the following sections and size of the dataset\n",
    "\n",
    "for row in csvReader:\n",
    "    \n",
    "    name = row[0]    \n",
    "    film = []\n",
    "    score = []\n",
    "    \n",
    "    for index, element in enumerate(row[1:]):\n",
    "        \n",
    "        if index % 2 ==0:\n",
    "            \n",
    "            film.append(element)\n",
    "            \n",
    "        else:\n",
    "            \n",
    "            score.append(element)\n",
    "            \n",
    "        data = dict(zip(film, score))\n",
    "            \n",
    "    critics[name] = data   "
   ]
  },
  {
   "cell_type": "code",
   "execution_count": 14,
   "metadata": {},
   "outputs": [],
   "source": [
    "# Return a distance-based similarity score for two individuals\n",
    "# params: critics dictionary, person 1's name, person 2's name \n",
    "def sim_distance(prefs,person1,person2):\n",
    "    # Get the list of shared items (mutually rated)\n",
    "    si={}\n",
    "    # start code    \n",
    "        \n",
    "    person1Prefs = prefs[person1]\n",
    "    person2Prefs = prefs[person2]\n",
    "    \n",
    "    #Create nested dictionary of shared items in format {film: {person1: person1score, person2: person2score}} by looping through critics dictionary \n",
    "    #Get list of shared items, then loop through to combine\n",
    "        \n",
    "    person1List = list(person1Prefs.keys())\n",
    "    \n",
    "    person2List = list(person2Prefs.keys())\n",
    "    \n",
    "    sharedList = list(set(person1List).intersection(person2List))\n",
    "    \n",
    "    for film in sharedList:\n",
    "        \n",
    "        person1Score = person1Prefs[film]\n",
    "        \n",
    "        person2Score = person2Prefs[film]\n",
    "        \n",
    "        si[film] = {person1 : float(person1Score), person2 : float(person2Score)}\n",
    "            \n",
    "    # end code\n",
    "    \n",
    "    # if they have no ratings in common, return 0\n",
    "    \n",
    "    if len(si) == 0:\n",
    "        \n",
    "        return(0)\n",
    "    \n",
    "    # Add up the squares of all the differences of the ratings for the shared items\n",
    "    \n",
    "    sum_of_squared_difference = sum(n ** 2 for i in si.values() for n in i.values())\n",
    "    \n",
    "    return(1/(1 + sum_of_squared_difference))"
   ]
  },
  {
   "cell_type": "code",
   "execution_count": 15,
   "metadata": {},
   "outputs": [
    {
     "name": "stdout",
     "output_type": "stream",
     "text": [
      "0.01092896174863388\n"
     ]
    }
   ],
   "source": [
    "print(sim_distance(critics,'Toby','Jack Matthews'))"
   ]
  },
  {
   "cell_type": "code",
   "execution_count": 16,
   "metadata": {},
   "outputs": [],
   "source": [
    "# Returns the Pearson correlation coefficient for two individuals\n",
    "# first parameter is the critics dictionary\n",
    "\n",
    "def sim_pearson(prefs,person1,person2):\n",
    "    \n",
    "    # Get the list of mutually rated items\n",
    "    \n",
    "    si={}\n",
    "    \n",
    "    # start code \n",
    "    \n",
    "    #This is repeated code from above.  Normally I would have done this as its own function, but given the non-linear nature of notebooks,\n",
    "    #I thought it best to sacrifice concise code for safety, especially as much of the code was defined already and this code may be used stand-alone one day\n",
    "    \n",
    "    person1Prefs = prefs[person1]\n",
    "    person2Prefs = prefs[person2]\n",
    "            \n",
    "    person1List = list(person1Prefs.keys())\n",
    "    \n",
    "    person2List = list(person2Prefs.keys())\n",
    "    \n",
    "    sharedList = list(set(person1List).intersection(person2List))\n",
    "    \n",
    "    for film in sharedList:\n",
    "        \n",
    "        person1Score = person1Prefs[film]\n",
    "        \n",
    "        person2Score = person2Prefs[film]\n",
    "        \n",
    "        si[film] = {person1 : float(person1Score), person2 : float(person2Score)}\n",
    "    \n",
    "    # end code\n",
    "    # if they have no ratings in common, return 0\n",
    "    \n",
    "    if len(si) == 0:\n",
    "        \n",
    "        return(0)\n",
    "    \n",
    "    #find the number of common elements\n",
    "    \n",
    "    n = len(si)   \n",
    "    \n",
    "    #Add up all the ratings for each individual\n",
    "    \n",
    "    sum1 = sum(si[i][person1] for i in si)\n",
    "    sum2 = sum(si[i][person2] for i in si)\n",
    "    \n",
    "    # Sum up the squares of the ratings for each person\n",
    "    \n",
    "    sum1Sq = sum(si[i][person1] ** 2 for i in si)\n",
    "    sum2Sq = sum(si[i][person2] ** 2 for i in si) \n",
    "    \n",
    "    # Sum up the products of the ratings for the two individuals \n",
    "    # rating person 1 x rating person 2 for all the common ratings and add it up   \n",
    "    \n",
    "    pSum = sum(si[i][person1] * si[i][person2] for i in si)\n",
    "    \n",
    "    #Calculate Pearson score\n",
    "    \n",
    "    numerator = pSum - (sum1*sum2/n)\n",
    "    denominator = sqrt((sum1Sq-pow(sum1,2)/n)*(sum2Sq-pow(sum2,2)/n))\n",
    "    \n",
    "    if denominator == 0:\n",
    "        \n",
    "        return(0)\n",
    "    \n",
    "    r = numerator/denominator\n",
    "    \n",
    "    return(r)"
   ]
  },
  {
   "cell_type": "code",
   "execution_count": 17,
   "metadata": {},
   "outputs": [
    {
     "name": "stdout",
     "output_type": "stream",
     "text": [
      "0.66284898035987\n"
     ]
    }
   ],
   "source": [
    "print(sim_pearson(critics,'Toby','Jack Matthews'))"
   ]
  },
  {
   "cell_type": "code",
   "execution_count": 18,
   "metadata": {},
   "outputs": [],
   "source": [
    "# Return the best matches for person from the critics dictionary\n",
    "# Number of results and similarity function are optional parameters\n",
    "\n",
    "def topMatches(prefs,person,n=5,similarity=sim_pearson):\n",
    "    \n",
    "    ## find the similarity scores for the person and every other individual\n",
    "    ## store values in a tuple for the person and other individual\n",
    "    \n",
    "    # Get list of critics to compare against  \n",
    "    \n",
    "    scores = []\n",
    "    \n",
    "    criticList = []\n",
    "    \n",
    "    for critic in prefs:\n",
    "        \n",
    "        if critic != person:\n",
    "            \n",
    "            criticList.append(critic)\n",
    "            \n",
    "    # compare and get scores - compatible with sim_distance and sim_pearson\n",
    "            \n",
    "    for compare in criticList:\n",
    "                \n",
    "        sim = similarity(prefs,person,compare)\n",
    "        data = (sim, compare)\n",
    "        scores.append(data)\n",
    "        \n",
    "    # sort the list so that the highest scores appear at the top\n",
    "        \n",
    "    scores.sort()\n",
    "    scores.reverse()\n",
    "    return(scores[0:n])"
   ]
  },
  {
   "cell_type": "code",
   "execution_count": 19,
   "metadata": {},
   "outputs": [
    {
     "name": "stdout",
     "output_type": "stream",
     "text": [
      "[(0.9912407071619299, 'Lisa Rose'), (0.9244734516419049, 'Mick LaSalle'), (0.8934051474415647, 'Claudia Puig'), (0.66284898035987, 'Jack Matthews'), (0.38124642583151164, 'Gene Seymour')]\n"
     ]
    }
   ],
   "source": [
    "print(topMatches(critics,'Toby'))"
   ]
  },
  {
   "cell_type": "code",
   "execution_count": 20,
   "metadata": {},
   "outputs": [],
   "source": [
    "## Get recommendations for a person by using a weighted average\n",
    "## of every other user's rankings\n",
    "\n",
    "def getRecommendations(prefs,person,similarity=sim_pearson):\n",
    "    \n",
    "    totals = {}    \n",
    "    simSums = {}\n",
    "    \n",
    "    for other in prefs:\n",
    "        \n",
    "        #don't compare me to myself\n",
    "        \n",
    "        if other == person:\n",
    "            \n",
    "            continue\n",
    "            \n",
    "        sim = similarity(prefs,person,other)\n",
    "        \n",
    "        #ignore scores of zero or lower\n",
    "        \n",
    "        if sim <= 0:\n",
    "            \n",
    "            continue\n",
    "            \n",
    "        for item in prefs[other]:\n",
    "            \n",
    "            #only score movies I haven't seen yet  \n",
    "            \n",
    "            if item not in prefs[person] or prefs[person][item]==0: \n",
    "                \n",
    "                #Similariy * Score\n",
    "                totals.setdefault(item,0)                \n",
    "                totals[item] += float(prefs[other][item]) * float(sim)\n",
    "                \n",
    "                #Sum of similarities\n",
    "                simSums.setdefault(item,0)                \n",
    "                simSums[item] += sim\n",
    "            \n",
    "            #create a normalized list\n",
    "        rankings = [(total/simSums[item],item) for item,total in totals.items()]\n",
    "        \n",
    "        # return the sorted list\n",
    "        rankings.sort()\n",
    "        rankings.reverse()\n",
    "        return(rankings)"
   ]
  },
  {
   "cell_type": "code",
   "execution_count": 21,
   "metadata": {},
   "outputs": [
    {
     "name": "stdout",
     "output_type": "stream",
     "text": [
      "[(3.0, 'The Night Listener'), (3.0, 'Just My Luck'), (2.5, 'Lady in the Water')]\n"
     ]
    }
   ],
   "source": [
    "print(getRecommendations(critics,'Toby'))"
   ]
  },
  {
   "cell_type": "code",
   "execution_count": 22,
   "metadata": {},
   "outputs": [
    {
     "name": "stdout",
     "output_type": "stream",
     "text": [
      "[(3.0, 'Just My Luck')]\n"
     ]
    }
   ],
   "source": [
    "print(getRecommendations(critics,'Jack Matthews'))"
   ]
  },
  {
   "cell_type": "code",
   "execution_count": null,
   "metadata": {},
   "outputs": [],
   "source": []
  }
 ],
 "metadata": {
  "kernelspec": {
   "display_name": "Python 3",
   "language": "python",
   "name": "python3"
  },
  "language_info": {
   "codemirror_mode": {
    "name": "ipython",
    "version": 3
   },
   "file_extension": ".py",
   "mimetype": "text/x-python",
   "name": "python",
   "nbconvert_exporter": "python",
   "pygments_lexer": "ipython3",
   "version": "3.9.4"
  }
 },
 "nbformat": 4,
 "nbformat_minor": 4
}
