{
  "nbformat": 4,
  "nbformat_minor": 0,
  "metadata": {
    "colab": {
      "name": "Bike.ipynb",
      "provenance": [],
      "collapsed_sections": [],
      "authorship_tag": "ABX9TyOaBkySa61qBP/rhFHoE1RF",
      "include_colab_link": true
    },
    "kernelspec": {
      "name": "python3",
      "display_name": "Python 3"
    },
    "language_info": {
      "name": "python"
    }
  },
  "cells": [
    {
      "cell_type": "markdown",
      "metadata": {
        "id": "view-in-github",
        "colab_type": "text"
      },
      "source": [
        "<a href=\"https://colab.research.google.com/github/bourrich90/Spoon-Knife/blob/main/Bike.ipynb\" target=\"_parent\"><img src=\"https://colab.research.google.com/assets/colab-badge.svg\" alt=\"Open In Colab\"/></a>"
      ]
    },
    {
      "cell_type": "markdown",
      "metadata": {
        "id": "Zf79UGEtorlT"
      },
      "source": [
        "## **1. Audit + Exploration des données**"
      ]
    },
    {
      "cell_type": "markdown",
      "metadata": {
        "id": "6gPfrQ0qvmYp"
      },
      "source": [
        "**1.1.Avant Aggrégation  des données par jour**"
      ]
    },
    {
      "cell_type": "markdown",
      "metadata": {
        "id": "Rl386hKVD0K5"
      },
      "source": [
        "## *a- Chargement de données :*"
      ]
    },
    {
      "cell_type": "code",
      "metadata": {
        "colab": {
          "base_uri": "https://localhost:8080/"
        },
        "id": "oNZjs3NchOTG",
        "outputId": "c7efab90-d50d-46a6-8bd4-d5c727769164"
      },
      "source": [
        "# import des bibliothéques\n",
        "%matplotlib inline\n",
        "import pandas as pd\n",
        "import numpy as np\n",
        "import matplotlib.pyplot as plt\n",
        "from scipy.stats import pearsonr\n",
        "\n",
        "\n",
        "# charger le jeu de données bike \n",
        "\n",
        "data = pd.read_csv('https://assets-datascientest.s3-eu-west-1.amazonaws.com/de/total/bike.csv')\n",
        "data['dteday'] = pd.to_datetime(data.dteday, format='%Y-%m-%d')\n",
        "\n",
        "# ajout de la colonne weekday pour le jour de semaine\n",
        "data[\"weekday\"]=data[\"dteday\"].dt.day_name()\n",
        "\n",
        "data.info()"
      ],
      "execution_count": null,
      "outputs": [
        {
          "output_type": "stream",
          "text": [
            "<class 'pandas.core.frame.DataFrame'>\n",
            "RangeIndex: 17379 entries, 0 to 17378\n",
            "Data columns (total 9 columns):\n",
            " #   Column      Non-Null Count  Dtype         \n",
            "---  ------      --------------  -----         \n",
            " 0   dteday      17379 non-null  datetime64[ns]\n",
            " 1   hr          17379 non-null  int64         \n",
            " 2   weathersit  17379 non-null  object        \n",
            " 3   hum         17379 non-null  float64       \n",
            " 4   windspeed   17379 non-null  float64       \n",
            " 5   temp        17379 non-null  float64       \n",
            " 6   atemp       17379 non-null  float64       \n",
            " 7   cnt         17379 non-null  int64         \n",
            " 8   weekday     17379 non-null  object        \n",
            "dtypes: datetime64[ns](1), float64(4), int64(2), object(2)\n",
            "memory usage: 1.2+ MB\n"
          ],
          "name": "stdout"
        }
      ]
    },
    {
      "cell_type": "markdown",
      "metadata": {
        "id": "8lybBODFk6an"
      },
      "source": [
        "Le jeu de données de bike contient 7 variables explicatives (dteday,hr,weathersit,hum,windspeed,temp,atemp) et une variable cible expliquée cnt, pas de NAN dans les données . L'objectif est de prédire le nombre de vélos utilisés d'un jour au lendemain . Il s'agit d'une problématique de regression puisque la cible cnt est **quantitative**\n",
        "\n",
        "\n",
        "\n",
        "\n"
      ]
    },
    {
      "cell_type": "code",
      "metadata": {
        "colab": {
          "base_uri": "https://localhost:8080/",
          "height": 300
        },
        "id": "iV3mRa4nlqRV",
        "outputId": "661a13f7-d18f-4a25-cb53-14b626b0f896"
      },
      "source": [
        "# déscription des données\n",
        "data.describe()"
      ],
      "execution_count": null,
      "outputs": [
        {
          "output_type": "execute_result",
          "data": {
            "text/html": [
              "<div>\n",
              "<style scoped>\n",
              "    .dataframe tbody tr th:only-of-type {\n",
              "        vertical-align: middle;\n",
              "    }\n",
              "\n",
              "    .dataframe tbody tr th {\n",
              "        vertical-align: top;\n",
              "    }\n",
              "\n",
              "    .dataframe thead th {\n",
              "        text-align: right;\n",
              "    }\n",
              "</style>\n",
              "<table border=\"1\" class=\"dataframe\">\n",
              "  <thead>\n",
              "    <tr style=\"text-align: right;\">\n",
              "      <th></th>\n",
              "      <th>hr</th>\n",
              "      <th>hum</th>\n",
              "      <th>windspeed</th>\n",
              "      <th>temp</th>\n",
              "      <th>atemp</th>\n",
              "      <th>cnt</th>\n",
              "    </tr>\n",
              "  </thead>\n",
              "  <tbody>\n",
              "    <tr>\n",
              "      <th>count</th>\n",
              "      <td>17379.000000</td>\n",
              "      <td>17379.000000</td>\n",
              "      <td>17379.000000</td>\n",
              "      <td>17379.000000</td>\n",
              "      <td>17379.000000</td>\n",
              "      <td>17379.000000</td>\n",
              "    </tr>\n",
              "    <tr>\n",
              "      <th>mean</th>\n",
              "      <td>11.546752</td>\n",
              "      <td>0.627229</td>\n",
              "      <td>12.736540</td>\n",
              "      <td>15.358397</td>\n",
              "      <td>15.401157</td>\n",
              "      <td>189.463088</td>\n",
              "    </tr>\n",
              "    <tr>\n",
              "      <th>std</th>\n",
              "      <td>6.914405</td>\n",
              "      <td>0.192930</td>\n",
              "      <td>8.196795</td>\n",
              "      <td>9.050138</td>\n",
              "      <td>11.342114</td>\n",
              "      <td>181.387599</td>\n",
              "    </tr>\n",
              "    <tr>\n",
              "      <th>min</th>\n",
              "      <td>0.000000</td>\n",
              "      <td>0.000000</td>\n",
              "      <td>0.000000</td>\n",
              "      <td>-7.060000</td>\n",
              "      <td>-16.000000</td>\n",
              "      <td>1.000000</td>\n",
              "    </tr>\n",
              "    <tr>\n",
              "      <th>25%</th>\n",
              "      <td>6.000000</td>\n",
              "      <td>0.480000</td>\n",
              "      <td>7.001500</td>\n",
              "      <td>7.980000</td>\n",
              "      <td>5.997800</td>\n",
              "      <td>40.000000</td>\n",
              "    </tr>\n",
              "    <tr>\n",
              "      <th>50%</th>\n",
              "      <td>12.000000</td>\n",
              "      <td>0.630000</td>\n",
              "      <td>12.998000</td>\n",
              "      <td>15.500000</td>\n",
              "      <td>15.996800</td>\n",
              "      <td>142.000000</td>\n",
              "    </tr>\n",
              "    <tr>\n",
              "      <th>75%</th>\n",
              "      <td>18.000000</td>\n",
              "      <td>0.780000</td>\n",
              "      <td>16.997900</td>\n",
              "      <td>23.020000</td>\n",
              "      <td>24.999200</td>\n",
              "      <td>281.000000</td>\n",
              "    </tr>\n",
              "    <tr>\n",
              "      <th>max</th>\n",
              "      <td>23.000000</td>\n",
              "      <td>1.000000</td>\n",
              "      <td>56.996900</td>\n",
              "      <td>39.000000</td>\n",
              "      <td>50.000000</td>\n",
              "      <td>977.000000</td>\n",
              "    </tr>\n",
              "  </tbody>\n",
              "</table>\n",
              "</div>"
            ],
            "text/plain": [
              "                 hr           hum  ...         atemp           cnt\n",
              "count  17379.000000  17379.000000  ...  17379.000000  17379.000000\n",
              "mean      11.546752      0.627229  ...     15.401157    189.463088\n",
              "std        6.914405      0.192930  ...     11.342114    181.387599\n",
              "min        0.000000      0.000000  ...    -16.000000      1.000000\n",
              "25%        6.000000      0.480000  ...      5.997800     40.000000\n",
              "50%       12.000000      0.630000  ...     15.996800    142.000000\n",
              "75%       18.000000      0.780000  ...     24.999200    281.000000\n",
              "max       23.000000      1.000000  ...     50.000000    977.000000\n",
              "\n",
              "[8 rows x 6 columns]"
            ]
          },
          "metadata": {
            "tags": []
          },
          "execution_count": 3
        }
      ]
    },
    {
      "cell_type": "code",
      "metadata": {
        "colab": {
          "base_uri": "https://localhost:8080/",
          "height": 206
        },
        "id": "XYEU9cgqrHhU",
        "outputId": "5857b73b-0fd6-4869-be04-cb9dce0c3a46"
      },
      "source": [
        "data.head()"
      ],
      "execution_count": null,
      "outputs": [
        {
          "output_type": "execute_result",
          "data": {
            "text/html": [
              "<div>\n",
              "<style scoped>\n",
              "    .dataframe tbody tr th:only-of-type {\n",
              "        vertical-align: middle;\n",
              "    }\n",
              "\n",
              "    .dataframe tbody tr th {\n",
              "        vertical-align: top;\n",
              "    }\n",
              "\n",
              "    .dataframe thead th {\n",
              "        text-align: right;\n",
              "    }\n",
              "</style>\n",
              "<table border=\"1\" class=\"dataframe\">\n",
              "  <thead>\n",
              "    <tr style=\"text-align: right;\">\n",
              "      <th></th>\n",
              "      <th>dteday</th>\n",
              "      <th>hr</th>\n",
              "      <th>weathersit</th>\n",
              "      <th>hum</th>\n",
              "      <th>windspeed</th>\n",
              "      <th>temp</th>\n",
              "      <th>atemp</th>\n",
              "      <th>cnt</th>\n",
              "      <th>weekday</th>\n",
              "    </tr>\n",
              "  </thead>\n",
              "  <tbody>\n",
              "    <tr>\n",
              "      <th>0</th>\n",
              "      <td>2011-01-01</td>\n",
              "      <td>0</td>\n",
              "      <td>clear</td>\n",
              "      <td>0.81</td>\n",
              "      <td>0.0</td>\n",
              "      <td>3.28</td>\n",
              "      <td>3.0014</td>\n",
              "      <td>16</td>\n",
              "      <td>Saturday</td>\n",
              "    </tr>\n",
              "    <tr>\n",
              "      <th>1</th>\n",
              "      <td>2011-01-01</td>\n",
              "      <td>1</td>\n",
              "      <td>clear</td>\n",
              "      <td>0.80</td>\n",
              "      <td>0.0</td>\n",
              "      <td>2.34</td>\n",
              "      <td>1.9982</td>\n",
              "      <td>40</td>\n",
              "      <td>Saturday</td>\n",
              "    </tr>\n",
              "    <tr>\n",
              "      <th>2</th>\n",
              "      <td>2011-01-01</td>\n",
              "      <td>2</td>\n",
              "      <td>clear</td>\n",
              "      <td>0.80</td>\n",
              "      <td>0.0</td>\n",
              "      <td>2.34</td>\n",
              "      <td>1.9982</td>\n",
              "      <td>32</td>\n",
              "      <td>Saturday</td>\n",
              "    </tr>\n",
              "    <tr>\n",
              "      <th>3</th>\n",
              "      <td>2011-01-01</td>\n",
              "      <td>3</td>\n",
              "      <td>clear</td>\n",
              "      <td>0.75</td>\n",
              "      <td>0.0</td>\n",
              "      <td>3.28</td>\n",
              "      <td>3.0014</td>\n",
              "      <td>13</td>\n",
              "      <td>Saturday</td>\n",
              "    </tr>\n",
              "    <tr>\n",
              "      <th>4</th>\n",
              "      <td>2011-01-01</td>\n",
              "      <td>4</td>\n",
              "      <td>clear</td>\n",
              "      <td>0.75</td>\n",
              "      <td>0.0</td>\n",
              "      <td>3.28</td>\n",
              "      <td>3.0014</td>\n",
              "      <td>1</td>\n",
              "      <td>Saturday</td>\n",
              "    </tr>\n",
              "  </tbody>\n",
              "</table>\n",
              "</div>"
            ],
            "text/plain": [
              "      dteday  hr weathersit   hum  windspeed  temp   atemp  cnt   weekday\n",
              "0 2011-01-01   0      clear  0.81        0.0  3.28  3.0014   16  Saturday\n",
              "1 2011-01-01   1      clear  0.80        0.0  2.34  1.9982   40  Saturday\n",
              "2 2011-01-01   2      clear  0.80        0.0  2.34  1.9982   32  Saturday\n",
              "3 2011-01-01   3      clear  0.75        0.0  3.28  3.0014   13  Saturday\n",
              "4 2011-01-01   4      clear  0.75        0.0  3.28  3.0014    1  Saturday"
            ]
          },
          "metadata": {
            "tags": []
          },
          "execution_count": 4
        }
      ]
    },
    {
      "cell_type": "markdown",
      "metadata": {
        "id": "E13bJSNDD6nZ"
      },
      "source": [
        "## *b-Visulisation de données :*"
      ]
    },
    {
      "cell_type": "markdown",
      "metadata": {
        "id": "Nae-nb2WELei"
      },
      "source": [
        "Premiére analyse graphique ci-dessous de la variable cnt avec des boxplots montre qu'il y'a beaucoup d'outliers"
      ]
    },
    {
      "cell_type": "code",
      "metadata": {
        "colab": {
          "base_uri": "https://localhost:8080/",
          "height": 1000
        },
        "id": "4bxGzb4wEDfy",
        "outputId": "d398c0b1-980b-4c04-e02f-6d5eb381a0c7"
      },
      "source": [
        "\n",
        "data.boxplot(column= 'cnt', by='weathersit', figsize= (7,7));\n",
        "data.boxplot(column= 'cnt', by='hr', figsize= (10,10));\n",
        "plt.legend();"
      ],
      "execution_count": null,
      "outputs": [
        {
          "output_type": "stream",
          "text": [
            "/usr/local/lib/python3.7/dist-packages/numpy/core/_asarray.py:83: VisibleDeprecationWarning: Creating an ndarray from ragged nested sequences (which is a list-or-tuple of lists-or-tuples-or ndarrays with different lengths or shapes) is deprecated. If you meant to do this, you must specify 'dtype=object' when creating the ndarray\n",
            "  return array(a, dtype, copy=False, order=order)\n",
            "/usr/local/lib/python3.7/dist-packages/numpy/core/_asarray.py:83: VisibleDeprecationWarning: Creating an ndarray from ragged nested sequences (which is a list-or-tuple of lists-or-tuples-or ndarrays with different lengths or shapes) is deprecated. If you meant to do this, you must specify 'dtype=object' when creating the ndarray\n",
            "  return array(a, dtype, copy=False, order=order)\n",
            "No handles with labels found to put in legend.\n"
          ],
          "name": "stderr"
        },
        {
          "output_type": "display_data",
          "data": {
            "image/png": "[encoded data removed]",
            "text/plain": [
              "<Figure size 504x504 with 1 Axes>"
            ]
          },
          "metadata": {
            "tags": [],
            "needs_background": "light"
          }
        },
        {
          "output_type": "display_data",
          "data": {
            "image/png": "[encoded data removed]",
            "text/plain": [
              "<Figure size 720x720 with 1 Axes>"
            ]
          },
          "metadata": {
            "tags": [],
            "needs_background": "light"
          }
        }
      ]
    },
    {
      "cell_type": "markdown",
      "metadata": {
        "id": "XsdbfKilFJN7"
      },
      "source": [
        "Le graphe ci-dessous affiche le décompte du nombre de vélos utilisés par heure sur toute l'année . On voit clairement l'évolution du décompte de vélos pendant la plage horaire    [8h - 20h]"
      ]
    },
    {
      "cell_type": "code",
      "metadata": {
        "colab": {
          "base_uri": "https://localhost:8080/",
          "height": 621
        },
        "id": "DgZWxybLE-2S",
        "outputId": "f01a70d5-d297-4a11-e9ec-6c2dba141e17"
      },
      "source": [
        "plt.figure( figsize= (10, 10) )\n",
        "plt.bar(data.hr, data.cnt, width = 0.6, label = \"cnt\")\n",
        "plt.xlabel('hr')\n",
        "plt.ylabel('cnt')\n",
        "plt.title(\"décompte du nombre de vélos utilisés par heure\")\n",
        "plt.legend();"
      ],
      "execution_count": null,
      "outputs": [
        {
          "output_type": "display_data",
          "data": {
            "image/png": "[encoded data removed]",
            "text/plain": [
              "<Figure size 720x720 with 1 Axes>"
            ]
          },
          "metadata": {
            "tags": [],
            "needs_background": "light"
          }
        }
      ]
    },
    {
      "cell_type": "markdown",
      "metadata": {
        "id": "i4-y-b0HZRvr"
      },
      "source": [
        "**1.2.Aprés Aggrégation  des données par jour**"
      ]
    },
    {
      "cell_type": "markdown",
      "metadata": {
        "id": "fPK2McHa0X6-"
      },
      "source": [
        "1.2.1.Aggrégation des données par jour de l'année"
      ]
    },
    {
      "cell_type": "markdown",
      "metadata": {
        "id": "o810cmqvtpvK"
      },
      "source": [
        "Nous allons maintenant aggréer les données par jour de l'année , en utilsant un groupby sur 'dteday' , le nouveau jeu de données est nommé 'data_jour_annee'"
      ]
    },
    {
      "cell_type": "code",
      "metadata": {
        "colab": {
          "base_uri": "https://localhost:8080/",
          "height": 455
        },
        "id": "dOhQ3B-hZij5",
        "outputId": "f0b982f0-5621-4b61-a3ad-b02b10a8c210"
      },
      "source": [
        "#modalitie_weathersit renvoie la modalité de weathersit pour chaque 24h\n",
        "\n",
        "modalitie_weathersit =  lambda weathersit: weathersit.value_counts().index[0]\n",
        "\n",
        "# fonction qui passera en argument de agg et qui utilise la moyenne et somme pour les variables quantitatives\n",
        "functions_to_apply = {\n",
        "    \n",
        "    'weathersit' : modalitie_weathersit,\n",
        "    'hum' : 'mean',\n",
        "    'windspeed' : 'mean',\n",
        "    'temp' : 'mean',\n",
        "    'atemp' : 'mean',\n",
        "    'cnt' : 'sum'\n",
        "  \n",
        "}\n",
        "#le nouveau jeu de données par jour de l'année est nommé 'data_jour_annee' \n",
        "data_jour_annee = data.groupby('dteday').agg(functions_to_apply)\n",
        "\n",
        "data_jour_annee\n"
      ],
      "execution_count": null,
      "outputs": [
        {
          "output_type": "execute_result",
          "data": {
            "text/html": [
              "<div>\n",
              "<style scoped>\n",
              "    .dataframe tbody tr th:only-of-type {\n",
              "        vertical-align: middle;\n",
              "    }\n",
              "\n",
              "    .dataframe tbody tr th {\n",
              "        vertical-align: top;\n",
              "    }\n",
              "\n",
              "    .dataframe thead th {\n",
              "        text-align: right;\n",
              "    }\n",
              "</style>\n",
              "<table border=\"1\" class=\"dataframe\">\n",
              "  <thead>\n",
              "    <tr style=\"text-align: right;\">\n",
              "      <th></th>\n",
              "      <th>weathersit</th>\n",
              "      <th>hum</th>\n",
              "      <th>windspeed</th>\n",
              "      <th>temp</th>\n",
              "      <th>atemp</th>\n",
              "      <th>cnt</th>\n",
              "    </tr>\n",
              "    <tr>\n",
              "      <th>dteday</th>\n",
              "      <th></th>\n",
              "      <th></th>\n",
              "      <th></th>\n",
              "      <th></th>\n",
              "      <th></th>\n",
              "      <th></th>\n",
              "    </tr>\n",
              "  </thead>\n",
              "  <tbody>\n",
              "    <tr>\n",
              "      <th>2011-01-01</th>\n",
              "      <td>clear</td>\n",
              "      <td>0.805833</td>\n",
              "      <td>10.749871</td>\n",
              "      <td>8.175833</td>\n",
              "      <td>7.999250</td>\n",
              "      <td>985</td>\n",
              "    </tr>\n",
              "    <tr>\n",
              "      <th>2011-01-02</th>\n",
              "      <td>cloudy</td>\n",
              "      <td>0.696087</td>\n",
              "      <td>16.652122</td>\n",
              "      <td>9.083478</td>\n",
              "      <td>7.346783</td>\n",
              "      <td>801</td>\n",
              "    </tr>\n",
              "    <tr>\n",
              "      <th>2011-01-03</th>\n",
              "      <td>clear</td>\n",
              "      <td>0.437273</td>\n",
              "      <td>16.636709</td>\n",
              "      <td>1.229091</td>\n",
              "      <td>-3.499300</td>\n",
              "      <td>1349</td>\n",
              "    </tr>\n",
              "    <tr>\n",
              "      <th>2011-01-04</th>\n",
              "      <td>clear</td>\n",
              "      <td>0.590435</td>\n",
              "      <td>10.739809</td>\n",
              "      <td>1.400000</td>\n",
              "      <td>-1.999965</td>\n",
              "      <td>1562</td>\n",
              "    </tr>\n",
              "    <tr>\n",
              "      <th>2011-01-05</th>\n",
              "      <td>clear</td>\n",
              "      <td>0.436957</td>\n",
              "      <td>12.522300</td>\n",
              "      <td>2.666957</td>\n",
              "      <td>-0.868209</td>\n",
              "      <td>1600</td>\n",
              "    </tr>\n",
              "    <tr>\n",
              "      <th>...</th>\n",
              "      <td>...</td>\n",
              "      <td>...</td>\n",
              "      <td>...</td>\n",
              "      <td>...</td>\n",
              "      <td>...</td>\n",
              "      <td>...</td>\n",
              "    </tr>\n",
              "    <tr>\n",
              "      <th>2012-12-27</th>\n",
              "      <td>cloudy</td>\n",
              "      <td>0.652917</td>\n",
              "      <td>23.458933</td>\n",
              "      <td>3.945833</td>\n",
              "      <td>-1.041650</td>\n",
              "      <td>2114</td>\n",
              "    </tr>\n",
              "    <tr>\n",
              "      <th>2012-12-28</th>\n",
              "      <td>cloudy</td>\n",
              "      <td>0.590000</td>\n",
              "      <td>10.416546</td>\n",
              "      <td>3.906667</td>\n",
              "      <td>0.833025</td>\n",
              "      <td>3095</td>\n",
              "    </tr>\n",
              "    <tr>\n",
              "      <th>2012-12-29</th>\n",
              "      <td>cloudy</td>\n",
              "      <td>0.752917</td>\n",
              "      <td>8.333683</td>\n",
              "      <td>3.906667</td>\n",
              "      <td>-0.001600</td>\n",
              "      <td>1341</td>\n",
              "    </tr>\n",
              "    <tr>\n",
              "      <th>2012-12-30</th>\n",
              "      <td>clear</td>\n",
              "      <td>0.483333</td>\n",
              "      <td>23.500529</td>\n",
              "      <td>4.024167</td>\n",
              "      <td>-0.707800</td>\n",
              "      <td>1796</td>\n",
              "    </tr>\n",
              "    <tr>\n",
              "      <th>2012-12-31</th>\n",
              "      <td>clear</td>\n",
              "      <td>0.577500</td>\n",
              "      <td>10.374671</td>\n",
              "      <td>2.144167</td>\n",
              "      <td>-1.249825</td>\n",
              "      <td>2729</td>\n",
              "    </tr>\n",
              "  </tbody>\n",
              "</table>\n",
              "<p>731 rows × 6 columns</p>\n",
              "</div>"
            ],
            "text/plain": [
              "           weathersit       hum  windspeed      temp     atemp   cnt\n",
              "dteday                                                              \n",
              "2011-01-01      clear  0.805833  10.749871  8.175833  7.999250   985\n",
              "2011-01-02     cloudy  0.696087  16.652122  9.083478  7.346783   801\n",
              "2011-01-03      clear  0.437273  16.636709  1.229091 -3.499300  1349\n",
              "2011-01-04      clear  0.590435  10.739809  1.400000 -1.999965  1562\n",
              "2011-01-05      clear  0.436957  12.522300  2.666957 -0.868209  1600\n",
              "...               ...       ...        ...       ...       ...   ...\n",
              "2012-12-27     cloudy  0.652917  23.458933  3.945833 -1.041650  2114\n",
              "2012-12-28     cloudy  0.590000  10.416546  3.906667  0.833025  3095\n",
              "2012-12-29     cloudy  0.752917   8.333683  3.906667 -0.001600  1341\n",
              "2012-12-30      clear  0.483333  23.500529  4.024167 -0.707800  1796\n",
              "2012-12-31      clear  0.577500  10.374671  2.144167 -1.249825  2729\n",
              "\n",
              "[731 rows x 6 columns]"
            ]
          },
          "metadata": {
            "tags": []
          },
          "execution_count": 7
        }
      ]
    },
    {
      "cell_type": "code",
      "metadata": {
        "id": "rzHIYDuvwMc9"
      },
      "source": [
        ""
      ],
      "execution_count": null,
      "outputs": []
    },
    {
      "cell_type": "code",
      "metadata": {
        "colab": {
          "base_uri": "https://localhost:8080/",
          "height": 300
        },
        "id": "7IyHsQMWuo7E",
        "outputId": "590de9f6-7fc2-41b7-a58d-aab24b99c80d"
      },
      "source": [
        "# déscription des données\n",
        "data_jour_annee.describe()"
      ],
      "execution_count": null,
      "outputs": [
        {
          "output_type": "execute_result",
          "data": {
            "text/html": [
              "<div>\n",
              "<style scoped>\n",
              "    .dataframe tbody tr th:only-of-type {\n",
              "        vertical-align: middle;\n",
              "    }\n",
              "\n",
              "    .dataframe tbody tr th {\n",
              "        vertical-align: top;\n",
              "    }\n",
              "\n",
              "    .dataframe thead th {\n",
              "        text-align: right;\n",
              "    }\n",
              "</style>\n",
              "<table border=\"1\" class=\"dataframe\">\n",
              "  <thead>\n",
              "    <tr style=\"text-align: right;\">\n",
              "      <th></th>\n",
              "      <th>hum</th>\n",
              "      <th>windspeed</th>\n",
              "      <th>temp</th>\n",
              "      <th>atemp</th>\n",
              "      <th>cnt</th>\n",
              "    </tr>\n",
              "  </thead>\n",
              "  <tbody>\n",
              "    <tr>\n",
              "      <th>count</th>\n",
              "      <td>731.000000</td>\n",
              "      <td>731.000000</td>\n",
              "      <td>731.000000</td>\n",
              "      <td>731.000000</td>\n",
              "      <td>731.000000</td>\n",
              "    </tr>\n",
              "    <tr>\n",
              "      <th>mean</th>\n",
              "      <td>0.627894</td>\n",
              "      <td>12.762577</td>\n",
              "      <td>15.283085</td>\n",
              "      <td>15.307363</td>\n",
              "      <td>4504.348837</td>\n",
              "    </tr>\n",
              "    <tr>\n",
              "      <th>std</th>\n",
              "      <td>0.142429</td>\n",
              "      <td>5.192357</td>\n",
              "      <td>8.603397</td>\n",
              "      <td>10.755437</td>\n",
              "      <td>1937.211452</td>\n",
              "    </tr>\n",
              "    <tr>\n",
              "      <th>min</th>\n",
              "      <td>0.000000</td>\n",
              "      <td>1.500242</td>\n",
              "      <td>-5.220870</td>\n",
              "      <td>-10.781409</td>\n",
              "      <td>22.000000</td>\n",
              "    </tr>\n",
              "    <tr>\n",
              "      <th>25%</th>\n",
              "      <td>0.520000</td>\n",
              "      <td>9.041650</td>\n",
              "      <td>7.842917</td>\n",
              "      <td>6.297604</td>\n",
              "      <td>3152.000000</td>\n",
              "    </tr>\n",
              "    <tr>\n",
              "      <th>50%</th>\n",
              "      <td>0.626667</td>\n",
              "      <td>12.125325</td>\n",
              "      <td>15.421667</td>\n",
              "      <td>16.124400</td>\n",
              "      <td>4548.000000</td>\n",
              "    </tr>\n",
              "    <tr>\n",
              "      <th>75%</th>\n",
              "      <td>0.730208</td>\n",
              "      <td>15.625377</td>\n",
              "      <td>22.804583</td>\n",
              "      <td>24.167738</td>\n",
              "      <td>5956.000000</td>\n",
              "    </tr>\n",
              "    <tr>\n",
              "      <th>max</th>\n",
              "      <td>0.972500</td>\n",
              "      <td>33.999988</td>\n",
              "      <td>32.498333</td>\n",
              "      <td>39.499125</td>\n",
              "      <td>8714.000000</td>\n",
              "    </tr>\n",
              "  </tbody>\n",
              "</table>\n",
              "</div>"
            ],
            "text/plain": [
              "              hum   windspeed        temp       atemp          cnt\n",
              "count  731.000000  731.000000  731.000000  731.000000   731.000000\n",
              "mean     0.627894   12.762577   15.283085   15.307363  4504.348837\n",
              "std      0.142429    5.192357    8.603397   10.755437  1937.211452\n",
              "min      0.000000    1.500242   -5.220870  -10.781409    22.000000\n",
              "25%      0.520000    9.041650    7.842917    6.297604  3152.000000\n",
              "50%      0.626667   12.125325   15.421667   16.124400  4548.000000\n",
              "75%      0.730208   15.625377   22.804583   24.167738  5956.000000\n",
              "max      0.972500   33.999988   32.498333   39.499125  8714.000000"
            ]
          },
          "metadata": {
            "tags": []
          },
          "execution_count": 8
        }
      ]
    },
    {
      "cell_type": "code",
      "metadata": {
        "colab": {
          "base_uri": "https://localhost:8080/",
          "height": 537
        },
        "id": "8A4OIaHlvObo",
        "outputId": "b4513f05-8270-468b-fe8a-1fd0c9a9d735"
      },
      "source": [
        "data_jour_annee.boxplot(column= 'cnt', by='weathersit', figsize= (7,7));"
      ],
      "execution_count": null,
      "outputs": [
        {
          "output_type": "stream",
          "text": [
            "/usr/local/lib/python3.7/dist-packages/numpy/core/_asarray.py:83: VisibleDeprecationWarning: Creating an ndarray from ragged nested sequences (which is a list-or-tuple of lists-or-tuples-or ndarrays with different lengths or shapes) is deprecated. If you meant to do this, you must specify 'dtype=object' when creating the ndarray\n",
            "  return array(a, dtype, copy=False, order=order)\n"
          ],
          "name": "stderr"
        },
        {
          "output_type": "display_data",
          "data": {
            "image/png": "[encoded data removed]",
            "text/plain": [
              "<Figure size 504x504 with 1 Axes>"
            ]
          },
          "metadata": {
            "tags": [],
            "needs_background": "light"
          }
        }
      ]
    },
    {
      "cell_type": "markdown",
      "metadata": {
        "id": "4mO5KRJJv-Aw"
      },
      "source": [
        "Aprés aggrégation des données par jour de l'année on constate que le graphe boxplot de 'cnt' par 'weathersit'  ne contient plus d'outliers"
      ]
    },
    {
      "cell_type": "markdown",
      "metadata": {
        "id": "o17FlBzWeTyU"
      },
      "source": [
        "**A-Analyse des liaisons entre les variables**"
      ]
    },
    {
      "cell_type": "markdown",
      "metadata": {
        "id": "UeEcMEftei1R"
      },
      "source": [
        "Nous allons maintenant étudier la liaison entre les variables quantitatives du jeu de données dadata_jour_annee a l'aide de la matrice de corrélation. D'aprés les résultats ci-dessous il existe une corrélation considérable entre cnt et temp et aussi entre cnt et atemp"
      ]
    },
    {
      "cell_type": "code",
      "metadata": {
        "colab": {
          "base_uri": "https://localhost:8080/",
          "height": 206
        },
        "id": "bFfrOQFyewgW",
        "outputId": "29472694-f2b9-4978-d369-8ffa73950054"
      },
      "source": [
        "# corrélation considérable entre cnt et temp (pearson_coeff = 0.62)  et aussi entre cnt et atemp (pearson_coeff = 0.63)\n",
        "data_jour_annee.corr()"
      ],
      "execution_count": null,
      "outputs": [
        {
          "output_type": "execute_result",
          "data": {
            "text/html": [
              "<div>\n",
              "<style scoped>\n",
              "    .dataframe tbody tr th:only-of-type {\n",
              "        vertical-align: middle;\n",
              "    }\n",
              "\n",
              "    .dataframe tbody tr th {\n",
              "        vertical-align: top;\n",
              "    }\n",
              "\n",
              "    .dataframe thead th {\n",
              "        text-align: right;\n",
              "    }\n",
              "</style>\n",
              "<table border=\"1\" class=\"dataframe\">\n",
              "  <thead>\n",
              "    <tr style=\"text-align: right;\">\n",
              "      <th></th>\n",
              "      <th>hum</th>\n",
              "      <th>windspeed</th>\n",
              "      <th>temp</th>\n",
              "      <th>atemp</th>\n",
              "      <th>cnt</th>\n",
              "    </tr>\n",
              "  </thead>\n",
              "  <tbody>\n",
              "    <tr>\n",
              "      <th>hum</th>\n",
              "      <td>1.000000</td>\n",
              "      <td>-0.248489</td>\n",
              "      <td>0.126963</td>\n",
              "      <td>0.139988</td>\n",
              "      <td>-0.100659</td>\n",
              "    </tr>\n",
              "    <tr>\n",
              "      <th>windspeed</th>\n",
              "      <td>-0.248489</td>\n",
              "      <td>1.000000</td>\n",
              "      <td>-0.157944</td>\n",
              "      <td>-0.183643</td>\n",
              "      <td>-0.234545</td>\n",
              "    </tr>\n",
              "    <tr>\n",
              "      <th>temp</th>\n",
              "      <td>0.126963</td>\n",
              "      <td>-0.157944</td>\n",
              "      <td>1.000000</td>\n",
              "      <td>0.991702</td>\n",
              "      <td>0.627494</td>\n",
              "    </tr>\n",
              "    <tr>\n",
              "      <th>atemp</th>\n",
              "      <td>0.139988</td>\n",
              "      <td>-0.183643</td>\n",
              "      <td>0.991702</td>\n",
              "      <td>1.000000</td>\n",
              "      <td>0.631066</td>\n",
              "    </tr>\n",
              "    <tr>\n",
              "      <th>cnt</th>\n",
              "      <td>-0.100659</td>\n",
              "      <td>-0.234545</td>\n",
              "      <td>0.627494</td>\n",
              "      <td>0.631066</td>\n",
              "      <td>1.000000</td>\n",
              "    </tr>\n",
              "  </tbody>\n",
              "</table>\n",
              "</div>"
            ],
            "text/plain": [
              "                hum  windspeed      temp     atemp       cnt\n",
              "hum        1.000000  -0.248489  0.126963  0.139988 -0.100659\n",
              "windspeed -0.248489   1.000000 -0.157944 -0.183643 -0.234545\n",
              "temp       0.126963  -0.157944  1.000000  0.991702  0.627494\n",
              "atemp      0.139988  -0.183643  0.991702  1.000000  0.631066\n",
              "cnt       -0.100659  -0.234545  0.627494  0.631066  1.000000"
            ]
          },
          "metadata": {
            "tags": []
          },
          "execution_count": 10
        }
      ]
    },
    {
      "cell_type": "code",
      "metadata": {
        "colab": {
          "base_uri": "https://localhost:8080/",
          "height": 112
        },
        "id": "M5kwFkNej9Qa",
        "outputId": "d4bda937-95c0-4683-b5f9-6a438c7cffdf"
      },
      "source": [
        "pd.DataFrame(pearsonr(data_jour_annee['temp'], data_jour_annee['cnt']), index=['pearson_coeff','p-value'], columns=['resultat_test'])\n"
      ],
      "execution_count": null,
      "outputs": [
        {
          "output_type": "execute_result",
          "data": {
            "text/html": [
              "<div>\n",
              "<style scoped>\n",
              "    .dataframe tbody tr th:only-of-type {\n",
              "        vertical-align: middle;\n",
              "    }\n",
              "\n",
              "    .dataframe tbody tr th {\n",
              "        vertical-align: top;\n",
              "    }\n",
              "\n",
              "    .dataframe thead th {\n",
              "        text-align: right;\n",
              "    }\n",
              "</style>\n",
              "<table border=\"1\" class=\"dataframe\">\n",
              "  <thead>\n",
              "    <tr style=\"text-align: right;\">\n",
              "      <th></th>\n",
              "      <th>resultat_test</th>\n",
              "    </tr>\n",
              "  </thead>\n",
              "  <tbody>\n",
              "    <tr>\n",
              "      <th>pearson_coeff</th>\n",
              "      <td>6.274940e-01</td>\n",
              "    </tr>\n",
              "    <tr>\n",
              "      <th>p-value</th>\n",
              "      <td>2.810632e-81</td>\n",
              "    </tr>\n",
              "  </tbody>\n",
              "</table>\n",
              "</div>"
            ],
            "text/plain": [
              "               resultat_test\n",
              "pearson_coeff   6.274940e-01\n",
              "p-value         2.810632e-81"
            ]
          },
          "metadata": {
            "tags": []
          },
          "execution_count": 11
        }
      ]
    },
    {
      "cell_type": "code",
      "metadata": {
        "colab": {
          "base_uri": "https://localhost:8080/",
          "height": 112
        },
        "id": "aaRDRhXHkVCa",
        "outputId": "f7f4e948-ac6a-4f51-8713-3d7677060fdf"
      },
      "source": [
        "pd.DataFrame(pearsonr(data_jour_annee['atemp'], data_jour_annee['cnt']), index=['pearson_coeff','p-value'], columns=['resultat_test'])"
      ],
      "execution_count": null,
      "outputs": [
        {
          "output_type": "execute_result",
          "data": {
            "text/html": [
              "<div>\n",
              "<style scoped>\n",
              "    .dataframe tbody tr th:only-of-type {\n",
              "        vertical-align: middle;\n",
              "    }\n",
              "\n",
              "    .dataframe tbody tr th {\n",
              "        vertical-align: top;\n",
              "    }\n",
              "\n",
              "    .dataframe thead th {\n",
              "        text-align: right;\n",
              "    }\n",
              "</style>\n",
              "<table border=\"1\" class=\"dataframe\">\n",
              "  <thead>\n",
              "    <tr style=\"text-align: right;\">\n",
              "      <th></th>\n",
              "      <th>resultat_test</th>\n",
              "    </tr>\n",
              "  </thead>\n",
              "  <tbody>\n",
              "    <tr>\n",
              "      <th>pearson_coeff</th>\n",
              "      <td>6.310656e-01</td>\n",
              "    </tr>\n",
              "    <tr>\n",
              "      <th>p-value</th>\n",
              "      <td>1.854615e-82</td>\n",
              "    </tr>\n",
              "  </tbody>\n",
              "</table>\n",
              "</div>"
            ],
            "text/plain": [
              "               resultat_test\n",
              "pearson_coeff   6.310656e-01\n",
              "p-value         1.854615e-82"
            ]
          },
          "metadata": {
            "tags": []
          },
          "execution_count": 12
        }
      ]
    },
    {
      "cell_type": "markdown",
      "metadata": {
        "id": "cBla_d0dewNC"
      },
      "source": [
        "Intéressons nous maintenant a l'analyse de liaison entre cnt des 7 derniers jours et le cnt du lendemain , pour cela crions un nouveau dataframe data_derniers_jours qui ajoute 7 nouvelles colones cnt_j-1 , cnt_j-2 , cnt_j-3 ,cnt_j-4 , cnt_j-5 , cnt_j-6 et cnt_j-7"
      ]
    },
    {
      "cell_type": "code",
      "metadata": {
        "colab": {
          "base_uri": "https://localhost:8080/",
          "height": 238
        },
        "id": "jXvHa5y5ohU0",
        "outputId": "92461296-5a6b-412d-b733-399b1a733479"
      },
      "source": [
        "#prenons une copie de data_jour_annee\n",
        "data_derniers_jours = data_jour_annee.copy()\n",
        "data_derniers_jours.head()\n"
      ],
      "execution_count": null,
      "outputs": [
        {
          "output_type": "execute_result",
          "data": {
            "text/html": [
              "<div>\n",
              "<style scoped>\n",
              "    .dataframe tbody tr th:only-of-type {\n",
              "        vertical-align: middle;\n",
              "    }\n",
              "\n",
              "    .dataframe tbody tr th {\n",
              "        vertical-align: top;\n",
              "    }\n",
              "\n",
              "    .dataframe thead th {\n",
              "        text-align: right;\n",
              "    }\n",
              "</style>\n",
              "<table border=\"1\" class=\"dataframe\">\n",
              "  <thead>\n",
              "    <tr style=\"text-align: right;\">\n",
              "      <th></th>\n",
              "      <th>weathersit</th>\n",
              "      <th>hum</th>\n",
              "      <th>windspeed</th>\n",
              "      <th>temp</th>\n",
              "      <th>atemp</th>\n",
              "      <th>cnt</th>\n",
              "    </tr>\n",
              "    <tr>\n",
              "      <th>dteday</th>\n",
              "      <th></th>\n",
              "      <th></th>\n",
              "      <th></th>\n",
              "      <th></th>\n",
              "      <th></th>\n",
              "      <th></th>\n",
              "    </tr>\n",
              "  </thead>\n",
              "  <tbody>\n",
              "    <tr>\n",
              "      <th>2011-01-01</th>\n",
              "      <td>clear</td>\n",
              "      <td>0.805833</td>\n",
              "      <td>10.749871</td>\n",
              "      <td>8.175833</td>\n",
              "      <td>7.999250</td>\n",
              "      <td>985</td>\n",
              "    </tr>\n",
              "    <tr>\n",
              "      <th>2011-01-02</th>\n",
              "      <td>cloudy</td>\n",
              "      <td>0.696087</td>\n",
              "      <td>16.652122</td>\n",
              "      <td>9.083478</td>\n",
              "      <td>7.346783</td>\n",
              "      <td>801</td>\n",
              "    </tr>\n",
              "    <tr>\n",
              "      <th>2011-01-03</th>\n",
              "      <td>clear</td>\n",
              "      <td>0.437273</td>\n",
              "      <td>16.636709</td>\n",
              "      <td>1.229091</td>\n",
              "      <td>-3.499300</td>\n",
              "      <td>1349</td>\n",
              "    </tr>\n",
              "    <tr>\n",
              "      <th>2011-01-04</th>\n",
              "      <td>clear</td>\n",
              "      <td>0.590435</td>\n",
              "      <td>10.739809</td>\n",
              "      <td>1.400000</td>\n",
              "      <td>-1.999965</td>\n",
              "      <td>1562</td>\n",
              "    </tr>\n",
              "    <tr>\n",
              "      <th>2011-01-05</th>\n",
              "      <td>clear</td>\n",
              "      <td>0.436957</td>\n",
              "      <td>12.522300</td>\n",
              "      <td>2.666957</td>\n",
              "      <td>-0.868209</td>\n",
              "      <td>1600</td>\n",
              "    </tr>\n",
              "  </tbody>\n",
              "</table>\n",
              "</div>"
            ],
            "text/plain": [
              "           weathersit       hum  windspeed      temp     atemp   cnt\n",
              "dteday                                                              \n",
              "2011-01-01      clear  0.805833  10.749871  8.175833  7.999250   985\n",
              "2011-01-02     cloudy  0.696087  16.652122  9.083478  7.346783   801\n",
              "2011-01-03      clear  0.437273  16.636709  1.229091 -3.499300  1349\n",
              "2011-01-04      clear  0.590435  10.739809  1.400000 -1.999965  1562\n",
              "2011-01-05      clear  0.436957  12.522300  2.666957 -0.868209  1600"
            ]
          },
          "metadata": {
            "tags": []
          },
          "execution_count": 13
        }
      ]
    },
    {
      "cell_type": "code",
      "metadata": {
        "id": "C-UMN1eHmYFB",
        "colab": {
          "base_uri": "https://localhost:8080/",
          "height": 1000
        },
        "outputId": "a46ddea2-88c6-4fb9-934f-1bb4227b0ab3"
      },
      "source": [
        "#ajoutons 7 nouvelles colonnes cnt_j-1 , cnt_j-2 , cnt_j-3 ,cnt_j-4 , cnt_j-5 , cnt_j-6 et cnt_j-7 , il manquera quleques lignes dans ces colonnes qui sont a NA , on les remplacera par la moyenne de la colonne\n",
        "# intilisation des colonnes a nan\n",
        "data_derniers_jours['cnt_j_1'] = np.nan\n",
        "data_derniers_jours['cnt_j_2'] = np.nan\n",
        "data_derniers_jours['cnt_j_3'] = np.nan\n",
        "data_derniers_jours['cnt_j_4'] = np.nan\n",
        "data_derniers_jours['cnt_j_5'] = np.nan\n",
        "data_derniers_jours['cnt_j_6'] = np.nan\n",
        "data_derniers_jours['cnt_j_7'] = np.nan\n",
        "\n",
        "# récupération des 7 derniers jours\n",
        "data_derniers_jours['cnt_j_1'][1:] = data_derniers_jours.cnt[:-1]\n",
        "data_derniers_jours['cnt_j_2'][2:] = data_derniers_jours.cnt[0:-2]\n",
        "data_derniers_jours['cnt_j_3'][3:] = data_derniers_jours.cnt[0:-3]\n",
        "data_derniers_jours['cnt_j_4'][4:] = data_derniers_jours.cnt[0:-4]\n",
        "data_derniers_jours['cnt_j_5'][5:] = data_derniers_jours.cnt[0:-5]\n",
        "data_derniers_jours['cnt_j_6'][6:] = data_derniers_jours.cnt[0:-6]\n",
        "data_derniers_jours['cnt_j_7'][7:] = data_derniers_jours.cnt[0:-7]\n",
        "data_derniers_jours.head(10)\n",
        "\n"
      ],
      "execution_count": null,
      "outputs": [
        {
          "output_type": "stream",
          "text": [
            "/usr/local/lib/python3.7/dist-packages/ipykernel_launcher.py:12: SettingWithCopyWarning: \n",
            "A value is trying to be set on a copy of a slice from a DataFrame\n",
            "\n",
            "See the caveats in the documentation: https://pandas.pydata.org/pandas-docs/stable/user_guide/indexing.html#returning-a-view-versus-a-copy\n",
            "  if sys.path[0] == '':\n",
            "/usr/local/lib/python3.7/dist-packages/ipykernel_launcher.py:13: SettingWithCopyWarning: \n",
            "A value is trying to be set on a copy of a slice from a DataFrame\n",
            "\n",
            "See the caveats in the documentation: https://pandas.pydata.org/pandas-docs/stable/user_guide/indexing.html#returning-a-view-versus-a-copy\n",
            "  del sys.path[0]\n",
            "/usr/local/lib/python3.7/dist-packages/ipykernel_launcher.py:14: SettingWithCopyWarning: \n",
            "A value is trying to be set on a copy of a slice from a DataFrame\n",
            "\n",
            "See the caveats in the documentation: https://pandas.pydata.org/pandas-docs/stable/user_guide/indexing.html#returning-a-view-versus-a-copy\n",
            "  \n",
            "/usr/local/lib/python3.7/dist-packages/ipykernel_launcher.py:15: SettingWithCopyWarning: \n",
            "A value is trying to be set on a copy of a slice from a DataFrame\n",
            "\n",
            "See the caveats in the documentation: https://pandas.pydata.org/pandas-docs/stable/user_guide/indexing.html#returning-a-view-versus-a-copy\n",
            "  from ipykernel import kernelapp as app\n",
            "/usr/local/lib/python3.7/dist-packages/ipykernel_launcher.py:16: SettingWithCopyWarning: \n",
            "A value is trying to be set on a copy of a slice from a DataFrame\n",
            "\n",
            "See the caveats in the documentation: https://pandas.pydata.org/pandas-docs/stable/user_guide/indexing.html#returning-a-view-versus-a-copy\n",
            "  app.launch_new_instance()\n",
            "/usr/local/lib/python3.7/dist-packages/ipykernel_launcher.py:17: SettingWithCopyWarning: \n",
            "A value is trying to be set on a copy of a slice from a DataFrame\n",
            "\n",
            "See the caveats in the documentation: https://pandas.pydata.org/pandas-docs/stable/user_guide/indexing.html#returning-a-view-versus-a-copy\n",
            "/usr/local/lib/python3.7/dist-packages/ipykernel_launcher.py:18: SettingWithCopyWarning: \n",
            "A value is trying to be set on a copy of a slice from a DataFrame\n",
            "\n",
            "See the caveats in the documentation: https://pandas.pydata.org/pandas-docs/stable/user_guide/indexing.html#returning-a-view-versus-a-copy\n"
          ],
          "name": "stderr"
        },
        {
          "output_type": "execute_result",
          "data": {
            "text/html": [
              "<div>\n",
              "<style scoped>\n",
              "    .dataframe tbody tr th:only-of-type {\n",
              "        vertical-align: middle;\n",
              "    }\n",
              "\n",
              "    .dataframe tbody tr th {\n",
              "        vertical-align: top;\n",
              "    }\n",
              "\n",
              "    .dataframe thead th {\n",
              "        text-align: right;\n",
              "    }\n",
              "</style>\n",
              "<table border=\"1\" class=\"dataframe\">\n",
              "  <thead>\n",
              "    <tr style=\"text-align: right;\">\n",
              "      <th></th>\n",
              "      <th>weathersit</th>\n",
              "      <th>hum</th>\n",
              "      <th>windspeed</th>\n",
              "      <th>temp</th>\n",
              "      <th>atemp</th>\n",
              "      <th>cnt</th>\n",
              "      <th>cnt_j_1</th>\n",
              "      <th>cnt_j_2</th>\n",
              "      <th>cnt_j_3</th>\n",
              "      <th>cnt_j_4</th>\n",
              "      <th>cnt_j_5</th>\n",
              "      <th>cnt_j_6</th>\n",
              "      <th>cnt_j_7</th>\n",
              "    </tr>\n",
              "    <tr>\n",
              "      <th>dteday</th>\n",
              "      <th></th>\n",
              "      <th></th>\n",
              "      <th></th>\n",
              "      <th></th>\n",
              "      <th></th>\n",
              "      <th></th>\n",
              "      <th></th>\n",
              "      <th></th>\n",
              "      <th></th>\n",
              "      <th></th>\n",
              "      <th></th>\n",
              "      <th></th>\n",
              "      <th></th>\n",
              "    </tr>\n",
              "  </thead>\n",
              "  <tbody>\n",
              "    <tr>\n",
              "      <th>2011-01-01</th>\n",
              "      <td>clear</td>\n",
              "      <td>0.805833</td>\n",
              "      <td>10.749871</td>\n",
              "      <td>8.175833</td>\n",
              "      <td>7.999250</td>\n",
              "      <td>985</td>\n",
              "      <td>NaN</td>\n",
              "      <td>NaN</td>\n",
              "      <td>NaN</td>\n",
              "      <td>NaN</td>\n",
              "      <td>NaN</td>\n",
              "      <td>NaN</td>\n",
              "      <td>NaN</td>\n",
              "    </tr>\n",
              "    <tr>\n",
              "      <th>2011-01-02</th>\n",
              "      <td>cloudy</td>\n",
              "      <td>0.696087</td>\n",
              "      <td>16.652122</td>\n",
              "      <td>9.083478</td>\n",
              "      <td>7.346783</td>\n",
              "      <td>801</td>\n",
              "      <td>985.0</td>\n",
              "      <td>NaN</td>\n",
              "      <td>NaN</td>\n",
              "      <td>NaN</td>\n",
              "      <td>NaN</td>\n",
              "      <td>NaN</td>\n",
              "      <td>NaN</td>\n",
              "    </tr>\n",
              "    <tr>\n",
              "      <th>2011-01-03</th>\n",
              "      <td>clear</td>\n",
              "      <td>0.437273</td>\n",
              "      <td>16.636709</td>\n",
              "      <td>1.229091</td>\n",
              "      <td>-3.499300</td>\n",
              "      <td>1349</td>\n",
              "      <td>801.0</td>\n",
              "      <td>985.0</td>\n",
              "      <td>NaN</td>\n",
              "      <td>NaN</td>\n",
              "      <td>NaN</td>\n",
              "      <td>NaN</td>\n",
              "      <td>NaN</td>\n",
              "    </tr>\n",
              "    <tr>\n",
              "      <th>2011-01-04</th>\n",
              "      <td>clear</td>\n",
              "      <td>0.590435</td>\n",
              "      <td>10.739809</td>\n",
              "      <td>1.400000</td>\n",
              "      <td>-1.999965</td>\n",
              "      <td>1562</td>\n",
              "      <td>1349.0</td>\n",
              "      <td>801.0</td>\n",
              "      <td>985.0</td>\n",
              "      <td>NaN</td>\n",
              "      <td>NaN</td>\n",
              "      <td>NaN</td>\n",
              "      <td>NaN</td>\n",
              "    </tr>\n",
              "    <tr>\n",
              "      <th>2011-01-05</th>\n",
              "      <td>clear</td>\n",
              "      <td>0.436957</td>\n",
              "      <td>12.522300</td>\n",
              "      <td>2.666957</td>\n",
              "      <td>-0.868209</td>\n",
              "      <td>1600</td>\n",
              "      <td>1562.0</td>\n",
              "      <td>1349.0</td>\n",
              "      <td>801.0</td>\n",
              "      <td>985.0</td>\n",
              "      <td>NaN</td>\n",
              "      <td>NaN</td>\n",
              "      <td>NaN</td>\n",
              "    </tr>\n",
              "    <tr>\n",
              "      <th>2011-01-06</th>\n",
              "      <td>clear</td>\n",
              "      <td>0.518261</td>\n",
              "      <td>6.000870</td>\n",
              "      <td>1.604348</td>\n",
              "      <td>-0.608226</td>\n",
              "      <td>1606</td>\n",
              "      <td>1600.0</td>\n",
              "      <td>1562.0</td>\n",
              "      <td>1349.0</td>\n",
              "      <td>801.0</td>\n",
              "      <td>985.0</td>\n",
              "      <td>NaN</td>\n",
              "      <td>NaN</td>\n",
              "    </tr>\n",
              "    <tr>\n",
              "      <th>2011-01-07</th>\n",
              "      <td>cloudy</td>\n",
              "      <td>0.498696</td>\n",
              "      <td>11.304648</td>\n",
              "      <td>1.236522</td>\n",
              "      <td>-2.216617</td>\n",
              "      <td>1510</td>\n",
              "      <td>1606.0</td>\n",
              "      <td>1600.0</td>\n",
              "      <td>1562.0</td>\n",
              "      <td>1349.0</td>\n",
              "      <td>801.0</td>\n",
              "      <td>985.0</td>\n",
              "      <td>NaN</td>\n",
              "    </tr>\n",
              "    <tr>\n",
              "      <th>2011-01-08</th>\n",
              "      <td>clear</td>\n",
              "      <td>0.535833</td>\n",
              "      <td>17.875879</td>\n",
              "      <td>-0.245000</td>\n",
              "      <td>-5.291225</td>\n",
              "      <td>959</td>\n",
              "      <td>1510.0</td>\n",
              "      <td>1606.0</td>\n",
              "      <td>1600.0</td>\n",
              "      <td>1562.0</td>\n",
              "      <td>1349.0</td>\n",
              "      <td>801.0</td>\n",
              "      <td>985.0</td>\n",
              "    </tr>\n",
              "    <tr>\n",
              "      <th>2011-01-09</th>\n",
              "      <td>clear</td>\n",
              "      <td>0.434167</td>\n",
              "      <td>24.250650</td>\n",
              "      <td>-1.498333</td>\n",
              "      <td>-8.332450</td>\n",
              "      <td>822</td>\n",
              "      <td>959.0</td>\n",
              "      <td>1510.0</td>\n",
              "      <td>1606.0</td>\n",
              "      <td>1600.0</td>\n",
              "      <td>1562.0</td>\n",
              "      <td>1349.0</td>\n",
              "      <td>801.0</td>\n",
              "    </tr>\n",
              "    <tr>\n",
              "      <th>2011-01-10</th>\n",
              "      <td>clear</td>\n",
              "      <td>0.482917</td>\n",
              "      <td>14.958867</td>\n",
              "      <td>-0.910833</td>\n",
              "      <td>-6.041425</td>\n",
              "      <td>1321</td>\n",
              "      <td>822.0</td>\n",
              "      <td>959.0</td>\n",
              "      <td>1510.0</td>\n",
              "      <td>1606.0</td>\n",
              "      <td>1600.0</td>\n",
              "      <td>1562.0</td>\n",
              "      <td>1349.0</td>\n",
              "    </tr>\n",
              "  </tbody>\n",
              "</table>\n",
              "</div>"
            ],
            "text/plain": [
              "           weathersit       hum  windspeed  ...  cnt_j_5  cnt_j_6  cnt_j_7\n",
              "dteday                                      ...                           \n",
              "2011-01-01      clear  0.805833  10.749871  ...      NaN      NaN      NaN\n",
              "2011-01-02     cloudy  0.696087  16.652122  ...      NaN      NaN      NaN\n",
              "2011-01-03      clear  0.437273  16.636709  ...      NaN      NaN      NaN\n",
              "2011-01-04      clear  0.590435  10.739809  ...      NaN      NaN      NaN\n",
              "2011-01-05      clear  0.436957  12.522300  ...      NaN      NaN      NaN\n",
              "2011-01-06      clear  0.518261   6.000870  ...    985.0      NaN      NaN\n",
              "2011-01-07     cloudy  0.498696  11.304648  ...    801.0    985.0      NaN\n",
              "2011-01-08      clear  0.535833  17.875879  ...   1349.0    801.0    985.0\n",
              "2011-01-09      clear  0.434167  24.250650  ...   1562.0   1349.0    801.0\n",
              "2011-01-10      clear  0.482917  14.958867  ...   1600.0   1562.0   1349.0\n",
              "\n",
              "[10 rows x 13 columns]"
            ]
          },
          "metadata": {
            "tags": []
          },
          "execution_count": 14
        }
      ]
    },
    {
      "cell_type": "code",
      "metadata": {
        "colab": {
          "base_uri": "https://localhost:8080/",
          "height": 394
        },
        "id": "hnpwFpYJLc9-",
        "outputId": "060028e1-52a4-423b-9b25-e3667bf379fb"
      },
      "source": [
        "data_derniers_jours.tail(10)"
      ],
      "execution_count": null,
      "outputs": [
        {
          "output_type": "execute_result",
          "data": {
            "text/html": [
              "<div>\n",
              "<style scoped>\n",
              "    .dataframe tbody tr th:only-of-type {\n",
              "        vertical-align: middle;\n",
              "    }\n",
              "\n",
              "    .dataframe tbody tr th {\n",
              "        vertical-align: top;\n",
              "    }\n",
              "\n",
              "    .dataframe thead th {\n",
              "        text-align: right;\n",
              "    }\n",
              "</style>\n",
              "<table border=\"1\" class=\"dataframe\">\n",
              "  <thead>\n",
              "    <tr style=\"text-align: right;\">\n",
              "      <th></th>\n",
              "      <th>weathersit</th>\n",
              "      <th>hum</th>\n",
              "      <th>windspeed</th>\n",
              "      <th>temp</th>\n",
              "      <th>atemp</th>\n",
              "      <th>cnt</th>\n",
              "      <th>cnt_j_1</th>\n",
              "      <th>cnt_j_2</th>\n",
              "      <th>cnt_j_3</th>\n",
              "      <th>cnt_j_4</th>\n",
              "      <th>cnt_j_5</th>\n",
              "      <th>cnt_j_6</th>\n",
              "      <th>cnt_j_7</th>\n",
              "    </tr>\n",
              "    <tr>\n",
              "      <th>dteday</th>\n",
              "      <th></th>\n",
              "      <th></th>\n",
              "      <th></th>\n",
              "      <th></th>\n",
              "      <th></th>\n",
              "      <th></th>\n",
              "      <th></th>\n",
              "      <th></th>\n",
              "      <th></th>\n",
              "      <th></th>\n",
              "      <th></th>\n",
              "      <th></th>\n",
              "      <th></th>\n",
              "    </tr>\n",
              "  </thead>\n",
              "  <tbody>\n",
              "    <tr>\n",
              "      <th>2012-12-22</th>\n",
              "      <td>clear</td>\n",
              "      <td>0.441250</td>\n",
              "      <td>27.292171</td>\n",
              "      <td>4.494167</td>\n",
              "      <td>-0.416575</td>\n",
              "      <td>1749</td>\n",
              "      <td>3623.0</td>\n",
              "      <td>4128.0</td>\n",
              "      <td>5267.0</td>\n",
              "      <td>5557.0</td>\n",
              "      <td>4585.0</td>\n",
              "      <td>3786.0</td>\n",
              "      <td>5047.0</td>\n",
              "    </tr>\n",
              "    <tr>\n",
              "      <th>2012-12-23</th>\n",
              "      <td>clear</td>\n",
              "      <td>0.515417</td>\n",
              "      <td>8.916583</td>\n",
              "      <td>3.554167</td>\n",
              "      <td>1.125075</td>\n",
              "      <td>1787</td>\n",
              "      <td>1749.0</td>\n",
              "      <td>3623.0</td>\n",
              "      <td>4128.0</td>\n",
              "      <td>5267.0</td>\n",
              "      <td>5557.0</td>\n",
              "      <td>4585.0</td>\n",
              "      <td>3786.0</td>\n",
              "    </tr>\n",
              "    <tr>\n",
              "      <th>2012-12-24</th>\n",
              "      <td>snowy</td>\n",
              "      <td>0.791304</td>\n",
              "      <td>5.174439</td>\n",
              "      <td>2.871304</td>\n",
              "      <td>1.087400</td>\n",
              "      <td>920</td>\n",
              "      <td>1787.0</td>\n",
              "      <td>1749.0</td>\n",
              "      <td>3623.0</td>\n",
              "      <td>4128.0</td>\n",
              "      <td>5267.0</td>\n",
              "      <td>5557.0</td>\n",
              "      <td>4585.0</td>\n",
              "    </tr>\n",
              "    <tr>\n",
              "      <th>2012-12-25</th>\n",
              "      <td>cloudy</td>\n",
              "      <td>0.734783</td>\n",
              "      <td>11.304648</td>\n",
              "      <td>5.691304</td>\n",
              "      <td>3.434704</td>\n",
              "      <td>1013</td>\n",
              "      <td>920.0</td>\n",
              "      <td>1787.0</td>\n",
              "      <td>1749.0</td>\n",
              "      <td>3623.0</td>\n",
              "      <td>4128.0</td>\n",
              "      <td>5267.0</td>\n",
              "      <td>5557.0</td>\n",
              "    </tr>\n",
              "    <tr>\n",
              "      <th>2012-12-26</th>\n",
              "      <td>snowy</td>\n",
              "      <td>0.823333</td>\n",
              "      <td>21.208571</td>\n",
              "      <td>3.436667</td>\n",
              "      <td>-1.458000</td>\n",
              "      <td>441</td>\n",
              "      <td>1013.0</td>\n",
              "      <td>920.0</td>\n",
              "      <td>1787.0</td>\n",
              "      <td>1749.0</td>\n",
              "      <td>3623.0</td>\n",
              "      <td>4128.0</td>\n",
              "      <td>5267.0</td>\n",
              "    </tr>\n",
              "    <tr>\n",
              "      <th>2012-12-27</th>\n",
              "      <td>cloudy</td>\n",
              "      <td>0.652917</td>\n",
              "      <td>23.458933</td>\n",
              "      <td>3.945833</td>\n",
              "      <td>-1.041650</td>\n",
              "      <td>2114</td>\n",
              "      <td>441.0</td>\n",
              "      <td>1013.0</td>\n",
              "      <td>920.0</td>\n",
              "      <td>1787.0</td>\n",
              "      <td>1749.0</td>\n",
              "      <td>3623.0</td>\n",
              "      <td>4128.0</td>\n",
              "    </tr>\n",
              "    <tr>\n",
              "      <th>2012-12-28</th>\n",
              "      <td>cloudy</td>\n",
              "      <td>0.590000</td>\n",
              "      <td>10.416546</td>\n",
              "      <td>3.906667</td>\n",
              "      <td>0.833025</td>\n",
              "      <td>3095</td>\n",
              "      <td>2114.0</td>\n",
              "      <td>441.0</td>\n",
              "      <td>1013.0</td>\n",
              "      <td>920.0</td>\n",
              "      <td>1787.0</td>\n",
              "      <td>1749.0</td>\n",
              "      <td>3623.0</td>\n",
              "    </tr>\n",
              "    <tr>\n",
              "      <th>2012-12-29</th>\n",
              "      <td>cloudy</td>\n",
              "      <td>0.752917</td>\n",
              "      <td>8.333683</td>\n",
              "      <td>3.906667</td>\n",
              "      <td>-0.001600</td>\n",
              "      <td>1341</td>\n",
              "      <td>3095.0</td>\n",
              "      <td>2114.0</td>\n",
              "      <td>441.0</td>\n",
              "      <td>1013.0</td>\n",
              "      <td>920.0</td>\n",
              "      <td>1787.0</td>\n",
              "      <td>1749.0</td>\n",
              "    </tr>\n",
              "    <tr>\n",
              "      <th>2012-12-30</th>\n",
              "      <td>clear</td>\n",
              "      <td>0.483333</td>\n",
              "      <td>23.500529</td>\n",
              "      <td>4.024167</td>\n",
              "      <td>-0.707800</td>\n",
              "      <td>1796</td>\n",
              "      <td>1341.0</td>\n",
              "      <td>3095.0</td>\n",
              "      <td>2114.0</td>\n",
              "      <td>441.0</td>\n",
              "      <td>1013.0</td>\n",
              "      <td>920.0</td>\n",
              "      <td>1787.0</td>\n",
              "    </tr>\n",
              "    <tr>\n",
              "      <th>2012-12-31</th>\n",
              "      <td>clear</td>\n",
              "      <td>0.577500</td>\n",
              "      <td>10.374671</td>\n",
              "      <td>2.144167</td>\n",
              "      <td>-1.249825</td>\n",
              "      <td>2729</td>\n",
              "      <td>1796.0</td>\n",
              "      <td>1341.0</td>\n",
              "      <td>3095.0</td>\n",
              "      <td>2114.0</td>\n",
              "      <td>441.0</td>\n",
              "      <td>1013.0</td>\n",
              "      <td>920.0</td>\n",
              "    </tr>\n",
              "  </tbody>\n",
              "</table>\n",
              "</div>"
            ],
            "text/plain": [
              "           weathersit       hum  windspeed  ...  cnt_j_5  cnt_j_6  cnt_j_7\n",
              "dteday                                      ...                           \n",
              "2012-12-22      clear  0.441250  27.292171  ...   4585.0   3786.0   5047.0\n",
              "2012-12-23      clear  0.515417   8.916583  ...   5557.0   4585.0   3786.0\n",
              "2012-12-24      snowy  0.791304   5.174439  ...   5267.0   5557.0   4585.0\n",
              "2012-12-25     cloudy  0.734783  11.304648  ...   4128.0   5267.0   5557.0\n",
              "2012-12-26      snowy  0.823333  21.208571  ...   3623.0   4128.0   5267.0\n",
              "2012-12-27     cloudy  0.652917  23.458933  ...   1749.0   3623.0   4128.0\n",
              "2012-12-28     cloudy  0.590000  10.416546  ...   1787.0   1749.0   3623.0\n",
              "2012-12-29     cloudy  0.752917   8.333683  ...    920.0   1787.0   1749.0\n",
              "2012-12-30      clear  0.483333  23.500529  ...   1013.0    920.0   1787.0\n",
              "2012-12-31      clear  0.577500  10.374671  ...    441.0   1013.0    920.0\n",
              "\n",
              "[10 rows x 13 columns]"
            ]
          },
          "metadata": {
            "tags": []
          },
          "execution_count": 15
        }
      ]
    },
    {
      "cell_type": "code",
      "metadata": {
        "colab": {
          "base_uri": "https://localhost:8080/",
          "height": 300
        },
        "id": "8dWJ9v6y5Pk1",
        "outputId": "6c09ee62-62c2-4d4f-e43b-8039fed02766"
      },
      "source": [
        "data_derniers_jours.describe()"
      ],
      "execution_count": null,
      "outputs": [
        {
          "output_type": "execute_result",
          "data": {
            "text/html": [
              "<div>\n",
              "<style scoped>\n",
              "    .dataframe tbody tr th:only-of-type {\n",
              "        vertical-align: middle;\n",
              "    }\n",
              "\n",
              "    .dataframe tbody tr th {\n",
              "        vertical-align: top;\n",
              "    }\n",
              "\n",
              "    .dataframe thead th {\n",
              "        text-align: right;\n",
              "    }\n",
              "</style>\n",
              "<table border=\"1\" class=\"dataframe\">\n",
              "  <thead>\n",
              "    <tr style=\"text-align: right;\">\n",
              "      <th></th>\n",
              "      <th>hum</th>\n",
              "      <th>windspeed</th>\n",
              "      <th>temp</th>\n",
              "      <th>atemp</th>\n",
              "      <th>cnt</th>\n",
              "      <th>cnt_j_1</th>\n",
              "      <th>cnt_j_2</th>\n",
              "      <th>cnt_j_3</th>\n",
              "      <th>cnt_j_4</th>\n",
              "      <th>cnt_j_5</th>\n",
              "      <th>cnt_j_6</th>\n",
              "      <th>cnt_j_7</th>\n",
              "    </tr>\n",
              "  </thead>\n",
              "  <tbody>\n",
              "    <tr>\n",
              "      <th>count</th>\n",
              "      <td>731.000000</td>\n",
              "      <td>731.000000</td>\n",
              "      <td>731.000000</td>\n",
              "      <td>731.000000</td>\n",
              "      <td>731.000000</td>\n",
              "      <td>730.000000</td>\n",
              "      <td>729.000000</td>\n",
              "      <td>728.000000</td>\n",
              "      <td>727.000000</td>\n",
              "      <td>726.000000</td>\n",
              "      <td>725.000000</td>\n",
              "      <td>724.000000</td>\n",
              "    </tr>\n",
              "    <tr>\n",
              "      <th>mean</th>\n",
              "      <td>0.627894</td>\n",
              "      <td>12.762577</td>\n",
              "      <td>15.283085</td>\n",
              "      <td>15.307363</td>\n",
              "      <td>4504.348837</td>\n",
              "      <td>4506.780822</td>\n",
              "      <td>4510.499314</td>\n",
              "      <td>4514.853022</td>\n",
              "      <td>4516.806052</td>\n",
              "      <td>4520.115702</td>\n",
              "      <td>4525.742069</td>\n",
              "      <td>4530.593923</td>\n",
              "    </tr>\n",
              "    <tr>\n",
              "      <th>std</th>\n",
              "      <td>0.142429</td>\n",
              "      <td>5.192357</td>\n",
              "      <td>8.603397</td>\n",
              "      <td>10.755437</td>\n",
              "      <td>1937.211452</td>\n",
              "      <td>1937.422669</td>\n",
              "      <td>1936.144350</td>\n",
              "      <td>1933.901301</td>\n",
              "      <td>1934.514168</td>\n",
              "      <td>1933.787097</td>\n",
              "      <td>1929.166565</td>\n",
              "      <td>1926.068726</td>\n",
              "    </tr>\n",
              "    <tr>\n",
              "      <th>min</th>\n",
              "      <td>0.000000</td>\n",
              "      <td>1.500242</td>\n",
              "      <td>-5.220870</td>\n",
              "      <td>-10.781409</td>\n",
              "      <td>22.000000</td>\n",
              "      <td>22.000000</td>\n",
              "      <td>22.000000</td>\n",
              "      <td>22.000000</td>\n",
              "      <td>22.000000</td>\n",
              "      <td>22.000000</td>\n",
              "      <td>22.000000</td>\n",
              "      <td>22.000000</td>\n",
              "    </tr>\n",
              "    <tr>\n",
              "      <th>25%</th>\n",
              "      <td>0.520000</td>\n",
              "      <td>9.041650</td>\n",
              "      <td>7.842917</td>\n",
              "      <td>6.297604</td>\n",
              "      <td>3152.000000</td>\n",
              "      <td>3169.750000</td>\n",
              "      <td>3190.000000</td>\n",
              "      <td>3193.000000</td>\n",
              "      <td>3199.000000</td>\n",
              "      <td>3206.500000</td>\n",
              "      <td>3214.000000</td>\n",
              "      <td>3214.000000</td>\n",
              "    </tr>\n",
              "    <tr>\n",
              "      <th>50%</th>\n",
              "      <td>0.626667</td>\n",
              "      <td>12.125325</td>\n",
              "      <td>15.421667</td>\n",
              "      <td>16.124400</td>\n",
              "      <td>4548.000000</td>\n",
              "      <td>4548.500000</td>\n",
              "      <td>4549.000000</td>\n",
              "      <td>4551.000000</td>\n",
              "      <td>4553.000000</td>\n",
              "      <td>4558.000000</td>\n",
              "      <td>4563.000000</td>\n",
              "      <td>4566.000000</td>\n",
              "    </tr>\n",
              "    <tr>\n",
              "      <th>75%</th>\n",
              "      <td>0.730208</td>\n",
              "      <td>15.625377</td>\n",
              "      <td>22.804583</td>\n",
              "      <td>24.167738</td>\n",
              "      <td>5956.000000</td>\n",
              "      <td>5966.000000</td>\n",
              "      <td>5976.000000</td>\n",
              "      <td>5978.500000</td>\n",
              "      <td>5981.000000</td>\n",
              "      <td>5983.500000</td>\n",
              "      <td>5986.000000</td>\n",
              "      <td>5987.500000</td>\n",
              "    </tr>\n",
              "    <tr>\n",
              "      <th>max</th>\n",
              "      <td>0.972500</td>\n",
              "      <td>33.999988</td>\n",
              "      <td>32.498333</td>\n",
              "      <td>39.499125</td>\n",
              "      <td>8714.000000</td>\n",
              "      <td>8714.000000</td>\n",
              "      <td>8714.000000</td>\n",
              "      <td>8714.000000</td>\n",
              "      <td>8714.000000</td>\n",
              "      <td>8714.000000</td>\n",
              "      <td>8714.000000</td>\n",
              "      <td>8714.000000</td>\n",
              "    </tr>\n",
              "  </tbody>\n",
              "</table>\n",
              "</div>"
            ],
            "text/plain": [
              "              hum   windspeed  ...      cnt_j_6      cnt_j_7\n",
              "count  731.000000  731.000000  ...   725.000000   724.000000\n",
              "mean     0.627894   12.762577  ...  4525.742069  4530.593923\n",
              "std      0.142429    5.192357  ...  1929.166565  1926.068726\n",
              "min      0.000000    1.500242  ...    22.000000    22.000000\n",
              "25%      0.520000    9.041650  ...  3214.000000  3214.000000\n",
              "50%      0.626667   12.125325  ...  4563.000000  4566.000000\n",
              "75%      0.730208   15.625377  ...  5986.000000  5987.500000\n",
              "max      0.972500   33.999988  ...  8714.000000  8714.000000\n",
              "\n",
              "[8 rows x 12 columns]"
            ]
          },
          "metadata": {
            "tags": []
          },
          "execution_count": 16
        }
      ]
    },
    {
      "cell_type": "code",
      "metadata": {
        "colab": {
          "base_uri": "https://localhost:8080/",
          "height": 394
        },
        "id": "EmyV8hWk1vDC",
        "outputId": "1adf097c-dc5d-422b-93f9-0b5313fb6dfd"
      },
      "source": [
        "# remplaçons les valeurs zéro par la moyenne \n",
        "data_derniers_jours = data_derniers_jours.fillna(data_derniers_jours.mean())\n",
        "data_derniers_jours.head(10)"
      ],
      "execution_count": null,
      "outputs": [
        {
          "output_type": "execute_result",
          "data": {
            "text/html": [
              "<div>\n",
              "<style scoped>\n",
              "    .dataframe tbody tr th:only-of-type {\n",
              "        vertical-align: middle;\n",
              "    }\n",
              "\n",
              "    .dataframe tbody tr th {\n",
              "        vertical-align: top;\n",
              "    }\n",
              "\n",
              "    .dataframe thead th {\n",
              "        text-align: right;\n",
              "    }\n",
              "</style>\n",
              "<table border=\"1\" class=\"dataframe\">\n",
              "  <thead>\n",
              "    <tr style=\"text-align: right;\">\n",
              "      <th></th>\n",
              "      <th>weathersit</th>\n",
              "      <th>hum</th>\n",
              "      <th>windspeed</th>\n",
              "      <th>temp</th>\n",
              "      <th>atemp</th>\n",
              "      <th>cnt</th>\n",
              "      <th>cnt_j_1</th>\n",
              "      <th>cnt_j_2</th>\n",
              "      <th>cnt_j_3</th>\n",
              "      <th>cnt_j_4</th>\n",
              "      <th>cnt_j_5</th>\n",
              "      <th>cnt_j_6</th>\n",
              "      <th>cnt_j_7</th>\n",
              "    </tr>\n",
              "    <tr>\n",
              "      <th>dteday</th>\n",
              "      <th></th>\n",
              "      <th></th>\n",
              "      <th></th>\n",
              "      <th></th>\n",
              "      <th></th>\n",
              "      <th></th>\n",
              "      <th></th>\n",
              "      <th></th>\n",
              "      <th></th>\n",
              "      <th></th>\n",
              "      <th></th>\n",
              "      <th></th>\n",
              "      <th></th>\n",
              "    </tr>\n",
              "  </thead>\n",
              "  <tbody>\n",
              "    <tr>\n",
              "      <th>2011-01-01</th>\n",
              "      <td>clear</td>\n",
              "      <td>0.805833</td>\n",
              "      <td>10.749871</td>\n",
              "      <td>8.175833</td>\n",
              "      <td>7.999250</td>\n",
              "      <td>985</td>\n",
              "      <td>4506.780822</td>\n",
              "      <td>4510.499314</td>\n",
              "      <td>4514.853022</td>\n",
              "      <td>4516.806052</td>\n",
              "      <td>4520.115702</td>\n",
              "      <td>4525.742069</td>\n",
              "      <td>4530.593923</td>\n",
              "    </tr>\n",
              "    <tr>\n",
              "      <th>2011-01-02</th>\n",
              "      <td>cloudy</td>\n",
              "      <td>0.696087</td>\n",
              "      <td>16.652122</td>\n",
              "      <td>9.083478</td>\n",
              "      <td>7.346783</td>\n",
              "      <td>801</td>\n",
              "      <td>985.000000</td>\n",
              "      <td>4510.499314</td>\n",
              "      <td>4514.853022</td>\n",
              "      <td>4516.806052</td>\n",
              "      <td>4520.115702</td>\n",
              "      <td>4525.742069</td>\n",
              "      <td>4530.593923</td>\n",
              "    </tr>\n",
              "    <tr>\n",
              "      <th>2011-01-03</th>\n",
              "      <td>clear</td>\n",
              "      <td>0.437273</td>\n",
              "      <td>16.636709</td>\n",
              "      <td>1.229091</td>\n",
              "      <td>-3.499300</td>\n",
              "      <td>1349</td>\n",
              "      <td>801.000000</td>\n",
              "      <td>985.000000</td>\n",
              "      <td>4514.853022</td>\n",
              "      <td>4516.806052</td>\n",
              "      <td>4520.115702</td>\n",
              "      <td>4525.742069</td>\n",
              "      <td>4530.593923</td>\n",
              "    </tr>\n",
              "    <tr>\n",
              "      <th>2011-01-04</th>\n",
              "      <td>clear</td>\n",
              "      <td>0.590435</td>\n",
              "      <td>10.739809</td>\n",
              "      <td>1.400000</td>\n",
              "      <td>-1.999965</td>\n",
              "      <td>1562</td>\n",
              "      <td>1349.000000</td>\n",
              "      <td>801.000000</td>\n",
              "      <td>985.000000</td>\n",
              "      <td>4516.806052</td>\n",
              "      <td>4520.115702</td>\n",
              "      <td>4525.742069</td>\n",
              "      <td>4530.593923</td>\n",
              "    </tr>\n",
              "    <tr>\n",
              "      <th>2011-01-05</th>\n",
              "      <td>clear</td>\n",
              "      <td>0.436957</td>\n",
              "      <td>12.522300</td>\n",
              "      <td>2.666957</td>\n",
              "      <td>-0.868209</td>\n",
              "      <td>1600</td>\n",
              "      <td>1562.000000</td>\n",
              "      <td>1349.000000</td>\n",
              "      <td>801.000000</td>\n",
              "      <td>985.000000</td>\n",
              "      <td>4520.115702</td>\n",
              "      <td>4525.742069</td>\n",
              "      <td>4530.593923</td>\n",
              "    </tr>\n",
              "    <tr>\n",
              "      <th>2011-01-06</th>\n",
              "      <td>clear</td>\n",
              "      <td>0.518261</td>\n",
              "      <td>6.000870</td>\n",
              "      <td>1.604348</td>\n",
              "      <td>-0.608226</td>\n",
              "      <td>1606</td>\n",
              "      <td>1600.000000</td>\n",
              "      <td>1562.000000</td>\n",
              "      <td>1349.000000</td>\n",
              "      <td>801.000000</td>\n",
              "      <td>985.000000</td>\n",
              "      <td>4525.742069</td>\n",
              "      <td>4530.593923</td>\n",
              "    </tr>\n",
              "    <tr>\n",
              "      <th>2011-01-07</th>\n",
              "      <td>cloudy</td>\n",
              "      <td>0.498696</td>\n",
              "      <td>11.304648</td>\n",
              "      <td>1.236522</td>\n",
              "      <td>-2.216617</td>\n",
              "      <td>1510</td>\n",
              "      <td>1606.000000</td>\n",
              "      <td>1600.000000</td>\n",
              "      <td>1562.000000</td>\n",
              "      <td>1349.000000</td>\n",
              "      <td>801.000000</td>\n",
              "      <td>985.000000</td>\n",
              "      <td>4530.593923</td>\n",
              "    </tr>\n",
              "    <tr>\n",
              "      <th>2011-01-08</th>\n",
              "      <td>clear</td>\n",
              "      <td>0.535833</td>\n",
              "      <td>17.875879</td>\n",
              "      <td>-0.245000</td>\n",
              "      <td>-5.291225</td>\n",
              "      <td>959</td>\n",
              "      <td>1510.000000</td>\n",
              "      <td>1606.000000</td>\n",
              "      <td>1600.000000</td>\n",
              "      <td>1562.000000</td>\n",
              "      <td>1349.000000</td>\n",
              "      <td>801.000000</td>\n",
              "      <td>985.000000</td>\n",
              "    </tr>\n",
              "    <tr>\n",
              "      <th>2011-01-09</th>\n",
              "      <td>clear</td>\n",
              "      <td>0.434167</td>\n",
              "      <td>24.250650</td>\n",
              "      <td>-1.498333</td>\n",
              "      <td>-8.332450</td>\n",
              "      <td>822</td>\n",
              "      <td>959.000000</td>\n",
              "      <td>1510.000000</td>\n",
              "      <td>1606.000000</td>\n",
              "      <td>1600.000000</td>\n",
              "      <td>1562.000000</td>\n",
              "      <td>1349.000000</td>\n",
              "      <td>801.000000</td>\n",
              "    </tr>\n",
              "    <tr>\n",
              "      <th>2011-01-10</th>\n",
              "      <td>clear</td>\n",
              "      <td>0.482917</td>\n",
              "      <td>14.958867</td>\n",
              "      <td>-0.910833</td>\n",
              "      <td>-6.041425</td>\n",
              "      <td>1321</td>\n",
              "      <td>822.000000</td>\n",
              "      <td>959.000000</td>\n",
              "      <td>1510.000000</td>\n",
              "      <td>1606.000000</td>\n",
              "      <td>1600.000000</td>\n",
              "      <td>1562.000000</td>\n",
              "      <td>1349.000000</td>\n",
              "    </tr>\n",
              "  </tbody>\n",
              "</table>\n",
              "</div>"
            ],
            "text/plain": [
              "           weathersit       hum  ...      cnt_j_6      cnt_j_7\n",
              "dteday                           ...                          \n",
              "2011-01-01      clear  0.805833  ...  4525.742069  4530.593923\n",
              "2011-01-02     cloudy  0.696087  ...  4525.742069  4530.593923\n",
              "2011-01-03      clear  0.437273  ...  4525.742069  4530.593923\n",
              "2011-01-04      clear  0.590435  ...  4525.742069  4530.593923\n",
              "2011-01-05      clear  0.436957  ...  4525.742069  4530.593923\n",
              "2011-01-06      clear  0.518261  ...  4525.742069  4530.593923\n",
              "2011-01-07     cloudy  0.498696  ...   985.000000  4530.593923\n",
              "2011-01-08      clear  0.535833  ...   801.000000   985.000000\n",
              "2011-01-09      clear  0.434167  ...  1349.000000   801.000000\n",
              "2011-01-10      clear  0.482917  ...  1562.000000  1349.000000\n",
              "\n",
              "[10 rows x 13 columns]"
            ]
          },
          "metadata": {
            "tags": []
          },
          "execution_count": 17
        }
      ]
    },
    {
      "cell_type": "code",
      "metadata": {
        "colab": {
          "base_uri": "https://localhost:8080/"
        },
        "id": "hiylnS_RuUdM",
        "outputId": "17c53e48-3c37-4fcb-b4f9-ed1b12803fed"
      },
      "source": [
        "data_derniers_jours.info()"
      ],
      "execution_count": null,
      "outputs": [
        {
          "output_type": "stream",
          "text": [
            "<class 'pandas.core.frame.DataFrame'>\n",
            "DatetimeIndex: 731 entries, 2011-01-01 to 2012-12-31\n",
            "Data columns (total 13 columns):\n",
            " #   Column      Non-Null Count  Dtype  \n",
            "---  ------      --------------  -----  \n",
            " 0   weathersit  731 non-null    object \n",
            " 1   hum         731 non-null    float64\n",
            " 2   windspeed   731 non-null    float64\n",
            " 3   temp        731 non-null    float64\n",
            " 4   atemp       731 non-null    float64\n",
            " 5   cnt         731 non-null    int64  \n",
            " 6   cnt_j_1     731 non-null    float64\n",
            " 7   cnt_j_2     731 non-null    float64\n",
            " 8   cnt_j_3     731 non-null    float64\n",
            " 9   cnt_j_4     731 non-null    float64\n",
            " 10  cnt_j_5     731 non-null    float64\n",
            " 11  cnt_j_6     731 non-null    float64\n",
            " 12  cnt_j_7     731 non-null    float64\n",
            "dtypes: float64(11), int64(1), object(1)\n",
            "memory usage: 80.0+ KB\n"
          ],
          "name": "stdout"
        }
      ]
    },
    {
      "cell_type": "markdown",
      "metadata": {
        "id": "vf_nBZBJ5d-j"
      },
      "source": [
        "Nous allons maintenant étudier la liaison entre le nombre de vélo sur les derniers jours et le nombre de vélo du lendemain  a l'aide de la matrice de corrélation. On constate une corrélation  importante entre nombre de vélos  du jour et le nombre de vélos des 7 derniers jours"
      ]
    },
    {
      "cell_type": "code",
      "metadata": {
        "colab": {
          "base_uri": "https://localhost:8080/",
          "height": 426
        },
        "id": "eci58lrc6uhi",
        "outputId": "9d2d74d0-0b41-43a8-f8c5-29052e0fc72d"
      },
      "source": [
        "#   corrélation  importante entre nombre de vélos  du jour et le nombre de vélos des 7 derniers jours\n",
        "data_derniers_jours.corr()"
      ],
      "execution_count": null,
      "outputs": [
        {
          "output_type": "execute_result",
          "data": {
            "text/html": [
              "<div>\n",
              "<style scoped>\n",
              "    .dataframe tbody tr th:only-of-type {\n",
              "        vertical-align: middle;\n",
              "    }\n",
              "\n",
              "    .dataframe tbody tr th {\n",
              "        vertical-align: top;\n",
              "    }\n",
              "\n",
              "    .dataframe thead th {\n",
              "        text-align: right;\n",
              "    }\n",
              "</style>\n",
              "<table border=\"1\" class=\"dataframe\">\n",
              "  <thead>\n",
              "    <tr style=\"text-align: right;\">\n",
              "      <th></th>\n",
              "      <th>hum</th>\n",
              "      <th>windspeed</th>\n",
              "      <th>temp</th>\n",
              "      <th>atemp</th>\n",
              "      <th>cnt</th>\n",
              "      <th>cnt_j_1</th>\n",
              "      <th>cnt_j_2</th>\n",
              "      <th>cnt_j_3</th>\n",
              "      <th>cnt_j_4</th>\n",
              "      <th>cnt_j_5</th>\n",
              "      <th>cnt_j_6</th>\n",
              "      <th>cnt_j_7</th>\n",
              "    </tr>\n",
              "  </thead>\n",
              "  <tbody>\n",
              "    <tr>\n",
              "      <th>hum</th>\n",
              "      <td>1.000000</td>\n",
              "      <td>-0.248489</td>\n",
              "      <td>0.126963</td>\n",
              "      <td>0.139988</td>\n",
              "      <td>-0.100659</td>\n",
              "      <td>0.008887</td>\n",
              "      <td>0.071084</td>\n",
              "      <td>0.082987</td>\n",
              "      <td>0.095215</td>\n",
              "      <td>0.078759</td>\n",
              "      <td>0.059905</td>\n",
              "      <td>0.053231</td>\n",
              "    </tr>\n",
              "    <tr>\n",
              "      <th>windspeed</th>\n",
              "      <td>-0.248489</td>\n",
              "      <td>1.000000</td>\n",
              "      <td>-0.157944</td>\n",
              "      <td>-0.183643</td>\n",
              "      <td>-0.234545</td>\n",
              "      <td>-0.167060</td>\n",
              "      <td>-0.112344</td>\n",
              "      <td>-0.121678</td>\n",
              "      <td>-0.142588</td>\n",
              "      <td>-0.134897</td>\n",
              "      <td>-0.143599</td>\n",
              "      <td>-0.142892</td>\n",
              "    </tr>\n",
              "    <tr>\n",
              "      <th>temp</th>\n",
              "      <td>0.126963</td>\n",
              "      <td>-0.157944</td>\n",
              "      <td>1.000000</td>\n",
              "      <td>0.991702</td>\n",
              "      <td>0.627494</td>\n",
              "      <td>0.621955</td>\n",
              "      <td>0.600318</td>\n",
              "      <td>0.580291</td>\n",
              "      <td>0.574516</td>\n",
              "      <td>0.576978</td>\n",
              "      <td>0.573659</td>\n",
              "      <td>0.559841</td>\n",
              "    </tr>\n",
              "    <tr>\n",
              "      <th>atemp</th>\n",
              "      <td>0.139988</td>\n",
              "      <td>-0.183643</td>\n",
              "      <td>0.991702</td>\n",
              "      <td>1.000000</td>\n",
              "      <td>0.631066</td>\n",
              "      <td>0.624171</td>\n",
              "      <td>0.599902</td>\n",
              "      <td>0.579285</td>\n",
              "      <td>0.574139</td>\n",
              "      <td>0.576939</td>\n",
              "      <td>0.573284</td>\n",
              "      <td>0.559966</td>\n",
              "    </tr>\n",
              "    <tr>\n",
              "      <th>cnt</th>\n",
              "      <td>-0.100659</td>\n",
              "      <td>-0.234545</td>\n",
              "      <td>0.627494</td>\n",
              "      <td>0.631066</td>\n",
              "      <td>1.000000</td>\n",
              "      <td>0.846665</td>\n",
              "      <td>0.780866</td>\n",
              "      <td>0.748545</td>\n",
              "      <td>0.739505</td>\n",
              "      <td>0.745766</td>\n",
              "      <td>0.760718</td>\n",
              "      <td>0.746737</td>\n",
              "    </tr>\n",
              "    <tr>\n",
              "      <th>cnt_j_1</th>\n",
              "      <td>0.008887</td>\n",
              "      <td>-0.167060</td>\n",
              "      <td>0.621955</td>\n",
              "      <td>0.624171</td>\n",
              "      <td>0.846665</td>\n",
              "      <td>1.000000</td>\n",
              "      <td>0.846526</td>\n",
              "      <td>0.780683</td>\n",
              "      <td>0.748321</td>\n",
              "      <td>0.739135</td>\n",
              "      <td>0.745795</td>\n",
              "      <td>0.760569</td>\n",
              "    </tr>\n",
              "    <tr>\n",
              "      <th>cnt_j_2</th>\n",
              "      <td>0.071084</td>\n",
              "      <td>-0.112344</td>\n",
              "      <td>0.600318</td>\n",
              "      <td>0.599902</td>\n",
              "      <td>0.780866</td>\n",
              "      <td>0.846526</td>\n",
              "      <td>1.000000</td>\n",
              "      <td>0.846069</td>\n",
              "      <td>0.780604</td>\n",
              "      <td>0.747718</td>\n",
              "      <td>0.738305</td>\n",
              "      <td>0.744964</td>\n",
              "    </tr>\n",
              "    <tr>\n",
              "      <th>cnt_j_3</th>\n",
              "      <td>0.082987</td>\n",
              "      <td>-0.121678</td>\n",
              "      <td>0.580291</td>\n",
              "      <td>0.579285</td>\n",
              "      <td>0.748545</td>\n",
              "      <td>0.780683</td>\n",
              "      <td>0.846069</td>\n",
              "      <td>1.000000</td>\n",
              "      <td>0.846287</td>\n",
              "      <td>0.780063</td>\n",
              "      <td>0.746607</td>\n",
              "      <td>0.737218</td>\n",
              "    </tr>\n",
              "    <tr>\n",
              "      <th>cnt_j_4</th>\n",
              "      <td>0.095215</td>\n",
              "      <td>-0.142588</td>\n",
              "      <td>0.574516</td>\n",
              "      <td>0.574139</td>\n",
              "      <td>0.739505</td>\n",
              "      <td>0.748321</td>\n",
              "      <td>0.780604</td>\n",
              "      <td>0.846287</td>\n",
              "      <td>1.000000</td>\n",
              "      <td>0.846241</td>\n",
              "      <td>0.780603</td>\n",
              "      <td>0.746734</td>\n",
              "    </tr>\n",
              "    <tr>\n",
              "      <th>cnt_j_5</th>\n",
              "      <td>0.078759</td>\n",
              "      <td>-0.134897</td>\n",
              "      <td>0.576978</td>\n",
              "      <td>0.576939</td>\n",
              "      <td>0.745766</td>\n",
              "      <td>0.739135</td>\n",
              "      <td>0.747718</td>\n",
              "      <td>0.780063</td>\n",
              "      <td>0.846241</td>\n",
              "      <td>1.000000</td>\n",
              "      <td>0.846119</td>\n",
              "      <td>0.780085</td>\n",
              "    </tr>\n",
              "    <tr>\n",
              "      <th>cnt_j_6</th>\n",
              "      <td>0.059905</td>\n",
              "      <td>-0.143599</td>\n",
              "      <td>0.573659</td>\n",
              "      <td>0.573284</td>\n",
              "      <td>0.760718</td>\n",
              "      <td>0.745795</td>\n",
              "      <td>0.738305</td>\n",
              "      <td>0.746607</td>\n",
              "      <td>0.780603</td>\n",
              "      <td>0.846119</td>\n",
              "      <td>1.000000</td>\n",
              "      <td>0.845340</td>\n",
              "    </tr>\n",
              "    <tr>\n",
              "      <th>cnt_j_7</th>\n",
              "      <td>0.053231</td>\n",
              "      <td>-0.142892</td>\n",
              "      <td>0.559841</td>\n",
              "      <td>0.559966</td>\n",
              "      <td>0.746737</td>\n",
              "      <td>0.760569</td>\n",
              "      <td>0.744964</td>\n",
              "      <td>0.737218</td>\n",
              "      <td>0.746734</td>\n",
              "      <td>0.780085</td>\n",
              "      <td>0.845340</td>\n",
              "      <td>1.000000</td>\n",
              "    </tr>\n",
              "  </tbody>\n",
              "</table>\n",
              "</div>"
            ],
            "text/plain": [
              "                hum  windspeed      temp  ...   cnt_j_5   cnt_j_6   cnt_j_7\n",
              "hum        1.000000  -0.248489  0.126963  ...  0.078759  0.059905  0.053231\n",
              "windspeed -0.248489   1.000000 -0.157944  ... -0.134897 -0.143599 -0.142892\n",
              "temp       0.126963  -0.157944  1.000000  ...  0.576978  0.573659  0.559841\n",
              "atemp      0.139988  -0.183643  0.991702  ...  0.576939  0.573284  0.559966\n",
              "cnt       -0.100659  -0.234545  0.627494  ...  0.745766  0.760718  0.746737\n",
              "cnt_j_1    0.008887  -0.167060  0.621955  ...  0.739135  0.745795  0.760569\n",
              "cnt_j_2    0.071084  -0.112344  0.600318  ...  0.747718  0.738305  0.744964\n",
              "cnt_j_3    0.082987  -0.121678  0.580291  ...  0.780063  0.746607  0.737218\n",
              "cnt_j_4    0.095215  -0.142588  0.574516  ...  0.846241  0.780603  0.746734\n",
              "cnt_j_5    0.078759  -0.134897  0.576978  ...  1.000000  0.846119  0.780085\n",
              "cnt_j_6    0.059905  -0.143599  0.573659  ...  0.846119  1.000000  0.845340\n",
              "cnt_j_7    0.053231  -0.142892  0.559841  ...  0.780085  0.845340  1.000000\n",
              "\n",
              "[12 rows x 12 columns]"
            ]
          },
          "metadata": {
            "tags": []
          },
          "execution_count": 19
        }
      ]
    },
    {
      "cell_type": "code",
      "metadata": {
        "colab": {
          "base_uri": "https://localhost:8080/",
          "height": 112
        },
        "id": "jfl--Y2_70xQ",
        "outputId": "170db9bf-0c6f-409f-c92b-65d6c0167ec8"
      },
      "source": [
        "pd.DataFrame(pearsonr(data_derniers_jours['cnt'], data_derniers_jours['cnt_j_1']), index=['pearson_coeff','p-value'], columns=['resultat_test'])"
      ],
      "execution_count": null,
      "outputs": [
        {
          "output_type": "execute_result",
          "data": {
            "text/html": [
              "<div>\n",
              "<style scoped>\n",
              "    .dataframe tbody tr th:only-of-type {\n",
              "        vertical-align: middle;\n",
              "    }\n",
              "\n",
              "    .dataframe tbody tr th {\n",
              "        vertical-align: top;\n",
              "    }\n",
              "\n",
              "    .dataframe thead th {\n",
              "        text-align: right;\n",
              "    }\n",
              "</style>\n",
              "<table border=\"1\" class=\"dataframe\">\n",
              "  <thead>\n",
              "    <tr style=\"text-align: right;\">\n",
              "      <th></th>\n",
              "      <th>resultat_test</th>\n",
              "    </tr>\n",
              "  </thead>\n",
              "  <tbody>\n",
              "    <tr>\n",
              "      <th>pearson_coeff</th>\n",
              "      <td>8.466652e-01</td>\n",
              "    </tr>\n",
              "    <tr>\n",
              "      <th>p-value</th>\n",
              "      <td>6.412583e-202</td>\n",
              "    </tr>\n",
              "  </tbody>\n",
              "</table>\n",
              "</div>"
            ],
            "text/plain": [
              "               resultat_test\n",
              "pearson_coeff   8.466652e-01\n",
              "p-value        6.412583e-202"
            ]
          },
          "metadata": {
            "tags": []
          },
          "execution_count": 136
        }
      ]
    },
    {
      "cell_type": "code",
      "metadata": {
        "colab": {
          "base_uri": "https://localhost:8080/",
          "height": 639
        },
        "id": "D4AaPmAP7me8",
        "outputId": "4da276aa-a8de-4c78-8e4c-78c62ea27367"
      },
      "source": [
        "plt.figure( figsize= (10, 10) )\n",
        "plt.scatter(data_derniers_jours.cnt, data_derniers_jours.cnt_j_1, c = 'orange');\n",
        "plt.title('décompte vélo du jour  J-1 en fonction du décompte vélo du jour J ')\n",
        "plt.xlabel('cnt')\n",
        "plt.ylabel('cnt_j_1');\n",
        "\n"
      ],
      "execution_count": null,
      "outputs": [
        {
          "output_type": "execute_result",
          "data": {
            "text/plain": [
              "Text(0, 0.5, 'cnt_j_1')"
            ]
          },
          "metadata": {
            "tags": []
          },
          "execution_count": 22
        },
        {
          "output_type": "display_data",
          "data": {
            "image/png": "[encoded data removed]",
            "text/plain": [
              "<Figure size 720x720 with 1 Axes>"
            ]
          },
          "metadata": {
            "tags": [],
            "needs_background": "light"
          }
        }
      ]
    },
    {
      "cell_type": "markdown",
      "metadata": {
        "id": "NjjiIl08Tcr1"
      },
      "source": [
        "Le graphe de nuages ci-dessus affiche le décompte vélo du jour  J-1 en fonction du décompte vélo du jour J . On constate que la forme de cette courbe est plutot ptoche d'une droite linéaire ce qui confirme la corrélation entre les variables 'cnt_j_1' et 'cnt'"
      ]
    },
    {
      "cell_type": "markdown",
      "metadata": {
        "id": "VLkTyBv40q8b"
      },
      "source": [
        "1.2.2.Aggrégation des données par jour de la semaine"
      ]
    },
    {
      "cell_type": "markdown",
      "metadata": {
        "id": "Hq27xRaEG1qg"
      },
      "source": [
        "Nous allons maintenant aggréer les données par jour de la semaine , en utilsant un groupby sur 'dteday' , le nouveau jeu de données est nommé 'data_jour_semaine'"
      ]
    },
    {
      "cell_type": "code",
      "metadata": {
        "colab": {
          "base_uri": "https://localhost:8080/",
          "height": 300
        },
        "id": "i6ZeVQee0zhr",
        "outputId": "f7e4b776-a728-4883-bc80-da161385837a"
      },
      "source": [
        "#modalitie_weathersit renvoie la modalité de weathersit pour chaque jour de semaine \n",
        "\n",
        "modalitie_weathersit =  lambda weathersit: weathersit.value_counts().index[0]\n",
        "\n",
        "# fonction qui passera en argument de agg et qui utilise la moyenne et somme pour les variables quantitatives\n",
        "functions_to_apply = {\n",
        "    \n",
        "    'weathersit' : modalitie_weathersit,\n",
        "    'hum' : 'mean',\n",
        "    'windspeed' : 'mean',\n",
        "    'temp' : 'mean',\n",
        "    'atemp' : 'mean',\n",
        "    'cnt' : 'mean'\n",
        "  \n",
        "}\n",
        "#le nouveau jeu de données par jour de la semaine est nommé 'data_jour_semaine' \n",
        "data_jour_semaine = data.groupby('weekday').agg(functions_to_apply)\n",
        "\n",
        "data_jour_semaine\n"
      ],
      "execution_count": null,
      "outputs": [
        {
          "output_type": "execute_result",
          "data": {
            "text/html": [
              "<div>\n",
              "<style scoped>\n",
              "    .dataframe tbody tr th:only-of-type {\n",
              "        vertical-align: middle;\n",
              "    }\n",
              "\n",
              "    .dataframe tbody tr th {\n",
              "        vertical-align: top;\n",
              "    }\n",
              "\n",
              "    .dataframe thead th {\n",
              "        text-align: right;\n",
              "    }\n",
              "</style>\n",
              "<table border=\"1\" class=\"dataframe\">\n",
              "  <thead>\n",
              "    <tr style=\"text-align: right;\">\n",
              "      <th></th>\n",
              "      <th>weathersit</th>\n",
              "      <th>hum</th>\n",
              "      <th>windspeed</th>\n",
              "      <th>temp</th>\n",
              "      <th>atemp</th>\n",
              "      <th>cnt</th>\n",
              "    </tr>\n",
              "    <tr>\n",
              "      <th>weekday</th>\n",
              "      <th></th>\n",
              "      <th></th>\n",
              "      <th></th>\n",
              "      <th></th>\n",
              "      <th></th>\n",
              "      <th></th>\n",
              "    </tr>\n",
              "  </thead>\n",
              "  <tbody>\n",
              "    <tr>\n",
              "      <th>Friday</th>\n",
              "      <td>clear</td>\n",
              "      <td>0.613840</td>\n",
              "      <td>12.490831</td>\n",
              "      <td>15.332183</td>\n",
              "      <td>15.140652</td>\n",
              "      <td>196.135907</td>\n",
              "    </tr>\n",
              "    <tr>\n",
              "      <th>Monday</th>\n",
              "      <td>clear</td>\n",
              "      <td>0.635651</td>\n",
              "      <td>12.653819</td>\n",
              "      <td>15.267180</td>\n",
              "      <td>15.409916</td>\n",
              "      <td>183.744655</td>\n",
              "    </tr>\n",
              "    <tr>\n",
              "      <th>Saturday</th>\n",
              "      <td>clear</td>\n",
              "      <td>0.619084</td>\n",
              "      <td>13.144739</td>\n",
              "      <td>14.646815</td>\n",
              "      <td>14.485994</td>\n",
              "      <td>190.209793</td>\n",
              "    </tr>\n",
              "    <tr>\n",
              "      <th>Sunday</th>\n",
              "      <td>clear</td>\n",
              "      <td>0.627994</td>\n",
              "      <td>12.602223</td>\n",
              "      <td>14.739584</td>\n",
              "      <td>14.723438</td>\n",
              "      <td>177.468825</td>\n",
              "    </tr>\n",
              "    <tr>\n",
              "      <th>Thursday</th>\n",
              "      <td>clear</td>\n",
              "      <td>0.609628</td>\n",
              "      <td>12.863143</td>\n",
              "      <td>15.829818</td>\n",
              "      <td>16.011408</td>\n",
              "      <td>196.436665</td>\n",
              "    </tr>\n",
              "    <tr>\n",
              "      <th>Tuesday</th>\n",
              "      <td>clear</td>\n",
              "      <td>0.639833</td>\n",
              "      <td>12.858461</td>\n",
              "      <td>15.902748</td>\n",
              "      <td>16.153847</td>\n",
              "      <td>191.238891</td>\n",
              "    </tr>\n",
              "    <tr>\n",
              "      <th>Wednesday</th>\n",
              "      <td>clear</td>\n",
              "      <td>0.644820</td>\n",
              "      <td>12.540538</td>\n",
              "      <td>15.813713</td>\n",
              "      <td>15.912843</td>\n",
              "      <td>191.130505</td>\n",
              "    </tr>\n",
              "  </tbody>\n",
              "</table>\n",
              "</div>"
            ],
            "text/plain": [
              "          weathersit       hum  windspeed       temp      atemp         cnt\n",
              "weekday                                                                    \n",
              "Friday         clear  0.613840  12.490831  15.332183  15.140652  196.135907\n",
              "Monday         clear  0.635651  12.653819  15.267180  15.409916  183.744655\n",
              "Saturday       clear  0.619084  13.144739  14.646815  14.485994  190.209793\n",
              "Sunday         clear  0.627994  12.602223  14.739584  14.723438  177.468825\n",
              "Thursday       clear  0.609628  12.863143  15.829818  16.011408  196.436665\n",
              "Tuesday        clear  0.639833  12.858461  15.902748  16.153847  191.238891\n",
              "Wednesday      clear  0.644820  12.540538  15.813713  15.912843  191.130505"
            ]
          },
          "metadata": {
            "tags": []
          },
          "execution_count": 11
        }
      ]
    },
    {
      "cell_type": "code",
      "metadata": {
        "id": "r4PoZigzjlII"
      },
      "source": [
        "#data_jour_semaine.corr()"
      ],
      "execution_count": null,
      "outputs": []
    },
    {
      "cell_type": "code",
      "metadata": {
        "colab": {
          "base_uri": "https://localhost:8080/",
          "height": 300
        },
        "id": "GiTAeVJX2AdS",
        "outputId": "1df68821-25be-4619-c306-3391c5d4a7c3"
      },
      "source": [
        "\n",
        "# déscription des données\n",
        "data_jour_semaine.describe()"
      ],
      "execution_count": null,
      "outputs": [
        {
          "output_type": "execute_result",
          "data": {
            "text/html": [
              "<div>\n",
              "<style scoped>\n",
              "    .dataframe tbody tr th:only-of-type {\n",
              "        vertical-align: middle;\n",
              "    }\n",
              "\n",
              "    .dataframe tbody tr th {\n",
              "        vertical-align: top;\n",
              "    }\n",
              "\n",
              "    .dataframe thead th {\n",
              "        text-align: right;\n",
              "    }\n",
              "</style>\n",
              "<table border=\"1\" class=\"dataframe\">\n",
              "  <thead>\n",
              "    <tr style=\"text-align: right;\">\n",
              "      <th></th>\n",
              "      <th>hum</th>\n",
              "      <th>windspeed</th>\n",
              "      <th>temp</th>\n",
              "      <th>atemp</th>\n",
              "      <th>cnt</th>\n",
              "    </tr>\n",
              "  </thead>\n",
              "  <tbody>\n",
              "    <tr>\n",
              "      <th>count</th>\n",
              "      <td>7.000000</td>\n",
              "      <td>7.000000</td>\n",
              "      <td>7.000000</td>\n",
              "      <td>7.000000</td>\n",
              "      <td>7.000000</td>\n",
              "    </tr>\n",
              "    <tr>\n",
              "      <th>mean</th>\n",
              "      <td>0.627264</td>\n",
              "      <td>12.736251</td>\n",
              "      <td>15.361720</td>\n",
              "      <td>15.405442</td>\n",
              "      <td>189.480749</td>\n",
              "    </tr>\n",
              "    <tr>\n",
              "      <th>std</th>\n",
              "      <td>0.013511</td>\n",
              "      <td>0.231370</td>\n",
              "      <td>0.520269</td>\n",
              "      <td>0.653887</td>\n",
              "      <td>6.784901</td>\n",
              "    </tr>\n",
              "    <tr>\n",
              "      <th>min</th>\n",
              "      <td>0.609628</td>\n",
              "      <td>12.490831</td>\n",
              "      <td>14.646815</td>\n",
              "      <td>14.485994</td>\n",
              "      <td>177.468825</td>\n",
              "    </tr>\n",
              "    <tr>\n",
              "      <th>25%</th>\n",
              "      <td>0.616462</td>\n",
              "      <td>12.571380</td>\n",
              "      <td>15.003382</td>\n",
              "      <td>14.932045</td>\n",
              "      <td>186.977224</td>\n",
              "    </tr>\n",
              "    <tr>\n",
              "      <th>50%</th>\n",
              "      <td>0.627994</td>\n",
              "      <td>12.653819</td>\n",
              "      <td>15.332183</td>\n",
              "      <td>15.409916</td>\n",
              "      <td>191.130505</td>\n",
              "    </tr>\n",
              "    <tr>\n",
              "      <th>75%</th>\n",
              "      <td>0.637742</td>\n",
              "      <td>12.860802</td>\n",
              "      <td>15.821766</td>\n",
              "      <td>15.962125</td>\n",
              "      <td>193.687399</td>\n",
              "    </tr>\n",
              "    <tr>\n",
              "      <th>max</th>\n",
              "      <td>0.644820</td>\n",
              "      <td>13.144739</td>\n",
              "      <td>15.902748</td>\n",
              "      <td>16.153847</td>\n",
              "      <td>196.436665</td>\n",
              "    </tr>\n",
              "  </tbody>\n",
              "</table>\n",
              "</div>"
            ],
            "text/plain": [
              "            hum  windspeed       temp      atemp         cnt\n",
              "count  7.000000   7.000000   7.000000   7.000000    7.000000\n",
              "mean   0.627264  12.736251  15.361720  15.405442  189.480749\n",
              "std    0.013511   0.231370   0.520269   0.653887    6.784901\n",
              "min    0.609628  12.490831  14.646815  14.485994  177.468825\n",
              "25%    0.616462  12.571380  15.003382  14.932045  186.977224\n",
              "50%    0.627994  12.653819  15.332183  15.409916  191.130505\n",
              "75%    0.637742  12.860802  15.821766  15.962125  193.687399\n",
              "max    0.644820  13.144739  15.902748  16.153847  196.436665"
            ]
          },
          "metadata": {
            "tags": []
          },
          "execution_count": 12
        }
      ]
    },
    {
      "cell_type": "markdown",
      "metadata": {
        "id": "VUgL8eRFC63d"
      },
      "source": [
        "Le graphe ci-dessous affiche le décompte du nombre de vélos utilisés par par jour de semaine , on remarque que l'utilisation de vélo est pendant le weekend est inférieure a celle des jours ouvrés . Du lundi au Vendredi le décompte est presque stable"
      ]
    },
    {
      "cell_type": "code",
      "metadata": {
        "colab": {
          "base_uri": "https://localhost:8080/",
          "height": 621
        },
        "id": "IvzY7fJB33Is",
        "outputId": "20aeacf3-e03c-40d2-88dd-897a0903aaf2"
      },
      "source": [
        "plt.figure( figsize= (10, 10) )\n",
        "plt.bar(data.weekday , data.cnt, width = 0.6, label = \"cnt\")\n",
        "plt.xlabel('Jour de semaine')\n",
        "plt.ylabel('cnt')\n",
        "plt.title(\"décompte du nombre de vélos utilisés par Jour de semaine\")\n",
        "plt.legend();"
      ],
      "execution_count": null,
      "outputs": [
        {
          "output_type": "display_data",
          "data": {
            "image/png": "[encoded data removed]",
            "text/plain": [
              "<Figure size 720x720 with 1 Axes>"
            ]
          },
          "metadata": {
            "tags": [],
            "needs_background": "light"
          }
        }
      ]
    },
    {
      "cell_type": "markdown",
      "metadata": {
        "id": "KpaKSyDHLGa9"
      },
      "source": [
        "# **2.Entraînement et évaluation de modèles de machine texte**"
      ]
    },
    {
      "cell_type": "markdown",
      "metadata": {
        "id": "2CeIhR6kPFJT"
      },
      "source": [
        "Nous avons fait le choix d'utiliser la validation croisée pour entrainter notre jeu de données 'data_jour_annee'"
      ]
    },
    {
      "cell_type": "code",
      "metadata": {
        "colab": {
          "base_uri": "https://localhost:8080/"
        },
        "id": "d2vgJ-2lPvt7",
        "outputId": "61987a48-4455-4837-ce61-d5b79a78bb83"
      },
      "source": [
        "# Instanciation du dataframe contenant les variables explicatives\n",
        "\n",
        "X = data_jour_annee.drop(columns=['weathersit','cnt'])\n",
        "\n",
        "# Instanciation de la series contenant la variable cible \n",
        "\n",
        "y = data_jour_annee.cnt\n",
        "\n",
        "X.info()"
      ],
      "execution_count": null,
      "outputs": [
        {
          "output_type": "stream",
          "text": [
            "<class 'pandas.core.frame.DataFrame'>\n",
            "DatetimeIndex: 731 entries, 2011-01-01 to 2012-12-31\n",
            "Data columns (total 4 columns):\n",
            " #   Column     Non-Null Count  Dtype  \n",
            "---  ------     --------------  -----  \n",
            " 0   hum        731 non-null    float64\n",
            " 1   windspeed  731 non-null    float64\n",
            " 2   temp       731 non-null    float64\n",
            " 3   atemp      731 non-null    float64\n",
            "dtypes: float64(4)\n",
            "memory usage: 28.6 KB\n"
          ],
          "name": "stdout"
        }
      ]
    },
    {
      "cell_type": "code",
      "metadata": {
        "colab": {
          "base_uri": "https://localhost:8080/"
        },
        "id": "_MMFET98Qgaq",
        "outputId": "30a37c10-1e59-4996-c413-ff0c33f5b956"
      },
      "source": [
        "# A partir du module linear_model de la librairie scikit learn on importe la fonction LinearRegression\n",
        "\n",
        "from sklearn.linear_model import LinearRegression \n",
        "\n",
        "# A partir du module model_selection de la librairie scikit learn on importe la fonction cross_validate et KFold\n",
        "\n",
        "from sklearn.model_selection import cross_val_score, KFold\n",
        "\n",
        "model=LinearRegression() \n",
        "\n",
        "#on utilise shuffle afin de mélanger les observations du dataset\n",
        "\n",
        "folds = KFold(n_splits = 7, shuffle = True, random_state=42)\n",
        "\n",
        "performances_r2 = cross_val_score(model, X, y, scoring='r2', cv=folds)\n",
        "performances_root_mean_squared_error = cross_val_score(model, X, y, scoring='neg_root_mean_squared_error', cv=folds)\n",
        "print(\"Les performances du coefficient de détermination  sur chacun des splits est de: :\",performances_r2)\n",
        "\n",
        "print(\"La performance moyenne du coefficient de détermination est de: :\",np.mean(performances_r2))\n",
        "\n",
        "print(\"Les performances de l'erreur absolue moyenne sur chacun des splits est de:\",performances_root_mean_squared_error)"
      ],
      "execution_count": null,
      "outputs": [
        {
          "output_type": "stream",
          "text": [
            "Les performances du coefficient de détermination  sur chacun des splits est de: : [0.54315439 0.27981623 0.32183376 0.55110437 0.45331376 0.36468486\n",
            " 0.49571786]\n",
            "La performance moyenne du coefficient de détermination est de: : 0.42994645919471053\n",
            "Les performances de l'erreur absolue moyenne sur chacun des splits est de: [-1383.93542895 -1661.80695073 -1561.63333212 -1251.25171816\n",
            " -1467.80278034 -1431.19189712 -1350.66292901]\n"
          ],
          "name": "stdout"
        }
      ]
    },
    {
      "cell_type": "markdown",
      "metadata": {
        "id": "1Snexj0qckUs"
      },
      "source": [
        "Le coefficient de détermination moyen est de 0.42 .Cette valeur reste moyenne trés ce qui nous donne une idée d'une adéquation moyenne  entre le modèle et les données "
      ]
    }
  ]
}