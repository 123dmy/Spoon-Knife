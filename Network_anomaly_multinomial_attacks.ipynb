{
  "nbformat": 4,
  "nbformat_minor": 0,
  "metadata": {
    "colab": {
      "provenance": [],
      "gpuType": "V28",
      "authorship_tag": "ABX9TyMTD8vmDY0TEb3wSAPawdlt",
      "include_colab_link": true
    },
    "kernelspec": {
      "name": "python3",
      "display_name": "Python 3"
    },
    "language_info": {
      "name": "python"
    },
    "accelerator": "TPU"
  },
  "cells": [
    {
      "cell_type": "markdown",
      "metadata": {
        "id": "view-in-github",
        "colab_type": "text"
      },
      "source": [
        "<a href=\"https://colab.research.google.com/github/addy9051/Spoon-Knife/blob/main/Network_anomaly_multinomial_attacks.ipynb\" target=\"_parent\"><img src=\"https://colab.research.google.com/assets/colab-badge.svg\" alt=\"Open In Colab\"/></a>"
      ]
    },
    {
      "cell_type": "code",
      "execution_count": 53,
      "metadata": {
        "id": "1bn2VwyJj7mZ"
      },
      "outputs": [],
      "source": [
        "#importing libraries\n",
        "import pandas as pd\n",
        "import numpy as np\n",
        "import seaborn as sns\n",
        "import matplotlib.pyplot as plt\n",
        "import warnings\n",
        "warnings.filterwarnings('ignore')"
      ]
    },
    {
      "cell_type": "code",
      "source": [
        "!gdown 1B3XrHjZiwwXPr052_ZR7AN9Faj3ZRwGF"
      ],
      "metadata": {
        "colab": {
          "base_uri": "https://localhost:8080/"
        },
        "id": "4E0cMSJLkKjS",
        "outputId": "6483ca71-cf2d-43e8-f593-405baddfe46f"
      },
      "execution_count": 54,
      "outputs": [
        {
          "output_type": "stream",
          "name": "stdout",
          "text": [
            "Downloading...\n",
            "From: https://drive.google.com/uc?id=1B3XrHjZiwwXPr052_ZR7AN9Faj3ZRwGF\n",
            "To: /content/Network_anomaly_data.csv\n",
            "\r  0% 0.00/17.7M [00:00<?, ?B/s]\r100% 17.7M/17.7M [00:00<00:00, 217MB/s]\n"
          ]
        }
      ]
    },
    {
      "cell_type": "code",
      "source": [
        "df = pd.read_csv('Network_anomaly_data.csv')\n",
        "pd.set_option('display.max_columns', None)"
      ],
      "metadata": {
        "id": "iSheCFZdk_1J"
      },
      "execution_count": 55,
      "outputs": []
    },
    {
      "cell_type": "markdown",
      "source": [
        "## High level overview of the dataset"
      ],
      "metadata": {
        "id": "Cg4ZSLlf30RX"
      }
    },
    {
      "cell_type": "markdown",
      "source": [
        "####Inspect the top 5 rows"
      ],
      "metadata": {
        "id": "T1Qj2xa_4K5K"
      }
    },
    {
      "cell_type": "code",
      "source": [
        "df.head()"
      ],
      "metadata": {
        "colab": {
          "base_uri": "https://localhost:8080/",
          "height": 226
        },
        "id": "Heh1jN0x3ykD",
        "outputId": "126c3c11-4c77-4c50-c615-6a7a8261cb69"
      },
      "execution_count": 56,
      "outputs": [
        {
          "output_type": "execute_result",
          "data": {
            "text/plain": [
              "   duration protocoltype   service flag  srcbytes  dstbytes  land  \\\n",
              "0         0          tcp  ftp_data   SF       491         0     0   \n",
              "1         0          udp     other   SF       146         0     0   \n",
              "2         0          tcp   private   S0         0         0     0   \n",
              "3         0          tcp      http   SF       232      8153     0   \n",
              "4         0          tcp      http   SF       199       420     0   \n",
              "\n",
              "   wrongfragment  urgent  hot  numfailedlogins  loggedin  numcompromised  \\\n",
              "0              0       0    0                0         0               0   \n",
              "1              0       0    0                0         0               0   \n",
              "2              0       0    0                0         0               0   \n",
              "3              0       0    0                0         1               0   \n",
              "4              0       0    0                0         1               0   \n",
              "\n",
              "   rootshell  suattempted  numroot  numfilecreations  numshells  \\\n",
              "0          0            0        0                 0          0   \n",
              "1          0            0        0                 0          0   \n",
              "2          0            0        0                 0          0   \n",
              "3          0            0        0                 0          0   \n",
              "4          0            0        0                 0          0   \n",
              "\n",
              "   numaccessfiles  numoutboundcmds  ishostlogin  isguestlogin  count  \\\n",
              "0               0                0            0             0      2   \n",
              "1               0                0            0             0     13   \n",
              "2               0                0            0             0    123   \n",
              "3               0                0            0             0      5   \n",
              "4               0                0            0             0     30   \n",
              "\n",
              "   srvcount  serrorrate  srvserrorrate  rerrorrate  srvrerrorrate  \\\n",
              "0         2         0.0            0.0         0.0            0.0   \n",
              "1         1         0.0            0.0         0.0            0.0   \n",
              "2         6         1.0            1.0         0.0            0.0   \n",
              "3         5         0.2            0.2         0.0            0.0   \n",
              "4        32         0.0            0.0         0.0            0.0   \n",
              "\n",
              "   samesrvrate  diffsrvrate  srvdiffhostrate  dsthostcount  dsthostsrvcount  \\\n",
              "0         1.00         0.00             0.00           150               25   \n",
              "1         0.08         0.15             0.00           255                1   \n",
              "2         0.05         0.07             0.00           255               26   \n",
              "3         1.00         0.00             0.00            30              255   \n",
              "4         1.00         0.00             0.09           255              255   \n",
              "\n",
              "   dsthostsamesrvrate  dsthostdiffsrvrate  dsthostsamesrcportrate  \\\n",
              "0                0.17                0.03                    0.17   \n",
              "1                0.00                0.60                    0.88   \n",
              "2                0.10                0.05                    0.00   \n",
              "3                1.00                0.00                    0.03   \n",
              "4                1.00                0.00                    0.00   \n",
              "\n",
              "   dsthostsrvdiffhostrate  dsthostserrorrate  dsthostsrvserrorrate  \\\n",
              "0                    0.00               0.00                  0.00   \n",
              "1                    0.00               0.00                  0.00   \n",
              "2                    0.00               1.00                  1.00   \n",
              "3                    0.04               0.03                  0.01   \n",
              "4                    0.00               0.00                  0.00   \n",
              "\n",
              "   dsthostrerrorrate  dsthostsrvrerrorrate   attack  lastflag  \n",
              "0               0.05                  0.00   normal        20  \n",
              "1               0.00                  0.00   normal        15  \n",
              "2               0.00                  0.00  neptune        19  \n",
              "3               0.00                  0.01   normal        21  \n",
              "4               0.00                  0.00   normal        21  "
            ],
            "text/html": [
              "\n",
              "  <div id=\"df-82c55fda-1a17-4d9a-88be-cb1be282a75d\" class=\"colab-df-container\">\n",
              "    <div>\n",
              "<style scoped>\n",
              "    .dataframe tbody tr th:only-of-type {\n",
              "        vertical-align: middle;\n",
              "    }\n",
              "\n",
              "    .dataframe tbody tr th {\n",
              "        vertical-align: top;\n",
              "    }\n",
              "\n",
              "    .dataframe thead th {\n",
              "        text-align: right;\n",
              "    }\n",
              "</style>\n",
              "<table border=\"1\" class=\"dataframe\">\n",
              "  <thead>\n",
              "    <tr style=\"text-align: right;\">\n",
              "      <th></th>\n",
              "      <th>duration</th>\n",
              "      <th>protocoltype</th>\n",
              "      <th>service</th>\n",
              "      <th>flag</th>\n",
              "      <th>srcbytes</th>\n",
              "      <th>dstbytes</th>\n",
              "      <th>land</th>\n",
              "      <th>wrongfragment</th>\n",
              "      <th>urgent</th>\n",
              "      <th>hot</th>\n",
              "      <th>numfailedlogins</th>\n",
              "      <th>loggedin</th>\n",
              "      <th>numcompromised</th>\n",
              "      <th>rootshell</th>\n",
              "      <th>suattempted</th>\n",
              "      <th>numroot</th>\n",
              "      <th>numfilecreations</th>\n",
              "      <th>numshells</th>\n",
              "      <th>numaccessfiles</th>\n",
              "      <th>numoutboundcmds</th>\n",
              "      <th>ishostlogin</th>\n",
              "      <th>isguestlogin</th>\n",
              "      <th>count</th>\n",
              "      <th>srvcount</th>\n",
              "      <th>serrorrate</th>\n",
              "      <th>srvserrorrate</th>\n",
              "      <th>rerrorrate</th>\n",
              "      <th>srvrerrorrate</th>\n",
              "      <th>samesrvrate</th>\n",
              "      <th>diffsrvrate</th>\n",
              "      <th>srvdiffhostrate</th>\n",
              "      <th>dsthostcount</th>\n",
              "      <th>dsthostsrvcount</th>\n",
              "      <th>dsthostsamesrvrate</th>\n",
              "      <th>dsthostdiffsrvrate</th>\n",
              "      <th>dsthostsamesrcportrate</th>\n",
              "      <th>dsthostsrvdiffhostrate</th>\n",
              "      <th>dsthostserrorrate</th>\n",
              "      <th>dsthostsrvserrorrate</th>\n",
              "      <th>dsthostrerrorrate</th>\n",
              "      <th>dsthostsrvrerrorrate</th>\n",
              "      <th>attack</th>\n",
              "      <th>lastflag</th>\n",
              "    </tr>\n",
              "  </thead>\n",
              "  <tbody>\n",
              "    <tr>\n",
              "      <th>0</th>\n",
              "      <td>0</td>\n",
              "      <td>tcp</td>\n",
              "      <td>ftp_data</td>\n",
              "      <td>SF</td>\n",
              "      <td>491</td>\n",
              "      <td>0</td>\n",
              "      <td>0</td>\n",
              "      <td>0</td>\n",
              "      <td>0</td>\n",
              "      <td>0</td>\n",
              "      <td>0</td>\n",
              "      <td>0</td>\n",
              "      <td>0</td>\n",
              "      <td>0</td>\n",
              "      <td>0</td>\n",
              "      <td>0</td>\n",
              "      <td>0</td>\n",
              "      <td>0</td>\n",
              "      <td>0</td>\n",
              "      <td>0</td>\n",
              "      <td>0</td>\n",
              "      <td>0</td>\n",
              "      <td>2</td>\n",
              "      <td>2</td>\n",
              "      <td>0.0</td>\n",
              "      <td>0.0</td>\n",
              "      <td>0.0</td>\n",
              "      <td>0.0</td>\n",
              "      <td>1.00</td>\n",
              "      <td>0.00</td>\n",
              "      <td>0.00</td>\n",
              "      <td>150</td>\n",
              "      <td>25</td>\n",
              "      <td>0.17</td>\n",
              "      <td>0.03</td>\n",
              "      <td>0.17</td>\n",
              "      <td>0.00</td>\n",
              "      <td>0.00</td>\n",
              "      <td>0.00</td>\n",
              "      <td>0.05</td>\n",
              "      <td>0.00</td>\n",
              "      <td>normal</td>\n",
              "      <td>20</td>\n",
              "    </tr>\n",
              "    <tr>\n",
              "      <th>1</th>\n",
              "      <td>0</td>\n",
              "      <td>udp</td>\n",
              "      <td>other</td>\n",
              "      <td>SF</td>\n",
              "      <td>146</td>\n",
              "      <td>0</td>\n",
              "      <td>0</td>\n",
              "      <td>0</td>\n",
              "      <td>0</td>\n",
              "      <td>0</td>\n",
              "      <td>0</td>\n",
              "      <td>0</td>\n",
              "      <td>0</td>\n",
              "      <td>0</td>\n",
              "      <td>0</td>\n",
              "      <td>0</td>\n",
              "      <td>0</td>\n",
              "      <td>0</td>\n",
              "      <td>0</td>\n",
              "      <td>0</td>\n",
              "      <td>0</td>\n",
              "      <td>0</td>\n",
              "      <td>13</td>\n",
              "      <td>1</td>\n",
              "      <td>0.0</td>\n",
              "      <td>0.0</td>\n",
              "      <td>0.0</td>\n",
              "      <td>0.0</td>\n",
              "      <td>0.08</td>\n",
              "      <td>0.15</td>\n",
              "      <td>0.00</td>\n",
              "      <td>255</td>\n",
              "      <td>1</td>\n",
              "      <td>0.00</td>\n",
              "      <td>0.60</td>\n",
              "      <td>0.88</td>\n",
              "      <td>0.00</td>\n",
              "      <td>0.00</td>\n",
              "      <td>0.00</td>\n",
              "      <td>0.00</td>\n",
              "      <td>0.00</td>\n",
              "      <td>normal</td>\n",
              "      <td>15</td>\n",
              "    </tr>\n",
              "    <tr>\n",
              "      <th>2</th>\n",
              "      <td>0</td>\n",
              "      <td>tcp</td>\n",
              "      <td>private</td>\n",
              "      <td>S0</td>\n",
              "      <td>0</td>\n",
              "      <td>0</td>\n",
              "      <td>0</td>\n",
              "      <td>0</td>\n",
              "      <td>0</td>\n",
              "      <td>0</td>\n",
              "      <td>0</td>\n",
              "      <td>0</td>\n",
              "      <td>0</td>\n",
              "      <td>0</td>\n",
              "      <td>0</td>\n",
              "      <td>0</td>\n",
              "      <td>0</td>\n",
              "      <td>0</td>\n",
              "      <td>0</td>\n",
              "      <td>0</td>\n",
              "      <td>0</td>\n",
              "      <td>0</td>\n",
              "      <td>123</td>\n",
              "      <td>6</td>\n",
              "      <td>1.0</td>\n",
              "      <td>1.0</td>\n",
              "      <td>0.0</td>\n",
              "      <td>0.0</td>\n",
              "      <td>0.05</td>\n",
              "      <td>0.07</td>\n",
              "      <td>0.00</td>\n",
              "      <td>255</td>\n",
              "      <td>26</td>\n",
              "      <td>0.10</td>\n",
              "      <td>0.05</td>\n",
              "      <td>0.00</td>\n",
              "      <td>0.00</td>\n",
              "      <td>1.00</td>\n",
              "      <td>1.00</td>\n",
              "      <td>0.00</td>\n",
              "      <td>0.00</td>\n",
              "      <td>neptune</td>\n",
              "      <td>19</td>\n",
              "    </tr>\n",
              "    <tr>\n",
              "      <th>3</th>\n",
              "      <td>0</td>\n",
              "      <td>tcp</td>\n",
              "      <td>http</td>\n",
              "      <td>SF</td>\n",
              "      <td>232</td>\n",
              "      <td>8153</td>\n",
              "      <td>0</td>\n",
              "      <td>0</td>\n",
              "      <td>0</td>\n",
              "      <td>0</td>\n",
              "      <td>0</td>\n",
              "      <td>1</td>\n",
              "      <td>0</td>\n",
              "      <td>0</td>\n",
              "      <td>0</td>\n",
              "      <td>0</td>\n",
              "      <td>0</td>\n",
              "      <td>0</td>\n",
              "      <td>0</td>\n",
              "      <td>0</td>\n",
              "      <td>0</td>\n",
              "      <td>0</td>\n",
              "      <td>5</td>\n",
              "      <td>5</td>\n",
              "      <td>0.2</td>\n",
              "      <td>0.2</td>\n",
              "      <td>0.0</td>\n",
              "      <td>0.0</td>\n",
              "      <td>1.00</td>\n",
              "      <td>0.00</td>\n",
              "      <td>0.00</td>\n",
              "      <td>30</td>\n",
              "      <td>255</td>\n",
              "      <td>1.00</td>\n",
              "      <td>0.00</td>\n",
              "      <td>0.03</td>\n",
              "      <td>0.04</td>\n",
              "      <td>0.03</td>\n",
              "      <td>0.01</td>\n",
              "      <td>0.00</td>\n",
              "      <td>0.01</td>\n",
              "      <td>normal</td>\n",
              "      <td>21</td>\n",
              "    </tr>\n",
              "    <tr>\n",
              "      <th>4</th>\n",
              "      <td>0</td>\n",
              "      <td>tcp</td>\n",
              "      <td>http</td>\n",
              "      <td>SF</td>\n",
              "      <td>199</td>\n",
              "      <td>420</td>\n",
              "      <td>0</td>\n",
              "      <td>0</td>\n",
              "      <td>0</td>\n",
              "      <td>0</td>\n",
              "      <td>0</td>\n",
              "      <td>1</td>\n",
              "      <td>0</td>\n",
              "      <td>0</td>\n",
              "      <td>0</td>\n",
              "      <td>0</td>\n",
              "      <td>0</td>\n",
              "      <td>0</td>\n",
              "      <td>0</td>\n",
              "      <td>0</td>\n",
              "      <td>0</td>\n",
              "      <td>0</td>\n",
              "      <td>30</td>\n",
              "      <td>32</td>\n",
              "      <td>0.0</td>\n",
              "      <td>0.0</td>\n",
              "      <td>0.0</td>\n",
              "      <td>0.0</td>\n",
              "      <td>1.00</td>\n",
              "      <td>0.00</td>\n",
              "      <td>0.09</td>\n",
              "      <td>255</td>\n",
              "      <td>255</td>\n",
              "      <td>1.00</td>\n",
              "      <td>0.00</td>\n",
              "      <td>0.00</td>\n",
              "      <td>0.00</td>\n",
              "      <td>0.00</td>\n",
              "      <td>0.00</td>\n",
              "      <td>0.00</td>\n",
              "      <td>0.00</td>\n",
              "      <td>normal</td>\n",
              "      <td>21</td>\n",
              "    </tr>\n",
              "  </tbody>\n",
              "</table>\n",
              "</div>\n",
              "    <div class=\"colab-df-buttons\">\n",
              "\n",
              "  <div class=\"colab-df-container\">\n",
              "    <button class=\"colab-df-convert\" onclick=\"convertToInteractive('df-82c55fda-1a17-4d9a-88be-cb1be282a75d')\"\n",
              "            title=\"Convert this dataframe to an interactive table.\"\n",
              "            style=\"display:none;\">\n",
              "\n",
              "  <svg xmlns=\"http://www.w3.org/2000/svg\" height=\"24px\" viewBox=\"0 -960 960 960\">\n",
              "    <path d=\"M120-120v-720h720v720H120Zm60-500h600v-160H180v160Zm220 220h160v-160H400v160Zm0 220h160v-160H400v160ZM180-400h160v-160H180v160Zm440 0h160v-160H620v160ZM180-180h160v-160H180v160Zm440 0h160v-160H620v160Z\"/>\n",
              "  </svg>\n",
              "    </button>\n",
              "\n",
              "  <style>\n",
              "    .colab-df-container {\n",
              "      display:flex;\n",
              "      gap: 12px;\n",
              "    }\n",
              "\n",
              "    .colab-df-convert {\n",
              "      background-color: #E8F0FE;\n",
              "      border: none;\n",
              "      border-radius: 50%;\n",
              "      cursor: pointer;\n",
              "      display: none;\n",
              "      fill: #1967D2;\n",
              "      height: 32px;\n",
              "      padding: 0 0 0 0;\n",
              "      width: 32px;\n",
              "    }\n",
              "\n",
              "    .colab-df-convert:hover {\n",
              "      background-color: #E2EBFA;\n",
              "      box-shadow: 0px 1px 2px rgba(60, 64, 67, 0.3), 0px 1px 3px 1px rgba(60, 64, 67, 0.15);\n",
              "      fill: #174EA6;\n",
              "    }\n",
              "\n",
              "    .colab-df-buttons div {\n",
              "      margin-bottom: 4px;\n",
              "    }\n",
              "\n",
              "    [theme=dark] .colab-df-convert {\n",
              "      background-color: #3B4455;\n",
              "      fill: #D2E3FC;\n",
              "    }\n",
              "\n",
              "    [theme=dark] .colab-df-convert:hover {\n",
              "      background-color: #434B5C;\n",
              "      box-shadow: 0px 1px 3px 1px rgba(0, 0, 0, 0.15);\n",
              "      filter: drop-shadow(0px 1px 2px rgba(0, 0, 0, 0.3));\n",
              "      fill: #FFFFFF;\n",
              "    }\n",
              "  </style>\n",
              "\n",
              "    <script>\n",
              "      const buttonEl =\n",
              "        document.querySelector('#df-82c55fda-1a17-4d9a-88be-cb1be282a75d button.colab-df-convert');\n",
              "      buttonEl.style.display =\n",
              "        google.colab.kernel.accessAllowed ? 'block' : 'none';\n",
              "\n",
              "      async function convertToInteractive(key) {\n",
              "        const element = document.querySelector('#df-82c55fda-1a17-4d9a-88be-cb1be282a75d');\n",
              "        const dataTable =\n",
              "          await google.colab.kernel.invokeFunction('convertToInteractive',\n",
              "                                                    [key], {});\n",
              "        if (!dataTable) return;\n",
              "\n",
              "        const docLinkHtml = 'Like what you see? Visit the ' +\n",
              "          '<a target=\"_blank\" href=https://colab.research.google.com/notebooks/data_table.ipynb>data table notebook</a>'\n",
              "          + ' to learn more about interactive tables.';\n",
              "        element.innerHTML = '';\n",
              "        dataTable['output_type'] = 'display_data';\n",
              "        await google.colab.output.renderOutput(dataTable, element);\n",
              "        const docLink = document.createElement('div');\n",
              "        docLink.innerHTML = docLinkHtml;\n",
              "        element.appendChild(docLink);\n",
              "      }\n",
              "    </script>\n",
              "  </div>\n",
              "\n",
              "\n",
              "<div id=\"df-a964ca09-7bdb-4e93-9452-afd793dda3aa\">\n",
              "  <button class=\"colab-df-quickchart\" onclick=\"quickchart('df-a964ca09-7bdb-4e93-9452-afd793dda3aa')\"\n",
              "            title=\"Suggest charts\"\n",
              "            style=\"display:none;\">\n",
              "\n",
              "<svg xmlns=\"http://www.w3.org/2000/svg\" height=\"24px\"viewBox=\"0 0 24 24\"\n",
              "     width=\"24px\">\n",
              "    <g>\n",
              "        <path d=\"M19 3H5c-1.1 0-2 .9-2 2v14c0 1.1.9 2 2 2h14c1.1 0 2-.9 2-2V5c0-1.1-.9-2-2-2zM9 17H7v-7h2v7zm4 0h-2V7h2v10zm4 0h-2v-4h2v4z\"/>\n",
              "    </g>\n",
              "</svg>\n",
              "  </button>\n",
              "\n",
              "<style>\n",
              "  .colab-df-quickchart {\n",
              "      --bg-color: #E8F0FE;\n",
              "      --fill-color: #1967D2;\n",
              "      --hover-bg-color: #E2EBFA;\n",
              "      --hover-fill-color: #174EA6;\n",
              "      --disabled-fill-color: #AAA;\n",
              "      --disabled-bg-color: #DDD;\n",
              "  }\n",
              "\n",
              "  [theme=dark] .colab-df-quickchart {\n",
              "      --bg-color: #3B4455;\n",
              "      --fill-color: #D2E3FC;\n",
              "      --hover-bg-color: #434B5C;\n",
              "      --hover-fill-color: #FFFFFF;\n",
              "      --disabled-bg-color: #3B4455;\n",
              "      --disabled-fill-color: #666;\n",
              "  }\n",
              "\n",
              "  .colab-df-quickchart {\n",
              "    background-color: var(--bg-color);\n",
              "    border: none;\n",
              "    border-radius: 50%;\n",
              "    cursor: pointer;\n",
              "    display: none;\n",
              "    fill: var(--fill-color);\n",
              "    height: 32px;\n",
              "    padding: 0;\n",
              "    width: 32px;\n",
              "  }\n",
              "\n",
              "  .colab-df-quickchart:hover {\n",
              "    background-color: var(--hover-bg-color);\n",
              "    box-shadow: 0 1px 2px rgba(60, 64, 67, 0.3), 0 1px 3px 1px rgba(60, 64, 67, 0.15);\n",
              "    fill: var(--button-hover-fill-color);\n",
              "  }\n",
              "\n",
              "  .colab-df-quickchart-complete:disabled,\n",
              "  .colab-df-quickchart-complete:disabled:hover {\n",
              "    background-color: var(--disabled-bg-color);\n",
              "    fill: var(--disabled-fill-color);\n",
              "    box-shadow: none;\n",
              "  }\n",
              "\n",
              "  .colab-df-spinner {\n",
              "    border: 2px solid var(--fill-color);\n",
              "    border-color: transparent;\n",
              "    border-bottom-color: var(--fill-color);\n",
              "    animation:\n",
              "      spin 1s steps(1) infinite;\n",
              "  }\n",
              "\n",
              "  @keyframes spin {\n",
              "    0% {\n",
              "      border-color: transparent;\n",
              "      border-bottom-color: var(--fill-color);\n",
              "      border-left-color: var(--fill-color);\n",
              "    }\n",
              "    20% {\n",
              "      border-color: transparent;\n",
              "      border-left-color: var(--fill-color);\n",
              "      border-top-color: var(--fill-color);\n",
              "    }\n",
              "    30% {\n",
              "      border-color: transparent;\n",
              "      border-left-color: var(--fill-color);\n",
              "      border-top-color: var(--fill-color);\n",
              "      border-right-color: var(--fill-color);\n",
              "    }\n",
              "    40% {\n",
              "      border-color: transparent;\n",
              "      border-right-color: var(--fill-color);\n",
              "      border-top-color: var(--fill-color);\n",
              "    }\n",
              "    60% {\n",
              "      border-color: transparent;\n",
              "      border-right-color: var(--fill-color);\n",
              "    }\n",
              "    80% {\n",
              "      border-color: transparent;\n",
              "      border-right-color: var(--fill-color);\n",
              "      border-bottom-color: var(--fill-color);\n",
              "    }\n",
              "    90% {\n",
              "      border-color: transparent;\n",
              "      border-bottom-color: var(--fill-color);\n",
              "    }\n",
              "  }\n",
              "</style>\n",
              "\n",
              "  <script>\n",
              "    async function quickchart(key) {\n",
              "      const quickchartButtonEl =\n",
              "        document.querySelector('#' + key + ' button');\n",
              "      quickchartButtonEl.disabled = true;  // To prevent multiple clicks.\n",
              "      quickchartButtonEl.classList.add('colab-df-spinner');\n",
              "      try {\n",
              "        const charts = await google.colab.kernel.invokeFunction(\n",
              "            'suggestCharts', [key], {});\n",
              "      } catch (error) {\n",
              "        console.error('Error during call to suggestCharts:', error);\n",
              "      }\n",
              "      quickchartButtonEl.classList.remove('colab-df-spinner');\n",
              "      quickchartButtonEl.classList.add('colab-df-quickchart-complete');\n",
              "    }\n",
              "    (() => {\n",
              "      let quickchartButtonEl =\n",
              "        document.querySelector('#df-a964ca09-7bdb-4e93-9452-afd793dda3aa button');\n",
              "      quickchartButtonEl.style.display =\n",
              "        google.colab.kernel.accessAllowed ? 'block' : 'none';\n",
              "    })();\n",
              "  </script>\n",
              "</div>\n",
              "\n",
              "    </div>\n",
              "  </div>\n"
            ],
            "application/vnd.google.colaboratory.intrinsic+json": {
              "type": "dataframe",
              "variable_name": "df"
            }
          },
          "metadata": {},
          "execution_count": 56
        }
      ]
    },
    {
      "cell_type": "markdown",
      "source": [
        "####Get the basic overview of the data"
      ],
      "metadata": {
        "id": "2Sjx8L5I4PzZ"
      }
    },
    {
      "cell_type": "code",
      "source": [
        "df.info()"
      ],
      "metadata": {
        "colab": {
          "base_uri": "https://localhost:8080/"
        },
        "id": "6-dN5N2gmQ6K",
        "outputId": "34aba788-973b-4c2c-de55-e9a9c1243f08"
      },
      "execution_count": 57,
      "outputs": [
        {
          "output_type": "stream",
          "name": "stdout",
          "text": [
            "<class 'pandas.core.frame.DataFrame'>\n",
            "RangeIndex: 125973 entries, 0 to 125972\n",
            "Data columns (total 43 columns):\n",
            " #   Column                  Non-Null Count   Dtype  \n",
            "---  ------                  --------------   -----  \n",
            " 0   duration                125973 non-null  int64  \n",
            " 1   protocoltype            125973 non-null  object \n",
            " 2   service                 125973 non-null  object \n",
            " 3   flag                    125973 non-null  object \n",
            " 4   srcbytes                125973 non-null  int64  \n",
            " 5   dstbytes                125973 non-null  int64  \n",
            " 6   land                    125973 non-null  int64  \n",
            " 7   wrongfragment           125973 non-null  int64  \n",
            " 8   urgent                  125973 non-null  int64  \n",
            " 9   hot                     125973 non-null  int64  \n",
            " 10  numfailedlogins         125973 non-null  int64  \n",
            " 11  loggedin                125973 non-null  int64  \n",
            " 12  numcompromised          125973 non-null  int64  \n",
            " 13  rootshell               125973 non-null  int64  \n",
            " 14  suattempted             125973 non-null  int64  \n",
            " 15  numroot                 125973 non-null  int64  \n",
            " 16  numfilecreations        125973 non-null  int64  \n",
            " 17  numshells               125973 non-null  int64  \n",
            " 18  numaccessfiles          125973 non-null  int64  \n",
            " 19  numoutboundcmds         125973 non-null  int64  \n",
            " 20  ishostlogin             125973 non-null  int64  \n",
            " 21  isguestlogin            125973 non-null  int64  \n",
            " 22  count                   125973 non-null  int64  \n",
            " 23  srvcount                125973 non-null  int64  \n",
            " 24  serrorrate              125973 non-null  float64\n",
            " 25  srvserrorrate           125973 non-null  float64\n",
            " 26  rerrorrate              125973 non-null  float64\n",
            " 27  srvrerrorrate           125973 non-null  float64\n",
            " 28  samesrvrate             125973 non-null  float64\n",
            " 29  diffsrvrate             125973 non-null  float64\n",
            " 30  srvdiffhostrate         125973 non-null  float64\n",
            " 31  dsthostcount            125973 non-null  int64  \n",
            " 32  dsthostsrvcount         125973 non-null  int64  \n",
            " 33  dsthostsamesrvrate      125973 non-null  float64\n",
            " 34  dsthostdiffsrvrate      125973 non-null  float64\n",
            " 35  dsthostsamesrcportrate  125973 non-null  float64\n",
            " 36  dsthostsrvdiffhostrate  125973 non-null  float64\n",
            " 37  dsthostserrorrate       125973 non-null  float64\n",
            " 38  dsthostsrvserrorrate    125973 non-null  float64\n",
            " 39  dsthostrerrorrate       125973 non-null  float64\n",
            " 40  dsthostsrvrerrorrate    125973 non-null  float64\n",
            " 41  attack                  125973 non-null  object \n",
            " 42  lastflag                125973 non-null  int64  \n",
            "dtypes: float64(15), int64(24), object(4)\n",
            "memory usage: 41.3+ MB\n"
          ]
        }
      ]
    },
    {
      "cell_type": "markdown",
      "source": [
        "**Insight:**\n",
        "- most of the columns are numerics\n",
        "- duration indicates time in seconds for each connection\n",
        "- all the columns which are float64 are percentage rate of already present features: feature engineering of them will be done later\n",
        "- attack column contains the classes of attacks that will be out target variable for classification"
      ],
      "metadata": {
        "id": "upkyuMDU7h-6"
      }
    },
    {
      "cell_type": "markdown",
      "source": [
        "#### **Missing value check**"
      ],
      "metadata": {
        "id": "p3onj5JhDHk7"
      }
    },
    {
      "cell_type": "code",
      "source": [
        "df.isna().sum()"
      ],
      "metadata": {
        "colab": {
          "base_uri": "https://localhost:8080/",
          "height": 1000
        },
        "id": "Xrk-MTi3DehU",
        "outputId": "ba8c707c-9b55-4fb5-9865-6bbf63679226"
      },
      "execution_count": 58,
      "outputs": [
        {
          "output_type": "execute_result",
          "data": {
            "text/plain": [
              "duration                  0\n",
              "protocoltype              0\n",
              "service                   0\n",
              "flag                      0\n",
              "srcbytes                  0\n",
              "dstbytes                  0\n",
              "land                      0\n",
              "wrongfragment             0\n",
              "urgent                    0\n",
              "hot                       0\n",
              "numfailedlogins           0\n",
              "loggedin                  0\n",
              "numcompromised            0\n",
              "rootshell                 0\n",
              "suattempted               0\n",
              "numroot                   0\n",
              "numfilecreations          0\n",
              "numshells                 0\n",
              "numaccessfiles            0\n",
              "numoutboundcmds           0\n",
              "ishostlogin               0\n",
              "isguestlogin              0\n",
              "count                     0\n",
              "srvcount                  0\n",
              "serrorrate                0\n",
              "srvserrorrate             0\n",
              "rerrorrate                0\n",
              "srvrerrorrate             0\n",
              "samesrvrate               0\n",
              "diffsrvrate               0\n",
              "srvdiffhostrate           0\n",
              "dsthostcount              0\n",
              "dsthostsrvcount           0\n",
              "dsthostsamesrvrate        0\n",
              "dsthostdiffsrvrate        0\n",
              "dsthostsamesrcportrate    0\n",
              "dsthostsrvdiffhostrate    0\n",
              "dsthostserrorrate         0\n",
              "dsthostsrvserrorrate      0\n",
              "dsthostrerrorrate         0\n",
              "dsthostsrvrerrorrate      0\n",
              "attack                    0\n",
              "lastflag                  0\n",
              "dtype: int64"
            ],
            "text/html": [
              "<table border=\"1\" class=\"dataframe\">\n",
              "  <thead>\n",
              "    <tr style=\"text-align: right;\">\n",
              "      <th></th>\n",
              "      <th>0</th>\n",
              "    </tr>\n",
              "  </thead>\n",
              "  <tbody>\n",
              "    <tr>\n",
              "      <th>duration</th>\n",
              "      <td>0</td>\n",
              "    </tr>\n",
              "    <tr>\n",
              "      <th>protocoltype</th>\n",
              "      <td>0</td>\n",
              "    </tr>\n",
              "    <tr>\n",
              "      <th>service</th>\n",
              "      <td>0</td>\n",
              "    </tr>\n",
              "    <tr>\n",
              "      <th>flag</th>\n",
              "      <td>0</td>\n",
              "    </tr>\n",
              "    <tr>\n",
              "      <th>srcbytes</th>\n",
              "      <td>0</td>\n",
              "    </tr>\n",
              "    <tr>\n",
              "      <th>dstbytes</th>\n",
              "      <td>0</td>\n",
              "    </tr>\n",
              "    <tr>\n",
              "      <th>land</th>\n",
              "      <td>0</td>\n",
              "    </tr>\n",
              "    <tr>\n",
              "      <th>wrongfragment</th>\n",
              "      <td>0</td>\n",
              "    </tr>\n",
              "    <tr>\n",
              "      <th>urgent</th>\n",
              "      <td>0</td>\n",
              "    </tr>\n",
              "    <tr>\n",
              "      <th>hot</th>\n",
              "      <td>0</td>\n",
              "    </tr>\n",
              "    <tr>\n",
              "      <th>numfailedlogins</th>\n",
              "      <td>0</td>\n",
              "    </tr>\n",
              "    <tr>\n",
              "      <th>loggedin</th>\n",
              "      <td>0</td>\n",
              "    </tr>\n",
              "    <tr>\n",
              "      <th>numcompromised</th>\n",
              "      <td>0</td>\n",
              "    </tr>\n",
              "    <tr>\n",
              "      <th>rootshell</th>\n",
              "      <td>0</td>\n",
              "    </tr>\n",
              "    <tr>\n",
              "      <th>suattempted</th>\n",
              "      <td>0</td>\n",
              "    </tr>\n",
              "    <tr>\n",
              "      <th>numroot</th>\n",
              "      <td>0</td>\n",
              "    </tr>\n",
              "    <tr>\n",
              "      <th>numfilecreations</th>\n",
              "      <td>0</td>\n",
              "    </tr>\n",
              "    <tr>\n",
              "      <th>numshells</th>\n",
              "      <td>0</td>\n",
              "    </tr>\n",
              "    <tr>\n",
              "      <th>numaccessfiles</th>\n",
              "      <td>0</td>\n",
              "    </tr>\n",
              "    <tr>\n",
              "      <th>numoutboundcmds</th>\n",
              "      <td>0</td>\n",
              "    </tr>\n",
              "    <tr>\n",
              "      <th>ishostlogin</th>\n",
              "      <td>0</td>\n",
              "    </tr>\n",
              "    <tr>\n",
              "      <th>isguestlogin</th>\n",
              "      <td>0</td>\n",
              "    </tr>\n",
              "    <tr>\n",
              "      <th>count</th>\n",
              "      <td>0</td>\n",
              "    </tr>\n",
              "    <tr>\n",
              "      <th>srvcount</th>\n",
              "      <td>0</td>\n",
              "    </tr>\n",
              "    <tr>\n",
              "      <th>serrorrate</th>\n",
              "      <td>0</td>\n",
              "    </tr>\n",
              "    <tr>\n",
              "      <th>srvserrorrate</th>\n",
              "      <td>0</td>\n",
              "    </tr>\n",
              "    <tr>\n",
              "      <th>rerrorrate</th>\n",
              "      <td>0</td>\n",
              "    </tr>\n",
              "    <tr>\n",
              "      <th>srvrerrorrate</th>\n",
              "      <td>0</td>\n",
              "    </tr>\n",
              "    <tr>\n",
              "      <th>samesrvrate</th>\n",
              "      <td>0</td>\n",
              "    </tr>\n",
              "    <tr>\n",
              "      <th>diffsrvrate</th>\n",
              "      <td>0</td>\n",
              "    </tr>\n",
              "    <tr>\n",
              "      <th>srvdiffhostrate</th>\n",
              "      <td>0</td>\n",
              "    </tr>\n",
              "    <tr>\n",
              "      <th>dsthostcount</th>\n",
              "      <td>0</td>\n",
              "    </tr>\n",
              "    <tr>\n",
              "      <th>dsthostsrvcount</th>\n",
              "      <td>0</td>\n",
              "    </tr>\n",
              "    <tr>\n",
              "      <th>dsthostsamesrvrate</th>\n",
              "      <td>0</td>\n",
              "    </tr>\n",
              "    <tr>\n",
              "      <th>dsthostdiffsrvrate</th>\n",
              "      <td>0</td>\n",
              "    </tr>\n",
              "    <tr>\n",
              "      <th>dsthostsamesrcportrate</th>\n",
              "      <td>0</td>\n",
              "    </tr>\n",
              "    <tr>\n",
              "      <th>dsthostsrvdiffhostrate</th>\n",
              "      <td>0</td>\n",
              "    </tr>\n",
              "    <tr>\n",
              "      <th>dsthostserrorrate</th>\n",
              "      <td>0</td>\n",
              "    </tr>\n",
              "    <tr>\n",
              "      <th>dsthostsrvserrorrate</th>\n",
              "      <td>0</td>\n",
              "    </tr>\n",
              "    <tr>\n",
              "      <th>dsthostrerrorrate</th>\n",
              "      <td>0</td>\n",
              "    </tr>\n",
              "    <tr>\n",
              "      <th>dsthostsrvrerrorrate</th>\n",
              "      <td>0</td>\n",
              "    </tr>\n",
              "    <tr>\n",
              "      <th>attack</th>\n",
              "      <td>0</td>\n",
              "    </tr>\n",
              "    <tr>\n",
              "      <th>lastflag</th>\n",
              "      <td>0</td>\n",
              "    </tr>\n",
              "  </tbody>\n",
              "</table><br><label><b>dtype:</b> int64</label>"
            ]
          },
          "metadata": {},
          "execution_count": 58
        }
      ]
    },
    {
      "cell_type": "markdown",
      "source": [
        "- No missing values in data"
      ],
      "metadata": {
        "id": "kkKlfCKLmVAL"
      }
    },
    {
      "cell_type": "markdown",
      "source": [
        "#### **Feature Engineering: Count from percentage**"
      ],
      "metadata": {
        "id": "b28idfDIDsDX"
      }
    },
    {
      "cell_type": "code",
      "source": [
        "#percent of count\n",
        "df['serrorcount'] = df['serrorrate']*df['count']\n",
        "df['rerrorcount'] = df['rerrorrate']*df['count']\n",
        "df['samesrvcount'] = df['samesrvrate']*df['count']\n",
        "df['diffsrvcount'] = df['diffsrvrate']*df['count']\n",
        "\n",
        "#percent of srvcount\n",
        "df['srvserrorcount'] = df['srvserrorrate']*df['srvcount']\n",
        "df['srvrerrorcount'] = df['srvrerrorrate']*df['srvcount']\n",
        "df['srvdiffhostcount'] = df['srvdiffhostrate']*df['srvcount']\n",
        "\n",
        "#percent of dsthostcount\n",
        "df['dsthostsamesrvcount'] = df['dsthostsamesrvrate']*df['dsthostcount']\n",
        "df['dsthostdiffsrvcount'] = df['dsthostdiffsrvrate']*df['dsthostcount']\n",
        "df['dsthostserrorcount'] = df['dsthostserrorrate']*df['dsthostcount']\n",
        "df['dsthostrerrorcount'] = df['dsthostrerrorrate']*df['dsthostcount']\n",
        "\n",
        "\n",
        "#percent of dsthostsrvcount\n",
        "df['dsthostsamesrcportcount'] = df['dsthostsamesrcportrate']*df['dsthostsrvcount']\n",
        "df['dsthostsrvdiffhostcount'] = df['dsthostsrvdiffhostrate']*df['dsthostsrvcount']\n",
        "df['dsthostsrvserrorcount'] = df['dsthostsrvserrorrate']*df['dsthostsrvcount']\n",
        "df['dsthostsrvrerrorcount'] = df['dsthostsrvrerrorrate']*df['dsthostsrvcount']\n"
      ],
      "metadata": {
        "id": "WwQlwYoxDw7F"
      },
      "execution_count": 59,
      "outputs": []
    },
    {
      "cell_type": "code",
      "source": [
        "df.head()"
      ],
      "metadata": {
        "colab": {
          "base_uri": "https://localhost:8080/",
          "height": 226
        },
        "id": "onW48xTrJvRv",
        "outputId": "1e7630fd-0c2a-4033-e979-91da0ef9fc72"
      },
      "execution_count": 60,
      "outputs": [
        {
          "output_type": "execute_result",
          "data": {
            "text/plain": [
              "   duration protocoltype   service flag  srcbytes  dstbytes  land  \\\n",
              "0         0          tcp  ftp_data   SF       491         0     0   \n",
              "1         0          udp     other   SF       146         0     0   \n",
              "2         0          tcp   private   S0         0         0     0   \n",
              "3         0          tcp      http   SF       232      8153     0   \n",
              "4         0          tcp      http   SF       199       420     0   \n",
              "\n",
              "   wrongfragment  urgent  hot  numfailedlogins  loggedin  numcompromised  \\\n",
              "0              0       0    0                0         0               0   \n",
              "1              0       0    0                0         0               0   \n",
              "2              0       0    0                0         0               0   \n",
              "3              0       0    0                0         1               0   \n",
              "4              0       0    0                0         1               0   \n",
              "\n",
              "   rootshell  suattempted  numroot  numfilecreations  numshells  \\\n",
              "0          0            0        0                 0          0   \n",
              "1          0            0        0                 0          0   \n",
              "2          0            0        0                 0          0   \n",
              "3          0            0        0                 0          0   \n",
              "4          0            0        0                 0          0   \n",
              "\n",
              "   numaccessfiles  numoutboundcmds  ishostlogin  isguestlogin  count  \\\n",
              "0               0                0            0             0      2   \n",
              "1               0                0            0             0     13   \n",
              "2               0                0            0             0    123   \n",
              "3               0                0            0             0      5   \n",
              "4               0                0            0             0     30   \n",
              "\n",
              "   srvcount  serrorrate  srvserrorrate  rerrorrate  srvrerrorrate  \\\n",
              "0         2         0.0            0.0         0.0            0.0   \n",
              "1         1         0.0            0.0         0.0            0.0   \n",
              "2         6         1.0            1.0         0.0            0.0   \n",
              "3         5         0.2            0.2         0.0            0.0   \n",
              "4        32         0.0            0.0         0.0            0.0   \n",
              "\n",
              "   samesrvrate  diffsrvrate  srvdiffhostrate  dsthostcount  dsthostsrvcount  \\\n",
              "0         1.00         0.00             0.00           150               25   \n",
              "1         0.08         0.15             0.00           255                1   \n",
              "2         0.05         0.07             0.00           255               26   \n",
              "3         1.00         0.00             0.00            30              255   \n",
              "4         1.00         0.00             0.09           255              255   \n",
              "\n",
              "   dsthostsamesrvrate  dsthostdiffsrvrate  dsthostsamesrcportrate  \\\n",
              "0                0.17                0.03                    0.17   \n",
              "1                0.00                0.60                    0.88   \n",
              "2                0.10                0.05                    0.00   \n",
              "3                1.00                0.00                    0.03   \n",
              "4                1.00                0.00                    0.00   \n",
              "\n",
              "   dsthostsrvdiffhostrate  dsthostserrorrate  dsthostsrvserrorrate  \\\n",
              "0                    0.00               0.00                  0.00   \n",
              "1                    0.00               0.00                  0.00   \n",
              "2                    0.00               1.00                  1.00   \n",
              "3                    0.04               0.03                  0.01   \n",
              "4                    0.00               0.00                  0.00   \n",
              "\n",
              "   dsthostrerrorrate  dsthostsrvrerrorrate   attack  lastflag  serrorcount  \\\n",
              "0               0.05                  0.00   normal        20          0.0   \n",
              "1               0.00                  0.00   normal        15          0.0   \n",
              "2               0.00                  0.00  neptune        19        123.0   \n",
              "3               0.00                  0.01   normal        21          1.0   \n",
              "4               0.00                  0.00   normal        21          0.0   \n",
              "\n",
              "   rerrorcount  samesrvcount  diffsrvcount  srvserrorcount  srvrerrorcount  \\\n",
              "0          0.0          2.00          0.00             0.0             0.0   \n",
              "1          0.0          1.04          1.95             0.0             0.0   \n",
              "2          0.0          6.15          8.61             6.0             0.0   \n",
              "3          0.0          5.00          0.00             1.0             0.0   \n",
              "4          0.0         30.00          0.00             0.0             0.0   \n",
              "\n",
              "   srvdiffhostcount  dsthostsamesrvcount  dsthostdiffsrvcount  \\\n",
              "0              0.00                 25.5                 4.50   \n",
              "1              0.00                  0.0               153.00   \n",
              "2              0.00                 25.5                12.75   \n",
              "3              0.00                 30.0                 0.00   \n",
              "4              2.88                255.0                 0.00   \n",
              "\n",
              "   dsthostserrorcount  dsthostrerrorcount  dsthostsamesrcportcount  \\\n",
              "0                 0.0                 7.5                     4.25   \n",
              "1                 0.0                 0.0                     0.88   \n",
              "2               255.0                 0.0                     0.00   \n",
              "3                 0.9                 0.0                     7.65   \n",
              "4                 0.0                 0.0                     0.00   \n",
              "\n",
              "   dsthostsrvdiffhostcount  dsthostsrvserrorcount  dsthostsrvrerrorcount  \n",
              "0                      0.0                   0.00                   0.00  \n",
              "1                      0.0                   0.00                   0.00  \n",
              "2                      0.0                  26.00                   0.00  \n",
              "3                     10.2                   2.55                   2.55  \n",
              "4                      0.0                   0.00                   0.00  "
            ],
            "text/html": [
              "\n",
              "  <div id=\"df-fda1d513-1450-4a27-9752-cf3ee06cde1c\" class=\"colab-df-container\">\n",
              "    <div>\n",
              "<style scoped>\n",
              "    .dataframe tbody tr th:only-of-type {\n",
              "        vertical-align: middle;\n",
              "    }\n",
              "\n",
              "    .dataframe tbody tr th {\n",
              "        vertical-align: top;\n",
              "    }\n",
              "\n",
              "    .dataframe thead th {\n",
              "        text-align: right;\n",
              "    }\n",
              "</style>\n",
              "<table border=\"1\" class=\"dataframe\">\n",
              "  <thead>\n",
              "    <tr style=\"text-align: right;\">\n",
              "      <th></th>\n",
              "      <th>duration</th>\n",
              "      <th>protocoltype</th>\n",
              "      <th>service</th>\n",
              "      <th>flag</th>\n",
              "      <th>srcbytes</th>\n",
              "      <th>dstbytes</th>\n",
              "      <th>land</th>\n",
              "      <th>wrongfragment</th>\n",
              "      <th>urgent</th>\n",
              "      <th>hot</th>\n",
              "      <th>numfailedlogins</th>\n",
              "      <th>loggedin</th>\n",
              "      <th>numcompromised</th>\n",
              "      <th>rootshell</th>\n",
              "      <th>suattempted</th>\n",
              "      <th>numroot</th>\n",
              "      <th>numfilecreations</th>\n",
              "      <th>numshells</th>\n",
              "      <th>numaccessfiles</th>\n",
              "      <th>numoutboundcmds</th>\n",
              "      <th>ishostlogin</th>\n",
              "      <th>isguestlogin</th>\n",
              "      <th>count</th>\n",
              "      <th>srvcount</th>\n",
              "      <th>serrorrate</th>\n",
              "      <th>srvserrorrate</th>\n",
              "      <th>rerrorrate</th>\n",
              "      <th>srvrerrorrate</th>\n",
              "      <th>samesrvrate</th>\n",
              "      <th>diffsrvrate</th>\n",
              "      <th>srvdiffhostrate</th>\n",
              "      <th>dsthostcount</th>\n",
              "      <th>dsthostsrvcount</th>\n",
              "      <th>dsthostsamesrvrate</th>\n",
              "      <th>dsthostdiffsrvrate</th>\n",
              "      <th>dsthostsamesrcportrate</th>\n",
              "      <th>dsthostsrvdiffhostrate</th>\n",
              "      <th>dsthostserrorrate</th>\n",
              "      <th>dsthostsrvserrorrate</th>\n",
              "      <th>dsthostrerrorrate</th>\n",
              "      <th>dsthostsrvrerrorrate</th>\n",
              "      <th>attack</th>\n",
              "      <th>lastflag</th>\n",
              "      <th>serrorcount</th>\n",
              "      <th>rerrorcount</th>\n",
              "      <th>samesrvcount</th>\n",
              "      <th>diffsrvcount</th>\n",
              "      <th>srvserrorcount</th>\n",
              "      <th>srvrerrorcount</th>\n",
              "      <th>srvdiffhostcount</th>\n",
              "      <th>dsthostsamesrvcount</th>\n",
              "      <th>dsthostdiffsrvcount</th>\n",
              "      <th>dsthostserrorcount</th>\n",
              "      <th>dsthostrerrorcount</th>\n",
              "      <th>dsthostsamesrcportcount</th>\n",
              "      <th>dsthostsrvdiffhostcount</th>\n",
              "      <th>dsthostsrvserrorcount</th>\n",
              "      <th>dsthostsrvrerrorcount</th>\n",
              "    </tr>\n",
              "  </thead>\n",
              "  <tbody>\n",
              "    <tr>\n",
              "      <th>0</th>\n",
              "      <td>0</td>\n",
              "      <td>tcp</td>\n",
              "      <td>ftp_data</td>\n",
              "      <td>SF</td>\n",
              "      <td>491</td>\n",
              "      <td>0</td>\n",
              "      <td>0</td>\n",
              "      <td>0</td>\n",
              "      <td>0</td>\n",
              "      <td>0</td>\n",
              "      <td>0</td>\n",
              "      <td>0</td>\n",
              "      <td>0</td>\n",
              "      <td>0</td>\n",
              "      <td>0</td>\n",
              "      <td>0</td>\n",
              "      <td>0</td>\n",
              "      <td>0</td>\n",
              "      <td>0</td>\n",
              "      <td>0</td>\n",
              "      <td>0</td>\n",
              "      <td>0</td>\n",
              "      <td>2</td>\n",
              "      <td>2</td>\n",
              "      <td>0.0</td>\n",
              "      <td>0.0</td>\n",
              "      <td>0.0</td>\n",
              "      <td>0.0</td>\n",
              "      <td>1.00</td>\n",
              "      <td>0.00</td>\n",
              "      <td>0.00</td>\n",
              "      <td>150</td>\n",
              "      <td>25</td>\n",
              "      <td>0.17</td>\n",
              "      <td>0.03</td>\n",
              "      <td>0.17</td>\n",
              "      <td>0.00</td>\n",
              "      <td>0.00</td>\n",
              "      <td>0.00</td>\n",
              "      <td>0.05</td>\n",
              "      <td>0.00</td>\n",
              "      <td>normal</td>\n",
              "      <td>20</td>\n",
              "      <td>0.0</td>\n",
              "      <td>0.0</td>\n",
              "      <td>2.00</td>\n",
              "      <td>0.00</td>\n",
              "      <td>0.0</td>\n",
              "      <td>0.0</td>\n",
              "      <td>0.00</td>\n",
              "      <td>25.5</td>\n",
              "      <td>4.50</td>\n",
              "      <td>0.0</td>\n",
              "      <td>7.5</td>\n",
              "      <td>4.25</td>\n",
              "      <td>0.0</td>\n",
              "      <td>0.00</td>\n",
              "      <td>0.00</td>\n",
              "    </tr>\n",
              "    <tr>\n",
              "      <th>1</th>\n",
              "      <td>0</td>\n",
              "      <td>udp</td>\n",
              "      <td>other</td>\n",
              "      <td>SF</td>\n",
              "      <td>146</td>\n",
              "      <td>0</td>\n",
              "      <td>0</td>\n",
              "      <td>0</td>\n",
              "      <td>0</td>\n",
              "      <td>0</td>\n",
              "      <td>0</td>\n",
              "      <td>0</td>\n",
              "      <td>0</td>\n",
              "      <td>0</td>\n",
              "      <td>0</td>\n",
              "      <td>0</td>\n",
              "      <td>0</td>\n",
              "      <td>0</td>\n",
              "      <td>0</td>\n",
              "      <td>0</td>\n",
              "      <td>0</td>\n",
              "      <td>0</td>\n",
              "      <td>13</td>\n",
              "      <td>1</td>\n",
              "      <td>0.0</td>\n",
              "      <td>0.0</td>\n",
              "      <td>0.0</td>\n",
              "      <td>0.0</td>\n",
              "      <td>0.08</td>\n",
              "      <td>0.15</td>\n",
              "      <td>0.00</td>\n",
              "      <td>255</td>\n",
              "      <td>1</td>\n",
              "      <td>0.00</td>\n",
              "      <td>0.60</td>\n",
              "      <td>0.88</td>\n",
              "      <td>0.00</td>\n",
              "      <td>0.00</td>\n",
              "      <td>0.00</td>\n",
              "      <td>0.00</td>\n",
              "      <td>0.00</td>\n",
              "      <td>normal</td>\n",
              "      <td>15</td>\n",
              "      <td>0.0</td>\n",
              "      <td>0.0</td>\n",
              "      <td>1.04</td>\n",
              "      <td>1.95</td>\n",
              "      <td>0.0</td>\n",
              "      <td>0.0</td>\n",
              "      <td>0.00</td>\n",
              "      <td>0.0</td>\n",
              "      <td>153.00</td>\n",
              "      <td>0.0</td>\n",
              "      <td>0.0</td>\n",
              "      <td>0.88</td>\n",
              "      <td>0.0</td>\n",
              "      <td>0.00</td>\n",
              "      <td>0.00</td>\n",
              "    </tr>\n",
              "    <tr>\n",
              "      <th>2</th>\n",
              "      <td>0</td>\n",
              "      <td>tcp</td>\n",
              "      <td>private</td>\n",
              "      <td>S0</td>\n",
              "      <td>0</td>\n",
              "      <td>0</td>\n",
              "      <td>0</td>\n",
              "      <td>0</td>\n",
              "      <td>0</td>\n",
              "      <td>0</td>\n",
              "      <td>0</td>\n",
              "      <td>0</td>\n",
              "      <td>0</td>\n",
              "      <td>0</td>\n",
              "      <td>0</td>\n",
              "      <td>0</td>\n",
              "      <td>0</td>\n",
              "      <td>0</td>\n",
              "      <td>0</td>\n",
              "      <td>0</td>\n",
              "      <td>0</td>\n",
              "      <td>0</td>\n",
              "      <td>123</td>\n",
              "      <td>6</td>\n",
              "      <td>1.0</td>\n",
              "      <td>1.0</td>\n",
              "      <td>0.0</td>\n",
              "      <td>0.0</td>\n",
              "      <td>0.05</td>\n",
              "      <td>0.07</td>\n",
              "      <td>0.00</td>\n",
              "      <td>255</td>\n",
              "      <td>26</td>\n",
              "      <td>0.10</td>\n",
              "      <td>0.05</td>\n",
              "      <td>0.00</td>\n",
              "      <td>0.00</td>\n",
              "      <td>1.00</td>\n",
              "      <td>1.00</td>\n",
              "      <td>0.00</td>\n",
              "      <td>0.00</td>\n",
              "      <td>neptune</td>\n",
              "      <td>19</td>\n",
              "      <td>123.0</td>\n",
              "      <td>0.0</td>\n",
              "      <td>6.15</td>\n",
              "      <td>8.61</td>\n",
              "      <td>6.0</td>\n",
              "      <td>0.0</td>\n",
              "      <td>0.00</td>\n",
              "      <td>25.5</td>\n",
              "      <td>12.75</td>\n",
              "      <td>255.0</td>\n",
              "      <td>0.0</td>\n",
              "      <td>0.00</td>\n",
              "      <td>0.0</td>\n",
              "      <td>26.00</td>\n",
              "      <td>0.00</td>\n",
              "    </tr>\n",
              "    <tr>\n",
              "      <th>3</th>\n",
              "      <td>0</td>\n",
              "      <td>tcp</td>\n",
              "      <td>http</td>\n",
              "      <td>SF</td>\n",
              "      <td>232</td>\n",
              "      <td>8153</td>\n",
              "      <td>0</td>\n",
              "      <td>0</td>\n",
              "      <td>0</td>\n",
              "      <td>0</td>\n",
              "      <td>0</td>\n",
              "      <td>1</td>\n",
              "      <td>0</td>\n",
              "      <td>0</td>\n",
              "      <td>0</td>\n",
              "      <td>0</td>\n",
              "      <td>0</td>\n",
              "      <td>0</td>\n",
              "      <td>0</td>\n",
              "      <td>0</td>\n",
              "      <td>0</td>\n",
              "      <td>0</td>\n",
              "      <td>5</td>\n",
              "      <td>5</td>\n",
              "      <td>0.2</td>\n",
              "      <td>0.2</td>\n",
              "      <td>0.0</td>\n",
              "      <td>0.0</td>\n",
              "      <td>1.00</td>\n",
              "      <td>0.00</td>\n",
              "      <td>0.00</td>\n",
              "      <td>30</td>\n",
              "      <td>255</td>\n",
              "      <td>1.00</td>\n",
              "      <td>0.00</td>\n",
              "      <td>0.03</td>\n",
              "      <td>0.04</td>\n",
              "      <td>0.03</td>\n",
              "      <td>0.01</td>\n",
              "      <td>0.00</td>\n",
              "      <td>0.01</td>\n",
              "      <td>normal</td>\n",
              "      <td>21</td>\n",
              "      <td>1.0</td>\n",
              "      <td>0.0</td>\n",
              "      <td>5.00</td>\n",
              "      <td>0.00</td>\n",
              "      <td>1.0</td>\n",
              "      <td>0.0</td>\n",
              "      <td>0.00</td>\n",
              "      <td>30.0</td>\n",
              "      <td>0.00</td>\n",
              "      <td>0.9</td>\n",
              "      <td>0.0</td>\n",
              "      <td>7.65</td>\n",
              "      <td>10.2</td>\n",
              "      <td>2.55</td>\n",
              "      <td>2.55</td>\n",
              "    </tr>\n",
              "    <tr>\n",
              "      <th>4</th>\n",
              "      <td>0</td>\n",
              "      <td>tcp</td>\n",
              "      <td>http</td>\n",
              "      <td>SF</td>\n",
              "      <td>199</td>\n",
              "      <td>420</td>\n",
              "      <td>0</td>\n",
              "      <td>0</td>\n",
              "      <td>0</td>\n",
              "      <td>0</td>\n",
              "      <td>0</td>\n",
              "      <td>1</td>\n",
              "      <td>0</td>\n",
              "      <td>0</td>\n",
              "      <td>0</td>\n",
              "      <td>0</td>\n",
              "      <td>0</td>\n",
              "      <td>0</td>\n",
              "      <td>0</td>\n",
              "      <td>0</td>\n",
              "      <td>0</td>\n",
              "      <td>0</td>\n",
              "      <td>30</td>\n",
              "      <td>32</td>\n",
              "      <td>0.0</td>\n",
              "      <td>0.0</td>\n",
              "      <td>0.0</td>\n",
              "      <td>0.0</td>\n",
              "      <td>1.00</td>\n",
              "      <td>0.00</td>\n",
              "      <td>0.09</td>\n",
              "      <td>255</td>\n",
              "      <td>255</td>\n",
              "      <td>1.00</td>\n",
              "      <td>0.00</td>\n",
              "      <td>0.00</td>\n",
              "      <td>0.00</td>\n",
              "      <td>0.00</td>\n",
              "      <td>0.00</td>\n",
              "      <td>0.00</td>\n",
              "      <td>0.00</td>\n",
              "      <td>normal</td>\n",
              "      <td>21</td>\n",
              "      <td>0.0</td>\n",
              "      <td>0.0</td>\n",
              "      <td>30.00</td>\n",
              "      <td>0.00</td>\n",
              "      <td>0.0</td>\n",
              "      <td>0.0</td>\n",
              "      <td>2.88</td>\n",
              "      <td>255.0</td>\n",
              "      <td>0.00</td>\n",
              "      <td>0.0</td>\n",
              "      <td>0.0</td>\n",
              "      <td>0.00</td>\n",
              "      <td>0.0</td>\n",
              "      <td>0.00</td>\n",
              "      <td>0.00</td>\n",
              "    </tr>\n",
              "  </tbody>\n",
              "</table>\n",
              "</div>\n",
              "    <div class=\"colab-df-buttons\">\n",
              "\n",
              "  <div class=\"colab-df-container\">\n",
              "    <button class=\"colab-df-convert\" onclick=\"convertToInteractive('df-fda1d513-1450-4a27-9752-cf3ee06cde1c')\"\n",
              "            title=\"Convert this dataframe to an interactive table.\"\n",
              "            style=\"display:none;\">\n",
              "\n",
              "  <svg xmlns=\"http://www.w3.org/2000/svg\" height=\"24px\" viewBox=\"0 -960 960 960\">\n",
              "    <path d=\"M120-120v-720h720v720H120Zm60-500h600v-160H180v160Zm220 220h160v-160H400v160Zm0 220h160v-160H400v160ZM180-400h160v-160H180v160Zm440 0h160v-160H620v160ZM180-180h160v-160H180v160Zm440 0h160v-160H620v160Z\"/>\n",
              "  </svg>\n",
              "    </button>\n",
              "\n",
              "  <style>\n",
              "    .colab-df-container {\n",
              "      display:flex;\n",
              "      gap: 12px;\n",
              "    }\n",
              "\n",
              "    .colab-df-convert {\n",
              "      background-color: #E8F0FE;\n",
              "      border: none;\n",
              "      border-radius: 50%;\n",
              "      cursor: pointer;\n",
              "      display: none;\n",
              "      fill: #1967D2;\n",
              "      height: 32px;\n",
              "      padding: 0 0 0 0;\n",
              "      width: 32px;\n",
              "    }\n",
              "\n",
              "    .colab-df-convert:hover {\n",
              "      background-color: #E2EBFA;\n",
              "      box-shadow: 0px 1px 2px rgba(60, 64, 67, 0.3), 0px 1px 3px 1px rgba(60, 64, 67, 0.15);\n",
              "      fill: #174EA6;\n",
              "    }\n",
              "\n",
              "    .colab-df-buttons div {\n",
              "      margin-bottom: 4px;\n",
              "    }\n",
              "\n",
              "    [theme=dark] .colab-df-convert {\n",
              "      background-color: #3B4455;\n",
              "      fill: #D2E3FC;\n",
              "    }\n",
              "\n",
              "    [theme=dark] .colab-df-convert:hover {\n",
              "      background-color: #434B5C;\n",
              "      box-shadow: 0px 1px 3px 1px rgba(0, 0, 0, 0.15);\n",
              "      filter: drop-shadow(0px 1px 2px rgba(0, 0, 0, 0.3));\n",
              "      fill: #FFFFFF;\n",
              "    }\n",
              "  </style>\n",
              "\n",
              "    <script>\n",
              "      const buttonEl =\n",
              "        document.querySelector('#df-fda1d513-1450-4a27-9752-cf3ee06cde1c button.colab-df-convert');\n",
              "      buttonEl.style.display =\n",
              "        google.colab.kernel.accessAllowed ? 'block' : 'none';\n",
              "\n",
              "      async function convertToInteractive(key) {\n",
              "        const element = document.querySelector('#df-fda1d513-1450-4a27-9752-cf3ee06cde1c');\n",
              "        const dataTable =\n",
              "          await google.colab.kernel.invokeFunction('convertToInteractive',\n",
              "                                                    [key], {});\n",
              "        if (!dataTable) return;\n",
              "\n",
              "        const docLinkHtml = 'Like what you see? Visit the ' +\n",
              "          '<a target=\"_blank\" href=https://colab.research.google.com/notebooks/data_table.ipynb>data table notebook</a>'\n",
              "          + ' to learn more about interactive tables.';\n",
              "        element.innerHTML = '';\n",
              "        dataTable['output_type'] = 'display_data';\n",
              "        await google.colab.output.renderOutput(dataTable, element);\n",
              "        const docLink = document.createElement('div');\n",
              "        docLink.innerHTML = docLinkHtml;\n",
              "        element.appendChild(docLink);\n",
              "      }\n",
              "    </script>\n",
              "  </div>\n",
              "\n",
              "\n",
              "<div id=\"df-27e0f65a-c2da-439e-9d1f-33b896e2b93a\">\n",
              "  <button class=\"colab-df-quickchart\" onclick=\"quickchart('df-27e0f65a-c2da-439e-9d1f-33b896e2b93a')\"\n",
              "            title=\"Suggest charts\"\n",
              "            style=\"display:none;\">\n",
              "\n",
              "<svg xmlns=\"http://www.w3.org/2000/svg\" height=\"24px\"viewBox=\"0 0 24 24\"\n",
              "     width=\"24px\">\n",
              "    <g>\n",
              "        <path d=\"M19 3H5c-1.1 0-2 .9-2 2v14c0 1.1.9 2 2 2h14c1.1 0 2-.9 2-2V5c0-1.1-.9-2-2-2zM9 17H7v-7h2v7zm4 0h-2V7h2v10zm4 0h-2v-4h2v4z\"/>\n",
              "    </g>\n",
              "</svg>\n",
              "  </button>\n",
              "\n",
              "<style>\n",
              "  .colab-df-quickchart {\n",
              "      --bg-color: #E8F0FE;\n",
              "      --fill-color: #1967D2;\n",
              "      --hover-bg-color: #E2EBFA;\n",
              "      --hover-fill-color: #174EA6;\n",
              "      --disabled-fill-color: #AAA;\n",
              "      --disabled-bg-color: #DDD;\n",
              "  }\n",
              "\n",
              "  [theme=dark] .colab-df-quickchart {\n",
              "      --bg-color: #3B4455;\n",
              "      --fill-color: #D2E3FC;\n",
              "      --hover-bg-color: #434B5C;\n",
              "      --hover-fill-color: #FFFFFF;\n",
              "      --disabled-bg-color: #3B4455;\n",
              "      --disabled-fill-color: #666;\n",
              "  }\n",
              "\n",
              "  .colab-df-quickchart {\n",
              "    background-color: var(--bg-color);\n",
              "    border: none;\n",
              "    border-radius: 50%;\n",
              "    cursor: pointer;\n",
              "    display: none;\n",
              "    fill: var(--fill-color);\n",
              "    height: 32px;\n",
              "    padding: 0;\n",
              "    width: 32px;\n",
              "  }\n",
              "\n",
              "  .colab-df-quickchart:hover {\n",
              "    background-color: var(--hover-bg-color);\n",
              "    box-shadow: 0 1px 2px rgba(60, 64, 67, 0.3), 0 1px 3px 1px rgba(60, 64, 67, 0.15);\n",
              "    fill: var(--button-hover-fill-color);\n",
              "  }\n",
              "\n",
              "  .colab-df-quickchart-complete:disabled,\n",
              "  .colab-df-quickchart-complete:disabled:hover {\n",
              "    background-color: var(--disabled-bg-color);\n",
              "    fill: var(--disabled-fill-color);\n",
              "    box-shadow: none;\n",
              "  }\n",
              "\n",
              "  .colab-df-spinner {\n",
              "    border: 2px solid var(--fill-color);\n",
              "    border-color: transparent;\n",
              "    border-bottom-color: var(--fill-color);\n",
              "    animation:\n",
              "      spin 1s steps(1) infinite;\n",
              "  }\n",
              "\n",
              "  @keyframes spin {\n",
              "    0% {\n",
              "      border-color: transparent;\n",
              "      border-bottom-color: var(--fill-color);\n",
              "      border-left-color: var(--fill-color);\n",
              "    }\n",
              "    20% {\n",
              "      border-color: transparent;\n",
              "      border-left-color: var(--fill-color);\n",
              "      border-top-color: var(--fill-color);\n",
              "    }\n",
              "    30% {\n",
              "      border-color: transparent;\n",
              "      border-left-color: var(--fill-color);\n",
              "      border-top-color: var(--fill-color);\n",
              "      border-right-color: var(--fill-color);\n",
              "    }\n",
              "    40% {\n",
              "      border-color: transparent;\n",
              "      border-right-color: var(--fill-color);\n",
              "      border-top-color: var(--fill-color);\n",
              "    }\n",
              "    60% {\n",
              "      border-color: transparent;\n",
              "      border-right-color: var(--fill-color);\n",
              "    }\n",
              "    80% {\n",
              "      border-color: transparent;\n",
              "      border-right-color: var(--fill-color);\n",
              "      border-bottom-color: var(--fill-color);\n",
              "    }\n",
              "    90% {\n",
              "      border-color: transparent;\n",
              "      border-bottom-color: var(--fill-color);\n",
              "    }\n",
              "  }\n",
              "</style>\n",
              "\n",
              "  <script>\n",
              "    async function quickchart(key) {\n",
              "      const quickchartButtonEl =\n",
              "        document.querySelector('#' + key + ' button');\n",
              "      quickchartButtonEl.disabled = true;  // To prevent multiple clicks.\n",
              "      quickchartButtonEl.classList.add('colab-df-spinner');\n",
              "      try {\n",
              "        const charts = await google.colab.kernel.invokeFunction(\n",
              "            'suggestCharts', [key], {});\n",
              "      } catch (error) {\n",
              "        console.error('Error during call to suggestCharts:', error);\n",
              "      }\n",
              "      quickchartButtonEl.classList.remove('colab-df-spinner');\n",
              "      quickchartButtonEl.classList.add('colab-df-quickchart-complete');\n",
              "    }\n",
              "    (() => {\n",
              "      let quickchartButtonEl =\n",
              "        document.querySelector('#df-27e0f65a-c2da-439e-9d1f-33b896e2b93a button');\n",
              "      quickchartButtonEl.style.display =\n",
              "        google.colab.kernel.accessAllowed ? 'block' : 'none';\n",
              "    })();\n",
              "  </script>\n",
              "</div>\n",
              "\n",
              "    </div>\n",
              "  </div>\n"
            ],
            "application/vnd.google.colaboratory.intrinsic+json": {
              "type": "dataframe",
              "variable_name": "df"
            }
          },
          "metadata": {},
          "execution_count": 60
        }
      ]
    },
    {
      "cell_type": "code",
      "source": [
        "#drop the columns percentage columns\n",
        "df.drop(columns=['serrorrate', 'rerrorrate', 'samesrvrate', 'diffsrvrate', 'srvserrorrate', 'srvrerrorrate', 'srvdiffhostrate', 'dsthostsamesrvrate', 'dsthostdiffsrvrate', 'dsthostserrorrate', 'dsthostrerrorrate', 'dsthostsamesrcportrate', 'dsthostsrvdiffhostrate', 'dsthostsrvserrorrate',  'dsthostsrvrerrorrate'], inplace=True)"
      ],
      "metadata": {
        "id": "lWTB-ZNFJ6pD"
      },
      "execution_count": 61,
      "outputs": []
    },
    {
      "cell_type": "code",
      "source": [
        "df.head()"
      ],
      "metadata": {
        "colab": {
          "base_uri": "https://localhost:8080/",
          "height": 226
        },
        "id": "wIevXA_yMaYW",
        "outputId": "2d7416a4-9a79-4228-d5d6-42f0da9a893d"
      },
      "execution_count": 62,
      "outputs": [
        {
          "output_type": "execute_result",
          "data": {
            "text/plain": [
              "   duration protocoltype   service flag  srcbytes  dstbytes  land  \\\n",
              "0         0          tcp  ftp_data   SF       491         0     0   \n",
              "1         0          udp     other   SF       146         0     0   \n",
              "2         0          tcp   private   S0         0         0     0   \n",
              "3         0          tcp      http   SF       232      8153     0   \n",
              "4         0          tcp      http   SF       199       420     0   \n",
              "\n",
              "   wrongfragment  urgent  hot  numfailedlogins  loggedin  numcompromised  \\\n",
              "0              0       0    0                0         0               0   \n",
              "1              0       0    0                0         0               0   \n",
              "2              0       0    0                0         0               0   \n",
              "3              0       0    0                0         1               0   \n",
              "4              0       0    0                0         1               0   \n",
              "\n",
              "   rootshell  suattempted  numroot  numfilecreations  numshells  \\\n",
              "0          0            0        0                 0          0   \n",
              "1          0            0        0                 0          0   \n",
              "2          0            0        0                 0          0   \n",
              "3          0            0        0                 0          0   \n",
              "4          0            0        0                 0          0   \n",
              "\n",
              "   numaccessfiles  numoutboundcmds  ishostlogin  isguestlogin  count  \\\n",
              "0               0                0            0             0      2   \n",
              "1               0                0            0             0     13   \n",
              "2               0                0            0             0    123   \n",
              "3               0                0            0             0      5   \n",
              "4               0                0            0             0     30   \n",
              "\n",
              "   srvcount  dsthostcount  dsthostsrvcount   attack  lastflag  serrorcount  \\\n",
              "0         2           150               25   normal        20          0.0   \n",
              "1         1           255                1   normal        15          0.0   \n",
              "2         6           255               26  neptune        19        123.0   \n",
              "3         5            30              255   normal        21          1.0   \n",
              "4        32           255              255   normal        21          0.0   \n",
              "\n",
              "   rerrorcount  samesrvcount  diffsrvcount  srvserrorcount  srvrerrorcount  \\\n",
              "0          0.0          2.00          0.00             0.0             0.0   \n",
              "1          0.0          1.04          1.95             0.0             0.0   \n",
              "2          0.0          6.15          8.61             6.0             0.0   \n",
              "3          0.0          5.00          0.00             1.0             0.0   \n",
              "4          0.0         30.00          0.00             0.0             0.0   \n",
              "\n",
              "   srvdiffhostcount  dsthostsamesrvcount  dsthostdiffsrvcount  \\\n",
              "0              0.00                 25.5                 4.50   \n",
              "1              0.00                  0.0               153.00   \n",
              "2              0.00                 25.5                12.75   \n",
              "3              0.00                 30.0                 0.00   \n",
              "4              2.88                255.0                 0.00   \n",
              "\n",
              "   dsthostserrorcount  dsthostrerrorcount  dsthostsamesrcportcount  \\\n",
              "0                 0.0                 7.5                     4.25   \n",
              "1                 0.0                 0.0                     0.88   \n",
              "2               255.0                 0.0                     0.00   \n",
              "3                 0.9                 0.0                     7.65   \n",
              "4                 0.0                 0.0                     0.00   \n",
              "\n",
              "   dsthostsrvdiffhostcount  dsthostsrvserrorcount  dsthostsrvrerrorcount  \n",
              "0                      0.0                   0.00                   0.00  \n",
              "1                      0.0                   0.00                   0.00  \n",
              "2                      0.0                  26.00                   0.00  \n",
              "3                     10.2                   2.55                   2.55  \n",
              "4                      0.0                   0.00                   0.00  "
            ],
            "text/html": [
              "\n",
              "  <div id=\"df-dd6b8da6-d5c0-421b-80cd-f1e7c9a14954\" class=\"colab-df-container\">\n",
              "    <div>\n",
              "<style scoped>\n",
              "    .dataframe tbody tr th:only-of-type {\n",
              "        vertical-align: middle;\n",
              "    }\n",
              "\n",
              "    .dataframe tbody tr th {\n",
              "        vertical-align: top;\n",
              "    }\n",
              "\n",
              "    .dataframe thead th {\n",
              "        text-align: right;\n",
              "    }\n",
              "</style>\n",
              "<table border=\"1\" class=\"dataframe\">\n",
              "  <thead>\n",
              "    <tr style=\"text-align: right;\">\n",
              "      <th></th>\n",
              "      <th>duration</th>\n",
              "      <th>protocoltype</th>\n",
              "      <th>service</th>\n",
              "      <th>flag</th>\n",
              "      <th>srcbytes</th>\n",
              "      <th>dstbytes</th>\n",
              "      <th>land</th>\n",
              "      <th>wrongfragment</th>\n",
              "      <th>urgent</th>\n",
              "      <th>hot</th>\n",
              "      <th>numfailedlogins</th>\n",
              "      <th>loggedin</th>\n",
              "      <th>numcompromised</th>\n",
              "      <th>rootshell</th>\n",
              "      <th>suattempted</th>\n",
              "      <th>numroot</th>\n",
              "      <th>numfilecreations</th>\n",
              "      <th>numshells</th>\n",
              "      <th>numaccessfiles</th>\n",
              "      <th>numoutboundcmds</th>\n",
              "      <th>ishostlogin</th>\n",
              "      <th>isguestlogin</th>\n",
              "      <th>count</th>\n",
              "      <th>srvcount</th>\n",
              "      <th>dsthostcount</th>\n",
              "      <th>dsthostsrvcount</th>\n",
              "      <th>attack</th>\n",
              "      <th>lastflag</th>\n",
              "      <th>serrorcount</th>\n",
              "      <th>rerrorcount</th>\n",
              "      <th>samesrvcount</th>\n",
              "      <th>diffsrvcount</th>\n",
              "      <th>srvserrorcount</th>\n",
              "      <th>srvrerrorcount</th>\n",
              "      <th>srvdiffhostcount</th>\n",
              "      <th>dsthostsamesrvcount</th>\n",
              "      <th>dsthostdiffsrvcount</th>\n",
              "      <th>dsthostserrorcount</th>\n",
              "      <th>dsthostrerrorcount</th>\n",
              "      <th>dsthostsamesrcportcount</th>\n",
              "      <th>dsthostsrvdiffhostcount</th>\n",
              "      <th>dsthostsrvserrorcount</th>\n",
              "      <th>dsthostsrvrerrorcount</th>\n",
              "    </tr>\n",
              "  </thead>\n",
              "  <tbody>\n",
              "    <tr>\n",
              "      <th>0</th>\n",
              "      <td>0</td>\n",
              "      <td>tcp</td>\n",
              "      <td>ftp_data</td>\n",
              "      <td>SF</td>\n",
              "      <td>491</td>\n",
              "      <td>0</td>\n",
              "      <td>0</td>\n",
              "      <td>0</td>\n",
              "      <td>0</td>\n",
              "      <td>0</td>\n",
              "      <td>0</td>\n",
              "      <td>0</td>\n",
              "      <td>0</td>\n",
              "      <td>0</td>\n",
              "      <td>0</td>\n",
              "      <td>0</td>\n",
              "      <td>0</td>\n",
              "      <td>0</td>\n",
              "      <td>0</td>\n",
              "      <td>0</td>\n",
              "      <td>0</td>\n",
              "      <td>0</td>\n",
              "      <td>2</td>\n",
              "      <td>2</td>\n",
              "      <td>150</td>\n",
              "      <td>25</td>\n",
              "      <td>normal</td>\n",
              "      <td>20</td>\n",
              "      <td>0.0</td>\n",
              "      <td>0.0</td>\n",
              "      <td>2.00</td>\n",
              "      <td>0.00</td>\n",
              "      <td>0.0</td>\n",
              "      <td>0.0</td>\n",
              "      <td>0.00</td>\n",
              "      <td>25.5</td>\n",
              "      <td>4.50</td>\n",
              "      <td>0.0</td>\n",
              "      <td>7.5</td>\n",
              "      <td>4.25</td>\n",
              "      <td>0.0</td>\n",
              "      <td>0.00</td>\n",
              "      <td>0.00</td>\n",
              "    </tr>\n",
              "    <tr>\n",
              "      <th>1</th>\n",
              "      <td>0</td>\n",
              "      <td>udp</td>\n",
              "      <td>other</td>\n",
              "      <td>SF</td>\n",
              "      <td>146</td>\n",
              "      <td>0</td>\n",
              "      <td>0</td>\n",
              "      <td>0</td>\n",
              "      <td>0</td>\n",
              "      <td>0</td>\n",
              "      <td>0</td>\n",
              "      <td>0</td>\n",
              "      <td>0</td>\n",
              "      <td>0</td>\n",
              "      <td>0</td>\n",
              "      <td>0</td>\n",
              "      <td>0</td>\n",
              "      <td>0</td>\n",
              "      <td>0</td>\n",
              "      <td>0</td>\n",
              "      <td>0</td>\n",
              "      <td>0</td>\n",
              "      <td>13</td>\n",
              "      <td>1</td>\n",
              "      <td>255</td>\n",
              "      <td>1</td>\n",
              "      <td>normal</td>\n",
              "      <td>15</td>\n",
              "      <td>0.0</td>\n",
              "      <td>0.0</td>\n",
              "      <td>1.04</td>\n",
              "      <td>1.95</td>\n",
              "      <td>0.0</td>\n",
              "      <td>0.0</td>\n",
              "      <td>0.00</td>\n",
              "      <td>0.0</td>\n",
              "      <td>153.00</td>\n",
              "      <td>0.0</td>\n",
              "      <td>0.0</td>\n",
              "      <td>0.88</td>\n",
              "      <td>0.0</td>\n",
              "      <td>0.00</td>\n",
              "      <td>0.00</td>\n",
              "    </tr>\n",
              "    <tr>\n",
              "      <th>2</th>\n",
              "      <td>0</td>\n",
              "      <td>tcp</td>\n",
              "      <td>private</td>\n",
              "      <td>S0</td>\n",
              "      <td>0</td>\n",
              "      <td>0</td>\n",
              "      <td>0</td>\n",
              "      <td>0</td>\n",
              "      <td>0</td>\n",
              "      <td>0</td>\n",
              "      <td>0</td>\n",
              "      <td>0</td>\n",
              "      <td>0</td>\n",
              "      <td>0</td>\n",
              "      <td>0</td>\n",
              "      <td>0</td>\n",
              "      <td>0</td>\n",
              "      <td>0</td>\n",
              "      <td>0</td>\n",
              "      <td>0</td>\n",
              "      <td>0</td>\n",
              "      <td>0</td>\n",
              "      <td>123</td>\n",
              "      <td>6</td>\n",
              "      <td>255</td>\n",
              "      <td>26</td>\n",
              "      <td>neptune</td>\n",
              "      <td>19</td>\n",
              "      <td>123.0</td>\n",
              "      <td>0.0</td>\n",
              "      <td>6.15</td>\n",
              "      <td>8.61</td>\n",
              "      <td>6.0</td>\n",
              "      <td>0.0</td>\n",
              "      <td>0.00</td>\n",
              "      <td>25.5</td>\n",
              "      <td>12.75</td>\n",
              "      <td>255.0</td>\n",
              "      <td>0.0</td>\n",
              "      <td>0.00</td>\n",
              "      <td>0.0</td>\n",
              "      <td>26.00</td>\n",
              "      <td>0.00</td>\n",
              "    </tr>\n",
              "    <tr>\n",
              "      <th>3</th>\n",
              "      <td>0</td>\n",
              "      <td>tcp</td>\n",
              "      <td>http</td>\n",
              "      <td>SF</td>\n",
              "      <td>232</td>\n",
              "      <td>8153</td>\n",
              "      <td>0</td>\n",
              "      <td>0</td>\n",
              "      <td>0</td>\n",
              "      <td>0</td>\n",
              "      <td>0</td>\n",
              "      <td>1</td>\n",
              "      <td>0</td>\n",
              "      <td>0</td>\n",
              "      <td>0</td>\n",
              "      <td>0</td>\n",
              "      <td>0</td>\n",
              "      <td>0</td>\n",
              "      <td>0</td>\n",
              "      <td>0</td>\n",
              "      <td>0</td>\n",
              "      <td>0</td>\n",
              "      <td>5</td>\n",
              "      <td>5</td>\n",
              "      <td>30</td>\n",
              "      <td>255</td>\n",
              "      <td>normal</td>\n",
              "      <td>21</td>\n",
              "      <td>1.0</td>\n",
              "      <td>0.0</td>\n",
              "      <td>5.00</td>\n",
              "      <td>0.00</td>\n",
              "      <td>1.0</td>\n",
              "      <td>0.0</td>\n",
              "      <td>0.00</td>\n",
              "      <td>30.0</td>\n",
              "      <td>0.00</td>\n",
              "      <td>0.9</td>\n",
              "      <td>0.0</td>\n",
              "      <td>7.65</td>\n",
              "      <td>10.2</td>\n",
              "      <td>2.55</td>\n",
              "      <td>2.55</td>\n",
              "    </tr>\n",
              "    <tr>\n",
              "      <th>4</th>\n",
              "      <td>0</td>\n",
              "      <td>tcp</td>\n",
              "      <td>http</td>\n",
              "      <td>SF</td>\n",
              "      <td>199</td>\n",
              "      <td>420</td>\n",
              "      <td>0</td>\n",
              "      <td>0</td>\n",
              "      <td>0</td>\n",
              "      <td>0</td>\n",
              "      <td>0</td>\n",
              "      <td>1</td>\n",
              "      <td>0</td>\n",
              "      <td>0</td>\n",
              "      <td>0</td>\n",
              "      <td>0</td>\n",
              "      <td>0</td>\n",
              "      <td>0</td>\n",
              "      <td>0</td>\n",
              "      <td>0</td>\n",
              "      <td>0</td>\n",
              "      <td>0</td>\n",
              "      <td>30</td>\n",
              "      <td>32</td>\n",
              "      <td>255</td>\n",
              "      <td>255</td>\n",
              "      <td>normal</td>\n",
              "      <td>21</td>\n",
              "      <td>0.0</td>\n",
              "      <td>0.0</td>\n",
              "      <td>30.00</td>\n",
              "      <td>0.00</td>\n",
              "      <td>0.0</td>\n",
              "      <td>0.0</td>\n",
              "      <td>2.88</td>\n",
              "      <td>255.0</td>\n",
              "      <td>0.00</td>\n",
              "      <td>0.0</td>\n",
              "      <td>0.0</td>\n",
              "      <td>0.00</td>\n",
              "      <td>0.0</td>\n",
              "      <td>0.00</td>\n",
              "      <td>0.00</td>\n",
              "    </tr>\n",
              "  </tbody>\n",
              "</table>\n",
              "</div>\n",
              "    <div class=\"colab-df-buttons\">\n",
              "\n",
              "  <div class=\"colab-df-container\">\n",
              "    <button class=\"colab-df-convert\" onclick=\"convertToInteractive('df-dd6b8da6-d5c0-421b-80cd-f1e7c9a14954')\"\n",
              "            title=\"Convert this dataframe to an interactive table.\"\n",
              "            style=\"display:none;\">\n",
              "\n",
              "  <svg xmlns=\"http://www.w3.org/2000/svg\" height=\"24px\" viewBox=\"0 -960 960 960\">\n",
              "    <path d=\"M120-120v-720h720v720H120Zm60-500h600v-160H180v160Zm220 220h160v-160H400v160Zm0 220h160v-160H400v160ZM180-400h160v-160H180v160Zm440 0h160v-160H620v160ZM180-180h160v-160H180v160Zm440 0h160v-160H620v160Z\"/>\n",
              "  </svg>\n",
              "    </button>\n",
              "\n",
              "  <style>\n",
              "    .colab-df-container {\n",
              "      display:flex;\n",
              "      gap: 12px;\n",
              "    }\n",
              "\n",
              "    .colab-df-convert {\n",
              "      background-color: #E8F0FE;\n",
              "      border: none;\n",
              "      border-radius: 50%;\n",
              "      cursor: pointer;\n",
              "      display: none;\n",
              "      fill: #1967D2;\n",
              "      height: 32px;\n",
              "      padding: 0 0 0 0;\n",
              "      width: 32px;\n",
              "    }\n",
              "\n",
              "    .colab-df-convert:hover {\n",
              "      background-color: #E2EBFA;\n",
              "      box-shadow: 0px 1px 2px rgba(60, 64, 67, 0.3), 0px 1px 3px 1px rgba(60, 64, 67, 0.15);\n",
              "      fill: #174EA6;\n",
              "    }\n",
              "\n",
              "    .colab-df-buttons div {\n",
              "      margin-bottom: 4px;\n",
              "    }\n",
              "\n",
              "    [theme=dark] .colab-df-convert {\n",
              "      background-color: #3B4455;\n",
              "      fill: #D2E3FC;\n",
              "    }\n",
              "\n",
              "    [theme=dark] .colab-df-convert:hover {\n",
              "      background-color: #434B5C;\n",
              "      box-shadow: 0px 1px 3px 1px rgba(0, 0, 0, 0.15);\n",
              "      filter: drop-shadow(0px 1px 2px rgba(0, 0, 0, 0.3));\n",
              "      fill: #FFFFFF;\n",
              "    }\n",
              "  </style>\n",
              "\n",
              "    <script>\n",
              "      const buttonEl =\n",
              "        document.querySelector('#df-dd6b8da6-d5c0-421b-80cd-f1e7c9a14954 button.colab-df-convert');\n",
              "      buttonEl.style.display =\n",
              "        google.colab.kernel.accessAllowed ? 'block' : 'none';\n",
              "\n",
              "      async function convertToInteractive(key) {\n",
              "        const element = document.querySelector('#df-dd6b8da6-d5c0-421b-80cd-f1e7c9a14954');\n",
              "        const dataTable =\n",
              "          await google.colab.kernel.invokeFunction('convertToInteractive',\n",
              "                                                    [key], {});\n",
              "        if (!dataTable) return;\n",
              "\n",
              "        const docLinkHtml = 'Like what you see? Visit the ' +\n",
              "          '<a target=\"_blank\" href=https://colab.research.google.com/notebooks/data_table.ipynb>data table notebook</a>'\n",
              "          + ' to learn more about interactive tables.';\n",
              "        element.innerHTML = '';\n",
              "        dataTable['output_type'] = 'display_data';\n",
              "        await google.colab.output.renderOutput(dataTable, element);\n",
              "        const docLink = document.createElement('div');\n",
              "        docLink.innerHTML = docLinkHtml;\n",
              "        element.appendChild(docLink);\n",
              "      }\n",
              "    </script>\n",
              "  </div>\n",
              "\n",
              "\n",
              "<div id=\"df-f032c8cb-70a1-4bbc-a65d-f244e5fc0f25\">\n",
              "  <button class=\"colab-df-quickchart\" onclick=\"quickchart('df-f032c8cb-70a1-4bbc-a65d-f244e5fc0f25')\"\n",
              "            title=\"Suggest charts\"\n",
              "            style=\"display:none;\">\n",
              "\n",
              "<svg xmlns=\"http://www.w3.org/2000/svg\" height=\"24px\"viewBox=\"0 0 24 24\"\n",
              "     width=\"24px\">\n",
              "    <g>\n",
              "        <path d=\"M19 3H5c-1.1 0-2 .9-2 2v14c0 1.1.9 2 2 2h14c1.1 0 2-.9 2-2V5c0-1.1-.9-2-2-2zM9 17H7v-7h2v7zm4 0h-2V7h2v10zm4 0h-2v-4h2v4z\"/>\n",
              "    </g>\n",
              "</svg>\n",
              "  </button>\n",
              "\n",
              "<style>\n",
              "  .colab-df-quickchart {\n",
              "      --bg-color: #E8F0FE;\n",
              "      --fill-color: #1967D2;\n",
              "      --hover-bg-color: #E2EBFA;\n",
              "      --hover-fill-color: #174EA6;\n",
              "      --disabled-fill-color: #AAA;\n",
              "      --disabled-bg-color: #DDD;\n",
              "  }\n",
              "\n",
              "  [theme=dark] .colab-df-quickchart {\n",
              "      --bg-color: #3B4455;\n",
              "      --fill-color: #D2E3FC;\n",
              "      --hover-bg-color: #434B5C;\n",
              "      --hover-fill-color: #FFFFFF;\n",
              "      --disabled-bg-color: #3B4455;\n",
              "      --disabled-fill-color: #666;\n",
              "  }\n",
              "\n",
              "  .colab-df-quickchart {\n",
              "    background-color: var(--bg-color);\n",
              "    border: none;\n",
              "    border-radius: 50%;\n",
              "    cursor: pointer;\n",
              "    display: none;\n",
              "    fill: var(--fill-color);\n",
              "    height: 32px;\n",
              "    padding: 0;\n",
              "    width: 32px;\n",
              "  }\n",
              "\n",
              "  .colab-df-quickchart:hover {\n",
              "    background-color: var(--hover-bg-color);\n",
              "    box-shadow: 0 1px 2px rgba(60, 64, 67, 0.3), 0 1px 3px 1px rgba(60, 64, 67, 0.15);\n",
              "    fill: var(--button-hover-fill-color);\n",
              "  }\n",
              "\n",
              "  .colab-df-quickchart-complete:disabled,\n",
              "  .colab-df-quickchart-complete:disabled:hover {\n",
              "    background-color: var(--disabled-bg-color);\n",
              "    fill: var(--disabled-fill-color);\n",
              "    box-shadow: none;\n",
              "  }\n",
              "\n",
              "  .colab-df-spinner {\n",
              "    border: 2px solid var(--fill-color);\n",
              "    border-color: transparent;\n",
              "    border-bottom-color: var(--fill-color);\n",
              "    animation:\n",
              "      spin 1s steps(1) infinite;\n",
              "  }\n",
              "\n",
              "  @keyframes spin {\n",
              "    0% {\n",
              "      border-color: transparent;\n",
              "      border-bottom-color: var(--fill-color);\n",
              "      border-left-color: var(--fill-color);\n",
              "    }\n",
              "    20% {\n",
              "      border-color: transparent;\n",
              "      border-left-color: var(--fill-color);\n",
              "      border-top-color: var(--fill-color);\n",
              "    }\n",
              "    30% {\n",
              "      border-color: transparent;\n",
              "      border-left-color: var(--fill-color);\n",
              "      border-top-color: var(--fill-color);\n",
              "      border-right-color: var(--fill-color);\n",
              "    }\n",
              "    40% {\n",
              "      border-color: transparent;\n",
              "      border-right-color: var(--fill-color);\n",
              "      border-top-color: var(--fill-color);\n",
              "    }\n",
              "    60% {\n",
              "      border-color: transparent;\n",
              "      border-right-color: var(--fill-color);\n",
              "    }\n",
              "    80% {\n",
              "      border-color: transparent;\n",
              "      border-right-color: var(--fill-color);\n",
              "      border-bottom-color: var(--fill-color);\n",
              "    }\n",
              "    90% {\n",
              "      border-color: transparent;\n",
              "      border-bottom-color: var(--fill-color);\n",
              "    }\n",
              "  }\n",
              "</style>\n",
              "\n",
              "  <script>\n",
              "    async function quickchart(key) {\n",
              "      const quickchartButtonEl =\n",
              "        document.querySelector('#' + key + ' button');\n",
              "      quickchartButtonEl.disabled = true;  // To prevent multiple clicks.\n",
              "      quickchartButtonEl.classList.add('colab-df-spinner');\n",
              "      try {\n",
              "        const charts = await google.colab.kernel.invokeFunction(\n",
              "            'suggestCharts', [key], {});\n",
              "      } catch (error) {\n",
              "        console.error('Error during call to suggestCharts:', error);\n",
              "      }\n",
              "      quickchartButtonEl.classList.remove('colab-df-spinner');\n",
              "      quickchartButtonEl.classList.add('colab-df-quickchart-complete');\n",
              "    }\n",
              "    (() => {\n",
              "      let quickchartButtonEl =\n",
              "        document.querySelector('#df-f032c8cb-70a1-4bbc-a65d-f244e5fc0f25 button');\n",
              "      quickchartButtonEl.style.display =\n",
              "        google.colab.kernel.accessAllowed ? 'block' : 'none';\n",
              "    })();\n",
              "  </script>\n",
              "</div>\n",
              "\n",
              "    </div>\n",
              "  </div>\n"
            ],
            "application/vnd.google.colaboratory.intrinsic+json": {
              "type": "dataframe",
              "variable_name": "df"
            }
          },
          "metadata": {},
          "execution_count": 62
        }
      ]
    },
    {
      "cell_type": "code",
      "source": [
        "df.info()"
      ],
      "metadata": {
        "colab": {
          "base_uri": "https://localhost:8080/"
        },
        "id": "Ehr9GQktM3hG",
        "outputId": "f2dc8f55-4e5f-42e3-b770-9c91b62049ba"
      },
      "execution_count": 63,
      "outputs": [
        {
          "output_type": "stream",
          "name": "stdout",
          "text": [
            "<class 'pandas.core.frame.DataFrame'>\n",
            "RangeIndex: 125973 entries, 0 to 125972\n",
            "Data columns (total 43 columns):\n",
            " #   Column                   Non-Null Count   Dtype  \n",
            "---  ------                   --------------   -----  \n",
            " 0   duration                 125973 non-null  int64  \n",
            " 1   protocoltype             125973 non-null  object \n",
            " 2   service                  125973 non-null  object \n",
            " 3   flag                     125973 non-null  object \n",
            " 4   srcbytes                 125973 non-null  int64  \n",
            " 5   dstbytes                 125973 non-null  int64  \n",
            " 6   land                     125973 non-null  int64  \n",
            " 7   wrongfragment            125973 non-null  int64  \n",
            " 8   urgent                   125973 non-null  int64  \n",
            " 9   hot                      125973 non-null  int64  \n",
            " 10  numfailedlogins          125973 non-null  int64  \n",
            " 11  loggedin                 125973 non-null  int64  \n",
            " 12  numcompromised           125973 non-null  int64  \n",
            " 13  rootshell                125973 non-null  int64  \n",
            " 14  suattempted              125973 non-null  int64  \n",
            " 15  numroot                  125973 non-null  int64  \n",
            " 16  numfilecreations         125973 non-null  int64  \n",
            " 17  numshells                125973 non-null  int64  \n",
            " 18  numaccessfiles           125973 non-null  int64  \n",
            " 19  numoutboundcmds          125973 non-null  int64  \n",
            " 20  ishostlogin              125973 non-null  int64  \n",
            " 21  isguestlogin             125973 non-null  int64  \n",
            " 22  count                    125973 non-null  int64  \n",
            " 23  srvcount                 125973 non-null  int64  \n",
            " 24  dsthostcount             125973 non-null  int64  \n",
            " 25  dsthostsrvcount          125973 non-null  int64  \n",
            " 26  attack                   125973 non-null  object \n",
            " 27  lastflag                 125973 non-null  int64  \n",
            " 28  serrorcount              125973 non-null  float64\n",
            " 29  rerrorcount              125973 non-null  float64\n",
            " 30  samesrvcount             125973 non-null  float64\n",
            " 31  diffsrvcount             125973 non-null  float64\n",
            " 32  srvserrorcount           125973 non-null  float64\n",
            " 33  srvrerrorcount           125973 non-null  float64\n",
            " 34  srvdiffhostcount         125973 non-null  float64\n",
            " 35  dsthostsamesrvcount      125973 non-null  float64\n",
            " 36  dsthostdiffsrvcount      125973 non-null  float64\n",
            " 37  dsthostserrorcount       125973 non-null  float64\n",
            " 38  dsthostrerrorcount       125973 non-null  float64\n",
            " 39  dsthostsamesrcportcount  125973 non-null  float64\n",
            " 40  dsthostsrvdiffhostcount  125973 non-null  float64\n",
            " 41  dsthostsrvserrorcount    125973 non-null  float64\n",
            " 42  dsthostsrvrerrorcount    125973 non-null  float64\n",
            "dtypes: float64(15), int64(24), object(4)\n",
            "memory usage: 41.3+ MB\n"
          ]
        }
      ]
    },
    {
      "cell_type": "code",
      "source": [
        "df.nunique().sort_values(ascending = True)"
      ],
      "metadata": {
        "colab": {
          "base_uri": "https://localhost:8080/",
          "height": 1000
        },
        "id": "Hy0BgQf8maFb",
        "outputId": "a2385bed-ebb3-4329-dfd2-d04aeacc7f3d"
      },
      "execution_count": 64,
      "outputs": [
        {
          "output_type": "execute_result",
          "data": {
            "text/plain": [
              "numoutboundcmds               1\n",
              "isguestlogin                  2\n",
              "ishostlogin                   2\n",
              "rootshell                     2\n",
              "loggedin                      2\n",
              "land                          2\n",
              "numshells                     3\n",
              "suattempted                   3\n",
              "protocoltype                  3\n",
              "wrongfragment                 3\n",
              "urgent                        4\n",
              "numfailedlogins               6\n",
              "numaccessfiles               10\n",
              "flag                         11\n",
              "lastflag                     22\n",
              "attack                       23\n",
              "hot                          28\n",
              "numfilecreations             35\n",
              "service                      70\n",
              "numroot                      82\n",
              "numcompromised               88\n",
              "srvrerrorcount              148\n",
              "srvserrorcount              186\n",
              "dsthostcount                256\n",
              "dsthostsrvcount             256\n",
              "srvcount                    509\n",
              "count                       512\n",
              "srvdiffhostcount            520\n",
              "dsthostsrvserrorcount       980\n",
              "dsthostserrorcount         1602\n",
              "dsthostsrvrerrorcount      1650\n",
              "serrorcount                1796\n",
              "rerrorcount                1903\n",
              "dsthostsrvdiffhostcount    2015\n",
              "diffsrvcount               2102\n",
              "dsthostdiffsrvcount        2453\n",
              "dsthostrerrorcount         2772\n",
              "duration                   2981\n",
              "samesrvcount               3015\n",
              "srcbytes                   3341\n",
              "dsthostsamesrcportcount    3863\n",
              "dsthostsamesrvcount        6797\n",
              "dstbytes                   9326\n",
              "dtype: int64"
            ],
            "text/html": [
              "<table border=\"1\" class=\"dataframe\">\n",
              "  <thead>\n",
              "    <tr style=\"text-align: right;\">\n",
              "      <th></th>\n",
              "      <th>0</th>\n",
              "    </tr>\n",
              "  </thead>\n",
              "  <tbody>\n",
              "    <tr>\n",
              "      <th>numoutboundcmds</th>\n",
              "      <td>1</td>\n",
              "    </tr>\n",
              "    <tr>\n",
              "      <th>isguestlogin</th>\n",
              "      <td>2</td>\n",
              "    </tr>\n",
              "    <tr>\n",
              "      <th>ishostlogin</th>\n",
              "      <td>2</td>\n",
              "    </tr>\n",
              "    <tr>\n",
              "      <th>rootshell</th>\n",
              "      <td>2</td>\n",
              "    </tr>\n",
              "    <tr>\n",
              "      <th>loggedin</th>\n",
              "      <td>2</td>\n",
              "    </tr>\n",
              "    <tr>\n",
              "      <th>land</th>\n",
              "      <td>2</td>\n",
              "    </tr>\n",
              "    <tr>\n",
              "      <th>numshells</th>\n",
              "      <td>3</td>\n",
              "    </tr>\n",
              "    <tr>\n",
              "      <th>suattempted</th>\n",
              "      <td>3</td>\n",
              "    </tr>\n",
              "    <tr>\n",
              "      <th>protocoltype</th>\n",
              "      <td>3</td>\n",
              "    </tr>\n",
              "    <tr>\n",
              "      <th>wrongfragment</th>\n",
              "      <td>3</td>\n",
              "    </tr>\n",
              "    <tr>\n",
              "      <th>urgent</th>\n",
              "      <td>4</td>\n",
              "    </tr>\n",
              "    <tr>\n",
              "      <th>numfailedlogins</th>\n",
              "      <td>6</td>\n",
              "    </tr>\n",
              "    <tr>\n",
              "      <th>numaccessfiles</th>\n",
              "      <td>10</td>\n",
              "    </tr>\n",
              "    <tr>\n",
              "      <th>flag</th>\n",
              "      <td>11</td>\n",
              "    </tr>\n",
              "    <tr>\n",
              "      <th>lastflag</th>\n",
              "      <td>22</td>\n",
              "    </tr>\n",
              "    <tr>\n",
              "      <th>attack</th>\n",
              "      <td>23</td>\n",
              "    </tr>\n",
              "    <tr>\n",
              "      <th>hot</th>\n",
              "      <td>28</td>\n",
              "    </tr>\n",
              "    <tr>\n",
              "      <th>numfilecreations</th>\n",
              "      <td>35</td>\n",
              "    </tr>\n",
              "    <tr>\n",
              "      <th>service</th>\n",
              "      <td>70</td>\n",
              "    </tr>\n",
              "    <tr>\n",
              "      <th>numroot</th>\n",
              "      <td>82</td>\n",
              "    </tr>\n",
              "    <tr>\n",
              "      <th>numcompromised</th>\n",
              "      <td>88</td>\n",
              "    </tr>\n",
              "    <tr>\n",
              "      <th>srvrerrorcount</th>\n",
              "      <td>148</td>\n",
              "    </tr>\n",
              "    <tr>\n",
              "      <th>srvserrorcount</th>\n",
              "      <td>186</td>\n",
              "    </tr>\n",
              "    <tr>\n",
              "      <th>dsthostcount</th>\n",
              "      <td>256</td>\n",
              "    </tr>\n",
              "    <tr>\n",
              "      <th>dsthostsrvcount</th>\n",
              "      <td>256</td>\n",
              "    </tr>\n",
              "    <tr>\n",
              "      <th>srvcount</th>\n",
              "      <td>509</td>\n",
              "    </tr>\n",
              "    <tr>\n",
              "      <th>count</th>\n",
              "      <td>512</td>\n",
              "    </tr>\n",
              "    <tr>\n",
              "      <th>srvdiffhostcount</th>\n",
              "      <td>520</td>\n",
              "    </tr>\n",
              "    <tr>\n",
              "      <th>dsthostsrvserrorcount</th>\n",
              "      <td>980</td>\n",
              "    </tr>\n",
              "    <tr>\n",
              "      <th>dsthostserrorcount</th>\n",
              "      <td>1602</td>\n",
              "    </tr>\n",
              "    <tr>\n",
              "      <th>dsthostsrvrerrorcount</th>\n",
              "      <td>1650</td>\n",
              "    </tr>\n",
              "    <tr>\n",
              "      <th>serrorcount</th>\n",
              "      <td>1796</td>\n",
              "    </tr>\n",
              "    <tr>\n",
              "      <th>rerrorcount</th>\n",
              "      <td>1903</td>\n",
              "    </tr>\n",
              "    <tr>\n",
              "      <th>dsthostsrvdiffhostcount</th>\n",
              "      <td>2015</td>\n",
              "    </tr>\n",
              "    <tr>\n",
              "      <th>diffsrvcount</th>\n",
              "      <td>2102</td>\n",
              "    </tr>\n",
              "    <tr>\n",
              "      <th>dsthostdiffsrvcount</th>\n",
              "      <td>2453</td>\n",
              "    </tr>\n",
              "    <tr>\n",
              "      <th>dsthostrerrorcount</th>\n",
              "      <td>2772</td>\n",
              "    </tr>\n",
              "    <tr>\n",
              "      <th>duration</th>\n",
              "      <td>2981</td>\n",
              "    </tr>\n",
              "    <tr>\n",
              "      <th>samesrvcount</th>\n",
              "      <td>3015</td>\n",
              "    </tr>\n",
              "    <tr>\n",
              "      <th>srcbytes</th>\n",
              "      <td>3341</td>\n",
              "    </tr>\n",
              "    <tr>\n",
              "      <th>dsthostsamesrcportcount</th>\n",
              "      <td>3863</td>\n",
              "    </tr>\n",
              "    <tr>\n",
              "      <th>dsthostsamesrvcount</th>\n",
              "      <td>6797</td>\n",
              "    </tr>\n",
              "    <tr>\n",
              "      <th>dstbytes</th>\n",
              "      <td>9326</td>\n",
              "    </tr>\n",
              "  </tbody>\n",
              "</table><br><label><b>dtype:</b> int64</label>"
            ]
          },
          "metadata": {},
          "execution_count": 64
        }
      ]
    },
    {
      "cell_type": "code",
      "source": [
        "#dropping columns not relevant\n",
        "dropped_cols = ['numoutboundcmds', 'isguestlogin', 'ishostlogin', 'loggedin', 'land', 'numshells']\n",
        "\n",
        "df.drop(columns = dropped_cols, inplace = True)"
      ],
      "metadata": {
        "id": "GrFBvNddhjc0"
      },
      "execution_count": 65,
      "outputs": []
    },
    {
      "cell_type": "markdown",
      "source": [
        "###**Target Variable (Overview)**"
      ],
      "metadata": {
        "id": "ES8jWjlDboUK"
      }
    },
    {
      "cell_type": "markdown",
      "source": [
        "#### **Types of Attacks**"
      ],
      "metadata": {
        "id": "XASTfK_kXh8S"
      }
    },
    {
      "cell_type": "code",
      "source": [
        "df.attack.unique()"
      ],
      "metadata": {
        "colab": {
          "base_uri": "https://localhost:8080/"
        },
        "id": "t12SXyKnaA-M",
        "outputId": "21aa69ae-553c-4d0b-b0bb-0fc81ca4ec40"
      },
      "execution_count": 66,
      "outputs": [
        {
          "output_type": "execute_result",
          "data": {
            "text/plain": [
              "array(['normal', 'neptune', 'warezclient', 'ipsweep', 'portsweep',\n",
              "       'teardrop', 'nmap', 'satan', 'smurf', 'pod', 'back',\n",
              "       'guess_passwd', 'ftp_write', 'multihop', 'rootkit',\n",
              "       'buffer_overflow', 'imap', 'warezmaster', 'phf', 'land',\n",
              "       'loadmodule', 'spy', 'perl'], dtype=object)"
            ]
          },
          "metadata": {},
          "execution_count": 66
        }
      ]
    },
    {
      "cell_type": "markdown",
      "source": [
        "**Insights**\n",
        "- stating the research paper which has mined this data\n",
        "[\"https://www.researchgate.net/publication/228808098_Cost-Based_modeling_and_evaluation_for_data_mining_with_application_to_fraud_and_intrusion_detection_Results_from_the_JAM_project\"]\n",
        "\n",
        "- attacks fall into four main categories:\n",
        "\n",
        "  - DOS: denial-of-service, e.g. syn flood;\n",
        "  - R2L: unauthorized access from a remote machine, e.g. guessing password;\n",
        "  - U2R: unauthorized access to local superuser (root) privileges, e.g., various ``buffer overflow'' attacks;\n",
        "  - probing: surveillance and other probing, e.g., port scanning.\n",
        "\n",
        "- dos: back, land, neptune, teardrop, pod, smurf\n",
        "- u2r: buffer_overflow, rootkit, loadmodule, perl\n",
        "- r2l: ftp_write, guess_passwd, imap, multihop, phf, spy, warezclient, warezmaster\n",
        "- probe: ipsweep, nmap, portsweep, satan\n",
        "\n",
        "- we will engineer another category called safe to group all the non-attack normal records\n",
        "- finally to make a binary classifier model we will groups all the \"attacks\" as attack and all the safe records as \"genuine\""
      ],
      "metadata": {
        "id": "AGA6DjfeX0ox"
      }
    },
    {
      "cell_type": "markdown",
      "source": [
        "###**Categorical Variable (Overview)**"
      ],
      "metadata": {
        "id": "EzJ9f5nabeKB"
      }
    },
    {
      "cell_type": "markdown",
      "source": [
        "#### **Types of Flags**"
      ],
      "metadata": {
        "id": "QD13B_Z_aspz"
      }
    },
    {
      "cell_type": "code",
      "source": [
        "df['flag'].unique()"
      ],
      "metadata": {
        "colab": {
          "base_uri": "https://localhost:8080/"
        },
        "id": "PYQMeDUOa0g8",
        "outputId": "ff84e11e-2439-4e00-8f0f-aefeec1d94fc"
      },
      "execution_count": 67,
      "outputs": [
        {
          "output_type": "execute_result",
          "data": {
            "text/plain": [
              "array(['SF', 'S0', 'REJ', 'RSTR', 'SH', 'RSTO', 'S1', 'RSTOS0', 'S3',\n",
              "       'S2', 'OTH'], dtype=object)"
            ]
          },
          "metadata": {},
          "execution_count": 67
        }
      ]
    },
    {
      "cell_type": "markdown",
      "source": [
        "In the context of detecting potential network attacks, the grouping of flag statuses are as follows:\n",
        "- \"Normal\" Flag Statuses:\n",
        "\n",
        "  - SF (Synchronize/Finish)\n",
        "  - S3 (State 3)\n",
        "\n",
        "- \"Error\" Flag Statuses:\n",
        "\n",
        "  - S0 (State 0)\n",
        "  - S1 (State 1)\n",
        "  - S2 (State 2)\n",
        "  - SH (Synchronize/Half-open)\n",
        "  - REJ (Rejected)\n",
        "  - RSTR (Reset/Received)\n",
        "  - RSTO (Reset/Sent)\n",
        "  - RSTOS0 (Reset/Sent State 0)\n",
        "  - OTH (Other)\n",
        "\n",
        "**Reasoning**:\n",
        "Normal Flag Statuses:\n",
        "\n",
        "- SF and S3 represent successfully established and completed connections, which are typically indicative of normal network behavior.\n",
        "\n",
        "Potentially Suspicious or Error Flag Statuses:\n",
        "\n",
        "- S0, S1, S2: While these can be normal in small numbers, a large volume of connections stuck in these states could indicate scanning activities or SYN flood attacks.\n",
        "- SH: Half-open connections in large numbers could suggest SYN flood attacks.\n",
        "REJ: Numerous rejected connections might indicate port scanning or brute force attempts.\n",
        "- RSTR, RSTO, RSTOS0: While resets can occur normally, an unusual number of resets might suggest port scanning or attempts to exploit vulnerabilities.\n",
        "- OTH: Undefined states could be indicative of protocol anomalies or crafted packets used in attacks.\n",
        "\n",
        "In this context, we're being more conservative in what we consider \"normal.\" The key is to look for patterns and volumes that deviate from the baseline network behavior. For instance:\n",
        "\n",
        "A high number of S0, S1, or SH states could indicate a SYN flood attack.\n",
        "Numerous REJ flags might suggest port scanning activities.\n",
        "An unusual spike in reset flags (RSTR, RSTO, RSTOS0) could indicate attempted exploits.\n",
        "A sudden increase in OTH flags might suggest the use of crafted packets in an attack.\n",
        "\n",
        "It's crucial to analyze these flags in conjunction with other network data, such as source/destination IP addresses, ports, and overall traffic patterns. What's considered suspicious can vary based on the specific network environment and typical usage patterns."
      ],
      "metadata": {
        "id": "s-7HP_3TDJRU"
      }
    },
    {
      "cell_type": "markdown",
      "source": [
        "###**Types of Protocol**"
      ],
      "metadata": {
        "id": "fe5USXjFbzgc"
      }
    },
    {
      "cell_type": "code",
      "source": [
        "df['protocoltype'].unique()"
      ],
      "metadata": {
        "colab": {
          "base_uri": "https://localhost:8080/"
        },
        "id": "Dz191y9Mb4IO",
        "outputId": "4a445464-1b6d-4d15-c820-28fd863d5dc1"
      },
      "execution_count": 68,
      "outputs": [
        {
          "output_type": "execute_result",
          "data": {
            "text/plain": [
              "array(['tcp', 'udp', 'icmp'], dtype=object)"
            ]
          },
          "metadata": {},
          "execution_count": 68
        }
      ]
    },
    {
      "cell_type": "markdown",
      "source": [
        "###**Types of Service (Destination Network Service)**"
      ],
      "metadata": {
        "id": "etYiFNvzcgxQ"
      }
    },
    {
      "cell_type": "code",
      "source": [
        "df['service'].unique()"
      ],
      "metadata": {
        "colab": {
          "base_uri": "https://localhost:8080/"
        },
        "id": "Z1Qei2HfcXNV",
        "outputId": "ed70cc19-e1b5-4c9a-d5c7-6c17c725ea07"
      },
      "execution_count": 69,
      "outputs": [
        {
          "output_type": "execute_result",
          "data": {
            "text/plain": [
              "array(['ftp_data', 'other', 'private', 'http', 'remote_job', 'name',\n",
              "       'netbios_ns', 'eco_i', 'mtp', 'telnet', 'finger', 'domain_u',\n",
              "       'supdup', 'uucp_path', 'Z39_50', 'smtp', 'csnet_ns', 'uucp',\n",
              "       'netbios_dgm', 'urp_i', 'auth', 'domain', 'ftp', 'bgp', 'ldap',\n",
              "       'ecr_i', 'gopher', 'vmnet', 'systat', 'http_443', 'efs', 'whois',\n",
              "       'imap4', 'iso_tsap', 'echo', 'klogin', 'link', 'sunrpc', 'login',\n",
              "       'kshell', 'sql_net', 'time', 'hostnames', 'exec', 'ntp_u',\n",
              "       'discard', 'nntp', 'courier', 'ctf', 'ssh', 'daytime', 'shell',\n",
              "       'netstat', 'pop_3', 'nnsp', 'IRC', 'pop_2', 'printer', 'tim_i',\n",
              "       'pm_dump', 'red_i', 'netbios_ssn', 'rje', 'X11', 'urh_i',\n",
              "       'http_8001', 'aol', 'http_2784', 'tftp_u', 'harvest'], dtype=object)"
            ]
          },
          "metadata": {},
          "execution_count": 69
        }
      ]
    },
    {
      "cell_type": "code",
      "source": [
        "df.info()"
      ],
      "metadata": {
        "colab": {
          "base_uri": "https://localhost:8080/"
        },
        "id": "UeiHh2lhdz_P",
        "outputId": "28935d84-984e-42c0-f5b4-a1c07218a7ca"
      },
      "execution_count": 70,
      "outputs": [
        {
          "output_type": "stream",
          "name": "stdout",
          "text": [
            "<class 'pandas.core.frame.DataFrame'>\n",
            "RangeIndex: 125973 entries, 0 to 125972\n",
            "Data columns (total 37 columns):\n",
            " #   Column                   Non-Null Count   Dtype  \n",
            "---  ------                   --------------   -----  \n",
            " 0   duration                 125973 non-null  int64  \n",
            " 1   protocoltype             125973 non-null  object \n",
            " 2   service                  125973 non-null  object \n",
            " 3   flag                     125973 non-null  object \n",
            " 4   srcbytes                 125973 non-null  int64  \n",
            " 5   dstbytes                 125973 non-null  int64  \n",
            " 6   wrongfragment            125973 non-null  int64  \n",
            " 7   urgent                   125973 non-null  int64  \n",
            " 8   hot                      125973 non-null  int64  \n",
            " 9   numfailedlogins          125973 non-null  int64  \n",
            " 10  numcompromised           125973 non-null  int64  \n",
            " 11  rootshell                125973 non-null  int64  \n",
            " 12  suattempted              125973 non-null  int64  \n",
            " 13  numroot                  125973 non-null  int64  \n",
            " 14  numfilecreations         125973 non-null  int64  \n",
            " 15  numaccessfiles           125973 non-null  int64  \n",
            " 16  count                    125973 non-null  int64  \n",
            " 17  srvcount                 125973 non-null  int64  \n",
            " 18  dsthostcount             125973 non-null  int64  \n",
            " 19  dsthostsrvcount          125973 non-null  int64  \n",
            " 20  attack                   125973 non-null  object \n",
            " 21  lastflag                 125973 non-null  int64  \n",
            " 22  serrorcount              125973 non-null  float64\n",
            " 23  rerrorcount              125973 non-null  float64\n",
            " 24  samesrvcount             125973 non-null  float64\n",
            " 25  diffsrvcount             125973 non-null  float64\n",
            " 26  srvserrorcount           125973 non-null  float64\n",
            " 27  srvrerrorcount           125973 non-null  float64\n",
            " 28  srvdiffhostcount         125973 non-null  float64\n",
            " 29  dsthostsamesrvcount      125973 non-null  float64\n",
            " 30  dsthostdiffsrvcount      125973 non-null  float64\n",
            " 31  dsthostserrorcount       125973 non-null  float64\n",
            " 32  dsthostrerrorcount       125973 non-null  float64\n",
            " 33  dsthostsamesrcportcount  125973 non-null  float64\n",
            " 34  dsthostsrvdiffhostcount  125973 non-null  float64\n",
            " 35  dsthostsrvserrorcount    125973 non-null  float64\n",
            " 36  dsthostsrvrerrorcount    125973 non-null  float64\n",
            "dtypes: float64(15), int64(18), object(4)\n",
            "memory usage: 35.6+ MB\n"
          ]
        }
      ]
    },
    {
      "cell_type": "code",
      "source": [
        "df.nunique().sort_values(ascending = True)"
      ],
      "metadata": {
        "colab": {
          "base_uri": "https://localhost:8080/",
          "height": 1000
        },
        "id": "gLMhTK9pd38o",
        "outputId": "815dce66-1f94-4698-fe7a-b91123f0517d"
      },
      "execution_count": 71,
      "outputs": [
        {
          "output_type": "execute_result",
          "data": {
            "text/plain": [
              "rootshell                     2\n",
              "protocoltype                  3\n",
              "wrongfragment                 3\n",
              "suattempted                   3\n",
              "urgent                        4\n",
              "numfailedlogins               6\n",
              "numaccessfiles               10\n",
              "flag                         11\n",
              "lastflag                     22\n",
              "attack                       23\n",
              "hot                          28\n",
              "numfilecreations             35\n",
              "service                      70\n",
              "numroot                      82\n",
              "numcompromised               88\n",
              "srvrerrorcount              148\n",
              "srvserrorcount              186\n",
              "dsthostsrvcount             256\n",
              "dsthostcount                256\n",
              "srvcount                    509\n",
              "count                       512\n",
              "srvdiffhostcount            520\n",
              "dsthostsrvserrorcount       980\n",
              "dsthostserrorcount         1602\n",
              "dsthostsrvrerrorcount      1650\n",
              "serrorcount                1796\n",
              "rerrorcount                1903\n",
              "dsthostsrvdiffhostcount    2015\n",
              "diffsrvcount               2102\n",
              "dsthostdiffsrvcount        2453\n",
              "dsthostrerrorcount         2772\n",
              "duration                   2981\n",
              "samesrvcount               3015\n",
              "srcbytes                   3341\n",
              "dsthostsamesrcportcount    3863\n",
              "dsthostsamesrvcount        6797\n",
              "dstbytes                   9326\n",
              "dtype: int64"
            ],
            "text/html": [
              "<table border=\"1\" class=\"dataframe\">\n",
              "  <thead>\n",
              "    <tr style=\"text-align: right;\">\n",
              "      <th></th>\n",
              "      <th>0</th>\n",
              "    </tr>\n",
              "  </thead>\n",
              "  <tbody>\n",
              "    <tr>\n",
              "      <th>rootshell</th>\n",
              "      <td>2</td>\n",
              "    </tr>\n",
              "    <tr>\n",
              "      <th>protocoltype</th>\n",
              "      <td>3</td>\n",
              "    </tr>\n",
              "    <tr>\n",
              "      <th>wrongfragment</th>\n",
              "      <td>3</td>\n",
              "    </tr>\n",
              "    <tr>\n",
              "      <th>suattempted</th>\n",
              "      <td>3</td>\n",
              "    </tr>\n",
              "    <tr>\n",
              "      <th>urgent</th>\n",
              "      <td>4</td>\n",
              "    </tr>\n",
              "    <tr>\n",
              "      <th>numfailedlogins</th>\n",
              "      <td>6</td>\n",
              "    </tr>\n",
              "    <tr>\n",
              "      <th>numaccessfiles</th>\n",
              "      <td>10</td>\n",
              "    </tr>\n",
              "    <tr>\n",
              "      <th>flag</th>\n",
              "      <td>11</td>\n",
              "    </tr>\n",
              "    <tr>\n",
              "      <th>lastflag</th>\n",
              "      <td>22</td>\n",
              "    </tr>\n",
              "    <tr>\n",
              "      <th>attack</th>\n",
              "      <td>23</td>\n",
              "    </tr>\n",
              "    <tr>\n",
              "      <th>hot</th>\n",
              "      <td>28</td>\n",
              "    </tr>\n",
              "    <tr>\n",
              "      <th>numfilecreations</th>\n",
              "      <td>35</td>\n",
              "    </tr>\n",
              "    <tr>\n",
              "      <th>service</th>\n",
              "      <td>70</td>\n",
              "    </tr>\n",
              "    <tr>\n",
              "      <th>numroot</th>\n",
              "      <td>82</td>\n",
              "    </tr>\n",
              "    <tr>\n",
              "      <th>numcompromised</th>\n",
              "      <td>88</td>\n",
              "    </tr>\n",
              "    <tr>\n",
              "      <th>srvrerrorcount</th>\n",
              "      <td>148</td>\n",
              "    </tr>\n",
              "    <tr>\n",
              "      <th>srvserrorcount</th>\n",
              "      <td>186</td>\n",
              "    </tr>\n",
              "    <tr>\n",
              "      <th>dsthostsrvcount</th>\n",
              "      <td>256</td>\n",
              "    </tr>\n",
              "    <tr>\n",
              "      <th>dsthostcount</th>\n",
              "      <td>256</td>\n",
              "    </tr>\n",
              "    <tr>\n",
              "      <th>srvcount</th>\n",
              "      <td>509</td>\n",
              "    </tr>\n",
              "    <tr>\n",
              "      <th>count</th>\n",
              "      <td>512</td>\n",
              "    </tr>\n",
              "    <tr>\n",
              "      <th>srvdiffhostcount</th>\n",
              "      <td>520</td>\n",
              "    </tr>\n",
              "    <tr>\n",
              "      <th>dsthostsrvserrorcount</th>\n",
              "      <td>980</td>\n",
              "    </tr>\n",
              "    <tr>\n",
              "      <th>dsthostserrorcount</th>\n",
              "      <td>1602</td>\n",
              "    </tr>\n",
              "    <tr>\n",
              "      <th>dsthostsrvrerrorcount</th>\n",
              "      <td>1650</td>\n",
              "    </tr>\n",
              "    <tr>\n",
              "      <th>serrorcount</th>\n",
              "      <td>1796</td>\n",
              "    </tr>\n",
              "    <tr>\n",
              "      <th>rerrorcount</th>\n",
              "      <td>1903</td>\n",
              "    </tr>\n",
              "    <tr>\n",
              "      <th>dsthostsrvdiffhostcount</th>\n",
              "      <td>2015</td>\n",
              "    </tr>\n",
              "    <tr>\n",
              "      <th>diffsrvcount</th>\n",
              "      <td>2102</td>\n",
              "    </tr>\n",
              "    <tr>\n",
              "      <th>dsthostdiffsrvcount</th>\n",
              "      <td>2453</td>\n",
              "    </tr>\n",
              "    <tr>\n",
              "      <th>dsthostrerrorcount</th>\n",
              "      <td>2772</td>\n",
              "    </tr>\n",
              "    <tr>\n",
              "      <th>duration</th>\n",
              "      <td>2981</td>\n",
              "    </tr>\n",
              "    <tr>\n",
              "      <th>samesrvcount</th>\n",
              "      <td>3015</td>\n",
              "    </tr>\n",
              "    <tr>\n",
              "      <th>srcbytes</th>\n",
              "      <td>3341</td>\n",
              "    </tr>\n",
              "    <tr>\n",
              "      <th>dsthostsamesrcportcount</th>\n",
              "      <td>3863</td>\n",
              "    </tr>\n",
              "    <tr>\n",
              "      <th>dsthostsamesrvcount</th>\n",
              "      <td>6797</td>\n",
              "    </tr>\n",
              "    <tr>\n",
              "      <th>dstbytes</th>\n",
              "      <td>9326</td>\n",
              "    </tr>\n",
              "  </tbody>\n",
              "</table><br><label><b>dtype:</b> int64</label>"
            ]
          },
          "metadata": {},
          "execution_count": 71
        }
      ]
    },
    {
      "cell_type": "markdown",
      "source": [
        "**Insights**\n",
        "- we have created our \"**attack_or_safe**\" binary class to detect if the connection is an attack or genuine connection\n",
        "- we have also created \"**attack_categories**\" a main category for the attacks  grouping the attacks\n"
      ],
      "metadata": {
        "id": "5gPh5zmJeodG"
      }
    },
    {
      "cell_type": "markdown",
      "source": [
        "## **Summary statistics**"
      ],
      "metadata": {
        "id": "PKegl0_ffeI7"
      }
    },
    {
      "cell_type": "code",
      "source": [
        "df.describe().T"
      ],
      "metadata": {
        "colab": {
          "base_uri": "https://localhost:8080/",
          "height": 1000
        },
        "id": "RdOKg-7xPllR",
        "outputId": "e221b10c-3c9f-4347-bfd6-1abd176fabc2"
      },
      "execution_count": 72,
      "outputs": [
        {
          "output_type": "execute_result",
          "data": {
            "text/plain": [
              "                            count          mean           std  min   25%  \\\n",
              "duration                 125973.0    287.144650  2.604515e+03  0.0   0.0   \n",
              "srcbytes                 125973.0  45566.743000  5.870331e+06  0.0   0.0   \n",
              "dstbytes                 125973.0  19779.114421  4.021269e+06  0.0   0.0   \n",
              "wrongfragment            125973.0      0.022687  2.535300e-01  0.0   0.0   \n",
              "urgent                   125973.0      0.000111  1.436603e-02  0.0   0.0   \n",
              "hot                      125973.0      0.204409  2.149968e+00  0.0   0.0   \n",
              "numfailedlogins          125973.0      0.001222  4.523914e-02  0.0   0.0   \n",
              "numcompromised           125973.0      0.279250  2.394204e+01  0.0   0.0   \n",
              "rootshell                125973.0      0.001342  3.660284e-02  0.0   0.0   \n",
              "suattempted              125973.0      0.001103  4.515438e-02  0.0   0.0   \n",
              "numroot                  125973.0      0.302192  2.439962e+01  0.0   0.0   \n",
              "numfilecreations         125973.0      0.012669  4.839351e-01  0.0   0.0   \n",
              "numaccessfiles           125973.0      0.004096  9.936956e-02  0.0   0.0   \n",
              "count                    125973.0     84.107555  1.145086e+02  0.0   2.0   \n",
              "srvcount                 125973.0     27.737888  7.263584e+01  0.0   2.0   \n",
              "dsthostcount             125973.0    182.148945  9.920621e+01  0.0  82.0   \n",
              "dsthostsrvcount          125973.0    115.653005  1.107027e+02  0.0  10.0   \n",
              "lastflag                 125973.0     19.504060  2.291503e+00  0.0  18.0   \n",
              "serrorcount              125973.0     47.318737  8.745855e+01  0.0   0.0   \n",
              "rerrorcount              125973.0     15.998947  6.350168e+01  0.0   0.0   \n",
              "samesrvcount             125973.0     23.974152  6.989828e+01  0.0   1.0   \n",
              "diffsrvcount             125973.0      9.900044  5.046728e+01  0.0   0.0   \n",
              "srvserrorcount           125973.0      3.049338  6.063510e+00  0.0   0.0   \n",
              "srvrerrorcount           125973.0      0.689395  2.847035e+00  0.0   0.0   \n",
              "srvdiffhostcount         125973.0      1.244781  5.085399e+00  0.0   0.0   \n",
              "dsthostsamesrvcount      125973.0     71.866387  9.294501e+01  0.0   5.1   \n",
              "dsthostdiffsrvcount      125973.0     17.815244  4.383870e+01  0.0   0.0   \n",
              "dsthostserrorcount       125973.0     69.944651  1.117962e+02  0.0   0.0   \n",
              "dsthostrerrorcount       125973.0     23.832442  6.952728e+01  0.0   0.0   \n",
              "dsthostsamesrcportcount  125973.0     14.812946  4.354175e+01  0.0   0.0   \n",
              "dsthostsrvdiffhostcount  125973.0      3.705435  1.194242e+01  0.0   0.0   \n",
              "dsthostsrvserrorcount    125973.0      4.204545  1.002267e+01  0.0   0.0   \n",
              "dsthostsrvrerrorcount    125973.0      4.964198  2.857156e+01  0.0   0.0   \n",
              "\n",
              "                            50%     75%           max  \n",
              "duration                   0.00    0.00  4.290800e+04  \n",
              "srcbytes                  44.00  276.00  1.379964e+09  \n",
              "dstbytes                   0.00  516.00  1.309937e+09  \n",
              "wrongfragment              0.00    0.00  3.000000e+00  \n",
              "urgent                     0.00    0.00  3.000000e+00  \n",
              "hot                        0.00    0.00  7.700000e+01  \n",
              "numfailedlogins            0.00    0.00  5.000000e+00  \n",
              "numcompromised             0.00    0.00  7.479000e+03  \n",
              "rootshell                  0.00    0.00  1.000000e+00  \n",
              "suattempted                0.00    0.00  2.000000e+00  \n",
              "numroot                    0.00    0.00  7.468000e+03  \n",
              "numfilecreations           0.00    0.00  4.300000e+01  \n",
              "numaccessfiles             0.00    0.00  9.000000e+00  \n",
              "count                     14.00  143.00  5.110000e+02  \n",
              "srvcount                   8.00   18.00  5.110000e+02  \n",
              "dsthostcount             255.00  255.00  2.550000e+02  \n",
              "dsthostsrvcount           63.00  255.00  2.550000e+02  \n",
              "lastflag                  20.00   21.00  2.100000e+01  \n",
              "serrorcount                0.00   48.00  3.040000e+02  \n",
              "rerrorcount                0.00    0.00  5.058900e+02  \n",
              "samesrvcount               5.67   15.00  5.110000e+02  \n",
              "diffsrvcount               0.00    7.50  5.110000e+02  \n",
              "srvserrorcount             0.00    2.00  9.454000e+01  \n",
              "srvrerrorcount             0.00    0.00  4.896000e+01  \n",
              "srvdiffhostcount           0.00    0.00  5.200000e+01  \n",
              "dsthostsamesrvcount       19.00  111.72  2.550000e+02  \n",
              "dsthostdiffsrvcount        3.90   17.85  2.550000e+02  \n",
              "dsthostserrorcount         0.00  255.00  2.550000e+02  \n",
              "dsthostrerrorcount         0.00    0.00  2.550000e+02  \n",
              "dsthostsamesrcportcount    0.00    4.24  2.550000e+02  \n",
              "dsthostsrvdiffhostcount    0.00    2.28  2.550000e+02  \n",
              "dsthostsrvserrorcount      0.00    2.86  1.006400e+02  \n",
              "dsthostsrvrerrorcount      0.00    0.00  2.550000e+02  "
            ],
            "text/html": [
              "\n",
              "  <div id=\"df-85cbaead-c2a6-4749-91c1-74e5ecca1f00\" class=\"colab-df-container\">\n",
              "    <div>\n",
              "<style scoped>\n",
              "    .dataframe tbody tr th:only-of-type {\n",
              "        vertical-align: middle;\n",
              "    }\n",
              "\n",
              "    .dataframe tbody tr th {\n",
              "        vertical-align: top;\n",
              "    }\n",
              "\n",
              "    .dataframe thead th {\n",
              "        text-align: right;\n",
              "    }\n",
              "</style>\n",
              "<table border=\"1\" class=\"dataframe\">\n",
              "  <thead>\n",
              "    <tr style=\"text-align: right;\">\n",
              "      <th></th>\n",
              "      <th>count</th>\n",
              "      <th>mean</th>\n",
              "      <th>std</th>\n",
              "      <th>min</th>\n",
              "      <th>25%</th>\n",
              "      <th>50%</th>\n",
              "      <th>75%</th>\n",
              "      <th>max</th>\n",
              "    </tr>\n",
              "  </thead>\n",
              "  <tbody>\n",
              "    <tr>\n",
              "      <th>duration</th>\n",
              "      <td>125973.0</td>\n",
              "      <td>287.144650</td>\n",
              "      <td>2.604515e+03</td>\n",
              "      <td>0.0</td>\n",
              "      <td>0.0</td>\n",
              "      <td>0.00</td>\n",
              "      <td>0.00</td>\n",
              "      <td>4.290800e+04</td>\n",
              "    </tr>\n",
              "    <tr>\n",
              "      <th>srcbytes</th>\n",
              "      <td>125973.0</td>\n",
              "      <td>45566.743000</td>\n",
              "      <td>5.870331e+06</td>\n",
              "      <td>0.0</td>\n",
              "      <td>0.0</td>\n",
              "      <td>44.00</td>\n",
              "      <td>276.00</td>\n",
              "      <td>1.379964e+09</td>\n",
              "    </tr>\n",
              "    <tr>\n",
              "      <th>dstbytes</th>\n",
              "      <td>125973.0</td>\n",
              "      <td>19779.114421</td>\n",
              "      <td>4.021269e+06</td>\n",
              "      <td>0.0</td>\n",
              "      <td>0.0</td>\n",
              "      <td>0.00</td>\n",
              "      <td>516.00</td>\n",
              "      <td>1.309937e+09</td>\n",
              "    </tr>\n",
              "    <tr>\n",
              "      <th>wrongfragment</th>\n",
              "      <td>125973.0</td>\n",
              "      <td>0.022687</td>\n",
              "      <td>2.535300e-01</td>\n",
              "      <td>0.0</td>\n",
              "      <td>0.0</td>\n",
              "      <td>0.00</td>\n",
              "      <td>0.00</td>\n",
              "      <td>3.000000e+00</td>\n",
              "    </tr>\n",
              "    <tr>\n",
              "      <th>urgent</th>\n",
              "      <td>125973.0</td>\n",
              "      <td>0.000111</td>\n",
              "      <td>1.436603e-02</td>\n",
              "      <td>0.0</td>\n",
              "      <td>0.0</td>\n",
              "      <td>0.00</td>\n",
              "      <td>0.00</td>\n",
              "      <td>3.000000e+00</td>\n",
              "    </tr>\n",
              "    <tr>\n",
              "      <th>hot</th>\n",
              "      <td>125973.0</td>\n",
              "      <td>0.204409</td>\n",
              "      <td>2.149968e+00</td>\n",
              "      <td>0.0</td>\n",
              "      <td>0.0</td>\n",
              "      <td>0.00</td>\n",
              "      <td>0.00</td>\n",
              "      <td>7.700000e+01</td>\n",
              "    </tr>\n",
              "    <tr>\n",
              "      <th>numfailedlogins</th>\n",
              "      <td>125973.0</td>\n",
              "      <td>0.001222</td>\n",
              "      <td>4.523914e-02</td>\n",
              "      <td>0.0</td>\n",
              "      <td>0.0</td>\n",
              "      <td>0.00</td>\n",
              "      <td>0.00</td>\n",
              "      <td>5.000000e+00</td>\n",
              "    </tr>\n",
              "    <tr>\n",
              "      <th>numcompromised</th>\n",
              "      <td>125973.0</td>\n",
              "      <td>0.279250</td>\n",
              "      <td>2.394204e+01</td>\n",
              "      <td>0.0</td>\n",
              "      <td>0.0</td>\n",
              "      <td>0.00</td>\n",
              "      <td>0.00</td>\n",
              "      <td>7.479000e+03</td>\n",
              "    </tr>\n",
              "    <tr>\n",
              "      <th>rootshell</th>\n",
              "      <td>125973.0</td>\n",
              "      <td>0.001342</td>\n",
              "      <td>3.660284e-02</td>\n",
              "      <td>0.0</td>\n",
              "      <td>0.0</td>\n",
              "      <td>0.00</td>\n",
              "      <td>0.00</td>\n",
              "      <td>1.000000e+00</td>\n",
              "    </tr>\n",
              "    <tr>\n",
              "      <th>suattempted</th>\n",
              "      <td>125973.0</td>\n",
              "      <td>0.001103</td>\n",
              "      <td>4.515438e-02</td>\n",
              "      <td>0.0</td>\n",
              "      <td>0.0</td>\n",
              "      <td>0.00</td>\n",
              "      <td>0.00</td>\n",
              "      <td>2.000000e+00</td>\n",
              "    </tr>\n",
              "    <tr>\n",
              "      <th>numroot</th>\n",
              "      <td>125973.0</td>\n",
              "      <td>0.302192</td>\n",
              "      <td>2.439962e+01</td>\n",
              "      <td>0.0</td>\n",
              "      <td>0.0</td>\n",
              "      <td>0.00</td>\n",
              "      <td>0.00</td>\n",
              "      <td>7.468000e+03</td>\n",
              "    </tr>\n",
              "    <tr>\n",
              "      <th>numfilecreations</th>\n",
              "      <td>125973.0</td>\n",
              "      <td>0.012669</td>\n",
              "      <td>4.839351e-01</td>\n",
              "      <td>0.0</td>\n",
              "      <td>0.0</td>\n",
              "      <td>0.00</td>\n",
              "      <td>0.00</td>\n",
              "      <td>4.300000e+01</td>\n",
              "    </tr>\n",
              "    <tr>\n",
              "      <th>numaccessfiles</th>\n",
              "      <td>125973.0</td>\n",
              "      <td>0.004096</td>\n",
              "      <td>9.936956e-02</td>\n",
              "      <td>0.0</td>\n",
              "      <td>0.0</td>\n",
              "      <td>0.00</td>\n",
              "      <td>0.00</td>\n",
              "      <td>9.000000e+00</td>\n",
              "    </tr>\n",
              "    <tr>\n",
              "      <th>count</th>\n",
              "      <td>125973.0</td>\n",
              "      <td>84.107555</td>\n",
              "      <td>1.145086e+02</td>\n",
              "      <td>0.0</td>\n",
              "      <td>2.0</td>\n",
              "      <td>14.00</td>\n",
              "      <td>143.00</td>\n",
              "      <td>5.110000e+02</td>\n",
              "    </tr>\n",
              "    <tr>\n",
              "      <th>srvcount</th>\n",
              "      <td>125973.0</td>\n",
              "      <td>27.737888</td>\n",
              "      <td>7.263584e+01</td>\n",
              "      <td>0.0</td>\n",
              "      <td>2.0</td>\n",
              "      <td>8.00</td>\n",
              "      <td>18.00</td>\n",
              "      <td>5.110000e+02</td>\n",
              "    </tr>\n",
              "    <tr>\n",
              "      <th>dsthostcount</th>\n",
              "      <td>125973.0</td>\n",
              "      <td>182.148945</td>\n",
              "      <td>9.920621e+01</td>\n",
              "      <td>0.0</td>\n",
              "      <td>82.0</td>\n",
              "      <td>255.00</td>\n",
              "      <td>255.00</td>\n",
              "      <td>2.550000e+02</td>\n",
              "    </tr>\n",
              "    <tr>\n",
              "      <th>dsthostsrvcount</th>\n",
              "      <td>125973.0</td>\n",
              "      <td>115.653005</td>\n",
              "      <td>1.107027e+02</td>\n",
              "      <td>0.0</td>\n",
              "      <td>10.0</td>\n",
              "      <td>63.00</td>\n",
              "      <td>255.00</td>\n",
              "      <td>2.550000e+02</td>\n",
              "    </tr>\n",
              "    <tr>\n",
              "      <th>lastflag</th>\n",
              "      <td>125973.0</td>\n",
              "      <td>19.504060</td>\n",
              "      <td>2.291503e+00</td>\n",
              "      <td>0.0</td>\n",
              "      <td>18.0</td>\n",
              "      <td>20.00</td>\n",
              "      <td>21.00</td>\n",
              "      <td>2.100000e+01</td>\n",
              "    </tr>\n",
              "    <tr>\n",
              "      <th>serrorcount</th>\n",
              "      <td>125973.0</td>\n",
              "      <td>47.318737</td>\n",
              "      <td>8.745855e+01</td>\n",
              "      <td>0.0</td>\n",
              "      <td>0.0</td>\n",
              "      <td>0.00</td>\n",
              "      <td>48.00</td>\n",
              "      <td>3.040000e+02</td>\n",
              "    </tr>\n",
              "    <tr>\n",
              "      <th>rerrorcount</th>\n",
              "      <td>125973.0</td>\n",
              "      <td>15.998947</td>\n",
              "      <td>6.350168e+01</td>\n",
              "      <td>0.0</td>\n",
              "      <td>0.0</td>\n",
              "      <td>0.00</td>\n",
              "      <td>0.00</td>\n",
              "      <td>5.058900e+02</td>\n",
              "    </tr>\n",
              "    <tr>\n",
              "      <th>samesrvcount</th>\n",
              "      <td>125973.0</td>\n",
              "      <td>23.974152</td>\n",
              "      <td>6.989828e+01</td>\n",
              "      <td>0.0</td>\n",
              "      <td>1.0</td>\n",
              "      <td>5.67</td>\n",
              "      <td>15.00</td>\n",
              "      <td>5.110000e+02</td>\n",
              "    </tr>\n",
              "    <tr>\n",
              "      <th>diffsrvcount</th>\n",
              "      <td>125973.0</td>\n",
              "      <td>9.900044</td>\n",
              "      <td>5.046728e+01</td>\n",
              "      <td>0.0</td>\n",
              "      <td>0.0</td>\n",
              "      <td>0.00</td>\n",
              "      <td>7.50</td>\n",
              "      <td>5.110000e+02</td>\n",
              "    </tr>\n",
              "    <tr>\n",
              "      <th>srvserrorcount</th>\n",
              "      <td>125973.0</td>\n",
              "      <td>3.049338</td>\n",
              "      <td>6.063510e+00</td>\n",
              "      <td>0.0</td>\n",
              "      <td>0.0</td>\n",
              "      <td>0.00</td>\n",
              "      <td>2.00</td>\n",
              "      <td>9.454000e+01</td>\n",
              "    </tr>\n",
              "    <tr>\n",
              "      <th>srvrerrorcount</th>\n",
              "      <td>125973.0</td>\n",
              "      <td>0.689395</td>\n",
              "      <td>2.847035e+00</td>\n",
              "      <td>0.0</td>\n",
              "      <td>0.0</td>\n",
              "      <td>0.00</td>\n",
              "      <td>0.00</td>\n",
              "      <td>4.896000e+01</td>\n",
              "    </tr>\n",
              "    <tr>\n",
              "      <th>srvdiffhostcount</th>\n",
              "      <td>125973.0</td>\n",
              "      <td>1.244781</td>\n",
              "      <td>5.085399e+00</td>\n",
              "      <td>0.0</td>\n",
              "      <td>0.0</td>\n",
              "      <td>0.00</td>\n",
              "      <td>0.00</td>\n",
              "      <td>5.200000e+01</td>\n",
              "    </tr>\n",
              "    <tr>\n",
              "      <th>dsthostsamesrvcount</th>\n",
              "      <td>125973.0</td>\n",
              "      <td>71.866387</td>\n",
              "      <td>9.294501e+01</td>\n",
              "      <td>0.0</td>\n",
              "      <td>5.1</td>\n",
              "      <td>19.00</td>\n",
              "      <td>111.72</td>\n",
              "      <td>2.550000e+02</td>\n",
              "    </tr>\n",
              "    <tr>\n",
              "      <th>dsthostdiffsrvcount</th>\n",
              "      <td>125973.0</td>\n",
              "      <td>17.815244</td>\n",
              "      <td>4.383870e+01</td>\n",
              "      <td>0.0</td>\n",
              "      <td>0.0</td>\n",
              "      <td>3.90</td>\n",
              "      <td>17.85</td>\n",
              "      <td>2.550000e+02</td>\n",
              "    </tr>\n",
              "    <tr>\n",
              "      <th>dsthostserrorcount</th>\n",
              "      <td>125973.0</td>\n",
              "      <td>69.944651</td>\n",
              "      <td>1.117962e+02</td>\n",
              "      <td>0.0</td>\n",
              "      <td>0.0</td>\n",
              "      <td>0.00</td>\n",
              "      <td>255.00</td>\n",
              "      <td>2.550000e+02</td>\n",
              "    </tr>\n",
              "    <tr>\n",
              "      <th>dsthostrerrorcount</th>\n",
              "      <td>125973.0</td>\n",
              "      <td>23.832442</td>\n",
              "      <td>6.952728e+01</td>\n",
              "      <td>0.0</td>\n",
              "      <td>0.0</td>\n",
              "      <td>0.00</td>\n",
              "      <td>0.00</td>\n",
              "      <td>2.550000e+02</td>\n",
              "    </tr>\n",
              "    <tr>\n",
              "      <th>dsthostsamesrcportcount</th>\n",
              "      <td>125973.0</td>\n",
              "      <td>14.812946</td>\n",
              "      <td>4.354175e+01</td>\n",
              "      <td>0.0</td>\n",
              "      <td>0.0</td>\n",
              "      <td>0.00</td>\n",
              "      <td>4.24</td>\n",
              "      <td>2.550000e+02</td>\n",
              "    </tr>\n",
              "    <tr>\n",
              "      <th>dsthostsrvdiffhostcount</th>\n",
              "      <td>125973.0</td>\n",
              "      <td>3.705435</td>\n",
              "      <td>1.194242e+01</td>\n",
              "      <td>0.0</td>\n",
              "      <td>0.0</td>\n",
              "      <td>0.00</td>\n",
              "      <td>2.28</td>\n",
              "      <td>2.550000e+02</td>\n",
              "    </tr>\n",
              "    <tr>\n",
              "      <th>dsthostsrvserrorcount</th>\n",
              "      <td>125973.0</td>\n",
              "      <td>4.204545</td>\n",
              "      <td>1.002267e+01</td>\n",
              "      <td>0.0</td>\n",
              "      <td>0.0</td>\n",
              "      <td>0.00</td>\n",
              "      <td>2.86</td>\n",
              "      <td>1.006400e+02</td>\n",
              "    </tr>\n",
              "    <tr>\n",
              "      <th>dsthostsrvrerrorcount</th>\n",
              "      <td>125973.0</td>\n",
              "      <td>4.964198</td>\n",
              "      <td>2.857156e+01</td>\n",
              "      <td>0.0</td>\n",
              "      <td>0.0</td>\n",
              "      <td>0.00</td>\n",
              "      <td>0.00</td>\n",
              "      <td>2.550000e+02</td>\n",
              "    </tr>\n",
              "  </tbody>\n",
              "</table>\n",
              "</div>\n",
              "    <div class=\"colab-df-buttons\">\n",
              "\n",
              "  <div class=\"colab-df-container\">\n",
              "    <button class=\"colab-df-convert\" onclick=\"convertToInteractive('df-85cbaead-c2a6-4749-91c1-74e5ecca1f00')\"\n",
              "            title=\"Convert this dataframe to an interactive table.\"\n",
              "            style=\"display:none;\">\n",
              "\n",
              "  <svg xmlns=\"http://www.w3.org/2000/svg\" height=\"24px\" viewBox=\"0 -960 960 960\">\n",
              "    <path d=\"M120-120v-720h720v720H120Zm60-500h600v-160H180v160Zm220 220h160v-160H400v160Zm0 220h160v-160H400v160ZM180-400h160v-160H180v160Zm440 0h160v-160H620v160ZM180-180h160v-160H180v160Zm440 0h160v-160H620v160Z\"/>\n",
              "  </svg>\n",
              "    </button>\n",
              "\n",
              "  <style>\n",
              "    .colab-df-container {\n",
              "      display:flex;\n",
              "      gap: 12px;\n",
              "    }\n",
              "\n",
              "    .colab-df-convert {\n",
              "      background-color: #E8F0FE;\n",
              "      border: none;\n",
              "      border-radius: 50%;\n",
              "      cursor: pointer;\n",
              "      display: none;\n",
              "      fill: #1967D2;\n",
              "      height: 32px;\n",
              "      padding: 0 0 0 0;\n",
              "      width: 32px;\n",
              "    }\n",
              "\n",
              "    .colab-df-convert:hover {\n",
              "      background-color: #E2EBFA;\n",
              "      box-shadow: 0px 1px 2px rgba(60, 64, 67, 0.3), 0px 1px 3px 1px rgba(60, 64, 67, 0.15);\n",
              "      fill: #174EA6;\n",
              "    }\n",
              "\n",
              "    .colab-df-buttons div {\n",
              "      margin-bottom: 4px;\n",
              "    }\n",
              "\n",
              "    [theme=dark] .colab-df-convert {\n",
              "      background-color: #3B4455;\n",
              "      fill: #D2E3FC;\n",
              "    }\n",
              "\n",
              "    [theme=dark] .colab-df-convert:hover {\n",
              "      background-color: #434B5C;\n",
              "      box-shadow: 0px 1px 3px 1px rgba(0, 0, 0, 0.15);\n",
              "      filter: drop-shadow(0px 1px 2px rgba(0, 0, 0, 0.3));\n",
              "      fill: #FFFFFF;\n",
              "    }\n",
              "  </style>\n",
              "\n",
              "    <script>\n",
              "      const buttonEl =\n",
              "        document.querySelector('#df-85cbaead-c2a6-4749-91c1-74e5ecca1f00 button.colab-df-convert');\n",
              "      buttonEl.style.display =\n",
              "        google.colab.kernel.accessAllowed ? 'block' : 'none';\n",
              "\n",
              "      async function convertToInteractive(key) {\n",
              "        const element = document.querySelector('#df-85cbaead-c2a6-4749-91c1-74e5ecca1f00');\n",
              "        const dataTable =\n",
              "          await google.colab.kernel.invokeFunction('convertToInteractive',\n",
              "                                                    [key], {});\n",
              "        if (!dataTable) return;\n",
              "\n",
              "        const docLinkHtml = 'Like what you see? Visit the ' +\n",
              "          '<a target=\"_blank\" href=https://colab.research.google.com/notebooks/data_table.ipynb>data table notebook</a>'\n",
              "          + ' to learn more about interactive tables.';\n",
              "        element.innerHTML = '';\n",
              "        dataTable['output_type'] = 'display_data';\n",
              "        await google.colab.output.renderOutput(dataTable, element);\n",
              "        const docLink = document.createElement('div');\n",
              "        docLink.innerHTML = docLinkHtml;\n",
              "        element.appendChild(docLink);\n",
              "      }\n",
              "    </script>\n",
              "  </div>\n",
              "\n",
              "\n",
              "<div id=\"df-5179d30c-3ef2-405a-a020-b5fb17b952f8\">\n",
              "  <button class=\"colab-df-quickchart\" onclick=\"quickchart('df-5179d30c-3ef2-405a-a020-b5fb17b952f8')\"\n",
              "            title=\"Suggest charts\"\n",
              "            style=\"display:none;\">\n",
              "\n",
              "<svg xmlns=\"http://www.w3.org/2000/svg\" height=\"24px\"viewBox=\"0 0 24 24\"\n",
              "     width=\"24px\">\n",
              "    <g>\n",
              "        <path d=\"M19 3H5c-1.1 0-2 .9-2 2v14c0 1.1.9 2 2 2h14c1.1 0 2-.9 2-2V5c0-1.1-.9-2-2-2zM9 17H7v-7h2v7zm4 0h-2V7h2v10zm4 0h-2v-4h2v4z\"/>\n",
              "    </g>\n",
              "</svg>\n",
              "  </button>\n",
              "\n",
              "<style>\n",
              "  .colab-df-quickchart {\n",
              "      --bg-color: #E8F0FE;\n",
              "      --fill-color: #1967D2;\n",
              "      --hover-bg-color: #E2EBFA;\n",
              "      --hover-fill-color: #174EA6;\n",
              "      --disabled-fill-color: #AAA;\n",
              "      --disabled-bg-color: #DDD;\n",
              "  }\n",
              "\n",
              "  [theme=dark] .colab-df-quickchart {\n",
              "      --bg-color: #3B4455;\n",
              "      --fill-color: #D2E3FC;\n",
              "      --hover-bg-color: #434B5C;\n",
              "      --hover-fill-color: #FFFFFF;\n",
              "      --disabled-bg-color: #3B4455;\n",
              "      --disabled-fill-color: #666;\n",
              "  }\n",
              "\n",
              "  .colab-df-quickchart {\n",
              "    background-color: var(--bg-color);\n",
              "    border: none;\n",
              "    border-radius: 50%;\n",
              "    cursor: pointer;\n",
              "    display: none;\n",
              "    fill: var(--fill-color);\n",
              "    height: 32px;\n",
              "    padding: 0;\n",
              "    width: 32px;\n",
              "  }\n",
              "\n",
              "  .colab-df-quickchart:hover {\n",
              "    background-color: var(--hover-bg-color);\n",
              "    box-shadow: 0 1px 2px rgba(60, 64, 67, 0.3), 0 1px 3px 1px rgba(60, 64, 67, 0.15);\n",
              "    fill: var(--button-hover-fill-color);\n",
              "  }\n",
              "\n",
              "  .colab-df-quickchart-complete:disabled,\n",
              "  .colab-df-quickchart-complete:disabled:hover {\n",
              "    background-color: var(--disabled-bg-color);\n",
              "    fill: var(--disabled-fill-color);\n",
              "    box-shadow: none;\n",
              "  }\n",
              "\n",
              "  .colab-df-spinner {\n",
              "    border: 2px solid var(--fill-color);\n",
              "    border-color: transparent;\n",
              "    border-bottom-color: var(--fill-color);\n",
              "    animation:\n",
              "      spin 1s steps(1) infinite;\n",
              "  }\n",
              "\n",
              "  @keyframes spin {\n",
              "    0% {\n",
              "      border-color: transparent;\n",
              "      border-bottom-color: var(--fill-color);\n",
              "      border-left-color: var(--fill-color);\n",
              "    }\n",
              "    20% {\n",
              "      border-color: transparent;\n",
              "      border-left-color: var(--fill-color);\n",
              "      border-top-color: var(--fill-color);\n",
              "    }\n",
              "    30% {\n",
              "      border-color: transparent;\n",
              "      border-left-color: var(--fill-color);\n",
              "      border-top-color: var(--fill-color);\n",
              "      border-right-color: var(--fill-color);\n",
              "    }\n",
              "    40% {\n",
              "      border-color: transparent;\n",
              "      border-right-color: var(--fill-color);\n",
              "      border-top-color: var(--fill-color);\n",
              "    }\n",
              "    60% {\n",
              "      border-color: transparent;\n",
              "      border-right-color: var(--fill-color);\n",
              "    }\n",
              "    80% {\n",
              "      border-color: transparent;\n",
              "      border-right-color: var(--fill-color);\n",
              "      border-bottom-color: var(--fill-color);\n",
              "    }\n",
              "    90% {\n",
              "      border-color: transparent;\n",
              "      border-bottom-color: var(--fill-color);\n",
              "    }\n",
              "  }\n",
              "</style>\n",
              "\n",
              "  <script>\n",
              "    async function quickchart(key) {\n",
              "      const quickchartButtonEl =\n",
              "        document.querySelector('#' + key + ' button');\n",
              "      quickchartButtonEl.disabled = true;  // To prevent multiple clicks.\n",
              "      quickchartButtonEl.classList.add('colab-df-spinner');\n",
              "      try {\n",
              "        const charts = await google.colab.kernel.invokeFunction(\n",
              "            'suggestCharts', [key], {});\n",
              "      } catch (error) {\n",
              "        console.error('Error during call to suggestCharts:', error);\n",
              "      }\n",
              "      quickchartButtonEl.classList.remove('colab-df-spinner');\n",
              "      quickchartButtonEl.classList.add('colab-df-quickchart-complete');\n",
              "    }\n",
              "    (() => {\n",
              "      let quickchartButtonEl =\n",
              "        document.querySelector('#df-5179d30c-3ef2-405a-a020-b5fb17b952f8 button');\n",
              "      quickchartButtonEl.style.display =\n",
              "        google.colab.kernel.accessAllowed ? 'block' : 'none';\n",
              "    })();\n",
              "  </script>\n",
              "</div>\n",
              "\n",
              "    </div>\n",
              "  </div>\n"
            ],
            "application/vnd.google.colaboratory.intrinsic+json": {
              "type": "dataframe",
              "summary": "{\n  \"name\": \"df\",\n  \"rows\": 33,\n  \"fields\": [\n    {\n      \"column\": \"count\",\n      \"properties\": {\n        \"dtype\": \"number\",\n        \"std\": 0.0,\n        \"min\": 125973.0,\n        \"max\": 125973.0,\n        \"num_unique_values\": 1,\n        \"samples\": [\n          125973.0\n        ],\n        \"semantic_type\": \"\",\n        \"description\": \"\"\n      }\n    },\n    {\n      \"column\": \"mean\",\n      \"properties\": {\n        \"dtype\": \"number\",\n        \"std\": 8540.681243903398,\n        \"min\": 0.00011113492573805498,\n        \"max\": 45566.74300048423,\n        \"num_unique_values\": 33,\n        \"samples\": [\n          4.204545259698507\n        ],\n        \"semantic_type\": \"\",\n        \"description\": \"\"\n      }\n    },\n    {\n      \"column\": \"std\",\n      \"properties\": {\n        \"dtype\": \"number\",\n        \"std\": 1220453.1444805271,\n        \"min\": 0.014366026620154234,\n        \"max\": 5870331.181893551,\n        \"num_unique_values\": 33,\n        \"samples\": [\n          10.02267164798958\n        ],\n        \"semantic_type\": \"\",\n        \"description\": \"\"\n      }\n    },\n    {\n      \"column\": \"min\",\n      \"properties\": {\n        \"dtype\": \"number\",\n        \"std\": 0.0,\n        \"min\": 0.0,\n        \"max\": 0.0,\n        \"num_unique_values\": 1,\n        \"samples\": [\n          0.0\n        ],\n        \"semantic_type\": \"\",\n        \"description\": \"\"\n      }\n    },\n    {\n      \"column\": \"25%\",\n      \"properties\": {\n        \"dtype\": \"number\",\n        \"std\": 14.519296199238175,\n        \"min\": 0.0,\n        \"max\": 82.0,\n        \"num_unique_values\": 7,\n        \"samples\": [\n          0.0\n        ],\n        \"semantic_type\": \"\",\n        \"description\": \"\"\n      }\n    },\n    {\n      \"column\": \"50%\",\n      \"properties\": {\n        \"dtype\": \"number\",\n        \"std\": 45.52751664203648,\n        \"min\": 0.0,\n        \"max\": 255.0,\n        \"num_unique_values\": 10,\n        \"samples\": [\n          19.0\n        ],\n        \"semantic_type\": \"\",\n        \"description\": \"\"\n      }\n    },\n    {\n      \"column\": \"75%\",\n      \"properties\": {\n        \"dtype\": \"number\",\n        \"std\": 119.747276302295,\n        \"min\": 0.0,\n        \"max\": 516.0,\n        \"num_unique_values\": 16,\n        \"samples\": [\n          0.0\n        ],\n        \"semantic_type\": \"\",\n        \"description\": \"\"\n      }\n    },\n    {\n      \"column\": \"max\",\n      \"properties\": {\n        \"dtype\": \"number\",\n        \"std\": 326006437.6946949,\n        \"min\": 1.0,\n        \"max\": 1379963888.0,\n        \"num_unique_values\": 21,\n        \"samples\": [\n          42908.0\n        ],\n        \"semantic_type\": \"\",\n        \"description\": \"\"\n      }\n    }\n  ]\n}"
            }
          },
          "metadata": {},
          "execution_count": 72
        }
      ]
    },
    {
      "cell_type": "code",
      "source": [
        "df.describe(include = 'object').T"
      ],
      "metadata": {
        "colab": {
          "base_uri": "https://localhost:8080/",
          "height": 175
        },
        "id": "9Ku_Ks_WqrK0",
        "outputId": "034f2cf5-8fe9-47c2-f540-83a59e1cb2b9"
      },
      "execution_count": 73,
      "outputs": [
        {
          "output_type": "execute_result",
          "data": {
            "text/plain": [
              "               count unique     top    freq\n",
              "protocoltype  125973      3     tcp  102689\n",
              "service       125973     70    http   40338\n",
              "flag          125973     11      SF   74945\n",
              "attack        125973     23  normal   67343"
            ],
            "text/html": [
              "\n",
              "  <div id=\"df-114542b2-1ba5-4110-b095-c63d91a99958\" class=\"colab-df-container\">\n",
              "    <div>\n",
              "<style scoped>\n",
              "    .dataframe tbody tr th:only-of-type {\n",
              "        vertical-align: middle;\n",
              "    }\n",
              "\n",
              "    .dataframe tbody tr th {\n",
              "        vertical-align: top;\n",
              "    }\n",
              "\n",
              "    .dataframe thead th {\n",
              "        text-align: right;\n",
              "    }\n",
              "</style>\n",
              "<table border=\"1\" class=\"dataframe\">\n",
              "  <thead>\n",
              "    <tr style=\"text-align: right;\">\n",
              "      <th></th>\n",
              "      <th>count</th>\n",
              "      <th>unique</th>\n",
              "      <th>top</th>\n",
              "      <th>freq</th>\n",
              "    </tr>\n",
              "  </thead>\n",
              "  <tbody>\n",
              "    <tr>\n",
              "      <th>protocoltype</th>\n",
              "      <td>125973</td>\n",
              "      <td>3</td>\n",
              "      <td>tcp</td>\n",
              "      <td>102689</td>\n",
              "    </tr>\n",
              "    <tr>\n",
              "      <th>service</th>\n",
              "      <td>125973</td>\n",
              "      <td>70</td>\n",
              "      <td>http</td>\n",
              "      <td>40338</td>\n",
              "    </tr>\n",
              "    <tr>\n",
              "      <th>flag</th>\n",
              "      <td>125973</td>\n",
              "      <td>11</td>\n",
              "      <td>SF</td>\n",
              "      <td>74945</td>\n",
              "    </tr>\n",
              "    <tr>\n",
              "      <th>attack</th>\n",
              "      <td>125973</td>\n",
              "      <td>23</td>\n",
              "      <td>normal</td>\n",
              "      <td>67343</td>\n",
              "    </tr>\n",
              "  </tbody>\n",
              "</table>\n",
              "</div>\n",
              "    <div class=\"colab-df-buttons\">\n",
              "\n",
              "  <div class=\"colab-df-container\">\n",
              "    <button class=\"colab-df-convert\" onclick=\"convertToInteractive('df-114542b2-1ba5-4110-b095-c63d91a99958')\"\n",
              "            title=\"Convert this dataframe to an interactive table.\"\n",
              "            style=\"display:none;\">\n",
              "\n",
              "  <svg xmlns=\"http://www.w3.org/2000/svg\" height=\"24px\" viewBox=\"0 -960 960 960\">\n",
              "    <path d=\"M120-120v-720h720v720H120Zm60-500h600v-160H180v160Zm220 220h160v-160H400v160Zm0 220h160v-160H400v160ZM180-400h160v-160H180v160Zm440 0h160v-160H620v160ZM180-180h160v-160H180v160Zm440 0h160v-160H620v160Z\"/>\n",
              "  </svg>\n",
              "    </button>\n",
              "\n",
              "  <style>\n",
              "    .colab-df-container {\n",
              "      display:flex;\n",
              "      gap: 12px;\n",
              "    }\n",
              "\n",
              "    .colab-df-convert {\n",
              "      background-color: #E8F0FE;\n",
              "      border: none;\n",
              "      border-radius: 50%;\n",
              "      cursor: pointer;\n",
              "      display: none;\n",
              "      fill: #1967D2;\n",
              "      height: 32px;\n",
              "      padding: 0 0 0 0;\n",
              "      width: 32px;\n",
              "    }\n",
              "\n",
              "    .colab-df-convert:hover {\n",
              "      background-color: #E2EBFA;\n",
              "      box-shadow: 0px 1px 2px rgba(60, 64, 67, 0.3), 0px 1px 3px 1px rgba(60, 64, 67, 0.15);\n",
              "      fill: #174EA6;\n",
              "    }\n",
              "\n",
              "    .colab-df-buttons div {\n",
              "      margin-bottom: 4px;\n",
              "    }\n",
              "\n",
              "    [theme=dark] .colab-df-convert {\n",
              "      background-color: #3B4455;\n",
              "      fill: #D2E3FC;\n",
              "    }\n",
              "\n",
              "    [theme=dark] .colab-df-convert:hover {\n",
              "      background-color: #434B5C;\n",
              "      box-shadow: 0px 1px 3px 1px rgba(0, 0, 0, 0.15);\n",
              "      filter: drop-shadow(0px 1px 2px rgba(0, 0, 0, 0.3));\n",
              "      fill: #FFFFFF;\n",
              "    }\n",
              "  </style>\n",
              "\n",
              "    <script>\n",
              "      const buttonEl =\n",
              "        document.querySelector('#df-114542b2-1ba5-4110-b095-c63d91a99958 button.colab-df-convert');\n",
              "      buttonEl.style.display =\n",
              "        google.colab.kernel.accessAllowed ? 'block' : 'none';\n",
              "\n",
              "      async function convertToInteractive(key) {\n",
              "        const element = document.querySelector('#df-114542b2-1ba5-4110-b095-c63d91a99958');\n",
              "        const dataTable =\n",
              "          await google.colab.kernel.invokeFunction('convertToInteractive',\n",
              "                                                    [key], {});\n",
              "        if (!dataTable) return;\n",
              "\n",
              "        const docLinkHtml = 'Like what you see? Visit the ' +\n",
              "          '<a target=\"_blank\" href=https://colab.research.google.com/notebooks/data_table.ipynb>data table notebook</a>'\n",
              "          + ' to learn more about interactive tables.';\n",
              "        element.innerHTML = '';\n",
              "        dataTable['output_type'] = 'display_data';\n",
              "        await google.colab.output.renderOutput(dataTable, element);\n",
              "        const docLink = document.createElement('div');\n",
              "        docLink.innerHTML = docLinkHtml;\n",
              "        element.appendChild(docLink);\n",
              "      }\n",
              "    </script>\n",
              "  </div>\n",
              "\n",
              "\n",
              "<div id=\"df-1cdaa3b6-66b5-4aa6-8bd4-8f32f0cd6486\">\n",
              "  <button class=\"colab-df-quickchart\" onclick=\"quickchart('df-1cdaa3b6-66b5-4aa6-8bd4-8f32f0cd6486')\"\n",
              "            title=\"Suggest charts\"\n",
              "            style=\"display:none;\">\n",
              "\n",
              "<svg xmlns=\"http://www.w3.org/2000/svg\" height=\"24px\"viewBox=\"0 0 24 24\"\n",
              "     width=\"24px\">\n",
              "    <g>\n",
              "        <path d=\"M19 3H5c-1.1 0-2 .9-2 2v14c0 1.1.9 2 2 2h14c1.1 0 2-.9 2-2V5c0-1.1-.9-2-2-2zM9 17H7v-7h2v7zm4 0h-2V7h2v10zm4 0h-2v-4h2v4z\"/>\n",
              "    </g>\n",
              "</svg>\n",
              "  </button>\n",
              "\n",
              "<style>\n",
              "  .colab-df-quickchart {\n",
              "      --bg-color: #E8F0FE;\n",
              "      --fill-color: #1967D2;\n",
              "      --hover-bg-color: #E2EBFA;\n",
              "      --hover-fill-color: #174EA6;\n",
              "      --disabled-fill-color: #AAA;\n",
              "      --disabled-bg-color: #DDD;\n",
              "  }\n",
              "\n",
              "  [theme=dark] .colab-df-quickchart {\n",
              "      --bg-color: #3B4455;\n",
              "      --fill-color: #D2E3FC;\n",
              "      --hover-bg-color: #434B5C;\n",
              "      --hover-fill-color: #FFFFFF;\n",
              "      --disabled-bg-color: #3B4455;\n",
              "      --disabled-fill-color: #666;\n",
              "  }\n",
              "\n",
              "  .colab-df-quickchart {\n",
              "    background-color: var(--bg-color);\n",
              "    border: none;\n",
              "    border-radius: 50%;\n",
              "    cursor: pointer;\n",
              "    display: none;\n",
              "    fill: var(--fill-color);\n",
              "    height: 32px;\n",
              "    padding: 0;\n",
              "    width: 32px;\n",
              "  }\n",
              "\n",
              "  .colab-df-quickchart:hover {\n",
              "    background-color: var(--hover-bg-color);\n",
              "    box-shadow: 0 1px 2px rgba(60, 64, 67, 0.3), 0 1px 3px 1px rgba(60, 64, 67, 0.15);\n",
              "    fill: var(--button-hover-fill-color);\n",
              "  }\n",
              "\n",
              "  .colab-df-quickchart-complete:disabled,\n",
              "  .colab-df-quickchart-complete:disabled:hover {\n",
              "    background-color: var(--disabled-bg-color);\n",
              "    fill: var(--disabled-fill-color);\n",
              "    box-shadow: none;\n",
              "  }\n",
              "\n",
              "  .colab-df-spinner {\n",
              "    border: 2px solid var(--fill-color);\n",
              "    border-color: transparent;\n",
              "    border-bottom-color: var(--fill-color);\n",
              "    animation:\n",
              "      spin 1s steps(1) infinite;\n",
              "  }\n",
              "\n",
              "  @keyframes spin {\n",
              "    0% {\n",
              "      border-color: transparent;\n",
              "      border-bottom-color: var(--fill-color);\n",
              "      border-left-color: var(--fill-color);\n",
              "    }\n",
              "    20% {\n",
              "      border-color: transparent;\n",
              "      border-left-color: var(--fill-color);\n",
              "      border-top-color: var(--fill-color);\n",
              "    }\n",
              "    30% {\n",
              "      border-color: transparent;\n",
              "      border-left-color: var(--fill-color);\n",
              "      border-top-color: var(--fill-color);\n",
              "      border-right-color: var(--fill-color);\n",
              "    }\n",
              "    40% {\n",
              "      border-color: transparent;\n",
              "      border-right-color: var(--fill-color);\n",
              "      border-top-color: var(--fill-color);\n",
              "    }\n",
              "    60% {\n",
              "      border-color: transparent;\n",
              "      border-right-color: var(--fill-color);\n",
              "    }\n",
              "    80% {\n",
              "      border-color: transparent;\n",
              "      border-right-color: var(--fill-color);\n",
              "      border-bottom-color: var(--fill-color);\n",
              "    }\n",
              "    90% {\n",
              "      border-color: transparent;\n",
              "      border-bottom-color: var(--fill-color);\n",
              "    }\n",
              "  }\n",
              "</style>\n",
              "\n",
              "  <script>\n",
              "    async function quickchart(key) {\n",
              "      const quickchartButtonEl =\n",
              "        document.querySelector('#' + key + ' button');\n",
              "      quickchartButtonEl.disabled = true;  // To prevent multiple clicks.\n",
              "      quickchartButtonEl.classList.add('colab-df-spinner');\n",
              "      try {\n",
              "        const charts = await google.colab.kernel.invokeFunction(\n",
              "            'suggestCharts', [key], {});\n",
              "      } catch (error) {\n",
              "        console.error('Error during call to suggestCharts:', error);\n",
              "      }\n",
              "      quickchartButtonEl.classList.remove('colab-df-spinner');\n",
              "      quickchartButtonEl.classList.add('colab-df-quickchart-complete');\n",
              "    }\n",
              "    (() => {\n",
              "      let quickchartButtonEl =\n",
              "        document.querySelector('#df-1cdaa3b6-66b5-4aa6-8bd4-8f32f0cd6486 button');\n",
              "      quickchartButtonEl.style.display =\n",
              "        google.colab.kernel.accessAllowed ? 'block' : 'none';\n",
              "    })();\n",
              "  </script>\n",
              "</div>\n",
              "\n",
              "    </div>\n",
              "  </div>\n"
            ],
            "application/vnd.google.colaboratory.intrinsic+json": {
              "type": "dataframe",
              "summary": "{\n  \"name\": \"df\",\n  \"rows\": 4,\n  \"fields\": [\n    {\n      \"column\": \"count\",\n      \"properties\": {\n        \"dtype\": \"date\",\n        \"min\": \"125973\",\n        \"max\": \"125973\",\n        \"num_unique_values\": 1,\n        \"samples\": [\n          \"125973\"\n        ],\n        \"semantic_type\": \"\",\n        \"description\": \"\"\n      }\n    },\n    {\n      \"column\": \"unique\",\n      \"properties\": {\n        \"dtype\": \"date\",\n        \"min\": 3,\n        \"max\": 70,\n        \"num_unique_values\": 4,\n        \"samples\": [\n          70\n        ],\n        \"semantic_type\": \"\",\n        \"description\": \"\"\n      }\n    },\n    {\n      \"column\": \"top\",\n      \"properties\": {\n        \"dtype\": \"string\",\n        \"num_unique_values\": 4,\n        \"samples\": [\n          \"http\"\n        ],\n        \"semantic_type\": \"\",\n        \"description\": \"\"\n      }\n    },\n    {\n      \"column\": \"freq\",\n      \"properties\": {\n        \"dtype\": \"date\",\n        \"min\": \"40338\",\n        \"max\": \"102689\",\n        \"num_unique_values\": 4,\n        \"samples\": [\n          \"40338\"\n        ],\n        \"semantic_type\": \"\",\n        \"description\": \"\"\n      }\n    }\n  ]\n}"
            }
          },
          "metadata": {},
          "execution_count": 73
        }
      ]
    },
    {
      "cell_type": "markdown",
      "source": [
        "**Insights**\n",
        "- duration of connections is highly varied with some taking 0 second and some as extreme as 42908 seconds\n",
        "- most connections have a duration of 287 seconds\n",
        "- 3 unique protocol types used\n",
        "- tcp protocol type is the most frequently used\n",
        "- 70 unique service (destination network service) used\n",
        "- http is the most frequent service\n",
        "- flag SF is the most frequent connection status"
      ],
      "metadata": {
        "id": "GrXDIvZ785nf"
      }
    },
    {
      "cell_type": "code",
      "source": [
        "import pickle\n",
        "df.to_pickle('data.pkl')\n",
        "df = pd.read_pickle('data.pkl')"
      ],
      "metadata": {
        "id": "N0LxbwEggnKH"
      },
      "execution_count": 74,
      "outputs": []
    },
    {
      "cell_type": "markdown",
      "source": [
        "#**Basic Exploratory Data Analysis**"
      ],
      "metadata": {
        "id": "kYodsXWDjiCd"
      }
    },
    {
      "cell_type": "code",
      "source": [
        "# Protocol type distribution\n",
        "plt.figure(figsize=(10, 8))\n",
        "sns.countplot(x=\"protocoltype\",\n",
        "              data=df,\n",
        "              hue='protocoltype',\n",
        "              palette=\"Set3\")\n",
        "plt.show()"
      ],
      "metadata": {
        "colab": {
          "base_uri": "https://localhost:8080/",
          "height": 696
        },
        "id": "bQY3ZrY5i6W2",
        "outputId": "77f1073c-849a-4b00-c26f-2c2366b2e2fa"
      },
      "execution_count": 75,
      "outputs": [
        {
          "output_type": "display_data",
          "data": {
            "text/plain": [
              "<Figure size 1000x800 with 1 Axes>"
            ],
            "image/png": "[encoded data removed]"
          },
          "metadata": {}
        }
      ]
    },
    {
      "cell_type": "markdown",
      "source": [
        "Insight\n",
        "- Most connections use tcp protocol"
      ],
      "metadata": {
        "id": "FemFBIJ9jyvO"
      }
    },
    {
      "cell_type": "code",
      "source": [
        "# service distribution\n",
        "plt.figure(figsize=(15, 12))\n",
        "sns.countplot(y=\"service\", data=df, palette=\"hls\")\n",
        "plt.show()"
      ],
      "metadata": {
        "colab": {
          "base_uri": "https://localhost:8080/",
          "height": 1000
        },
        "id": "csMWRH8rj7NW",
        "outputId": "0106e599-8b6e-4683-9bc2-c704ed776a27"
      },
      "execution_count": 76,
      "outputs": [
        {
          "output_type": "display_data",
          "data": {
            "text/plain": [
              "<Figure size 1500x1200 with 1 Axes>"
            ],
            "image/png": "[encoded data removed]"
          },
          "metadata": {}
        }
      ]
    },
    {
      "cell_type": "markdown",
      "source": [
        "Insight\n",
        "- most services used by destination network are http, followed by private"
      ],
      "metadata": {
        "id": "vITvMO6KkCTI"
      }
    },
    {
      "cell_type": "code",
      "source": [
        "# flag distribution\n",
        "plt.figure(figsize=(10, 8))\n",
        "sns.countplot(x=\"flag\", data=df, palette=\"Set3\")\n",
        "plt.show()"
      ],
      "metadata": {
        "colab": {
          "base_uri": "https://localhost:8080/",
          "height": 696
        },
        "id": "tfE2v3uTkBp5",
        "outputId": "d92ddd7b-ac46-483b-df50-0d9bea393e90"
      },
      "execution_count": 77,
      "outputs": [
        {
          "output_type": "display_data",
          "data": {
            "text/plain": [
              "<Figure size 1000x800 with 1 Axes>"
            ],
            "image/png": "[encoded data removed]"
          },
          "metadata": {}
        }
      ]
    },
    {
      "cell_type": "markdown",
      "source": [
        "Insight\n",
        "- most connections having SF flag meaning successfully established connection"
      ],
      "metadata": {
        "id": "4ni4u1EUkhr8"
      }
    },
    {
      "cell_type": "code",
      "source": [
        "#value counts for target variable\n",
        "df.attack.value_counts()"
      ],
      "metadata": {
        "colab": {
          "base_uri": "https://localhost:8080/",
          "height": 837
        },
        "id": "BAt5ldozkv9S",
        "outputId": "6f3617af-5003-4739-de94-2b791697aa2a"
      },
      "execution_count": 78,
      "outputs": [
        {
          "output_type": "execute_result",
          "data": {
            "text/plain": [
              "attack\n",
              "normal             67343\n",
              "neptune            41214\n",
              "satan               3633\n",
              "ipsweep             3599\n",
              "portsweep           2931\n",
              "smurf               2646\n",
              "nmap                1493\n",
              "back                 956\n",
              "teardrop             892\n",
              "warezclient          890\n",
              "pod                  201\n",
              "guess_passwd          53\n",
              "buffer_overflow       30\n",
              "warezmaster           20\n",
              "land                  18\n",
              "imap                  11\n",
              "rootkit               10\n",
              "loadmodule             9\n",
              "ftp_write              8\n",
              "multihop               7\n",
              "phf                    4\n",
              "perl                   3\n",
              "spy                    2\n",
              "Name: count, dtype: int64"
            ],
            "text/html": [
              "<table border=\"1\" class=\"dataframe\">\n",
              "  <thead>\n",
              "    <tr style=\"text-align: right;\">\n",
              "      <th></th>\n",
              "      <th>count</th>\n",
              "    </tr>\n",
              "    <tr>\n",
              "      <th>attack</th>\n",
              "      <th></th>\n",
              "    </tr>\n",
              "  </thead>\n",
              "  <tbody>\n",
              "    <tr>\n",
              "      <th>normal</th>\n",
              "      <td>67343</td>\n",
              "    </tr>\n",
              "    <tr>\n",
              "      <th>neptune</th>\n",
              "      <td>41214</td>\n",
              "    </tr>\n",
              "    <tr>\n",
              "      <th>satan</th>\n",
              "      <td>3633</td>\n",
              "    </tr>\n",
              "    <tr>\n",
              "      <th>ipsweep</th>\n",
              "      <td>3599</td>\n",
              "    </tr>\n",
              "    <tr>\n",
              "      <th>portsweep</th>\n",
              "      <td>2931</td>\n",
              "    </tr>\n",
              "    <tr>\n",
              "      <th>smurf</th>\n",
              "      <td>2646</td>\n",
              "    </tr>\n",
              "    <tr>\n",
              "      <th>nmap</th>\n",
              "      <td>1493</td>\n",
              "    </tr>\n",
              "    <tr>\n",
              "      <th>back</th>\n",
              "      <td>956</td>\n",
              "    </tr>\n",
              "    <tr>\n",
              "      <th>teardrop</th>\n",
              "      <td>892</td>\n",
              "    </tr>\n",
              "    <tr>\n",
              "      <th>warezclient</th>\n",
              "      <td>890</td>\n",
              "    </tr>\n",
              "    <tr>\n",
              "      <th>pod</th>\n",
              "      <td>201</td>\n",
              "    </tr>\n",
              "    <tr>\n",
              "      <th>guess_passwd</th>\n",
              "      <td>53</td>\n",
              "    </tr>\n",
              "    <tr>\n",
              "      <th>buffer_overflow</th>\n",
              "      <td>30</td>\n",
              "    </tr>\n",
              "    <tr>\n",
              "      <th>warezmaster</th>\n",
              "      <td>20</td>\n",
              "    </tr>\n",
              "    <tr>\n",
              "      <th>land</th>\n",
              "      <td>18</td>\n",
              "    </tr>\n",
              "    <tr>\n",
              "      <th>imap</th>\n",
              "      <td>11</td>\n",
              "    </tr>\n",
              "    <tr>\n",
              "      <th>rootkit</th>\n",
              "      <td>10</td>\n",
              "    </tr>\n",
              "    <tr>\n",
              "      <th>loadmodule</th>\n",
              "      <td>9</td>\n",
              "    </tr>\n",
              "    <tr>\n",
              "      <th>ftp_write</th>\n",
              "      <td>8</td>\n",
              "    </tr>\n",
              "    <tr>\n",
              "      <th>multihop</th>\n",
              "      <td>7</td>\n",
              "    </tr>\n",
              "    <tr>\n",
              "      <th>phf</th>\n",
              "      <td>4</td>\n",
              "    </tr>\n",
              "    <tr>\n",
              "      <th>perl</th>\n",
              "      <td>3</td>\n",
              "    </tr>\n",
              "    <tr>\n",
              "      <th>spy</th>\n",
              "      <td>2</td>\n",
              "    </tr>\n",
              "  </tbody>\n",
              "</table><br><label><b>dtype:</b> int64</label>"
            ]
          },
          "metadata": {},
          "execution_count": 78
        }
      ]
    },
    {
      "cell_type": "code",
      "source": [
        "# flag distribution\n",
        "plt.figure(figsize=(20, 8))\n",
        "sns.countplot(x=\"attack\", data=df, palette=\"Set3\")\n",
        "plt.xticks(rotation=90)\n",
        "plt.show()"
      ],
      "metadata": {
        "colab": {
          "base_uri": "https://localhost:8080/",
          "height": 790
        },
        "id": "4cGomLHSpQWg",
        "outputId": "1e8a2ad7-a66f-4ad4-a756-012dd43c030e"
      },
      "execution_count": 79,
      "outputs": [
        {
          "output_type": "display_data",
          "data": {
            "text/plain": [
              "<Figure size 2000x800 with 1 Axes>"
            ],
            "image/png": "[encoded data removed]"
          },
          "metadata": {}
        }
      ]
    },
    {
      "cell_type": "markdown",
      "source": [
        "Insight\n",
        "- most of the connections are normal\n",
        "- in attacks we see neptune to be the maximum among all"
      ],
      "metadata": {
        "id": "ZSXEaQfLmR_a"
      }
    },
    {
      "cell_type": "code",
      "source": [
        "plt.figure(figsize=(20,15))\n",
        "sns.violinplot(x=\"attack\", y=\"srcbytes\", data=df)\n",
        "plt.xticks(rotation=90)\n",
        "plt.show()"
      ],
      "metadata": {
        "colab": {
          "base_uri": "https://localhost:8080/",
          "height": 1000
        },
        "id": "vESYT0XkrB0j",
        "outputId": "d1c91049-844d-4c25-8d45-cb0644f458b8"
      },
      "execution_count": 80,
      "outputs": [
        {
          "output_type": "display_data",
          "data": {
            "text/plain": [
              "<Figure size 2000x1500 with 1 Axes>"
            ],
            "image/png": "[encoded data removed]"
          },
          "metadata": {}
        }
      ]
    },
    {
      "cell_type": "markdown",
      "source": [
        "Insight\n",
        "- Using srcbytes as a feature for analysis, the intrusion category \"portsweep\" is distinguishable from rest of the categories.\n",
        "\n",
        "As we have relatively high number of classes, the Univariate analysis using boxplots and violin plots do not give us clear and satisfactory results.\n",
        "\n",
        "Thus, we can go with pairplots for BiVariate Analysis or we can go with PCA/TSNE to reduce the no. of dimensions and perform Bi/Tri-Variate Analysis."
      ],
      "metadata": {
        "id": "aQnisNHurSmX"
      }
    },
    {
      "cell_type": "markdown",
      "source": [
        "#Multivariate Analysis"
      ],
      "metadata": {
        "id": "qvdIYYpMqenh"
      }
    },
    {
      "cell_type": "code",
      "source": [
        "from sklearn.manifold import TSNE"
      ],
      "metadata": {
        "id": "p_UZAq6AqnTD"
      },
      "execution_count": 81,
      "outputs": []
    },
    {
      "cell_type": "code",
      "source": [
        "df_num = df.drop(['attack','protocoltype','service','flag'], axis=1)\n",
        "Y = df['attack'].values"
      ],
      "metadata": {
        "id": "Gq0HSYJTzOKx"
      },
      "execution_count": 82,
      "outputs": []
    },
    {
      "cell_type": "code",
      "source": [
        "def tsne_func(data, label, no_components, perplexity_value, n_iter_value):\n",
        "\n",
        "    print('TSNE with perplexity={} and no. of iterations={}'.format(perplexity_value, n_iter_value))\n",
        "    tsne = TSNE(n_components=no_components, perplexity=perplexity_value, n_iter=n_iter_value)\n",
        "    tsne_df1 = tsne.fit_transform(data)\n",
        "    print(tsne_df1.shape)\n",
        "    tsne_df1 = np.vstack((tsne_df1.T, Y)).T\n",
        "    tsne_data1 = pd.DataFrame(data=tsne_df1, columns=['feature1', 'feature2', 'Output'])\n",
        "\n",
        "\n",
        "    sns.FacetGrid(tsne_data1, hue='Output', height=6, aspect=2.0).map(plt.scatter, 'feature1', 'feature2').add_legend()\n",
        "    plt.show()"
      ],
      "metadata": {
        "id": "_4FFP-LXmeI0"
      },
      "execution_count": 83,
      "outputs": []
    },
    {
      "cell_type": "code",
      "source": [
        "# tsne_func(data=df_num, label=Y, no_components=2, perplexity_value=100, n_iter_value=500)"
      ],
      "metadata": {
        "id": "AcuuaLQa4CFz"
      },
      "execution_count": 84,
      "outputs": []
    },
    {
      "cell_type": "code",
      "source": [
        "# tsne_func(data=df_num, label=Y, no_components=2, perplexity_value=50, n_iter_value=1000)"
      ],
      "metadata": {
        "id": "ek-YTocS7-qP"
      },
      "execution_count": 85,
      "outputs": []
    },
    {
      "cell_type": "markdown",
      "source": [
        "Insight:\n",
        "- From the above 2 graphs, it can be concluded that the data is not linearly separable/almost linearly separable in the TSNE_transformed feature space."
      ],
      "metadata": {
        "id": "hTVUedmEB3Vy"
      }
    },
    {
      "cell_type": "markdown",
      "source": [
        "#**Train Test Split**"
      ],
      "metadata": {
        "id": "RsMh7J5bCYCH"
      }
    },
    {
      "cell_type": "code",
      "source": [
        "from sklearn.model_selection import train_test_split\n",
        "X_train, X_test, Y_train, Y_test = train_test_split(df.drop('attack', axis=1), df['attack'], stratify=df['attack'], test_size=0.25)"
      ],
      "metadata": {
        "id": "VM2hpQKbCGwS"
      },
      "execution_count": 86,
      "outputs": []
    },
    {
      "cell_type": "code",
      "source": [
        "print('Train data')\n",
        "print(X_train.shape)\n",
        "print(Y_train.shape)\n",
        "print('='*20)\n",
        "print('Test data')\n",
        "print(X_test.shape)\n",
        "print(Y_test.shape)"
      ],
      "metadata": {
        "id": "dQFy7XmbCbL1",
        "colab": {
          "base_uri": "https://localhost:8080/"
        },
        "outputId": "2ce9d2ae-2cfd-4954-b268-beee8aef06ea"
      },
      "execution_count": 87,
      "outputs": [
        {
          "output_type": "stream",
          "name": "stdout",
          "text": [
            "Train data\n",
            "(94479, 36)\n",
            "(94479,)\n",
            "====================\n",
            "Test data\n",
            "(31494, 36)\n",
            "(31494,)\n"
          ]
        }
      ]
    },
    {
      "cell_type": "markdown",
      "source": [
        "#Vectorizing Categorical features using one-hot encoding:-\n",
        "Categorical features in our dataset are:- 'protocol_type', 'service', and 'flag'."
      ],
      "metadata": {
        "id": "Dfuk6a5ACllw"
      }
    },
    {
      "cell_type": "markdown",
      "source": [
        "###**Protocol Type**"
      ],
      "metadata": {
        "id": "u_Tsbtm8DAbQ"
      }
    },
    {
      "cell_type": "code",
      "source": [
        "protocol = list(X_train['protocoltype'].values)\n",
        "protocol = list(set(protocol))\n",
        "print('Protocol types are:', protocol)"
      ],
      "metadata": {
        "id": "TJdWPo3UC0ox",
        "colab": {
          "base_uri": "https://localhost:8080/"
        },
        "outputId": "3a555e02-69a1-47f2-deab-840d29614d82"
      },
      "execution_count": 88,
      "outputs": [
        {
          "output_type": "stream",
          "name": "stdout",
          "text": [
            "Protocol types are: ['udp', 'icmp', 'tcp']\n"
          ]
        }
      ]
    },
    {
      "cell_type": "code",
      "source": [
        "from sklearn.feature_extraction.text import CountVectorizer\n",
        "one_hot = CountVectorizer(vocabulary= protocol, binary=True)\n",
        "train_protocol = one_hot.fit_transform(X_train['protocoltype'].values)\n",
        "test_protocol = one_hot.transform(X_test['protocoltype'].values)"
      ],
      "metadata": {
        "id": "UkKMUKYdCo_X"
      },
      "execution_count": 89,
      "outputs": []
    },
    {
      "cell_type": "code",
      "source": [
        "print(train_protocol[1].toarray())\n",
        "train_protocol.shape"
      ],
      "metadata": {
        "id": "cpI12kydC-QX",
        "colab": {
          "base_uri": "https://localhost:8080/"
        },
        "outputId": "2f9fd57c-64c0-4056-c1a9-ce090724abf2"
      },
      "execution_count": 90,
      "outputs": [
        {
          "output_type": "stream",
          "name": "stdout",
          "text": [
            "[[0 0 1]]\n"
          ]
        },
        {
          "output_type": "execute_result",
          "data": {
            "text/plain": [
              "(94479, 3)"
            ]
          },
          "metadata": {},
          "execution_count": 90
        }
      ]
    },
    {
      "cell_type": "markdown",
      "source": [
        "###**Service**"
      ],
      "metadata": {
        "id": "2DlZO6WEDD4C"
      }
    },
    {
      "cell_type": "code",
      "source": [
        "service = list(X_train['service'].values)\n",
        "service = list(set(service))\n",
        "print('Service types are:\\n', service)"
      ],
      "metadata": {
        "id": "9Xe0kck8DHGD",
        "colab": {
          "base_uri": "https://localhost:8080/"
        },
        "outputId": "8b1e7eb9-c9ad-425c-eb2a-7299aa1ab4af"
      },
      "execution_count": 91,
      "outputs": [
        {
          "output_type": "stream",
          "name": "stdout",
          "text": [
            "Service types are:\n",
            " ['echo', 'imap4', 'urh_i', 'netbios_ns', 'klogin', 'hostnames', 'rje', 'systat', 'iso_tsap', 'discard', 'daytime', 'http', 'http_2784', 'private', 'uucp', 'nntp', 'ftp_data', 'ldap', 'eco_i', 'shell', 'ftp', 'kshell', 'efs', 'sunrpc', 'netstat', 'smtp', 'exec', 'tim_i', 'remote_job', 'netbios_ssn', 'http_443', 'X11', 'ecr_i', 'pop_2', 'tftp_u', 'other', 'printer', 'finger', 'auth', 'bgp', 'urp_i', 'time', 'login', 'telnet', 'Z39_50', 'link', 'vmnet', 'IRC', 'nnsp', 'domain_u', 'ssh', 'netbios_dgm', 'sql_net', 'pm_dump', 'courier', 'csnet_ns', 'harvest', 'mtp', 'ctf', 'red_i', 'pop_3', 'name', 'supdup', 'ntp_u', 'domain', 'gopher', 'whois', 'uucp_path']\n"
          ]
        }
      ]
    },
    {
      "cell_type": "code",
      "source": [
        "from sklearn.feature_extraction.text import CountVectorizer\n",
        "one_hot = CountVectorizer(vocabulary=service, binary=True)\n",
        "train_service = one_hot.fit_transform(X_train['service'].values)\n",
        "test_service = one_hot.transform(X_test['service'].values)"
      ],
      "metadata": {
        "id": "mWimuit8DI1f"
      },
      "execution_count": 92,
      "outputs": []
    },
    {
      "cell_type": "code",
      "source": [
        "print(train_service[100].toarray())"
      ],
      "metadata": {
        "id": "_RrKs8jPDNbt",
        "colab": {
          "base_uri": "https://localhost:8080/"
        },
        "outputId": "7601649a-b3b6-4aa1-87d9-3473c3a540df"
      },
      "execution_count": 93,
      "outputs": [
        {
          "output_type": "stream",
          "name": "stdout",
          "text": [
            "[[0 0 0 0 0 0 0 0 0 0 0 0 0 1 0 0 0 0 0 0 0 0 0 0 0 0 0 0 0 0 0 0 0 0 0 0\n",
            "  0 0 0 0 0 0 0 0 0 0 0 0 0 0 0 0 0 0 0 0 0 0 0 0 0 0 0 0 0 0 0 0]]\n"
          ]
        }
      ]
    },
    {
      "cell_type": "code",
      "source": [
        "train_service.shape"
      ],
      "metadata": {
        "id": "XK2JXfb6DQqT",
        "colab": {
          "base_uri": "https://localhost:8080/"
        },
        "outputId": "524c129b-02c6-4b8a-cff7-90368d976747"
      },
      "execution_count": 94,
      "outputs": [
        {
          "output_type": "execute_result",
          "data": {
            "text/plain": [
              "(94479, 68)"
            ]
          },
          "metadata": {},
          "execution_count": 94
        }
      ]
    },
    {
      "cell_type": "markdown",
      "source": [
        "###**Flag**"
      ],
      "metadata": {
        "id": "lxEJ9jQUDSY6"
      }
    },
    {
      "cell_type": "code",
      "source": [
        "flag = list(X_train['flag'].values)\n",
        "flag = list(set(flag))\n",
        "print('flag types are:', flag)"
      ],
      "metadata": {
        "id": "dQaDA_DPDUqf",
        "colab": {
          "base_uri": "https://localhost:8080/"
        },
        "outputId": "8e6c87d2-8ec2-47c1-a8c4-27e681540d78"
      },
      "execution_count": 95,
      "outputs": [
        {
          "output_type": "stream",
          "name": "stdout",
          "text": [
            "flag types are: ['SH', 'RSTR', 'S1', 'SF', 'RSTO', 'S3', 'OTH', 'RSTOS0', 'S2', 'S0', 'REJ']\n"
          ]
        }
      ]
    },
    {
      "cell_type": "code",
      "source": [
        "from sklearn.feature_extraction.text import CountVectorizer\n",
        "one_hot = CountVectorizer(binary=True)\n",
        "one_hot.fit(X_train['flag'].values)\n",
        "train_flag = one_hot.transform(X_train['flag'].values)\n",
        "test_flag = one_hot.transform(X_test['flag'].values)"
      ],
      "metadata": {
        "id": "d6S7vF7NDXVc"
      },
      "execution_count": 96,
      "outputs": []
    },
    {
      "cell_type": "code",
      "source": [
        "print(test_flag[3000].toarray())\n",
        "train_flag.shape"
      ],
      "metadata": {
        "id": "DyVQKoYPDY2R",
        "colab": {
          "base_uri": "https://localhost:8080/"
        },
        "outputId": "3113d29e-9895-44a5-cd8a-c60b7cb5c247"
      },
      "execution_count": 97,
      "outputs": [
        {
          "output_type": "stream",
          "name": "stdout",
          "text": [
            "[[0 0 1 0 0 0 0 0 0 0 0]]\n"
          ]
        },
        {
          "output_type": "execute_result",
          "data": {
            "text/plain": [
              "(94479, 11)"
            ]
          },
          "metadata": {},
          "execution_count": 97
        }
      ]
    },
    {
      "cell_type": "code",
      "source": [
        "X_train.drop(['protocoltype','service','flag'], axis=1, inplace=True)\n",
        "X_test.drop(['protocoltype','service','flag'], axis=1, inplace=True)"
      ],
      "metadata": {
        "id": "sExTGaqQDoBF"
      },
      "execution_count": 98,
      "outputs": []
    },
    {
      "cell_type": "markdown",
      "source": [
        "#**Applying Standardisation on the continuous features of our dataset**"
      ],
      "metadata": {
        "id": "sG-civVcEHtg"
      }
    },
    {
      "cell_type": "code",
      "source": [
        "def feature_scaling(X_train, X_test, feature_name):\n",
        "\n",
        "    '''\n",
        "    This function performs standardisation on the features\n",
        "    '''\n",
        "\n",
        "    from sklearn.preprocessing import StandardScaler\n",
        "\n",
        "    scaler = StandardScaler()\n",
        "    scaler1 = scaler.fit_transform(X_train[feature_name].values.reshape(-1,1))\n",
        "    scaler2 = scaler.transform(X_test[feature_name].values.reshape(-1,1))\n",
        "\n",
        "    return scaler1, scaler2"
      ],
      "metadata": {
        "id": "NOzsiutJEKJH"
      },
      "execution_count": 99,
      "outputs": []
    },
    {
      "cell_type": "markdown",
      "source": [
        "**Duration**"
      ],
      "metadata": {
        "id": "D2IO3EenESFn"
      }
    },
    {
      "cell_type": "code",
      "source": [
        "duration1, duration2 = feature_scaling(X_train, X_test, 'duration')"
      ],
      "metadata": {
        "id": "Nsf3ZqC9ES5G"
      },
      "execution_count": 100,
      "outputs": []
    },
    {
      "cell_type": "code",
      "source": [
        "print(duration1[1])"
      ],
      "metadata": {
        "id": "jMyXv6WSEVP-",
        "colab": {
          "base_uri": "https://localhost:8080/"
        },
        "outputId": "ef441c43-ac0f-41e7-8033-a02baa290ffb"
      },
      "execution_count": 101,
      "outputs": [
        {
          "output_type": "stream",
          "name": "stdout",
          "text": [
            "[-0.10867713]\n"
          ]
        }
      ]
    },
    {
      "cell_type": "markdown",
      "source": [
        "**src_bytes**"
      ],
      "metadata": {
        "id": "BKyHs4TiEdCL"
      }
    },
    {
      "cell_type": "code",
      "source": [
        "src_bytes1, src_bytes2 = feature_scaling(X_train, X_test, 'srcbytes')"
      ],
      "metadata": {
        "id": "rfJo-QHqEa-7"
      },
      "execution_count": 102,
      "outputs": []
    },
    {
      "cell_type": "code",
      "source": [
        "print(src_bytes1[1])"
      ],
      "metadata": {
        "id": "V_LtzME_Ejmc",
        "colab": {
          "base_uri": "https://localhost:8080/"
        },
        "outputId": "29d6a7c3-1efb-48d6-afda-ba27354b2bd9"
      },
      "execution_count": 103,
      "outputs": [
        {
          "output_type": "stream",
          "name": "stdout",
          "text": [
            "[-0.00749286]\n"
          ]
        }
      ]
    },
    {
      "cell_type": "markdown",
      "source": [
        "**dst_bytes**"
      ],
      "metadata": {
        "id": "nWqa8NJQEnCd"
      }
    },
    {
      "cell_type": "code",
      "source": [
        "dst_bytes1, dst_bytes2 = feature_scaling(X_train, X_test, 'dstbytes')"
      ],
      "metadata": {
        "id": "It4l81GMEmPc"
      },
      "execution_count": 104,
      "outputs": []
    },
    {
      "cell_type": "code",
      "source": [
        "print(dst_bytes1[1])"
      ],
      "metadata": {
        "id": "ZEa_Kfi_EqdA",
        "colab": {
          "base_uri": "https://localhost:8080/"
        },
        "outputId": "bbd12a28-4547-49dd-ed56-97965803e59b"
      },
      "execution_count": 105,
      "outputs": [
        {
          "output_type": "stream",
          "name": "stdout",
          "text": [
            "[-0.00394538]\n"
          ]
        }
      ]
    },
    {
      "cell_type": "markdown",
      "source": [
        "**wrong_fragment**"
      ],
      "metadata": {
        "id": "ERKzbR-gExK2"
      }
    },
    {
      "cell_type": "code",
      "source": [
        "wrong_fragment1, wrong_fragment2 = feature_scaling(X_train, X_test, 'wrongfragment')"
      ],
      "metadata": {
        "id": "dvpbPeaOEyP5"
      },
      "execution_count": 106,
      "outputs": []
    },
    {
      "cell_type": "code",
      "source": [
        "print(wrong_fragment1[1])"
      ],
      "metadata": {
        "id": "QAk0geymE1Am",
        "colab": {
          "base_uri": "https://localhost:8080/"
        },
        "outputId": "ec915a23-2911-439e-ad75-1302a136c637"
      },
      "execution_count": 107,
      "outputs": [
        {
          "output_type": "stream",
          "name": "stdout",
          "text": [
            "[-0.08947893]\n"
          ]
        }
      ]
    },
    {
      "cell_type": "markdown",
      "source": [
        "**urgent**"
      ],
      "metadata": {
        "id": "xnjlLfcEE4n-"
      }
    },
    {
      "cell_type": "code",
      "source": [
        "urgent1, urgent2 = feature_scaling(X_train, X_test, 'urgent')"
      ],
      "metadata": {
        "id": "pBxY-iaZE23c"
      },
      "execution_count": 108,
      "outputs": []
    },
    {
      "cell_type": "code",
      "source": [
        "print(urgent1[1])"
      ],
      "metadata": {
        "id": "cINCc3pjE8pu",
        "colab": {
          "base_uri": "https://localhost:8080/"
        },
        "outputId": "1ad285ba-088b-4633-ee28-788fbbaea523"
      },
      "execution_count": 109,
      "outputs": [
        {
          "output_type": "stream",
          "name": "stdout",
          "text": [
            "[-0.00845904]\n"
          ]
        }
      ]
    },
    {
      "cell_type": "markdown",
      "source": [
        "**hot**"
      ],
      "metadata": {
        "id": "5M9jxVp4E_9x"
      }
    },
    {
      "cell_type": "code",
      "source": [
        "hot1, hot2 = feature_scaling(X_train, X_test, 'hot')"
      ],
      "metadata": {
        "id": "tqeCPw5GFBaJ"
      },
      "execution_count": 110,
      "outputs": []
    },
    {
      "cell_type": "code",
      "source": [
        "print(hot1[1])"
      ],
      "metadata": {
        "id": "vr4jil0oFDPQ",
        "colab": {
          "base_uri": "https://localhost:8080/"
        },
        "outputId": "e5a113c5-7f9e-45d9-fc33-1dbd3bc44e80"
      },
      "execution_count": 111,
      "outputs": [
        {
          "output_type": "stream",
          "name": "stdout",
          "text": [
            "[-0.09437651]\n"
          ]
        }
      ]
    },
    {
      "cell_type": "markdown",
      "source": [
        "**num_failed_logins**"
      ],
      "metadata": {
        "id": "xtCJJYN6FGiP"
      }
    },
    {
      "cell_type": "code",
      "source": [
        "num_failed_logins1, num_failed_logins2 = feature_scaling(X_train, X_test, 'numfailedlogins')"
      ],
      "metadata": {
        "id": "IGjD9W6FFJ9a"
      },
      "execution_count": 112,
      "outputs": []
    },
    {
      "cell_type": "code",
      "source": [
        "print(num_failed_logins1[1])"
      ],
      "metadata": {
        "id": "S_LlmwxgFN5x",
        "colab": {
          "base_uri": "https://localhost:8080/"
        },
        "outputId": "725fbcaa-7a2b-4263-c481-0a540baf7671"
      },
      "execution_count": 113,
      "outputs": [
        {
          "output_type": "stream",
          "name": "stdout",
          "text": [
            "[21.24236804]\n"
          ]
        }
      ]
    },
    {
      "cell_type": "markdown",
      "metadata": {
        "id": "70rIoOeZF44Z"
      },
      "source": [
        "**num_compromised**"
      ]
    },
    {
      "cell_type": "code",
      "execution_count": 114,
      "metadata": {
        "id": "k9z8-eCYF44Z"
      },
      "outputs": [],
      "source": [
        "num_compromised1, num_compromised2 = feature_scaling(X_train, X_test, 'numcompromised')"
      ]
    },
    {
      "cell_type": "code",
      "execution_count": 115,
      "metadata": {
        "id": "KEPavYrDF44Z",
        "colab": {
          "base_uri": "https://localhost:8080/"
        },
        "outputId": "a00c8f99-e0c8-4bb5-f99e-633789563f08"
      },
      "outputs": [
        {
          "output_type": "execute_result",
          "data": {
            "text/plain": [
              "array([-0.01101809])"
            ]
          },
          "metadata": {},
          "execution_count": 115
        }
      ],
      "source": [
        "num_compromised1[1]"
      ]
    },
    {
      "cell_type": "markdown",
      "metadata": {
        "id": "B7S17wEEF44a"
      },
      "source": [
        "**root_shell**"
      ]
    },
    {
      "cell_type": "code",
      "execution_count": 116,
      "metadata": {
        "id": "yy-GErkHF44a"
      },
      "outputs": [],
      "source": [
        "root_shell1, root_shell2 = feature_scaling(X_train, X_test, 'rootshell')"
      ]
    },
    {
      "cell_type": "code",
      "execution_count": 117,
      "metadata": {
        "id": "QS0BX43RF44a",
        "colab": {
          "base_uri": "https://localhost:8080/"
        },
        "outputId": "4d6d31ba-3562-4850-df55-dc251ba8feb9"
      },
      "outputs": [
        {
          "output_type": "execute_result",
          "data": {
            "text/plain": [
              "array([-0.03683255])"
            ]
          },
          "metadata": {},
          "execution_count": 117
        }
      ],
      "source": [
        "root_shell1[1]"
      ]
    },
    {
      "cell_type": "markdown",
      "metadata": {
        "id": "JTR4gS9uF44a"
      },
      "source": [
        "**su_attempted**"
      ]
    },
    {
      "cell_type": "code",
      "execution_count": 118,
      "metadata": {
        "id": "JMNg-HJsF44a"
      },
      "outputs": [],
      "source": [
        "su_attempted1, su_attempted2 = feature_scaling(X_train, X_test, 'suattempted')"
      ]
    },
    {
      "cell_type": "code",
      "execution_count": 119,
      "metadata": {
        "id": "Cxn1X8vGF44a",
        "colab": {
          "base_uri": "https://localhost:8080/"
        },
        "outputId": "9721f9d0-56c7-4df3-e497-95b2320154fd"
      },
      "outputs": [
        {
          "output_type": "execute_result",
          "data": {
            "text/plain": [
              "array([-0.02408139])"
            ]
          },
          "metadata": {},
          "execution_count": 119
        }
      ],
      "source": [
        "su_attempted1[1]"
      ]
    },
    {
      "cell_type": "markdown",
      "metadata": {
        "id": "pLhRkJJdF44a"
      },
      "source": [
        "**num_root**"
      ]
    },
    {
      "cell_type": "code",
      "execution_count": 120,
      "metadata": {
        "id": "H8AamcU9F44a"
      },
      "outputs": [],
      "source": [
        "num_root1, num_root2 = feature_scaling(X_train, X_test, 'numroot')"
      ]
    },
    {
      "cell_type": "code",
      "execution_count": 121,
      "metadata": {
        "id": "XU29K1PrF44a",
        "colab": {
          "base_uri": "https://localhost:8080/"
        },
        "outputId": "92561710-c676-472a-ca01-fdf7c69e9ba0"
      },
      "outputs": [
        {
          "output_type": "execute_result",
          "data": {
            "text/plain": [
              "array([-0.01166389])"
            ]
          },
          "metadata": {},
          "execution_count": 121
        }
      ],
      "source": [
        "num_root1[1]"
      ]
    },
    {
      "cell_type": "markdown",
      "metadata": {
        "id": "eXvgVy7KF44b"
      },
      "source": [
        "**num_file_creations**"
      ]
    },
    {
      "cell_type": "code",
      "execution_count": 122,
      "metadata": {
        "id": "pNf3ASMSF44b"
      },
      "outputs": [],
      "source": [
        "num_file_creations1, num_file_creations2 = feature_scaling(X_train, X_test, 'numfilecreations')"
      ]
    },
    {
      "cell_type": "code",
      "execution_count": 123,
      "metadata": {
        "id": "Gcy4aD2eF44b",
        "colab": {
          "base_uri": "https://localhost:8080/"
        },
        "outputId": "37aa960d-8ca4-4a34-b3c0-a5efcc10f7fa"
      },
      "outputs": [
        {
          "output_type": "execute_result",
          "data": {
            "text/plain": [
              "array([-0.02578568])"
            ]
          },
          "metadata": {},
          "execution_count": 123
        }
      ],
      "source": [
        "num_file_creations1[1]"
      ]
    },
    {
      "cell_type": "markdown",
      "metadata": {
        "id": "et4BhJdjF44b"
      },
      "source": [
        "**num_access_files**"
      ]
    },
    {
      "cell_type": "code",
      "execution_count": 124,
      "metadata": {
        "id": "pjlRqEclF44b"
      },
      "outputs": [],
      "source": [
        "num_access_files1, num_access_files2 = feature_scaling(X_train, X_test, 'numaccessfiles')"
      ]
    },
    {
      "cell_type": "code",
      "execution_count": 125,
      "metadata": {
        "id": "VQvLh4G8F44b",
        "colab": {
          "base_uri": "https://localhost:8080/"
        },
        "outputId": "e5774e4d-4f27-41cc-b095-d9010a2712ba"
      },
      "outputs": [
        {
          "output_type": "execute_result",
          "data": {
            "text/plain": [
              "array([-0.04159723])"
            ]
          },
          "metadata": {},
          "execution_count": 125
        }
      ],
      "source": [
        "num_access_files1[1]"
      ]
    },
    {
      "cell_type": "markdown",
      "metadata": {
        "id": "rKsYOvM3F44c"
      },
      "source": [
        "**srv_count**"
      ]
    },
    {
      "cell_type": "code",
      "execution_count": 126,
      "metadata": {
        "id": "jknoR6HYF44c"
      },
      "outputs": [],
      "source": [
        "srv_count1, srv_count2 = feature_scaling(X_train, X_test, 'srvcount')"
      ]
    },
    {
      "cell_type": "code",
      "execution_count": 127,
      "metadata": {
        "id": "54USYUF4F44c",
        "colab": {
          "base_uri": "https://localhost:8080/"
        },
        "outputId": "859e4384-a0a4-4234-a280-b98c3e29c0d6"
      },
      "outputs": [
        {
          "output_type": "execute_result",
          "data": {
            "text/plain": [
              "array([-0.36816487])"
            ]
          },
          "metadata": {},
          "execution_count": 127
        }
      ],
      "source": [
        "srv_count1[1]"
      ]
    },
    {
      "cell_type": "markdown",
      "metadata": {
        "id": "x_jDbIB2F44c"
      },
      "source": [
        "**serror_count**"
      ]
    },
    {
      "cell_type": "code",
      "execution_count": 128,
      "metadata": {
        "id": "JoyKMFDDF44c"
      },
      "outputs": [],
      "source": [
        "serror_count1, serror_count2 = feature_scaling(X_train, X_test, 'serrorcount')"
      ]
    },
    {
      "cell_type": "code",
      "execution_count": 129,
      "metadata": {
        "id": "Bmh_GD_RF44c",
        "colab": {
          "base_uri": "https://localhost:8080/"
        },
        "outputId": "066a791c-c952-4055-fe44-1645b5e83523"
      },
      "outputs": [
        {
          "output_type": "execute_result",
          "data": {
            "text/plain": [
              "array([-0.54135951])"
            ]
          },
          "metadata": {},
          "execution_count": 129
        }
      ],
      "source": [
        "serror_count1[1]"
      ]
    },
    {
      "cell_type": "markdown",
      "metadata": {
        "id": "AMECSloBF44d"
      },
      "source": [
        "**srv_serror_count**"
      ]
    },
    {
      "cell_type": "code",
      "execution_count": 130,
      "metadata": {
        "id": "a9G383VgF44d"
      },
      "outputs": [],
      "source": [
        "srv_serror_count1, srv_serror_count2 = feature_scaling(X_train, X_test, 'srvserrorcount')"
      ]
    },
    {
      "cell_type": "code",
      "execution_count": 131,
      "metadata": {
        "id": "t4xcQ4ZBF44d",
        "colab": {
          "base_uri": "https://localhost:8080/"
        },
        "outputId": "02b125af-5f2f-47cb-99d3-d538b740a08b"
      },
      "outputs": [
        {
          "output_type": "execute_result",
          "data": {
            "text/plain": [
              "array([-0.50362867])"
            ]
          },
          "metadata": {},
          "execution_count": 131
        }
      ],
      "source": [
        "srv_serror_count1[1]"
      ]
    },
    {
      "cell_type": "markdown",
      "metadata": {
        "id": "CDEBLvf5F44f"
      },
      "source": [
        "**rerror_count**"
      ]
    },
    {
      "cell_type": "code",
      "execution_count": 132,
      "metadata": {
        "id": "l1zs40YEF44f"
      },
      "outputs": [],
      "source": [
        "rerror_count1, rerror_count2 = feature_scaling(X_train, X_test, 'rerrorcount')"
      ]
    },
    {
      "cell_type": "code",
      "execution_count": 133,
      "metadata": {
        "id": "SrwphqLpF44f",
        "colab": {
          "base_uri": "https://localhost:8080/"
        },
        "outputId": "2e32876d-fc1e-4633-b70c-299ee05c6b37"
      },
      "outputs": [
        {
          "output_type": "execute_result",
          "data": {
            "text/plain": [
              "array([-0.25083111])"
            ]
          },
          "metadata": {},
          "execution_count": 133
        }
      ],
      "source": [
        "rerror_count1[1]"
      ]
    },
    {
      "cell_type": "markdown",
      "metadata": {
        "id": "EBNtNMN5F44f"
      },
      "source": [
        "**srv_rerror_count**"
      ]
    },
    {
      "cell_type": "code",
      "execution_count": 134,
      "metadata": {
        "id": "YMj-_FthF44f"
      },
      "outputs": [],
      "source": [
        "srv_rerror_count1, srv_rerror_count2 = feature_scaling(X_train, X_test, 'srvrerrorcount')"
      ]
    },
    {
      "cell_type": "code",
      "execution_count": 135,
      "metadata": {
        "id": "k3wITtSAF44f",
        "colab": {
          "base_uri": "https://localhost:8080/"
        },
        "outputId": "f1b1ccdd-d8dc-4492-b4b8-2a2a5b92307c"
      },
      "outputs": [
        {
          "output_type": "execute_result",
          "data": {
            "text/plain": [
              "array([-0.24100443])"
            ]
          },
          "metadata": {},
          "execution_count": 135
        }
      ],
      "source": [
        "srv_rerror_count1[1]"
      ]
    },
    {
      "cell_type": "markdown",
      "metadata": {
        "id": "UdymHi4oF44f"
      },
      "source": [
        "**same_srv_count**"
      ]
    },
    {
      "cell_type": "code",
      "execution_count": 136,
      "metadata": {
        "id": "0CtbD0nJF44g"
      },
      "outputs": [],
      "source": [
        "same_srv_count1, same_srv_count2 = feature_scaling(X_train, X_test, 'samesrvcount')"
      ]
    },
    {
      "cell_type": "code",
      "execution_count": 137,
      "metadata": {
        "id": "iRBFxJ8FF44g",
        "colab": {
          "base_uri": "https://localhost:8080/"
        },
        "outputId": "3f4277a2-fe55-4042-8e47-4f4c8b3004ea"
      },
      "outputs": [
        {
          "output_type": "execute_result",
          "data": {
            "text/plain": [
              "array([-0.32884266])"
            ]
          },
          "metadata": {},
          "execution_count": 137
        }
      ],
      "source": [
        "same_srv_count1[1]"
      ]
    },
    {
      "cell_type": "markdown",
      "metadata": {
        "id": "7n74vfw-F44g"
      },
      "source": [
        "**diff_srv_count**"
      ]
    },
    {
      "cell_type": "code",
      "execution_count": 138,
      "metadata": {
        "id": "h0Zy6gHyF44g"
      },
      "outputs": [],
      "source": [
        "diff_srv_count1, diff_srv_count2 = feature_scaling(X_train, X_test, 'diffsrvcount')"
      ]
    },
    {
      "cell_type": "code",
      "execution_count": 139,
      "metadata": {
        "id": "mC9qJWO4F44g",
        "colab": {
          "base_uri": "https://localhost:8080/"
        },
        "outputId": "011bb9c2-803e-4a1f-8111-c0d0c567a72f"
      },
      "outputs": [
        {
          "output_type": "execute_result",
          "data": {
            "text/plain": [
              "array([-0.19578085])"
            ]
          },
          "metadata": {},
          "execution_count": 139
        }
      ],
      "source": [
        "diff_srv_count1[1]"
      ]
    },
    {
      "cell_type": "markdown",
      "metadata": {
        "id": "blf2C3aRF44g"
      },
      "source": [
        "**srv_diff_host_count**"
      ]
    },
    {
      "cell_type": "code",
      "execution_count": 140,
      "metadata": {
        "id": "aHoFwx3WF44g"
      },
      "outputs": [],
      "source": [
        "srv_diff_host_count1, srv_diff_host_count2 = feature_scaling(X_train, X_test, 'srvdiffhostcount')"
      ]
    },
    {
      "cell_type": "code",
      "execution_count": 141,
      "metadata": {
        "id": "z4IFcWmdF44g",
        "colab": {
          "base_uri": "https://localhost:8080/"
        },
        "outputId": "765b4cc7-61d9-41a4-bcf4-6c6cd9681afc"
      },
      "outputs": [
        {
          "output_type": "execute_result",
          "data": {
            "text/plain": [
              "array([-0.24537914])"
            ]
          },
          "metadata": {},
          "execution_count": 141
        }
      ],
      "source": [
        "srv_diff_host_count1[1]"
      ]
    },
    {
      "cell_type": "markdown",
      "metadata": {
        "id": "AOf8UrWTF44g"
      },
      "source": [
        "**dst_host_count**"
      ]
    },
    {
      "cell_type": "code",
      "execution_count": 142,
      "metadata": {
        "id": "c18eYv2OF44h"
      },
      "outputs": [],
      "source": [
        "dst_host_count1, dst_host_count2 = feature_scaling(X_train, X_test, 'dsthostcount')"
      ]
    },
    {
      "cell_type": "code",
      "execution_count": 143,
      "metadata": {
        "id": "IJrizDO8F44h",
        "colab": {
          "base_uri": "https://localhost:8080/"
        },
        "outputId": "bed17264-99da-48ef-8674-a3d44a1b6a98"
      },
      "outputs": [
        {
          "output_type": "execute_result",
          "data": {
            "text/plain": [
              "array([-1.50270079])"
            ]
          },
          "metadata": {},
          "execution_count": 143
        }
      ],
      "source": [
        "dst_host_count1[1]"
      ]
    },
    {
      "cell_type": "markdown",
      "metadata": {
        "id": "GFKN5D_mF44h"
      },
      "source": [
        "**dst_host_srv_count**"
      ]
    },
    {
      "cell_type": "code",
      "execution_count": 144,
      "metadata": {
        "id": "ZCK0boc9F44h"
      },
      "outputs": [],
      "source": [
        "dst_host_srv_count1, dst_host_srv_count2 = feature_scaling(X_train, X_test, 'dsthostsrvcount')"
      ]
    },
    {
      "cell_type": "code",
      "execution_count": 145,
      "metadata": {
        "id": "1aIwL-0FF44h",
        "colab": {
          "base_uri": "https://localhost:8080/"
        },
        "outputId": "f58ff2b9-3424-4da0-b7c3-6d446f5e6af8"
      },
      "outputs": [
        {
          "output_type": "execute_result",
          "data": {
            "text/plain": [
              "array([-0.92713706])"
            ]
          },
          "metadata": {},
          "execution_count": 145
        }
      ],
      "source": [
        "dst_host_srv_count1[1]"
      ]
    },
    {
      "cell_type": "markdown",
      "metadata": {
        "id": "dhrhWP8uF44h"
      },
      "source": [
        "**dst_host_same_srv_count**"
      ]
    },
    {
      "cell_type": "code",
      "execution_count": 146,
      "metadata": {
        "id": "enVBPveDF44h"
      },
      "outputs": [],
      "source": [
        "dst_host_same_srv_count1, dst_host_same_srv_count2= feature_scaling(X_train, X_test, 'dsthostsamesrvcount')"
      ]
    },
    {
      "cell_type": "code",
      "execution_count": 147,
      "metadata": {
        "id": "veVqCXC3F44h",
        "colab": {
          "base_uri": "https://localhost:8080/"
        },
        "outputId": "fab59c95-782a-4b2e-81ba-651d11354097"
      },
      "outputs": [
        {
          "output_type": "execute_result",
          "data": {
            "text/plain": [
              "array([-0.63516731])"
            ]
          },
          "metadata": {},
          "execution_count": 147
        }
      ],
      "source": [
        "dst_host_same_srv_count1[1]"
      ]
    },
    {
      "cell_type": "markdown",
      "metadata": {
        "id": "_J7qBXNGF44i"
      },
      "source": [
        "**dst_host_diff_srv_count**"
      ]
    },
    {
      "cell_type": "code",
      "execution_count": 148,
      "metadata": {
        "id": "H9Gdj3D_F44i"
      },
      "outputs": [],
      "source": [
        "dst_host_diff_srv_count1, dst_host_diff_srv_count2 = feature_scaling(X_train, X_test, 'dsthostdiffsrvcount')"
      ]
    },
    {
      "cell_type": "code",
      "execution_count": 149,
      "metadata": {
        "id": "8r0iwOsUF44i",
        "colab": {
          "base_uri": "https://localhost:8080/"
        },
        "outputId": "508cb893-eb11-4b75-9973-9f43b18d03fd"
      },
      "outputs": [
        {
          "output_type": "execute_result",
          "data": {
            "text/plain": [
              "array([-0.3608964])"
            ]
          },
          "metadata": {},
          "execution_count": 149
        }
      ],
      "source": [
        "dst_host_diff_srv_count1[1]"
      ]
    },
    {
      "cell_type": "markdown",
      "metadata": {
        "id": "1Qy_fAQRF44i"
      },
      "source": [
        "**dst_host_same_src_port_count**"
      ]
    },
    {
      "cell_type": "code",
      "execution_count": 150,
      "metadata": {
        "id": "UWqZ27x6F44i"
      },
      "outputs": [],
      "source": [
        "dst_host_same_src_port_count1, dst_host_same_src_port_count2 = feature_scaling(X_train, X_test, 'dsthostsamesrcportcount')"
      ]
    },
    {
      "cell_type": "code",
      "execution_count": 151,
      "metadata": {
        "id": "Yy8roRTUF44i",
        "colab": {
          "base_uri": "https://localhost:8080/"
        },
        "outputId": "9c46f668-eb7c-4bc9-9d5d-38156cadb4c2"
      },
      "outputs": [
        {
          "output_type": "execute_result",
          "data": {
            "text/plain": [
              "array([-0.33117725])"
            ]
          },
          "metadata": {},
          "execution_count": 151
        }
      ],
      "source": [
        "dst_host_same_src_port_count1[1]"
      ]
    },
    {
      "cell_type": "markdown",
      "metadata": {
        "id": "VspG5KnUF44i"
      },
      "source": [
        "**dst_host_srv_diff_host_count**"
      ]
    },
    {
      "cell_type": "code",
      "execution_count": 152,
      "metadata": {
        "id": "uA-dUuzRF44i"
      },
      "outputs": [],
      "source": [
        "dst_host_srv_diff_host_count1, dst_host_srv_diff_host_count2 = feature_scaling(X_train, X_test, 'dsthostsrvdiffhostcount')"
      ]
    },
    {
      "cell_type": "code",
      "execution_count": 153,
      "metadata": {
        "id": "7Z-VQ19iF44j",
        "colab": {
          "base_uri": "https://localhost:8080/"
        },
        "outputId": "2a253d87-6741-4ca1-880d-85f0fd7abdbe"
      },
      "outputs": [
        {
          "output_type": "execute_result",
          "data": {
            "text/plain": [
              "array([-0.31024493])"
            ]
          },
          "metadata": {},
          "execution_count": 153
        }
      ],
      "source": [
        "dst_host_srv_diff_host_count1[1]"
      ]
    },
    {
      "cell_type": "markdown",
      "metadata": {
        "id": "JxGSOZGIF44j"
      },
      "source": [
        "**dst_host_serror_count**"
      ]
    },
    {
      "cell_type": "code",
      "execution_count": 154,
      "metadata": {
        "id": "E_1DneKcF44j"
      },
      "outputs": [],
      "source": [
        "dst_host_serror_count1, dst_host_serror_count2 = feature_scaling(X_train, X_test, 'dsthostserrorcount')"
      ]
    },
    {
      "cell_type": "code",
      "execution_count": 155,
      "metadata": {
        "id": "YzwZNHANF44j",
        "colab": {
          "base_uri": "https://localhost:8080/"
        },
        "outputId": "79837946-3d3b-48e8-b936-3933940b102a"
      },
      "outputs": [
        {
          "output_type": "execute_result",
          "data": {
            "text/plain": [
              "array([-0.6263207])"
            ]
          },
          "metadata": {},
          "execution_count": 155
        }
      ],
      "source": [
        "dst_host_serror_count1[1]"
      ]
    },
    {
      "cell_type": "markdown",
      "metadata": {
        "id": "S4Cbo9IGF44j"
      },
      "source": [
        "**dst_host_srv_serror_count**"
      ]
    },
    {
      "cell_type": "code",
      "execution_count": 156,
      "metadata": {
        "id": "0ezozrhmF44j"
      },
      "outputs": [],
      "source": [
        "dst_host_srv_serror_count1, dst_host_srv_serror_count2 = feature_scaling(X_train, X_test, 'dsthostsrvserrorcount')"
      ]
    },
    {
      "cell_type": "code",
      "execution_count": 157,
      "metadata": {
        "id": "H-EJqSCmF44j",
        "colab": {
          "base_uri": "https://localhost:8080/"
        },
        "outputId": "a70f3b58-bf3d-4b99-c24e-4d21ee8144d9"
      },
      "outputs": [
        {
          "output_type": "execute_result",
          "data": {
            "text/plain": [
              "array([-0.41898993])"
            ]
          },
          "metadata": {},
          "execution_count": 157
        }
      ],
      "source": [
        "dst_host_srv_serror_count1[1]"
      ]
    },
    {
      "cell_type": "markdown",
      "metadata": {
        "id": "WAn-uNLnF44j"
      },
      "source": [
        "**dst_host_rerror_count**"
      ]
    },
    {
      "cell_type": "code",
      "execution_count": 158,
      "metadata": {
        "id": "7lcreF7bF44k"
      },
      "outputs": [],
      "source": [
        "dst_host_rerror_count1, dst_host_rerror_count2 = feature_scaling(X_train, X_test, 'dsthostrerrorcount')"
      ]
    },
    {
      "cell_type": "code",
      "execution_count": 159,
      "metadata": {
        "id": "Me2hy5_yF44k",
        "colab": {
          "base_uri": "https://localhost:8080/"
        },
        "outputId": "babb3d6d-29ec-4011-be23-484c7d15a793"
      },
      "outputs": [
        {
          "output_type": "execute_result",
          "data": {
            "text/plain": [
              "array([-0.34220326])"
            ]
          },
          "metadata": {},
          "execution_count": 159
        }
      ],
      "source": [
        "dst_host_rerror_count1[1]"
      ]
    },
    {
      "cell_type": "markdown",
      "metadata": {
        "id": "XLf_6wIyF44k"
      },
      "source": [
        "**dst_host_srv_rerror_count**"
      ]
    },
    {
      "cell_type": "code",
      "execution_count": 160,
      "metadata": {
        "id": "c0fPic2-F44k"
      },
      "outputs": [],
      "source": [
        "dst_host_srv_rerror_count1, dst_host_srv_rerror_count2 = feature_scaling(X_train, X_test, 'dsthostsrvrerrorcount')"
      ]
    },
    {
      "cell_type": "code",
      "execution_count": 161,
      "metadata": {
        "id": "zbJ69W3tF44k",
        "colab": {
          "base_uri": "https://localhost:8080/"
        },
        "outputId": "87dc1a6a-0102-4ddd-d355-82b4fd98cb47"
      },
      "outputs": [
        {
          "output_type": "execute_result",
          "data": {
            "text/plain": [
              "array([-0.17388862])"
            ]
          },
          "metadata": {},
          "execution_count": 161
        }
      ],
      "source": [
        "dst_host_srv_rerror_count1[1]"
      ]
    },
    {
      "cell_type": "markdown",
      "metadata": {
        "id": "-tCb2DqSF44k"
      },
      "source": [
        "**num_failed_logins**"
      ]
    },
    {
      "cell_type": "code",
      "execution_count": 162,
      "metadata": {
        "id": "Q9zGEt4iF44k"
      },
      "outputs": [],
      "source": [
        "num_failed_logins1, num_failed_logins2 = feature_scaling(X_train, X_test, 'numfailedlogins')"
      ]
    },
    {
      "cell_type": "code",
      "execution_count": 163,
      "metadata": {
        "id": "TqtDjeGWF44k",
        "colab": {
          "base_uri": "https://localhost:8080/"
        },
        "outputId": "6385e9d4-e3e2-42d1-bb11-c56e8198cf16"
      },
      "outputs": [
        {
          "output_type": "execute_result",
          "data": {
            "text/plain": [
              "array([21.24236804])"
            ]
          },
          "metadata": {},
          "execution_count": 163
        }
      ],
      "source": [
        "num_failed_logins1[1]"
      ]
    },
    {
      "cell_type": "markdown",
      "metadata": {
        "id": "ysi5arzYF44m"
      },
      "source": [
        "**count**"
      ]
    },
    {
      "cell_type": "code",
      "execution_count": 164,
      "metadata": {
        "id": "4tS0t_9fF44m"
      },
      "outputs": [],
      "source": [
        "count1, count2 = feature_scaling(X_train, X_test, 'count')"
      ]
    },
    {
      "cell_type": "code",
      "execution_count": 165,
      "metadata": {
        "id": "3hpdIPxVF44m",
        "colab": {
          "base_uri": "https://localhost:8080/"
        },
        "outputId": "1017f7fc-d1a6-4dc5-c559-34561a826e26"
      },
      "outputs": [
        {
          "output_type": "execute_result",
          "data": {
            "text/plain": [
              "array([-0.72541331])"
            ]
          },
          "metadata": {},
          "execution_count": 165
        }
      ],
      "source": [
        "count1[1]"
      ]
    },
    {
      "cell_type": "markdown",
      "metadata": {
        "id": "UdXNeiA7F44m"
      },
      "source": [
        "**dst_host_diff_srv_count**"
      ]
    },
    {
      "cell_type": "code",
      "execution_count": 166,
      "metadata": {
        "id": "1yBCe3JjF44n"
      },
      "outputs": [],
      "source": [
        "dst_host_diff_srv_count1, dst_host_diff_srv_count2 = feature_scaling(X_train, X_test, 'dsthostdiffsrvcount')"
      ]
    },
    {
      "cell_type": "code",
      "execution_count": 167,
      "metadata": {
        "id": "zqyAqUK7F44n",
        "colab": {
          "base_uri": "https://localhost:8080/"
        },
        "outputId": "3fd2ac5e-1e5e-4ea2-b7ee-f13d45db2dfd"
      },
      "outputs": [
        {
          "output_type": "execute_result",
          "data": {
            "text/plain": [
              "array([-0.3608964])"
            ]
          },
          "metadata": {},
          "execution_count": 167
        }
      ],
      "source": [
        "dst_host_diff_srv_count1[1]"
      ]
    },
    {
      "cell_type": "markdown",
      "metadata": {
        "id": "qtYPoG3NF44n"
      },
      "source": [
        "## **Merging categorical and continuous features**"
      ]
    },
    {
      "cell_type": "code",
      "source": [
        "from scipy.sparse import hstack"
      ],
      "metadata": {
        "id": "yg01GA2vNN4O"
      },
      "execution_count": 168,
      "outputs": []
    },
    {
      "cell_type": "code",
      "source": [
        "X_train_1 = hstack((duration1, train_protocol, train_service, train_flag, src_bytes1,\n",
        "       dst_bytes1, wrong_fragment1, urgent1, hot1,\n",
        "       num_failed_logins1, num_compromised1, root_shell1,\n",
        "       su_attempted1, num_root1, num_file_creations1,\n",
        "       num_access_files1, count1, srv_count1, serror_count1,\n",
        "       srv_serror_count1, rerror_count1, srv_rerror_count1, same_srv_count1,\n",
        "       diff_srv_count1, srv_diff_host_count1, dst_host_count1,\n",
        "       dst_host_srv_count1, dst_host_same_srv_count1,\n",
        "       dst_host_diff_srv_count1, dst_host_same_src_port_count1,\n",
        "       dst_host_srv_diff_host_count1, dst_host_serror_count1,\n",
        "       dst_host_srv_serror_count1, dst_host_rerror_count1,\n",
        "       dst_host_srv_rerror_count1))"
      ],
      "metadata": {
        "id": "tRrLgFTpNOf6"
      },
      "execution_count": 169,
      "outputs": []
    },
    {
      "cell_type": "code",
      "source": [
        "X_train_1.shape"
      ],
      "metadata": {
        "id": "k8BH4ti3PEvL",
        "colab": {
          "base_uri": "https://localhost:8080/"
        },
        "outputId": "7530b627-c368-4ce7-de0b-2fba35d22dde"
      },
      "execution_count": 170,
      "outputs": [
        {
          "output_type": "execute_result",
          "data": {
            "text/plain": [
              "(94479, 114)"
            ]
          },
          "metadata": {},
          "execution_count": 170
        }
      ]
    },
    {
      "cell_type": "code",
      "source": [
        "X_test_1 = hstack((duration2, test_protocol, test_service, test_flag, src_bytes2,\n",
        "       dst_bytes2, wrong_fragment2, urgent2, hot2,\n",
        "       num_failed_logins2, num_compromised2, root_shell2,\n",
        "       su_attempted2, num_root2, num_file_creations2, num_access_files2, count2, srv_count2, serror_count2,\n",
        "       srv_serror_count2, rerror_count2, srv_rerror_count2, same_srv_count2,\n",
        "       diff_srv_count2, srv_diff_host_count2, dst_host_count2,\n",
        "       dst_host_srv_count2, dst_host_same_srv_count2,\n",
        "       dst_host_diff_srv_count2, dst_host_same_src_port_count2,\n",
        "       dst_host_srv_diff_host_count2, dst_host_serror_count2,\n",
        "       dst_host_srv_serror_count2, dst_host_rerror_count2,\n",
        "       dst_host_srv_rerror_count2))"
      ],
      "metadata": {
        "id": "TQYZtkAfPIaA"
      },
      "execution_count": 171,
      "outputs": []
    },
    {
      "cell_type": "code",
      "source": [
        "X_test_1.shape"
      ],
      "metadata": {
        "id": "S6ASxw0aP0Dd",
        "colab": {
          "base_uri": "https://localhost:8080/"
        },
        "outputId": "e475e750-f3f4-408a-ec3a-54d1fc948268"
      },
      "execution_count": 172,
      "outputs": [
        {
          "output_type": "execute_result",
          "data": {
            "text/plain": [
              "(31494, 114)"
            ]
          },
          "metadata": {},
          "execution_count": 172
        }
      ]
    },
    {
      "cell_type": "code",
      "source": [
        "import joblib\n",
        "joblib.dump(X_train_1,'X_train_1.pkl')\n",
        "joblib.dump(X_test_1,'X_test_1.pkl')\n",
        "X_train_1 = joblib.load('X_train_1.pkl')\n",
        "X_test_1 = joblib.load('X_test_1.pkl')"
      ],
      "metadata": {
        "id": "QyQzi0CkP3oC"
      },
      "execution_count": 173,
      "outputs": []
    },
    {
      "cell_type": "code",
      "source": [
        "joblib.dump(Y_train,'Y_train.pkl')\n",
        "joblib.dump(Y_test,'Y_test.pkl')\n",
        "Y_train = joblib.load('Y_train.pkl')\n",
        "Y_test = joblib.load('Y_test.pkl')"
      ],
      "metadata": {
        "id": "49bc3Ri7P43s"
      },
      "execution_count": 174,
      "outputs": []
    },
    {
      "cell_type": "markdown",
      "source": [
        "#**Machine Learning Approaches**"
      ],
      "metadata": {
        "id": "hxvPlrOBQH6s"
      }
    },
    {
      "cell_type": "markdown",
      "source": [
        "- We will first apply below classifiers on our dataset and evaluate their performance:\n",
        "    \n",
        "    \n",
        "    1. Random Forest\n",
        "    \n",
        "    \n",
        "- Based on the performance metric scores we obtain from the above classifiers, we will apply below feature engineering techniques on our dataset to get additional features:\n",
        "    \n",
        "    \n",
        "    1. Clustering features:- We will apply clustering on our dataset and add the clustering values as an additional feature to our dataset.\n",
        "    \n",
        "    2. PCA transformed features:- We will apply PCA/TSNE/SVD on the dataset and will use the top 5 PCA features as additional features on our dataset.  \n",
        "    \n",
        "    3. Feature engineering using existing features:- We will apply feature engineering techniques like\n",
        "        (i) Adding 2 existing features, (e.g. new_feature_1 = src_bytes + dst_bytes)\n",
        "        (ii)Subtracting 2 existing features, (e.g. new_feature_2 = abs(src_bytes - dst_bytes).\n",
        "        \n",
        "        \n",
        "        \n",
        "- We will then apply the best performing classifiers from dataset 1 on dataset 2 and evaluate their performance."
      ],
      "metadata": {
        "id": "h_Y9lTGZQbmU"
      }
    },
    {
      "cell_type": "markdown",
      "source": [
        "## **Applying Machine Algorithms**"
      ],
      "metadata": {
        "id": "6OWctsQQQrkM"
      }
    },
    {
      "cell_type": "code",
      "source": [
        "from sklearn.metrics import accuracy_score, confusion_matrix, roc_auc_score, precision_score, recall_score, f1_score\n",
        "from sklearn.model_selection import GridSearchCV, RandomizedSearchCV"
      ],
      "metadata": {
        "id": "ItUEAdO1QM7b"
      },
      "execution_count": null,
      "outputs": []
    },
    {
      "cell_type": "code",
      "source": [
        "def confusion_matrix_func(Y_test, y_test_pred):\n",
        "\n",
        "    C = confusion_matrix(Y_test, y_test_pred)\n",
        "    cm_df = pd.DataFrame(C)\n",
        "    labels = ['back', 'butter_overflow', 'loadmodule', 'guess_passwd', 'imap', 'ipsweep', 'warezmaster', 'rootkit',\n",
        "              'multihop', 'neptune', 'nmap', 'normal', 'phf', 'perl', 'pod', 'portsweep', 'ftp_write', 'satan', 'smurf',\n",
        "              'teardrop', 'warezclient', 'land']\n",
        "    plt.figure(figsize=(20,15))\n",
        "    sns.set(font_scale=1.4)\n",
        "    sns.heatmap(cm_df, annot=True, annot_kws={\"size\":12}, fmt='g', xticklabels=labels, yticklabels=labels)\n",
        "    plt.ylabel('Actual Class')\n",
        "    plt.xlabel('Predicted Class')\n",
        "\n",
        "    plt.show()"
      ],
      "metadata": {
        "id": "QGQNVAU8Q6tx"
      },
      "execution_count": 206,
      "outputs": []
    },
    {
      "cell_type": "code",
      "source": [
        "def model(model_name, X_train, Y_train, X_test, Y_test):\n",
        "\n",
        "    '''\n",
        "    This function computes the performance scores on the train and test data.\n",
        "    '''\n",
        "\n",
        "    print('Fitting the model and prediction on train data:')\n",
        "\n",
        "    model_name.fit(X_train, Y_train)\n",
        "    y_tr_pred = model_name.predict(X_train)\n",
        "    print('Completed')\n",
        "\n",
        "    print('='*50)\n",
        "\n",
        "    results_tr = dict()\n",
        "    y_tr_pred = model_name.predict(X_train)\n",
        "    results_tr['precision'] = precision_score(Y_train, y_tr_pred, average='weighted')\n",
        "    results_tr['recall'] = recall_score(Y_train, y_tr_pred, average='weighted')\n",
        "    results_tr['f1_score'] = f1_score(Y_train, y_tr_pred, average='weighted')\n",
        "\n",
        "    results_test = dict()\n",
        "    print('Prediction on test data:')\n",
        "\n",
        "    y_test_pred = model_name.predict(X_test)\n",
        "    print('Completed')\n",
        "    print('='*50)\n",
        "\n",
        "    print('Performance metrics:')\n",
        "    print('='*50)\n",
        "    print('Confusion Matrix is:')\n",
        "    confusion_matrix_func(Y_test, y_test_pred)\n",
        "    print('='*50)\n",
        "    results_test['precision'] = precision_score(Y_test, y_test_pred, average='weighted')\n",
        "    print('Precision score is:')\n",
        "    print(precision_score(Y_test, y_test_pred, average='weighted'))\n",
        "    print('='*50)\n",
        "    results_test['recall'] = recall_score(Y_test, y_test_pred, average='weighted')\n",
        "    print('Recall score is:')\n",
        "    print(recall_score(Y_test, y_test_pred, average='weighted'))\n",
        "    print('='*50)\n",
        "    results_test['f1_score'] = f1_score(Y_test, y_test_pred, average='weighted')\n",
        "    print('F1-score is:')\n",
        "    print(f1_score(Y_test, y_test_pred, average='weighted'))\n",
        "    # add the trained  model to the results\n",
        "    results_test['model'] = model\n",
        "\n",
        "    return results_tr, results_test"
      ],
      "metadata": {
        "id": "wLJen82BREHR"
      },
      "execution_count": 207,
      "outputs": []
    },
    {
      "cell_type": "code",
      "source": [
        "def print_grid_search_attributes(model):\n",
        "\n",
        "    '''\n",
        "    This function prints all the grid search attributes\n",
        "    '''\n",
        "\n",
        "    print('---------------------------')\n",
        "    print('|      Best Estimator     |')\n",
        "    print('---------------------------')\n",
        "    print('\\n\\t{}\\n'.format(model.best_estimator_))\n",
        "\n",
        "\n",
        "    # parameters that gave best results while performing grid search\n",
        "    print('---------------------------')\n",
        "    print('|     Best parameters     |')\n",
        "    print('---------------------------')\n",
        "    print('\\tParameters of best estimator : \\n\\n\\t{}\\n'.format(model.best_params_))\n",
        "\n",
        "\n",
        "    #  number of cross validation splits\n",
        "    print('----------------------------------')\n",
        "    print('|   No of CrossValidation sets   |')\n",
        "    print('----------------------------------')\n",
        "    print('\\n\\tTotal numbre of cross validation sets: {}\\n'.format(model.n_splits_))\n",
        "\n",
        "\n",
        "    # Average cross validated score of the best estimator, from the Grid Search\n",
        "    print('---------------------------')\n",
        "    print('|        Best Score       |')\n",
        "    print('---------------------------')\n",
        "    print('\\n\\tAverage Cross Validate scores of best estimator : \\n\\n\\t{}\\n'.format(model.best_score_))"
      ],
      "metadata": {
        "id": "OtmPkbd9Qwb-"
      },
      "execution_count": 208,
      "outputs": []
    },
    {
      "cell_type": "code",
      "source": [
        "def tpr_fpr_func(Y_tr, Y_pred):\n",
        "    '''\n",
        "    This function computes the TPR and FPR scores using the actual and predicetd values\n",
        "    '''\n",
        "    results = dict()\n",
        "    Y_tr = Y_tr.to_list()\n",
        "    tp = 0; fp = 0; positives = 0; negatives = 0; length = len(Y_tr)\n",
        "    for i in range(len(Y_tr)):\n",
        "        if Y_tr[i]=='normal':\n",
        "            positives += 1\n",
        "        else:\n",
        "            negatives += 1\n",
        "\n",
        "    for i in range(len(Y_pred)):\n",
        "        if Y_tr[i]=='normal' and Y_pred[i]=='normal':\n",
        "            tp += 1\n",
        "        elif Y_tr[i]!='normal' and Y_pred[i]=='normal':\n",
        "            fp += 1\n",
        "\n",
        "    tpr = tp/positives if positives > 0 else 0\n",
        "    fpr = fp/negatives if negatives > 0 else 0\n",
        "\n",
        "    results['tp'] = tp; results['tpr'] = tpr; results['fp'] = fp; results['fpr'] = fpr\n",
        "\n",
        "    return results"
      ],
      "metadata": {
        "id": "hcXw4HqGRkT-"
      },
      "execution_count": 209,
      "outputs": []
    },
    {
      "cell_type": "markdown",
      "metadata": {
        "id": "9lZUhfKhF44x"
      },
      "source": [
        "## **Random Forest Classifier**"
      ]
    },
    {
      "cell_type": "code",
      "execution_count": null,
      "metadata": {
        "id": "l-0xXnn6F44x"
      },
      "outputs": [],
      "source": [
        "hyperparameter = {'max_depth':[5, 10, 100, 500, 1000], 'n_estimators': [5, 10, 50, 100, 500],\n",
        "                  'min_samples_split':[5, 10, 100, 500]}\n",
        "\n",
        "from sklearn.ensemble import RandomForestClassifier\n",
        "rf = RandomForestClassifier(criterion='gini',class_weight='balanced')\n",
        "rf_grid = GridSearchCV(rf, param_grid=hyperparameter, cv=3, verbose=1, n_jobs=-1)"
      ]
    },
    {
      "cell_type": "code",
      "execution_count": null,
      "metadata": {
        "id": "k9CQ-TkzF44y"
      },
      "outputs": [],
      "source": [
        "rf_grid_results_tr, rf_grid_results_test = model(rf_grid, X_train_1.toarray(), Y_train, X_test_1.toarray(), Y_test)"
      ]
    },
    {
      "cell_type": "code",
      "execution_count": null,
      "metadata": {
        "id": "l7gjACLJF44y"
      },
      "outputs": [],
      "source": [
        "print_grid_search_attributes(rf_grid)"
      ]
    },
    {
      "cell_type": "code",
      "execution_count": null,
      "metadata": {
        "id": "5wF-Q5T2F44y"
      },
      "outputs": [],
      "source": [
        "rf_gs = rf_grid.best_estimator_\n",
        "y_tr_pred = rf_gs.predict(X_train_1.toarray())\n",
        "y_test_pred = rf_gs.predict(X_test_1.toarray())\n",
        "rf_tpr_fpr_train = tpr_fpr_func(Y_train, y_tr_pred)\n",
        "rf_tpr_fpr_test = tpr_fpr_func(Y_test, y_test_pred)"
      ]
    },
    {
      "cell_type": "code",
      "execution_count": null,
      "metadata": {
        "id": "CkeO0cyyF44y"
      },
      "outputs": [],
      "source": [
        "rf_grid_results_tr"
      ]
    },
    {
      "cell_type": "code",
      "execution_count": null,
      "metadata": {
        "id": "KabW45kbF440"
      },
      "outputs": [],
      "source": [
        "rf_tpr_fpr_train"
      ]
    },
    {
      "cell_type": "code",
      "execution_count": null,
      "metadata": {
        "id": "hUiCPeP0F440"
      },
      "outputs": [],
      "source": [
        "rf_grid_results_test"
      ]
    },
    {
      "cell_type": "code",
      "execution_count": null,
      "metadata": {
        "id": "-MMvGxvkF440"
      },
      "outputs": [],
      "source": [
        "rf_tpr_fpr_test"
      ]
    },
    {
      "cell_type": "code",
      "execution_count": null,
      "metadata": {
        "id": "BJmnSutbF440"
      },
      "outputs": [],
      "source": [
        "joblib.dump(rf_grid.best_estimator_, 'rf_gs.pkl')"
      ]
    },
    {
      "cell_type": "markdown",
      "metadata": {
        "id": "kAVhj_GQF440"
      },
      "source": [
        "<h6> Observations from applying Random Forest Classifier:- </h6>\n",
        "\n",
        "\n",
        "    \n",
        "    \n",
        "- Out of the 16864 Normal connection points, 16826 (99.77%) were correctly classified by the RF Classifier.\n",
        "    \n",
        "\n",
        "- Out of the 14630 points belonging to Bad connections, class Neptune has the highest no. of data points 10303, out of which 10303(100%) were classified correctly.\n",
        "    \n",
        "\n",
        "- Out of the classes having very less number of data points, class guess_passwd was classified with (12/12) 100% accuracy, class butter_overflow with (8/9) 88.88% accuracy, class warezmaster with(3/3) 100% accuracy, class land with(4/4) 100% accuracy, class imap with(3/3) 100% accuracy, class loadmodule with (1/1) 100% accuracy, class rootkit with(0/2) 0% accuracy, class multihop with (0/2) 0% accuracy, class ftp_write with(0/1) 0% accuracy, class phf with (1/1) 100% accuracy and class perl with (0/1) 0% accuracy.\n",
        "    \n",
        "\n",
        "- The RF Classifier was able to classify the Normal connection points with the highest f1_score\n",
        "\n",
        "- But this classifier was still unable to correctly classify bad connection classes like loadmodule, rootkit and ftp_write.\n",
        "\n",
        "\n",
        "- True Postives = 16826\n",
        "\n",
        "\n",
        "- TPR = 0.9994\n",
        "\n",
        "\n",
        "- False Positives = 38\n",
        "\n",
        "\n",
        "- FPR = 0.0026\n",
        "\n",
        "\n",
        "\n",
        "\n",
        "- As the train and test metrics like f1-score, tpr and fpr are almost similar, the model is NOT OVERFITTING.\n",
        "\n",
        "        "
      ]
    },
    {
      "cell_type": "markdown",
      "metadata": {
        "id": "iebnqerGF442"
      },
      "source": [
        "#Adding new features"
      ]
    },
    {
      "cell_type": "markdown",
      "metadata": {
        "id": "INjzVlmSF442"
      },
      "source": [
        "<h3> 1. Clustering features (using MiniBatchKmeans):- </h3>"
      ]
    },
    {
      "cell_type": "markdown",
      "metadata": {
        "id": "mIBFzuChF442"
      },
      "source": [
        "<h6> KMeans with n=23 (for Multiclass Classification):- </h6>"
      ]
    },
    {
      "cell_type": "code",
      "execution_count": 175,
      "metadata": {
        "id": "-yFwAcVeF442",
        "colab": {
          "base_uri": "https://localhost:8080/"
        },
        "outputId": "5b2c5284-03e6-4f0f-aeb3-2754ee74768d"
      },
      "outputs": [
        {
          "output_type": "stream",
          "name": "stdout",
          "text": [
            "Shape of our dataset (125973, 37)\n"
          ]
        }
      ],
      "source": [
        "data = pd.read_pickle('data.pkl')\n",
        "print('Shape of our dataset', data.shape)"
      ]
    },
    {
      "cell_type": "code",
      "execution_count": 176,
      "metadata": {
        "id": "vMRpVp_iF442"
      },
      "outputs": [],
      "source": [
        "from sklearn.cluster import MiniBatchKMeans\n",
        "import numpy as np"
      ]
    },
    {
      "cell_type": "code",
      "execution_count": 177,
      "metadata": {
        "id": "2A6oYs71F442",
        "colab": {
          "base_uri": "https://localhost:8080/",
          "height": 75
        },
        "outputId": "085f75c2-8921-4e4b-ee8a-5385bac47f9c"
      },
      "outputs": [
        {
          "output_type": "execute_result",
          "data": {
            "text/plain": [
              "MiniBatchKMeans(batch_size=128, max_iter=1000, n_clusters=23, random_state=0)"
            ],
            "text/html": [
              "<style>#sk-container-id-1 {color: black;}#sk-container-id-1 pre{padding: 0;}#sk-container-id-1 div.sk-toggleable {background-color: white;}#sk-container-id-1 label.sk-toggleable__label {cursor: pointer;display: block;width: 100%;margin-bottom: 0;padding: 0.3em;box-sizing: border-box;text-align: center;}#sk-container-id-1 label.sk-toggleable__label-arrow:before {content: \"▸\";float: left;margin-right: 0.25em;color: #696969;}#sk-container-id-1 label.sk-toggleable__label-arrow:hover:before {color: black;}#sk-container-id-1 div.sk-estimator:hover label.sk-toggleable__label-arrow:before {color: black;}#sk-container-id-1 div.sk-toggleable__content {max-height: 0;max-width: 0;overflow: hidden;text-align: left;background-color: #f0f8ff;}#sk-container-id-1 div.sk-toggleable__content pre {margin: 0.2em;color: black;border-radius: 0.25em;background-color: #f0f8ff;}#sk-container-id-1 input.sk-toggleable__control:checked~div.sk-toggleable__content {max-height: 200px;max-width: 100%;overflow: auto;}#sk-container-id-1 input.sk-toggleable__control:checked~label.sk-toggleable__label-arrow:before {content: \"▾\";}#sk-container-id-1 div.sk-estimator input.sk-toggleable__control:checked~label.sk-toggleable__label {background-color: #d4ebff;}#sk-container-id-1 div.sk-label input.sk-toggleable__control:checked~label.sk-toggleable__label {background-color: #d4ebff;}#sk-container-id-1 input.sk-hidden--visually {border: 0;clip: rect(1px 1px 1px 1px);clip: rect(1px, 1px, 1px, 1px);height: 1px;margin: -1px;overflow: hidden;padding: 0;position: absolute;width: 1px;}#sk-container-id-1 div.sk-estimator {font-family: monospace;background-color: #f0f8ff;border: 1px dotted black;border-radius: 0.25em;box-sizing: border-box;margin-bottom: 0.5em;}#sk-container-id-1 div.sk-estimator:hover {background-color: #d4ebff;}#sk-container-id-1 div.sk-parallel-item::after {content: \"\";width: 100%;border-bottom: 1px solid gray;flex-grow: 1;}#sk-container-id-1 div.sk-label:hover label.sk-toggleable__label {background-color: #d4ebff;}#sk-container-id-1 div.sk-serial::before {content: \"\";position: absolute;border-left: 1px solid gray;box-sizing: border-box;top: 0;bottom: 0;left: 50%;z-index: 0;}#sk-container-id-1 div.sk-serial {display: flex;flex-direction: column;align-items: center;background-color: white;padding-right: 0.2em;padding-left: 0.2em;position: relative;}#sk-container-id-1 div.sk-item {position: relative;z-index: 1;}#sk-container-id-1 div.sk-parallel {display: flex;align-items: stretch;justify-content: center;background-color: white;position: relative;}#sk-container-id-1 div.sk-item::before, #sk-container-id-1 div.sk-parallel-item::before {content: \"\";position: absolute;border-left: 1px solid gray;box-sizing: border-box;top: 0;bottom: 0;left: 50%;z-index: -1;}#sk-container-id-1 div.sk-parallel-item {display: flex;flex-direction: column;z-index: 1;position: relative;background-color: white;}#sk-container-id-1 div.sk-parallel-item:first-child::after {align-self: flex-end;width: 50%;}#sk-container-id-1 div.sk-parallel-item:last-child::after {align-self: flex-start;width: 50%;}#sk-container-id-1 div.sk-parallel-item:only-child::after {width: 0;}#sk-container-id-1 div.sk-dashed-wrapped {border: 1px dashed gray;margin: 0 0.4em 0.5em 0.4em;box-sizing: border-box;padding-bottom: 0.4em;background-color: white;}#sk-container-id-1 div.sk-label label {font-family: monospace;font-weight: bold;display: inline-block;line-height: 1.2em;}#sk-container-id-1 div.sk-label-container {text-align: center;}#sk-container-id-1 div.sk-container {/* jupyter's `normalize.less` sets `[hidden] { display: none; }` but bootstrap.min.css set `[hidden] { display: none !important; }` so we also need the `!important` here to be able to override the default hidden behavior on the sphinx rendered scikit-learn.org. See: https://github.com/scikit-learn/scikit-learn/issues/21755 */display: inline-block !important;position: relative;}#sk-container-id-1 div.sk-text-repr-fallback {display: none;}</style><div id=\"sk-container-id-1\" class=\"sk-top-container\"><div class=\"sk-text-repr-fallback\"><pre>MiniBatchKMeans(batch_size=128, max_iter=1000, n_clusters=23, random_state=0)</pre><b>In a Jupyter environment, please rerun this cell to show the HTML representation or trust the notebook. <br />On GitHub, the HTML representation is unable to render, please try loading this page with nbviewer.org.</b></div><div class=\"sk-container\" hidden><div class=\"sk-item\"><div class=\"sk-estimator sk-toggleable\"><input class=\"sk-toggleable__control sk-hidden--visually\" id=\"sk-estimator-id-1\" type=\"checkbox\" checked><label for=\"sk-estimator-id-1\" class=\"sk-toggleable__label sk-toggleable__label-arrow\">MiniBatchKMeans</label><div class=\"sk-toggleable__content\"><pre>MiniBatchKMeans(batch_size=128, max_iter=1000, n_clusters=23, random_state=0)</pre></div></div></div></div></div>"
            ]
          },
          "metadata": {},
          "execution_count": 177
        }
      ],
      "source": [
        "kmeans_1 = MiniBatchKMeans(n_clusters=23, random_state=0, batch_size=128, max_iter=1000) #Multiclass classification\n",
        "kmeans_1.fit(X_train_1)"
      ]
    },
    {
      "cell_type": "code",
      "execution_count": 178,
      "metadata": {
        "id": "xuoAAnMKF443"
      },
      "outputs": [],
      "source": [
        "train_cluster_1 = kmeans_1.predict(X_train_1)\n",
        "test_cluster_1 = kmeans_1.predict(X_test_1)"
      ]
    },
    {
      "cell_type": "code",
      "execution_count": 179,
      "metadata": {
        "id": "S6ofsGwWF443",
        "colab": {
          "base_uri": "https://localhost:8080/"
        },
        "outputId": "82995f7e-b864-4ffe-983a-f6eecdd2316d"
      },
      "outputs": [
        {
          "output_type": "stream",
          "name": "stdout",
          "text": [
            "Length of train cluster is: 94479\n"
          ]
        },
        {
          "output_type": "execute_result",
          "data": {
            "text/plain": [
              "array([ 8, 21,  0, ...,  0,  1,  4], dtype=int32)"
            ]
          },
          "metadata": {},
          "execution_count": 179
        }
      ],
      "source": [
        "print('Length of train cluster is:',len(train_cluster_1))\n",
        "train_cluster_1"
      ]
    },
    {
      "cell_type": "code",
      "execution_count": 180,
      "metadata": {
        "id": "BvyRgcOdF443",
        "colab": {
          "base_uri": "https://localhost:8080/"
        },
        "outputId": "87811424-2c20-4f7f-adeb-a25c044c45f6"
      },
      "outputs": [
        {
          "output_type": "stream",
          "name": "stdout",
          "text": [
            "Length of test cluster is 31494\n"
          ]
        },
        {
          "output_type": "execute_result",
          "data": {
            "text/plain": [
              "array([ 2,  3, 17, ...,  5,  8,  4], dtype=int32)"
            ]
          },
          "metadata": {},
          "execution_count": 180
        }
      ],
      "source": [
        "print('Length of test cluster is',len(test_cluster_1))\n",
        "test_cluster_1"
      ]
    },
    {
      "cell_type": "code",
      "execution_count": 181,
      "metadata": {
        "id": "SxcremHKF443",
        "colab": {
          "base_uri": "https://localhost:8080/"
        },
        "outputId": "3354ec4f-6f33-4214-e865-ef7999835e5e"
      },
      "outputs": [
        {
          "output_type": "execute_result",
          "data": {
            "text/plain": [
              "(1, 94479)"
            ]
          },
          "metadata": {},
          "execution_count": 181
        }
      ],
      "source": [
        "train_cluster_1 = np.array([train_cluster_1])\n",
        "train_cluster_1.shape"
      ]
    },
    {
      "cell_type": "code",
      "execution_count": 182,
      "metadata": {
        "id": "slukn5m8F443",
        "colab": {
          "base_uri": "https://localhost:8080/"
        },
        "outputId": "eacf1af5-1132-4301-e9ba-ebf04ccb21e2"
      },
      "outputs": [
        {
          "output_type": "execute_result",
          "data": {
            "text/plain": [
              "(1, 31494)"
            ]
          },
          "metadata": {},
          "execution_count": 182
        }
      ],
      "source": [
        "test_cluster_1 = np.array([test_cluster_1])\n",
        "test_cluster_1.shape"
      ]
    },
    {
      "cell_type": "markdown",
      "metadata": {
        "id": "zF1C9NQqF443"
      },
      "source": [
        "<h6> KMeans with n=2 (for solving Binary Classification problem to improve TPR and reduce FPR):- </h6>"
      ]
    },
    {
      "cell_type": "code",
      "execution_count": 183,
      "metadata": {
        "id": "DDZ0VqmWF443",
        "colab": {
          "base_uri": "https://localhost:8080/",
          "height": 75
        },
        "outputId": "6083dcd7-7860-44f4-e014-353660ac166f"
      },
      "outputs": [
        {
          "output_type": "execute_result",
          "data": {
            "text/plain": [
              "MiniBatchKMeans(batch_size=128, max_iter=1000, n_clusters=2, random_state=0)"
            ],
            "text/html": [
              "<style>#sk-container-id-2 {color: black;}#sk-container-id-2 pre{padding: 0;}#sk-container-id-2 div.sk-toggleable {background-color: white;}#sk-container-id-2 label.sk-toggleable__label {cursor: pointer;display: block;width: 100%;margin-bottom: 0;padding: 0.3em;box-sizing: border-box;text-align: center;}#sk-container-id-2 label.sk-toggleable__label-arrow:before {content: \"▸\";float: left;margin-right: 0.25em;color: #696969;}#sk-container-id-2 label.sk-toggleable__label-arrow:hover:before {color: black;}#sk-container-id-2 div.sk-estimator:hover label.sk-toggleable__label-arrow:before {color: black;}#sk-container-id-2 div.sk-toggleable__content {max-height: 0;max-width: 0;overflow: hidden;text-align: left;background-color: #f0f8ff;}#sk-container-id-2 div.sk-toggleable__content pre {margin: 0.2em;color: black;border-radius: 0.25em;background-color: #f0f8ff;}#sk-container-id-2 input.sk-toggleable__control:checked~div.sk-toggleable__content {max-height: 200px;max-width: 100%;overflow: auto;}#sk-container-id-2 input.sk-toggleable__control:checked~label.sk-toggleable__label-arrow:before {content: \"▾\";}#sk-container-id-2 div.sk-estimator input.sk-toggleable__control:checked~label.sk-toggleable__label {background-color: #d4ebff;}#sk-container-id-2 div.sk-label input.sk-toggleable__control:checked~label.sk-toggleable__label {background-color: #d4ebff;}#sk-container-id-2 input.sk-hidden--visually {border: 0;clip: rect(1px 1px 1px 1px);clip: rect(1px, 1px, 1px, 1px);height: 1px;margin: -1px;overflow: hidden;padding: 0;position: absolute;width: 1px;}#sk-container-id-2 div.sk-estimator {font-family: monospace;background-color: #f0f8ff;border: 1px dotted black;border-radius: 0.25em;box-sizing: border-box;margin-bottom: 0.5em;}#sk-container-id-2 div.sk-estimator:hover {background-color: #d4ebff;}#sk-container-id-2 div.sk-parallel-item::after {content: \"\";width: 100%;border-bottom: 1px solid gray;flex-grow: 1;}#sk-container-id-2 div.sk-label:hover label.sk-toggleable__label {background-color: #d4ebff;}#sk-container-id-2 div.sk-serial::before {content: \"\";position: absolute;border-left: 1px solid gray;box-sizing: border-box;top: 0;bottom: 0;left: 50%;z-index: 0;}#sk-container-id-2 div.sk-serial {display: flex;flex-direction: column;align-items: center;background-color: white;padding-right: 0.2em;padding-left: 0.2em;position: relative;}#sk-container-id-2 div.sk-item {position: relative;z-index: 1;}#sk-container-id-2 div.sk-parallel {display: flex;align-items: stretch;justify-content: center;background-color: white;position: relative;}#sk-container-id-2 div.sk-item::before, #sk-container-id-2 div.sk-parallel-item::before {content: \"\";position: absolute;border-left: 1px solid gray;box-sizing: border-box;top: 0;bottom: 0;left: 50%;z-index: -1;}#sk-container-id-2 div.sk-parallel-item {display: flex;flex-direction: column;z-index: 1;position: relative;background-color: white;}#sk-container-id-2 div.sk-parallel-item:first-child::after {align-self: flex-end;width: 50%;}#sk-container-id-2 div.sk-parallel-item:last-child::after {align-self: flex-start;width: 50%;}#sk-container-id-2 div.sk-parallel-item:only-child::after {width: 0;}#sk-container-id-2 div.sk-dashed-wrapped {border: 1px dashed gray;margin: 0 0.4em 0.5em 0.4em;box-sizing: border-box;padding-bottom: 0.4em;background-color: white;}#sk-container-id-2 div.sk-label label {font-family: monospace;font-weight: bold;display: inline-block;line-height: 1.2em;}#sk-container-id-2 div.sk-label-container {text-align: center;}#sk-container-id-2 div.sk-container {/* jupyter's `normalize.less` sets `[hidden] { display: none; }` but bootstrap.min.css set `[hidden] { display: none !important; }` so we also need the `!important` here to be able to override the default hidden behavior on the sphinx rendered scikit-learn.org. See: https://github.com/scikit-learn/scikit-learn/issues/21755 */display: inline-block !important;position: relative;}#sk-container-id-2 div.sk-text-repr-fallback {display: none;}</style><div id=\"sk-container-id-2\" class=\"sk-top-container\"><div class=\"sk-text-repr-fallback\"><pre>MiniBatchKMeans(batch_size=128, max_iter=1000, n_clusters=2, random_state=0)</pre><b>In a Jupyter environment, please rerun this cell to show the HTML representation or trust the notebook. <br />On GitHub, the HTML representation is unable to render, please try loading this page with nbviewer.org.</b></div><div class=\"sk-container\" hidden><div class=\"sk-item\"><div class=\"sk-estimator sk-toggleable\"><input class=\"sk-toggleable__control sk-hidden--visually\" id=\"sk-estimator-id-2\" type=\"checkbox\" checked><label for=\"sk-estimator-id-2\" class=\"sk-toggleable__label sk-toggleable__label-arrow\">MiniBatchKMeans</label><div class=\"sk-toggleable__content\"><pre>MiniBatchKMeans(batch_size=128, max_iter=1000, n_clusters=2, random_state=0)</pre></div></div></div></div></div>"
            ]
          },
          "metadata": {},
          "execution_count": 183
        }
      ],
      "source": [
        "kmeans_2 = MiniBatchKMeans(n_clusters=2, random_state=0, batch_size=128, max_iter=1000) #Binary Classification\n",
        "kmeans_2.fit(X_train_1)"
      ]
    },
    {
      "cell_type": "code",
      "execution_count": 184,
      "metadata": {
        "id": "r-IFXJGcF443"
      },
      "outputs": [],
      "source": [
        "train_cluster_2 = kmeans_2.predict(X_train_1)\n",
        "test_cluster_2 = kmeans_2.predict(X_test_1)"
      ]
    },
    {
      "cell_type": "code",
      "execution_count": 185,
      "metadata": {
        "id": "G83fChGsF444",
        "colab": {
          "base_uri": "https://localhost:8080/"
        },
        "outputId": "7d2d11c8-cf46-4558-fd73-4425e606d288"
      },
      "outputs": [
        {
          "output_type": "stream",
          "name": "stdout",
          "text": [
            "Length of train cluster is: 94479\n"
          ]
        },
        {
          "output_type": "execute_result",
          "data": {
            "text/plain": [
              "array([1, 0, 0, ..., 0, 0, 0], dtype=int32)"
            ]
          },
          "metadata": {},
          "execution_count": 185
        }
      ],
      "source": [
        "print('Length of train cluster is:',len(train_cluster_2))\n",
        "train_cluster_2"
      ]
    },
    {
      "cell_type": "code",
      "execution_count": 186,
      "metadata": {
        "id": "6H6wG4npF444",
        "colab": {
          "base_uri": "https://localhost:8080/"
        },
        "outputId": "4d039417-b48a-4408-fb66-396ba9d97978"
      },
      "outputs": [
        {
          "output_type": "stream",
          "name": "stdout",
          "text": [
            "Length of test cluster is 31494\n"
          ]
        },
        {
          "output_type": "execute_result",
          "data": {
            "text/plain": [
              "array([1, 1, 1, ..., 0, 1, 0], dtype=int32)"
            ]
          },
          "metadata": {},
          "execution_count": 186
        }
      ],
      "source": [
        "print('Length of test cluster is',len(test_cluster_2))\n",
        "test_cluster_2"
      ]
    },
    {
      "cell_type": "code",
      "execution_count": 187,
      "metadata": {
        "id": "zrQfikOPF444",
        "colab": {
          "base_uri": "https://localhost:8080/"
        },
        "outputId": "d6daf7bb-2d1d-441e-acba-2bd8080175f3"
      },
      "outputs": [
        {
          "output_type": "execute_result",
          "data": {
            "text/plain": [
              "(1, 94479)"
            ]
          },
          "metadata": {},
          "execution_count": 187
        }
      ],
      "source": [
        "train_cluster_2 = np.array([train_cluster_2])\n",
        "train_cluster_2.shape"
      ]
    },
    {
      "cell_type": "code",
      "execution_count": 188,
      "metadata": {
        "id": "1WWme5zMF444",
        "colab": {
          "base_uri": "https://localhost:8080/"
        },
        "outputId": "e672f152-7387-45f1-9520-9b05dd455e7b"
      },
      "outputs": [
        {
          "output_type": "execute_result",
          "data": {
            "text/plain": [
              "(1, 31494)"
            ]
          },
          "metadata": {},
          "execution_count": 188
        }
      ],
      "source": [
        "test_cluster_2 = np.array([test_cluster_2])\n",
        "test_cluster_2.shape"
      ]
    },
    {
      "cell_type": "markdown",
      "metadata": {
        "id": "3n9M0FfAF445"
      },
      "source": [
        "<h3> 2. PCA features :- </h3>\n",
        "\n"
      ]
    },
    {
      "cell_type": "markdown",
      "metadata": {
        "id": "e8ZnN6zqF445"
      },
      "source": [
        "- We will add top 5 PCA features to our dataset. (We can add more or less and test if they improve the performance)"
      ]
    },
    {
      "cell_type": "code",
      "execution_count": 189,
      "metadata": {
        "id": "BywB2bDBF445"
      },
      "outputs": [],
      "source": [
        "from sklearn.decomposition import PCA"
      ]
    },
    {
      "cell_type": "code",
      "execution_count": 190,
      "metadata": {
        "id": "NZj0VDQ9F445"
      },
      "outputs": [],
      "source": [
        "pca = PCA(n_components=5)\n",
        "pca.fit(X_train_1.toarray())\n",
        "pca_train = pca.transform(X_train_1.toarray())\n",
        "pca_test = pca.transform(X_test_1.toarray())"
      ]
    },
    {
      "cell_type": "code",
      "execution_count": 191,
      "metadata": {
        "id": "pTOga2tvF445",
        "colab": {
          "base_uri": "https://localhost:8080/"
        },
        "outputId": "b266f8cb-081c-4b0f-f7b2-9079be2ef90c"
      },
      "outputs": [
        {
          "output_type": "stream",
          "name": "stdout",
          "text": [
            "(94479, 5)\n",
            "(31494, 5)\n"
          ]
        }
      ],
      "source": [
        "print(pca_train.shape)\n",
        "print(pca_test.shape)"
      ]
    },
    {
      "cell_type": "markdown",
      "metadata": {
        "id": "giT_YO-UF445"
      },
      "source": [
        "<h3> 3. Additional feature engineering :-</h3>"
      ]
    },
    {
      "cell_type": "markdown",
      "metadata": {
        "id": "85gGGx5aF445"
      },
      "source": [
        "<h6> src_bytes + dst_bytes </h6>"
      ]
    },
    {
      "cell_type": "code",
      "execution_count": 192,
      "metadata": {
        "id": "W_8sOdTGF445"
      },
      "outputs": [],
      "source": [
        "feature_src_dst_1 = src_bytes1 + dst_bytes1\n",
        "feature_src_dst_2 = src_bytes2 + dst_bytes2"
      ]
    },
    {
      "cell_type": "code",
      "execution_count": 193,
      "metadata": {
        "id": "WeMJ8njeF446",
        "colab": {
          "base_uri": "https://localhost:8080/"
        },
        "outputId": "1ef9e228-7656-4f58-b7b0-617f7132e047"
      },
      "outputs": [
        {
          "output_type": "execute_result",
          "data": {
            "text/plain": [
              "(94479, 1)"
            ]
          },
          "metadata": {},
          "execution_count": 193
        }
      ],
      "source": [
        "feature_src_dst_1.shape"
      ]
    },
    {
      "cell_type": "markdown",
      "metadata": {
        "id": "F97DCYP_F446"
      },
      "source": [
        "<h6> src_bytes - dst_bytes </h6>"
      ]
    },
    {
      "cell_type": "code",
      "execution_count": 194,
      "metadata": {
        "id": "Tqxmqyd9F446"
      },
      "outputs": [],
      "source": [
        "feature_src_dst_3 = abs(src_bytes1 - dst_bytes1)\n",
        "feature_src_dst_4 = abs(src_bytes2 - dst_bytes2)"
      ]
    },
    {
      "cell_type": "code",
      "execution_count": 195,
      "metadata": {
        "id": "ke8qatLPF446",
        "colab": {
          "base_uri": "https://localhost:8080/"
        },
        "outputId": "d74aecac-a5c2-42b9-dc0b-8570722b533e"
      },
      "outputs": [
        {
          "output_type": "execute_result",
          "data": {
            "text/plain": [
              "(94479, 1)"
            ]
          },
          "metadata": {},
          "execution_count": 195
        }
      ],
      "source": [
        "feature_src_dst_3.shape"
      ]
    },
    {
      "cell_type": "markdown",
      "metadata": {
        "id": "wO_JH2vQF446"
      },
      "source": [
        "<h5> same_srv_count + diff_srv_count :- </h5>"
      ]
    },
    {
      "cell_type": "code",
      "execution_count": 196,
      "metadata": {
        "id": "Necb915PF446"
      },
      "outputs": [],
      "source": [
        "feature_5 = same_srv_count1 + diff_srv_count1\n",
        "feature_6 = same_srv_count2 + diff_srv_count2"
      ]
    },
    {
      "cell_type": "code",
      "execution_count": 197,
      "metadata": {
        "id": "inNZjiASF446",
        "colab": {
          "base_uri": "https://localhost:8080/"
        },
        "outputId": "06406050-e2f1-4b2b-91ea-db38ca90f8bb"
      },
      "outputs": [
        {
          "output_type": "execute_result",
          "data": {
            "text/plain": [
              "(94479, 1)"
            ]
          },
          "metadata": {},
          "execution_count": 197
        }
      ],
      "source": [
        "feature_5.shape"
      ]
    },
    {
      "cell_type": "markdown",
      "metadata": {
        "id": "PizP7_LlF446"
      },
      "source": [
        "<h5> dst_host_same_srv_count + dst_host_diff_srv_count :- </h5>"
      ]
    },
    {
      "cell_type": "code",
      "execution_count": 198,
      "metadata": {
        "id": "VEzWct78F446"
      },
      "outputs": [],
      "source": [
        "feature_7 = dst_host_same_srv_count1 + dst_host_diff_srv_count1\n",
        "feature_8 = dst_host_same_srv_count2 + dst_host_diff_srv_count2"
      ]
    },
    {
      "cell_type": "code",
      "execution_count": 199,
      "metadata": {
        "id": "fVkhZg0eF446",
        "outputId": "ce16432e-6bc6-49e1-f3de-006218f2beff",
        "colab": {
          "base_uri": "https://localhost:8080/"
        }
      },
      "outputs": [
        {
          "output_type": "execute_result",
          "data": {
            "text/plain": [
              "(94479, 1)"
            ]
          },
          "metadata": {},
          "execution_count": 199
        }
      ],
      "source": [
        "feature_7.shape"
      ]
    },
    {
      "cell_type": "markdown",
      "metadata": {
        "id": "zxYgeZNMF446"
      },
      "source": [
        "<h2> Adding clustering and PCA features to our dataset with the additional 4 features:- </h2>"
      ]
    },
    {
      "cell_type": "code",
      "execution_count": 200,
      "metadata": {
        "id": "745ch4r2F447"
      },
      "outputs": [],
      "source": [
        "X_train_2 = hstack((X_train_1, pca_train, train_cluster_1.T, train_cluster_2.T, feature_src_dst_1, feature_src_dst_3, feature_5, feature_7))"
      ]
    },
    {
      "cell_type": "code",
      "execution_count": 201,
      "metadata": {
        "id": "WU_vn29cF447"
      },
      "outputs": [],
      "source": [
        "X_test_2 = hstack((X_test_1, pca_test, test_cluster_1.T, test_cluster_2.T, feature_src_dst_2, feature_src_dst_4, feature_6, feature_8))"
      ]
    },
    {
      "cell_type": "code",
      "execution_count": 202,
      "metadata": {
        "id": "X_sj6txBF447",
        "outputId": "968c671a-a37c-4df1-dbaa-313adf621342",
        "colab": {
          "base_uri": "https://localhost:8080/"
        }
      },
      "outputs": [
        {
          "output_type": "stream",
          "name": "stdout",
          "text": [
            "Train data:\n",
            "(94479, 125)\n",
            "==============================\n",
            "Test data:\n",
            "(31494, 125)\n"
          ]
        }
      ],
      "source": [
        "print('Train data:')\n",
        "print(X_train_2.shape)\n",
        "print('='*30)\n",
        "print('Test data:')\n",
        "print(X_test_2.shape)"
      ]
    },
    {
      "cell_type": "code",
      "execution_count": 203,
      "metadata": {
        "id": "SdwZAx2vF447",
        "outputId": "9e762c5f-425b-490c-81db-4750cf1a521d",
        "colab": {
          "base_uri": "https://localhost:8080/"
        }
      },
      "outputs": [
        {
          "output_type": "execute_result",
          "data": {
            "text/plain": [
              "['X_test_2.pkl']"
            ]
          },
          "metadata": {},
          "execution_count": 203
        }
      ],
      "source": [
        "joblib.dump(X_train_2, 'X_train_2.pkl')\n",
        "joblib.dump(X_test_2, 'X_test_2.pkl')"
      ]
    },
    {
      "cell_type": "markdown",
      "metadata": {
        "id": "eyWk-Iw1F447"
      },
      "source": [
        "###**Random Forest Classifier**"
      ]
    },
    {
      "cell_type": "code",
      "execution_count": 212,
      "metadata": {
        "id": "Y1WiOLkbF447"
      },
      "outputs": [],
      "source": [
        "hyperparameter = {'max_depth':[5, 10, 100, 500, 1000], 'n_estimators': [5, 10, 50, 100, 500],\n",
        "                  'min_samples_split':[5, 10, 100, 500]}\n",
        "\n",
        "from sklearn.ensemble import RandomForestClassifier\n",
        "from sklearn.metrics import accuracy_score, confusion_matrix, roc_auc_score, precision_score, recall_score, f1_score\n",
        "from sklearn.model_selection import GridSearchCV, RandomizedSearchCV\n",
        "\n",
        "rf = RandomForestClassifier(criterion='gini',class_weight='balanced')\n",
        "rf_grid = RandomizedSearchCV(rf, param_distributions=hyperparameter, cv=3, verbose=1, n_jobs=-1)"
      ]
    },
    {
      "cell_type": "code",
      "source": [
        "rf_grid_results_tr, rf_grid_results_test = model(rf_grid, X_train_2.toarray(), Y_train, X_test_2.toarray(), Y_test)"
      ],
      "metadata": {
        "colab": {
          "base_uri": "https://localhost:8080/",
          "height": 1000
        },
        "id": "n7xdPJsvq2Sm",
        "outputId": "fc69a2bd-ad05-4a08-ae8c-d8bce365a26f"
      },
      "execution_count": 213,
      "outputs": [
        {
          "output_type": "stream",
          "name": "stdout",
          "text": [
            "Fitting the model and prediction on train data:\n",
            "Fitting 3 folds for each of 10 candidates, totalling 30 fits\n",
            "Completed\n",
            "==================================================\n",
            "Prediction on test data:\n",
            "Completed\n",
            "==================================================\n",
            "Performance metrics:\n",
            "==================================================\n",
            "Confusion Matrix is:\n"
          ]
        },
        {
          "output_type": "display_data",
          "data": {
            "text/plain": [
              "<Figure size 2000x1500 with 2 Axes>"
            ],
            "image/png": "[encoded data removed]"
          },
          "metadata": {}
        },
        {
          "output_type": "stream",
          "name": "stdout",
          "text": [
            "==================================================\n",
            "Precision score is:\n",
            "0.9979185360435845\n",
            "==================================================\n",
            "Recall score is:\n",
            "0.998158379373849\n",
            "==================================================\n",
            "F1-score is:\n",
            "0.997999293460143\n"
          ]
        }
      ]
    },
    {
      "cell_type": "code",
      "source": [
        "print_grid_search_attributes(rf_grid)"
      ],
      "metadata": {
        "colab": {
          "base_uri": "https://localhost:8080/"
        },
        "id": "Gd2nzgaJxxdd",
        "outputId": "b8a62795-1255-4474-c4d6-412347af14cb"
      },
      "execution_count": 214,
      "outputs": [
        {
          "output_type": "stream",
          "name": "stdout",
          "text": [
            "---------------------------\n",
            "|      Best Estimator     |\n",
            "---------------------------\n",
            "\n",
            "\tRandomForestClassifier(class_weight='balanced', max_depth=1000,\n",
            "                       min_samples_split=5, n_estimators=500)\n",
            "\n",
            "---------------------------\n",
            "|     Best parameters     |\n",
            "---------------------------\n",
            "\tParameters of best estimator : \n",
            "\n",
            "\t{'n_estimators': 500, 'min_samples_split': 5, 'max_depth': 1000}\n",
            "\n",
            "----------------------------------\n",
            "|   No of CrossValidation sets   |\n",
            "----------------------------------\n",
            "\n",
            "\tTotal numbre of cross validation sets: 3\n",
            "\n",
            "---------------------------\n",
            "|        Best Score       |\n",
            "---------------------------\n",
            "\n",
            "\tAverage Cross Validate scores of best estimator : \n",
            "\n",
            "\t0.9977031933022152\n",
            "\n"
          ]
        }
      ]
    },
    {
      "cell_type": "code",
      "source": [
        "rf_gs = rf_grid.best_estimator_\n",
        "y_tr_pred = rf_gs.predict(X_train_2.toarray())\n",
        "y_test_pred = rf_gs.predict(X_test_2.toarray())\n",
        "rf_tpr_fpr_train = tpr_fpr_func(Y_train, y_tr_pred)\n",
        "rf_tpr_fpr_test = tpr_fpr_func(Y_test, y_test_pred)"
      ],
      "metadata": {
        "id": "1lOV2o-Xx0kJ"
      },
      "execution_count": 215,
      "outputs": []
    },
    {
      "cell_type": "code",
      "source": [
        "rf_grid_results_tr"
      ],
      "metadata": {
        "colab": {
          "base_uri": "https://localhost:8080/"
        },
        "id": "jiyLv_7px2sV",
        "outputId": "befc9740-e86c-4160-ff0b-1499628f49cc"
      },
      "execution_count": 216,
      "outputs": [
        {
          "output_type": "execute_result",
          "data": {
            "text/plain": [
              "{'precision': 0.9998071299773463,\n",
              " 'recall': 0.999788312746748,\n",
              " 'f1_score': 0.999793596669687}"
            ]
          },
          "metadata": {},
          "execution_count": 216
        }
      ]
    },
    {
      "cell_type": "code",
      "source": [
        "rf_tpr_fpr_train"
      ],
      "metadata": {
        "colab": {
          "base_uri": "https://localhost:8080/"
        },
        "id": "3XQMnwdQx5PG",
        "outputId": "31ccd8eb-7fcb-49d4-86ef-cab5b5ad788d"
      },
      "execution_count": 217,
      "outputs": [
        {
          "output_type": "execute_result",
          "data": {
            "text/plain": [
              "{'tp': 50495, 'tpr': 0.999762409171006, 'fp': 0, 'fpr': 0.0}"
            ]
          },
          "metadata": {},
          "execution_count": 217
        }
      ]
    },
    {
      "cell_type": "code",
      "source": [
        "rf_grid_results_test"
      ],
      "metadata": {
        "colab": {
          "base_uri": "https://localhost:8080/"
        },
        "id": "yYRPidNYx8VL",
        "outputId": "6803cd81-6351-4767-da72-87cc9a6610a1"
      },
      "execution_count": 218,
      "outputs": [
        {
          "output_type": "execute_result",
          "data": {
            "text/plain": [
              "{'precision': 0.9979185360435845,\n",
              " 'recall': 0.998158379373849,\n",
              " 'f1_score': 0.997999293460143,\n",
              " 'model': <function __main__.model(model_name, X_train, Y_train, X_test, Y_test)>}"
            ]
          },
          "metadata": {},
          "execution_count": 218
        }
      ]
    },
    {
      "cell_type": "code",
      "source": [
        "rf_tpr_fpr_test"
      ],
      "metadata": {
        "colab": {
          "base_uri": "https://localhost:8080/"
        },
        "id": "wC70RfWyx-D1",
        "outputId": "77c5a0dd-47d1-4ca9-c522-623a8db98d94"
      },
      "execution_count": 219,
      "outputs": [
        {
          "output_type": "execute_result",
          "data": {
            "text/plain": [
              "{'tp': 16832, 'tpr': 0.9997624138750297, 'fp': 38, 'fpr': 0.002592440987856461}"
            ]
          },
          "metadata": {},
          "execution_count": 219
        }
      ]
    },
    {
      "cell_type": "code",
      "source": [
        "joblib.dump(rf_grid.best_estimator_, 'rf2.pkl')"
      ],
      "metadata": {
        "colab": {
          "base_uri": "https://localhost:8080/"
        },
        "id": "mTi7XrXJyBFM",
        "outputId": "e3e7a6c3-c04b-4735-8353-41751b6c88a4"
      },
      "execution_count": 220,
      "outputs": [
        {
          "output_type": "execute_result",
          "data": {
            "text/plain": [
              "['rf2.pkl']"
            ]
          },
          "metadata": {},
          "execution_count": 220
        }
      ]
    },
    {
      "cell_type": "code",
      "source": [
        "Recall = 0.9999\n",
        "\n",
        "    # Calculate Precision\n",
        "Precision = 21956 / (21956 + 22)\n",
        "\n",
        "    # Calculate F1 score\n",
        "F1_2 = 2 * (Precision * Recall) / (Precision + Recall)\n",
        "F1_2"
      ],
      "metadata": {
        "colab": {
          "base_uri": "https://localhost:8080/"
        },
        "id": "VW29ZFtRz-3p",
        "outputId": "11f8a3ad-60c2-46a5-eed3-89ff3927af21"
      },
      "execution_count": 223,
      "outputs": [
        {
          "output_type": "execute_result",
          "data": {
            "text/plain": [
              "0.9994492964370125"
            ]
          },
          "metadata": {},
          "execution_count": 223
        }
      ]
    },
    {
      "cell_type": "code",
      "source": [
        "Recall =  0.9994\n",
        "\n",
        "    # Calculate Precision\n",
        "Precision = 16826 / (16826 + 38)\n",
        "\n",
        "    # Calculate F1 score\n",
        "F1_1 = 2 * (Precision * Recall) / (Precision + Recall)\n",
        "F1_1"
      ],
      "metadata": {
        "colab": {
          "base_uri": "https://localhost:8080/"
        },
        "id": "IefhW8bK0vK4",
        "outputId": "25a1f8cb-a9e8-4fc9-ce06-b0188c6db720"
      },
      "execution_count": 224,
      "outputs": [
        {
          "output_type": "execute_result",
          "data": {
            "text/plain": [
              "0.9985726553147979"
            ]
          },
          "metadata": {},
          "execution_count": 224
        }
      ]
    },
    {
      "cell_type": "markdown",
      "source": [
        "<h5> Observation from RF_2 Classifier :- </h5>\n",
        "    \n",
        "    \n",
        "- This RF Classifier has a lower f1-score(0.9994) compared to the RF_1 Classifier.\n",
        "\n",
        "\n",
        "- True Postives = 21956\n",
        "\n",
        "\n",
        "- TPR = 0.9999\n",
        "\n",
        "\n",
        "- False Positives = 22\n",
        "\n",
        "\n",
        "- FPR = 0.0015\n",
        "\n",
        "\n",
        "\n",
        "\n",
        "- This RF Classifer has a higher TPR and higher FPR than the RF_1 model, which indicates that adding new features have improved the classification of Good connections but has also increased the misclassification of Bad category connections by some amount.\n"
      ],
      "metadata": {
        "id": "w8h5PAlGyEoX"
      }
    },
    {
      "cell_type": "markdown",
      "source": [
        "#**Deployment**"
      ],
      "metadata": {
        "id": "jchj28rp3K2M"
      }
    },
    {
      "cell_type": "code",
      "source": [
        "# !pip install streamlit -q"
      ],
      "metadata": {
        "colab": {
          "base_uri": "https://localhost:8080/"
        },
        "id": "F3EUVvtl3VQF",
        "outputId": "b1b4cd8a-ef71-4dab-bbd2-65f8c9663240"
      },
      "execution_count": 226,
      "outputs": [
        {
          "output_type": "stream",
          "name": "stdout",
          "text": [
            "\u001b[2K   \u001b[90m━━━━━━━━━━━━━━━━━━━━━━━━━━━━━━━━━━━━━━━━\u001b[0m \u001b[32m8.7/8.7 MB\u001b[0m \u001b[31m77.5 MB/s\u001b[0m eta \u001b[36m0:00:00\u001b[0m\n",
            "\u001b[2K   \u001b[90m━━━━━━━━━━━━━━━━━━━━━━━━━━━━━━━━━━━━━━━━\u001b[0m \u001b[32m207.3/207.3 kB\u001b[0m \u001b[31m14.6 MB/s\u001b[0m eta \u001b[36m0:00:00\u001b[0m\n",
            "\u001b[2K   \u001b[90m━━━━━━━━━━━━━━━━━━━━━━━━━━━━━━━━━━━━━━━━\u001b[0m \u001b[32m6.9/6.9 MB\u001b[0m \u001b[31m89.6 MB/s\u001b[0m eta \u001b[36m0:00:00\u001b[0m\n",
            "\u001b[2K   \u001b[90m━━━━━━━━━━━━━━━━━━━━━━━━━━━━━━━━━━━━━━━━\u001b[0m \u001b[32m83.0/83.0 kB\u001b[0m \u001b[31m6.3 MB/s\u001b[0m eta \u001b[36m0:00:00\u001b[0m\n",
            "\u001b[2K   \u001b[90m━━━━━━━━━━━━━━━━━━━━━━━━━━━━━━━━━━━━━━━━\u001b[0m \u001b[32m62.7/62.7 kB\u001b[0m \u001b[31m4.4 MB/s\u001b[0m eta \u001b[36m0:00:00\u001b[0m\n",
            "\u001b[?25h"
          ]
        }
      ]
    },
    {
      "cell_type": "code",
      "source": [
        "# import streamlit as st\n",
        "# import pandas as pd\n",
        "# import joblib"
      ],
      "metadata": {
        "id": "EtB4cQEZ7xaj"
      },
      "execution_count": 227,
      "outputs": []
    },
    {
      "cell_type": "code",
      "source": [
        "# # Load the Random Forest model\n",
        "# with open('rf2.pkl', 'rb') as file:\n",
        "#     model = pickle.load(file)\n",
        "\n",
        "# # Define the features used by the model\n",
        "# feature=[\"duration\",\"protocol_type\",\"service\",\"flag\",\"src_bytes\",\"dst_bytes\",\"land\",\"wrong_fragment\",\"urgent\",\"hot\",\n",
        "#           \"num_failed_logins\",\"logged_in\",\"num_compromised\",\"root_shell\",\"su_attempted\",\"num_root\",\"num_file_creations\",\"num_shells\",\n",
        "#           \"num_access_files\",\"num_outbound_cmds\",\"is_host_login\",\"is_guest_login\",\"count\",\"srv_count\",\"serror_rate\",\"srv_serror_rate\",\n",
        "#           \"rerror_rate\",\"srv_rerror_rate\",\"same_srv_rate\",\"diff_srv_rate\",\"srv_diff_host_rate\",\"dst_host_count\",\"dst_host_srv_count\",\n",
        "#           \"dst_host_same_srv_rate\",\"dst_host_diff_srv_rate\",\"dst_host_same_src_port_rate\",\"dst_host_srv_diff_host_rate\",\"dst_host_serror_rate\",\n",
        "#           \"dst_host_srv_serror_rate\",\"dst_host_rerror_rate\",\"dst_host_srv_rerror_rate\",\"label\",\"difficulty\"]\n",
        "\n",
        "# # Create a Streamlit app\n",
        "# st.title('Intrusion Detection System')\n",
        "\n",
        "\n",
        "\n",
        "# # dashboard title\n",
        "\n",
        "# st.title(\"Real-Time / Live Data  Dashboard\")\n",
        "\n",
        "# # top-level filters\n",
        "\n",
        "# Attack_filter = st.sidebar.selectbox(\"Attack\", pd.unique(df['label']))\n",
        "\n",
        "# # Get user input for selected features\n",
        "# user_input = {}\n",
        "# for feature in selected_features:\n",
        "#     user_input[feature] = st.slider(f'Enter {feature}', min_value=0.0, max_value=1.0, step=0.01)\n",
        "\n",
        "# # Predict upon button press\n",
        "# if st.button('Predict'):\n",
        "#     # Convert user input to a numpy array\n",
        "#     input_array = np.array([user_input[feature] for feature in selected_features]).reshape(1, -1)\n",
        "\n",
        "#     # Make predictions\n",
        "#     prediction = model.predict(input_array)\n",
        "\n",
        "#     # Display the prediction\n",
        "#     if prediction == 0:\n",
        "#         st.success('Prediction: Normal traffic (class 0)')\n",
        "#     else:\n",
        "#         st.error('Prediction: Anomaly detected (class 1)')"
      ],
      "metadata": {
        "id": "S0t1c1ye3Njq"
      },
      "execution_count": null,
      "outputs": []
    }
  ]
}